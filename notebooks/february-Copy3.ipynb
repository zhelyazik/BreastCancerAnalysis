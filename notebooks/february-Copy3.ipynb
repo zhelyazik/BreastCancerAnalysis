{
 "cells": [
  {
   "cell_type": "code",
   "execution_count": 4,
   "metadata": {
    "collapsed": false
   },
   "outputs": [],
   "source": [
    "import numpy as np\n",
    "import pandas as pd\n",
    "import seaborn  as sns\n",
    "import matplotlib.pyplot as plt\n",
    "np.random.seed(sum(map(ord, \"aesthetics\")))\n",
    "%matplotlib inline\n",
    "from sklearn.ensemble import RandomForestClassifier\n",
    "from sklearn.model_selection import cross_val_score\n",
    "from sklearn.linear_model import LogisticRegression\n",
    "from sklearn import svm\n",
    "from sklearn.preprocessing import scale\n",
    "import scipy as sc\n",
    "from sklearn.model_selection import StratifiedKFold\n",
    "from sklearn.model_selection import KFold\n",
    "from sklearn.metrics import classification_report, confusion_matrix, roc_curve, auc\n",
    "from sklearn.preprocessing import scale\n",
    "import os\n",
    "\n",
    "\n",
    "def parse_response(str_id):\n",
    "    if str_id.split('_')[1] == 'resp':\n",
    "        return 1\n",
    "    return 0\n",
    "   \n",
    "    \n",
    "def preprocess_dataset(dataset):\n",
    "    gen_names = dataset[\"SYMBOL\"].as_matrix()\n",
    "    responses = np.zeros(dataset.shape[1]-1, dtype=np.int)\n",
    "    target_ids = dataset.columns[1:].values\n",
    "    feature_matrix = np.zeros((dataset.shape[1]-1, dataset.shape[0]), dtype=np.float)\n",
    "    for idx, target_id in enumerate(target_ids):\n",
    "        feature_matrix[idx, :] = dataset[target_id].values\n",
    "        responses[idx] = parse_response(target_id)\n",
    "    return feature_matrix, responses, target_ids, gen_names\n",
    "\n",
    "\n",
    "def get_gen_hists(xpression, cl_masks, bins=10):\n",
    "    xpr_range = (xpression.min(), xpression.max())\n",
    "    hists = []\n",
    "    for mask in cl_masks:\n",
    "        hist, _ = np.histogram(xpression[mask], bins=bins, range=xpr_range)\n",
    "        hists.append(hist)\n",
    "    return hists\n",
    "\n",
    "\n",
    "def get_pdf_sim(p, q):\n",
    "    return -q.dot(np.log2(p)) - p.dot(np.log2(q))\n",
    "    # return sc.stats.entropy(p, q)\n",
    "\n",
    "    \n",
    "def xpressions_to_order_matrix(xpressions):\n",
    "    orders_num = np.arange(xpressions.shape[1], dtype=np.int32)\n",
    "    order_matrix = np.zeros_like(xpressions, dtype=np.int32)\n",
    "    for row in range(xpressions.shape[0]):\n",
    "        ordered_ids = np.array([ind \n",
    "                          for ind, xpr in sorted([(ind, xpr) \n",
    "                                                   for ind, xpr in enumerate(xpressions[row,:])],\n",
    "                                                 key=lambda p: p[1])])\n",
    "        order = np.zeros_like(ordered_ids, dtype=np.int32)\n",
    "        order[ordered_ids] = np.arange(xpressions.shape[1])\n",
    "        order_matrix[row, :] = order\n",
    "    return order_matrix\n",
    "    \n",
    "    \n",
    "def get_relation_matrix(order_seq):\n",
    "    matrix = np.zeros(shape=(order_seq.shape[0], order_seq.shape[0]), dtype=np.int32)    \n",
    "    for row in range(matrix.shape[0]):\n",
    "        for col in range(matrix.shape[1]):\n",
    "            matrix[row, col] = order_seq[row] - order[col]\n",
    "    return matrix\n",
    "\n",
    "\n",
    "def get_relation_cumul_matrix(order_matrix):\n",
    "    matrix = np.zeros(shape=(order_matrix.shape[1], order_matrix.shape[1]), dtype=np.float32)    \n",
    "    for row in range(matrix.shape[1]):        \n",
    "        for col in range(matrix.shape[1]):\n",
    "            matrix[row, col] = (order_matrix[:, row] - order_matrix[:, col]).mean()\n",
    "        if row % 1000 == 0:\n",
    "            print(row)\n",
    "    return matrix        \n",
    "# np.histogram(np.array([0,0,0,1,1,2,1]),bins=2, range=(0,1))\n",
    "\n",
    "\n",
    "def get_pair_value(order_matrix, pair, responses, pr=None):\n",
    "    if not pr:\n",
    "        pr = (responses == 1).mean()\n",
    "        \n",
    "    p_ab = np.mean(order_matrix[:, pair[0]] > order_matrix[:, pair[1]])\n",
    "    p_ab_r = np.mean(order_matrix[responses==1, pair[0]] > order_matrix[responses==1, pair[1]])\n",
    "    pr_ab = (p_ab_r * pr) / p_ab\n",
    "    \n",
    "    p_ba = np.mean(order_matrix[:, pair[0]] < order_matrix[:, pair[1]])\n",
    "    p_ba_r = np.mean(order_matrix[responses==1, pair[0]] < order_matrix[responses==1, pair[1]])\n",
    "    pr_ba = (p_ba_r * pr) / p_ba\n",
    "    return pr_ab, pr_ba\n",
    "\n",
    "\n",
    "def xpression_to_order_feature(xpressions, pairs, gens):\n",
    "    order_features = np.zeros(shape=(xpressions.shape[0], len(pairs)))\n",
    "    features_name = []\n",
    "    for idx, pair in enumerate(pairs):\n",
    "        order_features[:, idx] = xpressions[:, pair[0]] > xpressions[:, pair[1]] + 0\n",
    "        features_name.append(\"compare_expr({}, {})\".format(gens[pair[0]], gens[pair[1]]))\n",
    "    return order_features, features_name\n",
    "                                            \n",
    "    \n",
    "\n",
    "def get_metrics(conf):\n",
    "    \"\"\"return tuple (precision 0 class, recall 0 class, precision 1 class, recall 1 class)\"\"\"\n",
    "    prec_0 = conf[0,0]/(conf[1,0] + conf[0,0])\n",
    "    if (conf[1,0] + conf[0,0]) == 0:\n",
    "        prec_0 = 0\n",
    "    recall_0 = conf[0,0]/(conf[0,0] + conf[0,1])\n",
    "    prec_1 = conf[1,1]/(conf[1,1] + conf[0,1])\n",
    "    recall_1 = conf[1,1]/(conf[1,1] + conf[1,0])\n",
    "    if (conf[1,1] + conf[0,1]) == 0:\n",
    "        prec_1 = 0\n",
    "    accuracy = (conf[0,0] + conf[1, 1]) / (conf.sum())\n",
    "    # print(prec_0, recall_0, prec_1, recall_1)\n",
    "    return prec_0, recall_0, prec_1, recall_1\n",
    "\n",
    "\n",
    "def get_splits(responses, k=10):\n",
    "    nonresp = np.arange(responses.shape[0])[responses==0]\n",
    "    resp = np.arange(responses.shape[0])[responses==1]\n",
    "    np.random.shuffle(nonresp)\n",
    "    np.random.shuffle(resp)\n",
    "    folds = []\n",
    "    for i in range(9):\n",
    "        folds.append(np.hstack((resp[i*22:i*22+22],nonresp[i*5:i*5+5])))\n",
    "    folds.append(np.hstack((resp[9*22:],nonresp[9*5:])))\n",
    "    cases = []\n",
    "    for i in range(10):\n",
    "        test = folds[i]\n",
    "        train = np.hstack((fold for j, fold in enumerate(folds) if i != j))\n",
    "        cases.append( (train, test) )                      \n",
    "    return folds, cases\n",
    "\n",
    "\n",
    "def do_simmetry_class_cv(X, y, clf, iters=10, cv=10, feature_maker=lambda  X, y, train, \n",
    "                         test: (X, \"\")):\n",
    "    nonresp = np.arange(y.shape[0])[y==0]\n",
    "    resp = np.arange(y.shape[0])[y==1]\n",
    "    results_a = []\n",
    "    results_b = []\n",
    "    cv_results = []\n",
    "    accs = []\n",
    "    # print(nonresp)\n",
    "    all_descriptions = []\n",
    "    for it in range(iters):\n",
    "        print(\"iteration: {}\".format(it))\n",
    "        np.random.shuffle(resp)\n",
    "        np.random.shuffle(nonresp)\n",
    "        indicies = np.hstack((nonresp, resp[:nonresp.shape[0]]))\n",
    "        # print(indicies)\n",
    "        stat, common_stat, cv_result, descriptions = do_cross_val(X[indicies, :], \n",
    "                     y[indicies],\n",
    "                     clf, cv, feature_maker)\n",
    "        results_a.append(stat.mean(axis=0))        \n",
    "        # print(stat.mean(axis=0))\n",
    "        results_b.append(np.array(common_stat))    \n",
    "        cv_results.append(cv_result)        \n",
    "        all_descriptions.append(descriptions)\n",
    "    return np.vstack(results_a), np.vstack(results_b), cv_results, all_descriptions\n",
    "\n",
    "\n",
    "def process_results(a, b, cv_results):\n",
    "    a_aucs = []    \n",
    "    a_accs = []\n",
    "    b_aucs = []    \n",
    "    b_accs = []\n",
    "    for result in cv_results:\n",
    "        actuals = []\n",
    "        preds = []\n",
    "        probs = []\n",
    "        for actual, predicted, proba in result:\n",
    "            a_accs.append((actual == predicted).mean())\n",
    "            actuals.append(actual)\n",
    "            preds.append(predicted)\n",
    "            probs.append(proba)\n",
    "            fpr, tpr, _ = roc_curve(actual, proba)\n",
    "            a_aucs.append(auc(fpr, tpr))         \n",
    "        b_accs.append((np.hstack(actuals)==np.hstack(preds)).mean())    \n",
    "        fpr, tpr, thresh = roc_curve(np.hstack(actuals), np.hstack(probs))\n",
    "        b_aucs.append(auc(fpr, tpr))\n",
    "    columns=[\"precision 0\", \"recall 0\", \"precision 1\", \"recall 1\", \"accuracy\", \"auc\"]\n",
    "    rows = [\"схема а\", \"схема б\"]\n",
    "    data = np.zeros((len(rows), len(columns)))\n",
    "    data[0, :4] = a.mean(axis=0)\n",
    "    data[0, 4:] = [np.mean(a_accs), np.mean(a_aucs)]\n",
    "    data[1, :4] = b.mean(axis=0)\n",
    "    data[1, 4:] = [np.mean(b_accs), np.mean(b_aucs)]    \n",
    "    table = pd.DataFrame(data, columns=columns, index=rows)\n",
    "    \n",
    "    return table\n",
    "\n",
    "\n",
    "def do_cross_val(X, y, clf,  cv=10, feature_maker=lambda X, y, test, train: (X, \"\")):\n",
    "    skfold = StratifiedKFold(n_splits=cv, shuffle=True)    \n",
    "    cv_results = []\n",
    "    # print ((y==1).sum(), (y==0).sum())\n",
    "    skfold.get_n_splits(X, y)\n",
    "    descriptions = []\n",
    "    for train, test in skfold.split(X, y):        \n",
    "        features, description = feature_maker(X, y, train, test)\n",
    "        descriptions.append(description)\n",
    "        clf.fit(features[train, :], y[train])\n",
    "        prediction = clf.predict(features[test, :])\n",
    "        proba = clf.predict_proba(features[test, :])\n",
    "        cv_results.append((y[test], prediction, proba[:, 1]))\n",
    "        # print(y[test].shape, (y[test] == 0).sum())        \n",
    "    conf_m =  confusion_matrix(cv_results[0][0], cv_results[1][0]) * 0\n",
    "    stat = []    \n",
    "    fpr_tpr = []\n",
    "    tpr = []\n",
    "    accs = []\n",
    "    for actual, predicted, proba in cv_results:\n",
    "        conf =  confusion_matrix(actual, predicted)\n",
    "        stat.append(np.array(get_metrics(conf)))\n",
    "        conf_m = conf_m + conf        \n",
    "    # print((conf_m[0, 0] + conf_m[1, 1])/conf_m.sum())    \n",
    "    return np.vstack(stat), get_metrics(conf_m), cv_results, descriptions\n",
    "\n",
    "\n",
    "def get_splits(responses, k=10):\n",
    "    nonresp = np.arange(responses.shape[0])[responses==0]\n",
    "    resp = np.arange(responses.shape[0])[responses==1]\n",
    "    np.random.shuffle(nonresp)\n",
    "    np.random.shuffle(resp)\n",
    "    folds = []\n",
    "    for i in range(9):\n",
    "        folds.append(np.hstack((resp[i*22:i*22+22],nonresp[i*5:i*5+5])))\n",
    "    folds.append(np.hstack((resp[9*22:],nonresp[9*5:])))\n",
    "    cases = []\n",
    "    for i in range(10):\n",
    "        test = folds[i]\n",
    "        train = np.hstack((fold for j, fold in enumerate(folds) if i != j))\n",
    "        cases.append( (train, test) )                      \n",
    "    return folds, cases\n",
    "    \n",
    "    \n",
    "def get_n_biggest_sims_ids(sims, subset, n=140):\n",
    "    subsims = sims[subset]\n",
    "    bound = np.sort(subsims)[-n]    \n",
    "    return subset[subsims >= bound][:n]\n",
    "\n",
    "\n",
    "def read_GEO_dataset(pathto_xpr, pathto_resp, pathto_nonresp, prefix=\"\"):\n",
    "    geo_dataset = pd.read_csv(os.path.join(prefix, pathto_xpr), sep=\" \")    \n",
    "    with open(os.path.join(prefix, pathto_resp), \"r\") as respf,\\\n",
    "         open(os.path.join(prefix, pathto_nonresp), \"r\") as nonrespf:\n",
    "        resp = set(respf.read().split())\n",
    "        nonresp = set(nonrespf.read().split())\n",
    "    responses = np.array(list(map(lambda x: 1 if x in resp else int(x in nonresp) - 1 ,\n",
    "                                  geo_dataset.columns[1:])))\n",
    "    feature_matrix = geo_dataset[geo_dataset.columns[1:]].get_values().T\n",
    "    target_ids = geo_dataset.columns[1:].values\n",
    "    gen_names = geo_dataset[\"Group.1\"].as_matrix()\n",
    "    return feature_matrix, responses, target_ids, gen_names\n",
    "\n",
    "\n",
    "# def test_features(X, y, features_builder, clf=None):\n",
    "def heuristics_1_2_features(X, y, train, test):\n",
    "    description = \"экспрессии генов отобранных по пересечению 1-й и второй эвристик\\n id генов:\\n\"\n",
    "    gen_res = []\n",
    "    for g in range(X.shape[1]):\n",
    "        lg = LogisticRegression(penalty='l1', C=1)\n",
    "        lg.fit(X[train, g:g+1], y[train])\n",
    "        gen_res.append((lg.predict(X[train, g:g+1]) == y[train]).mean())\n",
    "    gen_res = np.array(gen_res)\n",
    "    good_h1 = np.arange(X.shape[1])[gen_res > y[train].mean()]\n",
    "    \n",
    "    gen_corr = []\n",
    "    for g in range(X.shape[1]):    \n",
    "        gen_corr.append(abs(np.corrcoef(X[train, g], y[train])[0,1]))\n",
    "    gen_corr = np.array(gen_corr)  \n",
    "    good_h2 = np.arange(X.shape[1])[gen_corr > np.percentile(gen_corr, 97.5)]\n",
    "    good = np.array([g for g in set(good_h1).intersection(set(good_h2))])   \n",
    "    # print(good)\n",
    "    description = description + \"\\t\".join([str(gid) for gid in good])\n",
    "    return X[:, good], description\n",
    "    \n",
    "   \n",
    "def heuristics_4_features(X, y, train, test, topn=70):\n",
    "    print(\"heuristic 4 started\")\n",
    "    order_matrix = xpressions_to_order_matrix(X[train,:])\n",
    "    value_matrix = np.zeros(shape=(order_matrix.shape[1], order_matrix.shape[1]),\n",
    "                            dtype=np.float32)\n",
    "    for i in range(order_matrix.shape[1]):\n",
    "        for j in range(i+1, order_matrix.shape[1]):\n",
    "            pr_ab, pr_ba = get_pair_value(order_matrix, (i,j), y[train])\n",
    "            value_matrix[i, j] = pr_ab\n",
    "            value_matrix[j, i] = pr_ba\n",
    "    if i % 5000 == 0:\n",
    "        print(\"\\tcomplete: {} rows\".format(str(i)))        \n",
    "    \n",
    "    new_val = value_matrix + 0.\n",
    "    for i in range(order_matrix.shape[1]):\n",
    "        for j in range(order_matrix.shape[1]):\n",
    "            if np.isnan(value_matrix[i,j]):\n",
    "                new_val[i, j] = 0.\n",
    "                new_val[j, i] = 0.\n",
    "                \n",
    "    dif_matrix = new_val - new_val.T\n",
    "    p = np.percentile(dif_matrix, 99.99)\n",
    "    pairs_val = []\n",
    "    for i in range(order_matrix.shape[1]):\n",
    "        for j in range(order_matrix.shape[1]):\n",
    "            if dif_matrix[i, j] >= p:       \n",
    "                pairs_val.append(((i, j), dif_matrix[i, j]))\n",
    "    \n",
    "    \n",
    "    pairs_val = sorted(pairs_val, key=lambda p_v: -p_v[1])                    \n",
    "    good_pairs = [p_v[0] for p_v in pairs_val[:topn]]\n",
    "    order_features, pair_names = xpression_to_order_feature(X, good_pairs, np.arange(X.shape[1]))\n",
    "    description = \"\\t\".join(pair_names)\n",
    "    return order_features, description\n",
    "\n",
    "\n",
    "def heuristics_4_features_rnd(X, y, train, test, topn=70):\n",
    "    print(\"heuristic 4 started\")\n",
    "    good_pairs = []\n",
    "    choosen = np.random.choice(np.arange(X.shape[1]), size=2*topn, replace=False)\n",
    "    for i in range(0, 2*topn,2):\n",
    "        good_pairs.append((choosen[i], choosen[i+1]))\n",
    "    order_features, pair_names = xpression_to_order_feature(X, good_pairs, np.arange(X.shape[1]))\n",
    "    description = \"\\t\".join(pair_names)\n",
    "    return order_features, description\n",
    "\n"
   ]
  },
  {
   "cell_type": "code",
   "execution_count": 2,
   "metadata": {
    "collapsed": false
   },
   "outputs": [],
   "source": [
    "# columns = [\"precision 0\", \"recall 0\", \"precision 1\", \"recall 1\", \"accuracy\", \"auc\"]\n",
    "# pd.DataFrame(np.array([0,1,2,3,4,5]).reshape((-1,6)), columns=columns, index=[\"a\"])\n",
    "# np.hstack([cv_results[0][0][0], cv_results[0][0][1]])\n",
    "# prefix = \".\"#dataset/breast_cancer_paclitaxel_plus_radiation/\n",
    "# pathto_xpr = \"dataset/breast_cancer_paclitaxel_plus_radiation/GSE22513_expression_by_symbol.txt\"\n",
    "# pathto_resp = \"dataset/breast_cancer_paclitaxel_plus_radiation/responders.txt\"\n",
    "# pathto_nonresp = \"dataset/breast_cancer_paclitaxel_plus_radiation/nonresponders.txt\"\n",
    "# xpressions, responses,target_ids, gens = read_GEO_dataset(pathto_xpr, \n",
    "#                                                           pathto_resp,\n",
    "#                                                           pathto_nonresp,\n",
    "#                                                           prefix)\n",
    "# mask = range(0,responses.shape[0],2)\n",
    "# xpressions, responses,target_ids = xpressions[mask, :], responses[mask], target_ids[mask]\n",
    "# np.random.choice()"
   ]
  },
  {
   "cell_type": "code",
   "execution_count": 5,
   "metadata": {
    "collapsed": false
   },
   "outputs": [],
   "source": [
    "path_to_dataset = \"dataset/GSE20194_breastCancer_TFAC.txt\"\n",
    "dataset = pd.read_csv(path_to_dataset, sep='\\t')\n",
    "xpressions, responses, target_ids, gens = preprocess_dataset(dataset)\n",
    "perm = np.arange(xpressions.shape[0])\n",
    "np.random.shuffle(perm)\n",
    "xpressions = xpressions[perm, :]\n",
    "responses = responses[perm]\n",
    "target_ids = target_ids[perm]"
   ]
  },
  {
   "cell_type": "code",
   "execution_count": 4,
   "metadata": {
    "collapsed": true
   },
   "outputs": [
    {
     "data": {
      "text/plain": [
       "array(['Tumour_resp_GSM505377', 'Tumour_resp_GSM505383',\n",
       "       'Tumour_resp_GSM505577', 'Tumour_resp_GSM505389',\n",
       "       'Tumour_resp_GSM505394', 'Tumour_resp_GSM505410',\n",
       "       'Tumour_nonresp_GSM505566', 'Tumour_resp_GSM505432',\n",
       "       'Tumour_nonresp_GSM505387', 'Tumour_resp_GSM505465',\n",
       "       'Tumour_resp_GSM505544', 'Tumour_resp_GSM505529',\n",
       "       'Tumour_resp_GSM505353', 'Tumour_resp_GSM505515',\n",
       "       'Tumour_nonresp_GSM505496', 'Tumour_nonresp_GSM505447',\n",
       "       'Tumour_nonresp_GSM505358', 'Tumour_nonresp_GSM505360',\n",
       "       'Tumour_resp_GSM505479', 'Tumour_nonresp_GSM505344',\n",
       "       'Tumour_resp_GSM505402', 'Tumour_resp_GSM505506',\n",
       "       'Tumour_resp_GSM505474', 'Tumour_resp_GSM505599',\n",
       "       'Tumour_resp_GSM505572', 'Tumour_resp_GSM505408',\n",
       "       'Tumour_resp_GSM505605', 'Tumour_resp_GSM505404',\n",
       "       'Tumour_nonresp_GSM505478', 'Tumour_resp_GSM505340',\n",
       "       'Tumour_nonresp_GSM505449', 'Tumour_nonresp_GSM505351',\n",
       "       'Tumour_resp_GSM505593', 'Tumour_nonresp_GSM505459',\n",
       "       'Tumour_nonresp_GSM505598', 'Tumour_resp_GSM505416',\n",
       "       'Tumour_resp_GSM505329', 'Tumour_resp_GSM505427',\n",
       "       'Tumour_resp_GSM505429', 'Tumour_resp_GSM505457',\n",
       "       'Tumour_resp_GSM505346', 'Tumour_resp_GSM505576',\n",
       "       'Tumour_resp_GSM505483', 'Tumour_resp_GSM505354',\n",
       "       'Tumour_resp_GSM505460', 'Tumour_resp_GSM505395',\n",
       "       'Tumour_resp_GSM505536', 'Tumour_resp_GSM505453',\n",
       "       'Tumour_resp_GSM505575', 'Tumour_resp_GSM505508',\n",
       "       'Tumour_resp_GSM505561', 'Tumour_resp_GSM505533',\n",
       "       'Tumour_resp_GSM505405', 'Tumour_resp_GSM505597',\n",
       "       'Tumour_nonresp_GSM505564', 'Tumour_resp_GSM505379',\n",
       "       'Tumour_resp_GSM505462', 'Tumour_nonresp_GSM505373',\n",
       "       'Tumour_nonresp_GSM505438', 'Tumour_resp_GSM505401',\n",
       "       'Tumour_nonresp_GSM505434', 'Tumour_resp_GSM505492',\n",
       "       'Tumour_resp_GSM505548', 'Tumour_resp_GSM505518',\n",
       "       'Tumour_resp_GSM505347', 'Tumour_resp_GSM505409',\n",
       "       'Tumour_resp_GSM505448', 'Tumour_nonresp_GSM505370',\n",
       "       'Tumour_resp_GSM505420', 'Tumour_resp_GSM505343',\n",
       "       'Tumour_nonresp_GSM505455', 'Tumour_resp_GSM505501',\n",
       "       'Tumour_resp_GSM505425', 'Tumour_resp_GSM505382',\n",
       "       'Tumour_resp_GSM505450', 'Tumour_resp_GSM505513',\n",
       "       'Tumour_resp_GSM505440', 'Tumour_resp_GSM505367',\n",
       "       'Tumour_nonresp_GSM505349', 'Tumour_resp_GSM505385',\n",
       "       'Tumour_resp_GSM505352', 'Tumour_resp_GSM505378',\n",
       "       'Tumour_nonresp_GSM505356', 'Tumour_resp_GSM505371',\n",
       "       'Tumour_resp_GSM505595', 'Tumour_resp_GSM505494',\n",
       "       'Tumour_resp_GSM505546', 'Tumour_resp_GSM505530',\n",
       "       'Tumour_resp_GSM505380', 'Tumour_resp_GSM505534',\n",
       "       'Tumour_resp_GSM505421', 'Tumour_resp_GSM505407',\n",
       "       'Tumour_resp_GSM505493', 'Tumour_resp_GSM505458',\n",
       "       'Tumour_resp_GSM505486', 'Tumour_nonresp_GSM505531',\n",
       "       'Tumour_resp_GSM505560', 'Tumour_resp_GSM505504',\n",
       "       'Tumour_resp_GSM505384', 'Tumour_resp_GSM505355',\n",
       "       'Tumour_resp_GSM505413', 'Tumour_resp_GSM505476',\n",
       "       'Tumour_resp_GSM505503', 'Tumour_resp_GSM505510',\n",
       "       'Tumour_nonresp_GSM505419', 'Tumour_resp_GSM505418',\n",
       "       'Tumour_resp_GSM505366', 'Tumour_resp_GSM505505',\n",
       "       'Tumour_resp_GSM505582', 'Tumour_resp_GSM505489',\n",
       "       'Tumour_resp_GSM505472', 'Tumour_resp_GSM505526',\n",
       "       'Tumour_resp_GSM505451', 'Tumour_resp_GSM505365',\n",
       "       'Tumour_resp_GSM505400', 'Tumour_resp_GSM505542',\n",
       "       'Tumour_nonresp_GSM505368', 'Tumour_nonresp_GSM505454',\n",
       "       'Tumour_nonresp_GSM505386', 'Tumour_resp_GSM505431',\n",
       "       'Tumour_resp_GSM505481', 'Tumour_resp_GSM505446',\n",
       "       'Tumour_resp_GSM505424', 'Tumour_resp_GSM505558',\n",
       "       'Tumour_nonresp_GSM505559', 'Tumour_resp_GSM505398',\n",
       "       'Tumour_resp_GSM505485', 'Tumour_resp_GSM505519',\n",
       "       'Tumour_resp_GSM505532', 'Tumour_nonresp_GSM505391',\n",
       "       'Tumour_resp_GSM505480', 'Tumour_resp_GSM505525',\n",
       "       'Tumour_resp_GSM505362', 'Tumour_resp_GSM505441',\n",
       "       'Tumour_nonresp_GSM505339', 'Tumour_resp_GSM505553',\n",
       "       'Tumour_nonresp_GSM505335', 'Tumour_resp_GSM505369',\n",
       "       'Tumour_nonresp_GSM505428', 'Tumour_resp_GSM505464',\n",
       "       'Tumour_resp_GSM505581', 'Tumour_nonresp_GSM505411',\n",
       "       'Tumour_nonresp_GSM505466', 'Tumour_nonresp_GSM505507',\n",
       "       'Tumour_resp_GSM505430', 'Tumour_resp_GSM505502',\n",
       "       'Tumour_resp_GSM505471', 'Tumour_nonresp_GSM505545',\n",
       "       'Tumour_resp_GSM505514', 'Tumour_resp_GSM505601',\n",
       "       'Tumour_resp_GSM505337', 'Tumour_resp_GSM505361',\n",
       "       'Tumour_resp_GSM505527', 'Tumour_nonresp_GSM505336',\n",
       "       'Tumour_resp_GSM505375', 'Tumour_resp_GSM505490',\n",
       "       'Tumour_nonresp_GSM505423', 'Tumour_resp_GSM505594',\n",
       "       'Tumour_resp_GSM505567', 'Tumour_resp_GSM505381',\n",
       "       'Tumour_resp_GSM505569', 'Tumour_nonresp_GSM505435',\n",
       "       'Tumour_resp_GSM505482', 'Tumour_resp_GSM505568',\n",
       "       'Tumour_nonresp_GSM505445', 'Tumour_resp_GSM505469',\n",
       "       'Tumour_nonresp_GSM505359', 'Tumour_resp_GSM505475',\n",
       "       'Tumour_nonresp_GSM505467', 'Tumour_resp_GSM505433',\n",
       "       'Tumour_resp_GSM505537', 'Tumour_resp_GSM505563',\n",
       "       'Tumour_resp_GSM505587', 'Tumour_resp_GSM505602',\n",
       "       'Tumour_resp_GSM505523', 'Tumour_resp_GSM505396',\n",
       "       'Tumour_resp_GSM505579', 'Tumour_nonresp_GSM505580',\n",
       "       'Tumour_resp_GSM505498', 'Tumour_resp_GSM505600',\n",
       "       'Tumour_resp_GSM505588', 'Tumour_resp_GSM505578',\n",
       "       'Tumour_resp_GSM505426', 'Tumour_nonresp_GSM505583',\n",
       "       'Tumour_resp_GSM505590', 'Tumour_resp_GSM505550',\n",
       "       'Tumour_resp_GSM505328', 'Tumour_resp_GSM505551',\n",
       "       'Tumour_resp_GSM505549', 'Tumour_resp_GSM505574',\n",
       "       'Tumour_resp_GSM505334', 'Tumour_resp_GSM505538',\n",
       "       'Tumour_resp_GSM505374', 'Tumour_nonresp_GSM505390',\n",
       "       'Tumour_resp_GSM505491', 'Tumour_resp_GSM505406',\n",
       "       'Tumour_nonresp_GSM505342', 'Tumour_resp_GSM505376',\n",
       "       'Tumour_resp_GSM505528', 'Tumour_resp_GSM505484',\n",
       "       'Tumour_resp_GSM505468', 'Tumour_resp_GSM505603',\n",
       "       'Tumour_resp_GSM505477', 'Tumour_resp_GSM505499',\n",
       "       'Tumour_nonresp_GSM505436', 'Tumour_nonresp_GSM505584',\n",
       "       'Tumour_resp_GSM505570', 'Tumour_resp_GSM505363',\n",
       "       'Tumour_resp_GSM505345', 'Tumour_resp_GSM505444',\n",
       "       'Tumour_resp_GSM505488', 'Tumour_resp_GSM505442',\n",
       "       'Tumour_nonresp_GSM505511', 'Tumour_resp_GSM505452',\n",
       "       'Tumour_resp_GSM505364', 'Tumour_resp_GSM505512',\n",
       "       'Tumour_resp_GSM505470', 'Tumour_resp_GSM505392',\n",
       "       'Tumour_resp_GSM505327', 'Tumour_resp_GSM505417',\n",
       "       'Tumour_resp_GSM505589', 'Tumour_nonresp_GSM505535',\n",
       "       'Tumour_resp_GSM505393', 'Tumour_resp_GSM505461',\n",
       "       'Tumour_resp_GSM505557', 'Tumour_nonresp_GSM505341',\n",
       "       'Tumour_resp_GSM505586', 'Tumour_nonresp_GSM505540',\n",
       "       'Tumour_nonresp_GSM505357', 'Tumour_resp_GSM505573',\n",
       "       'Tumour_resp_GSM505543', 'Tumour_resp_GSM505412',\n",
       "       'Tumour_resp_GSM505541', 'Tumour_resp_GSM505552',\n",
       "       'Tumour_resp_GSM505520', 'Tumour_resp_GSM505487',\n",
       "       'Tumour_resp_GSM505330', 'Tumour_nonresp_GSM505439',\n",
       "       'Tumour_resp_GSM505443', 'Tumour_resp_GSM505388',\n",
       "       'Tumour_resp_GSM505592', 'Tumour_resp_GSM505517',\n",
       "       'Tumour_resp_GSM505338', 'Tumour_resp_GSM505555',\n",
       "       'Tumour_resp_GSM505547', 'Tumour_resp_GSM505372',\n",
       "       'Tumour_resp_GSM505456', 'Tumour_resp_GSM505403',\n",
       "       'Tumour_resp_GSM505604', 'Tumour_resp_GSM505596',\n",
       "       'Tumour_resp_GSM505571', 'Tumour_resp_GSM505399',\n",
       "       'Tumour_resp_GSM505415', 'Tumour_resp_GSM505348',\n",
       "       'Tumour_resp_GSM505397', 'Tumour_resp_GSM505414',\n",
       "       'Tumour_resp_GSM505422', 'Tumour_resp_GSM505331',\n",
       "       'Tumour_resp_GSM505495', 'Tumour_nonresp_GSM505521',\n",
       "       'Tumour_resp_GSM505333', 'Tumour_resp_GSM505565',\n",
       "       'Tumour_resp_GSM505350', 'Tumour_resp_GSM505591',\n",
       "       'Tumour_nonresp_GSM505437', 'Tumour_nonresp_GSM505463',\n",
       "       'Tumour_resp_GSM505554', 'Tumour_resp_GSM505522',\n",
       "       'Tumour_resp_GSM505524', 'Tumour_resp_GSM505539',\n",
       "       'Tumour_resp_GSM505585', 'Tumour_nonresp_GSM505562',\n",
       "       'Tumour_resp_GSM505509', 'Tumour_resp_GSM505500',\n",
       "       'Tumour_resp_GSM505516', 'Tumour_resp_GSM505497',\n",
       "       'Tumour_resp_GSM505473', 'Tumour_resp_GSM505556'], dtype=object)"
      ]
     },
     "execution_count": 4,
     "metadata": {},
     "output_type": "execute_result"
    }
   ],
   "source": [
    "\"\"\"\n",
    "GSM559042\tnon-pCR breast biopsy, sample 1 rep 1\n",
    "GSM559043\tnon-pCR breast biopsy, sample 1 rep 2\n",
    "GSM559044\tnon-pCR breast biopsy, sample 2 rep 1\n",
    "GSM559045\tnon-pCR breast biopsy, sample 2 rep 2\n",
    "GSM559046\tnon-pCR breast biopsy, sample 3 rep 1\n",
    "GSM559047\tnon-pCR breast biopsy, sample 3 rep 2\n",
    "GSM559048\tnon-pCR breast biopsy, sample 4 rep 1\n",
    "GSM559049\tnon-pCR breast biopsy, sample 4 rep 2\n",
    "GSM559050\tnon-pCR breast biopsy, sample 5 rep 1\n",
    "GSM559051\tnon-pCR breast biopsy, sample 5 rep 2\n",
    "GSM559052\tnon-pCR breast biopsy, sample 6 rep 1\n",
    "GSM559053\tnon-pCR breast biopsy, sample 6 rep 2\n",
    "GSM559054\tnon-pCR breast biopsy, sample 8 rep 1\n",
    "GSM559055\tnon-pCR breast biopsy, sample 8 rep 2\n",
    "GSM559056\tnon-pCR breast biopsy, sample 9 rep 1\n",
    "GSM559057\tnon-pCR breast biopsy, sample 9 rep 2\n",
    "GSM559058\tnon-pCR breast biopsy, sample 10 rep 1\n",
    "GSM559059\tnon-pCR breast biopsy, sample 10 rep 2\n",
    "GSM559060\tnon-pCR breast biopsy, sample 13 rep 1\n",
    "GSM559061\tnon-pCR breast biopsy, sample 13 rep 2\n",
    "GSM559062\tpCR breast biopsy, sample 15 rep 1\n",
    "GSM559063\tpCR breast biopsy, sample 15 rep 2\n",
    "GSM559064\tpCR breast biopsy, sample 16 rep 1\n",
    "GSM559065\tpCR breast biopsy, sample 16 rep 2\n",
    "GSM559066\tpCR breast biopsy, sample 18 rep 1\n",
    "GSM559067\tpCR breast biopsy, sample 18 rep 2\n",
    "GSM559068\tpCR breast biopsy, sample 19 rep 1\n",
    "GSM559069\tpCR breast biopsy, sample 19 rep 2\n",
    "\"\"\"\n",
    "target_ids"
   ]
  },
  {
   "cell_type": "code",
   "execution_count": 6,
   "metadata": {
    "collapsed": true
   },
   "outputs": [
    {
     "name": "stdout",
     "output_type": "stream",
     "text": [
      "экспрессии генов отобранных по пересечению 1-й и второй эвристик\n",
      " id генов:\n",
      "8711\t1544\t12816\t7186\t9746\t8729\t11291\t1052\t3623\t11816\t4649\t8745\t8235\t8236\t10793\t561\t4146\t4148\t6719\t7743\t8257\t8778\t4683\t3146\t1613\t5200\t2130\t12886\t10327\t1112\t5728\t11872\t12898\t10343\t9836\t5746\t6269\t2689\t7813\t6791\t4745\t8841\t9865\t11918\t6799\t3218\t9880\t12441\t1181\t10405\t167\t10412\t4269\t10926\t3245\t1708\t7854\t2227\t2228\t3263\t9919\t5825\t3266\t11458\t12998\t13517\t2766\t1743\t12497\t7897\t5340\t1249\t9955\t3302\t3303\t13550\t6895\t1779\t1273\t7932\t13056\t13057\t9480\t4874\t7946\t9486\t2322\t5907\t6430\t4384\t7458\t8483\t2854\t11563\t4396\t813\t8500\t7485\t4928\t10056\t6473\t10058\t2379\t3918\t10068\t9557\t3926\t7002\t13150\t7007\t12127\t1889\t9570\t13160\t1896\t11114\t10604\t13168\t4466\t13170\t6005\t6008\t6009\t12666\t12667\t3965\t2943\t9600\t9602\t11651\t7044\t6018\t7560\t12696\t13213\t7073\t7075\t1447\t941\t4014\t2991\t1969\t5555\t4020\t3510\t6074\t3515\t6080\t7105\t3523\t7114\t1997\t4560\t2000\t10199\t13283\t10726\t8166\t7656\t11753\t2026\t3055\t5616\t11759\t6642\t12793\t9725\t2559\n"
     ]
    }
   ],
   "source": [
    "x, d = heuristics_1_2_features(xpressions, responses, np.arange(xpressions.shape[0]), [])\n",
    "print(d)"
   ]
  },
  {
   "cell_type": "code",
   "execution_count": 98,
   "metadata": {
    "collapsed": true
   },
   "outputs": [],
   "source": [
    "# Эвристика 1:\n",
    "gen_res = []\n",
    "for g in range(xpressions.shape[1]):\n",
    "    lg = LogisticRegression(penalty='l1', C=1)\n",
    "    lg.fit(xpressions[:, g:g+1], responses)\n",
    "    gen_res.append((lg.predict(xpressions[:, g:g+1]) == responses).mean())"
   ]
  },
  {
   "cell_type": "code",
   "execution_count": 99,
   "metadata": {
    "collapsed": false
   },
   "outputs": [
    {
     "data": {
      "text/plain": [
       "(710,)"
      ]
     },
     "execution_count": 99,
     "metadata": {},
     "output_type": "execute_result"
    }
   ],
   "source": [
    "gen_res = np.array(gen_res)\n",
    "good_h1 = np.arange(gens.shape[0])[gen_res > responses.mean()]\n",
    "good_h1.shape"
   ]
  },
  {
   "cell_type": "code",
   "execution_count": 107,
   "metadata": {
    "collapsed": false
   },
   "outputs": [
    {
     "data": {
      "text/plain": [
       "(692,)"
      ]
     },
     "execution_count": 107,
     "metadata": {},
     "output_type": "execute_result"
    }
   ],
   "source": [
    "# Эвристика 2\n",
    "gen_corr = []\n",
    "for g in range(xpressions.shape[1]):    \n",
    "    gen_corr.append(abs(np.corrcoef(xpressions[:, g], responses)[0,1]))\n",
    "gen_corr = np.array(gen_corr)  \n",
    "good_h2 = np.arange(gens.shape[0])[gen_corr > np.percentile(gen_corr, 95)]\n",
    "good_h2.shape"
   ]
  },
  {
   "cell_type": "code",
   "execution_count": 109,
   "metadata": {
    "collapsed": false
   },
   "outputs": [
    {
     "data": {
      "text/plain": [
       "(280,)"
      ]
     },
     "execution_count": 109,
     "metadata": {},
     "output_type": "execute_result"
    }
   ],
   "source": [
    "# пересечение эвристик 1 2\n",
    "interscetion_h1_h2 = np.array([id for id in set(good_h1).intersection(set(good_h2))], dtype=np.int)\n",
    "interscetion_h1_h2.shape"
   ]
  },
  {
   "cell_type": "code",
   "execution_count": 12,
   "metadata": {
    "collapsed": false
   },
   "outputs": [
    {
     "name": "stdout",
     "output_type": "stream",
     "text": [
      "0\n",
      "1000\n",
      "2000\n",
      "3000\n",
      "4000\n",
      "5000\n",
      "6000\n",
      "7000\n",
      "8000\n",
      "9000\n",
      "10000\n",
      "11000\n",
      "12000\n",
      "13000\n",
      "14000\n",
      "15000\n",
      "16000\n",
      "17000\n",
      "18000\n",
      "19000\n",
      "20000\n"
     ]
    }
   ],
   "source": [
    "# Эвристика 3\n",
    "resp_mask = responses == 1\n",
    "nonresp_mask = responses == 0\n",
    "\n",
    "gen_pdfs = []\n",
    "nb_bins = 15\n",
    "for g in range(xpressions.shape[1]):    \n",
    "    hists = get_gen_hists(xpressions[:, g], [resp_mask, nonresp_mask], bins=nb_bins)    \n",
    "    p = (hists[0] + 1) / (hists[0].sum() + hists[0].shape[0]) \n",
    "    q = (hists[1] + 1) / (hists[1].sum() + hists[1].shape[0])\n",
    "    gen_pdfs.append((p, q))\n",
    "#     gen_pdf_sims.append(get_pdf_sim(p, q))\n",
    "    if g % 1000 == 0:\n",
    "         print(g)"
   ]
  },
  {
   "cell_type": "code",
   "execution_count": 14,
   "metadata": {
    "collapsed": true
   },
   "outputs": [],
   "source": [
    "gen_pdf_sims = []\n",
    "for gen_pdf in gen_pdfs:\n",
    "    gen_pdf_sims.append(get_pdf_sim(gen_pdf[0], gen_pdf[1]))        \n",
    "gen_pdf_sims = np.array(gen_pdf_sims)"
   ]
  },
  {
   "cell_type": "code",
   "execution_count": 15,
   "metadata": {
    "collapsed": false
   },
   "outputs": [
    {
     "data": {
      "text/plain": [
       "(209,)"
      ]
     },
     "execution_count": 15,
     "metadata": {},
     "output_type": "execute_result"
    }
   ],
   "source": [
    "good_h3 = get_n_biggest_sims_ids(gen_pdf_sims, np.arange(gens.shape[0]), gen_pdf_sims.shape[0]// 100)\n",
    "good_h3.shape"
   ]
  },
  {
   "cell_type": "markdown",
   "metadata": {},
   "source": [
    "Рассматривается датасет GSE20194_breastCancer_TFAC, в нем данные по химиотерапии рака молочной железы. В данных два класса: ответчики и неответчики, размер классов 222 и 56 соответственно. В качестве признаков  есть информация по 13832 генам\n",
    "\n",
    "Вторая итерация:\n",
    "** мысли:\n",
    "1. посмотреть на порядок генов\n",
    "2. надо подумать как можно посчитать похожесть генов, и про перевод в некоторое векторное пространство\n",
    "3. если удалось перевести какое-то векторное пространство то туже можно подумать про ядра на последовательностях \n",
    "   и разные сеточки **\n",
    "   \n",
    "##### 1. порядок генов:\n",
    "\n",
    "После собрания стало известно что использовалась хитрая нормализация (квантильная???), такая что по сути сохранился только порядок экспрессий генов, а сами значения по сути не особо важны. \n",
    "Тут думаю стоит посмотреть нет ли какой-либо взаимосвязи между взаимным расположением генов в ряду генов осортированных по уровню экспрессии и ответом на терапию.\n",
    "\n",
    "Пока в голову пришла только мысль сделать аналог матрицы смежности для генов по группам, где на позиции (i, j) будет стоять усредненная по группе разность в порядковых номере i-го и j-го генов в упорядоченном по возрастанию экспрессии ряду генов.\n",
    "\n",
    "Усреднение по группам по тому что если делать для каждого отдельно наверно надо оочень много памяти\n",
    "\n",
    "*Да еще комментарий: если смотреть просто порядковый номер гена, то это видимо будет тоже самое что было с простым использованием экспрессий...*\n",
    "\n",
    "Далее думаю имеет смысл посмотреть есть есть ли какие-то специфичные группе пары генов по расположению, а еще лучше какие-либо n-граммы.\n",
    "\n",
    "- посмотрел на пары у которых большая разница в порядковых номерах для ответчиков и неответчиков\n",
    "- далее решил сделать для генов вывод pr(response==1 | A > B), pr(response==1 | A < B), где A = order_num(gen_a) ... - то есть порядковый номер гена A в последвательности, для B аналогично. Вроде есть интересные моменты например для генов 2 и 1, получилось что вероятность ответа 1 при условии что order_num(ген1) < order_num(ген2)\n",
    "- а может сразу сроить выводы pr(response==1 | A > B) и pr(response==1 | A < B) вместо матрицы смежности?\n"
   ]
  },
  {
   "cell_type": "code",
   "execution_count": 16,
   "metadata": {
    "collapsed": false
   },
   "outputs": [
    {
     "data": {
      "text/plain": [
       "(14, 20993)"
      ]
     },
     "execution_count": 16,
     "metadata": {},
     "output_type": "execute_result"
    }
   ],
   "source": [
    "order_matrix = xpressions_to_order_matrix(xpressions)\n",
    "order_matrix.shape"
   ]
  },
  {
   "cell_type": "code",
   "execution_count": 17,
   "metadata": {
    "collapsed": false
   },
   "outputs": [],
   "source": [
    "value_matrix = np.zeros(shape=(order_matrix.shape[1], order_matrix.shape[1]),  dtype=np.float32)"
   ]
  },
  {
   "cell_type": "code",
   "execution_count": 18,
   "metadata": {
    "collapsed": true
   },
   "outputs": [
    {
     "name": "stdout",
     "output_type": "stream",
     "text": [
      "complete: 0 rows\n"
     ]
    },
    {
     "ename": "KeyboardInterrupt",
     "evalue": "",
     "output_type": "error",
     "traceback": [
      "\u001b[1;31m---------------------------------------------------------------------------\u001b[0m",
      "\u001b[1;31mKeyboardInterrupt\u001b[0m                         Traceback (most recent call last)",
      "\u001b[1;32m<ipython-input-18-ca76eb5a8ee3>\u001b[0m in \u001b[0;36m<module>\u001b[1;34m()\u001b[0m\n\u001b[0;32m      1\u001b[0m \u001b[1;32mfor\u001b[0m \u001b[0mi\u001b[0m \u001b[1;32min\u001b[0m \u001b[0mrange\u001b[0m\u001b[1;33m(\u001b[0m\u001b[0morder_matrix\u001b[0m\u001b[1;33m.\u001b[0m\u001b[0mshape\u001b[0m\u001b[1;33m[\u001b[0m\u001b[1;36m1\u001b[0m\u001b[1;33m]\u001b[0m\u001b[1;33m)\u001b[0m\u001b[1;33m:\u001b[0m\u001b[1;33m\u001b[0m\u001b[0m\n\u001b[0;32m      2\u001b[0m     \u001b[1;32mfor\u001b[0m \u001b[0mj\u001b[0m \u001b[1;32min\u001b[0m \u001b[0mrange\u001b[0m\u001b[1;33m(\u001b[0m\u001b[0mi\u001b[0m\u001b[1;33m+\u001b[0m\u001b[1;36m1\u001b[0m\u001b[1;33m,\u001b[0m \u001b[0morder_matrix\u001b[0m\u001b[1;33m.\u001b[0m\u001b[0mshape\u001b[0m\u001b[1;33m[\u001b[0m\u001b[1;36m1\u001b[0m\u001b[1;33m]\u001b[0m\u001b[1;33m)\u001b[0m\u001b[1;33m:\u001b[0m\u001b[1;33m\u001b[0m\u001b[0m\n\u001b[1;32m----> 3\u001b[1;33m         \u001b[0mpr_ab\u001b[0m\u001b[1;33m,\u001b[0m \u001b[0mpr_ba\u001b[0m \u001b[1;33m=\u001b[0m \u001b[0mget_pair_value\u001b[0m\u001b[1;33m(\u001b[0m\u001b[0morder_matrix\u001b[0m\u001b[1;33m,\u001b[0m \u001b[1;33m(\u001b[0m\u001b[0mi\u001b[0m\u001b[1;33m,\u001b[0m\u001b[0mj\u001b[0m\u001b[1;33m)\u001b[0m\u001b[1;33m,\u001b[0m \u001b[0mresponses\u001b[0m\u001b[1;33m)\u001b[0m\u001b[1;33m\u001b[0m\u001b[0m\n\u001b[0m\u001b[0;32m      4\u001b[0m         \u001b[0mvalue_matrix\u001b[0m\u001b[1;33m[\u001b[0m\u001b[0mi\u001b[0m\u001b[1;33m,\u001b[0m \u001b[0mj\u001b[0m\u001b[1;33m]\u001b[0m \u001b[1;33m=\u001b[0m \u001b[0mpr_ab\u001b[0m\u001b[1;33m\u001b[0m\u001b[0m\n\u001b[0;32m      5\u001b[0m         \u001b[0mvalue_matrix\u001b[0m\u001b[1;33m[\u001b[0m\u001b[0mj\u001b[0m\u001b[1;33m,\u001b[0m \u001b[0mi\u001b[0m\u001b[1;33m]\u001b[0m \u001b[1;33m=\u001b[0m \u001b[0mpr_ba\u001b[0m\u001b[1;33m\u001b[0m\u001b[0m\n",
      "\u001b[1;32m<ipython-input-1-cc1ae0ba50e2>\u001b[0m in \u001b[0;36mget_pair_value\u001b[1;34m(order_matrix, pair, responses, pr)\u001b[0m\n\u001b[0;32m     90\u001b[0m \u001b[1;33m\u001b[0m\u001b[0m\n\u001b[0;32m     91\u001b[0m     \u001b[0mp_ba\u001b[0m \u001b[1;33m=\u001b[0m \u001b[0mnp\u001b[0m\u001b[1;33m.\u001b[0m\u001b[0mmean\u001b[0m\u001b[1;33m(\u001b[0m\u001b[0morder_matrix\u001b[0m\u001b[1;33m[\u001b[0m\u001b[1;33m:\u001b[0m\u001b[1;33m,\u001b[0m \u001b[0mpair\u001b[0m\u001b[1;33m[\u001b[0m\u001b[1;36m0\u001b[0m\u001b[1;33m]\u001b[0m\u001b[1;33m]\u001b[0m \u001b[1;33m<\u001b[0m \u001b[0morder_matrix\u001b[0m\u001b[1;33m[\u001b[0m\u001b[1;33m:\u001b[0m\u001b[1;33m,\u001b[0m \u001b[0mpair\u001b[0m\u001b[1;33m[\u001b[0m\u001b[1;36m1\u001b[0m\u001b[1;33m]\u001b[0m\u001b[1;33m]\u001b[0m\u001b[1;33m)\u001b[0m\u001b[1;33m\u001b[0m\u001b[0m\n\u001b[1;32m---> 92\u001b[1;33m     \u001b[0mp_ba_r\u001b[0m \u001b[1;33m=\u001b[0m \u001b[0mnp\u001b[0m\u001b[1;33m.\u001b[0m\u001b[0mmean\u001b[0m\u001b[1;33m(\u001b[0m\u001b[0morder_matrix\u001b[0m\u001b[1;33m[\u001b[0m\u001b[0mresponses\u001b[0m\u001b[1;33m==\u001b[0m\u001b[1;36m1\u001b[0m\u001b[1;33m,\u001b[0m \u001b[0mpair\u001b[0m\u001b[1;33m[\u001b[0m\u001b[1;36m0\u001b[0m\u001b[1;33m]\u001b[0m\u001b[1;33m]\u001b[0m \u001b[1;33m<\u001b[0m \u001b[0morder_matrix\u001b[0m\u001b[1;33m[\u001b[0m\u001b[0mresponses\u001b[0m\u001b[1;33m==\u001b[0m\u001b[1;36m1\u001b[0m\u001b[1;33m,\u001b[0m \u001b[0mpair\u001b[0m\u001b[1;33m[\u001b[0m\u001b[1;36m1\u001b[0m\u001b[1;33m]\u001b[0m\u001b[1;33m]\u001b[0m\u001b[1;33m)\u001b[0m\u001b[1;33m\u001b[0m\u001b[0m\n\u001b[0m\u001b[0;32m     93\u001b[0m     \u001b[0mpr_ba\u001b[0m \u001b[1;33m=\u001b[0m \u001b[1;33m(\u001b[0m\u001b[0mp_ba_r\u001b[0m \u001b[1;33m*\u001b[0m \u001b[0mpr\u001b[0m\u001b[1;33m)\u001b[0m \u001b[1;33m/\u001b[0m \u001b[0mp_ba\u001b[0m\u001b[1;33m\u001b[0m\u001b[0m\n\u001b[0;32m     94\u001b[0m     \u001b[1;32mreturn\u001b[0m \u001b[0mpr_ab\u001b[0m\u001b[1;33m,\u001b[0m \u001b[0mpr_ba\u001b[0m\u001b[1;33m\u001b[0m\u001b[0m\n",
      "\u001b[1;31mKeyboardInterrupt\u001b[0m: "
     ]
    }
   ],
   "source": [
    "for i in range(order_matrix.shape[1]):\n",
    "    for j in range(i+1, order_matrix.shape[1]):\n",
    "        pr_ab, pr_ba = get_pair_value(order_matrix, (i,j), responses)\n",
    "        value_matrix[i, j] = pr_ab\n",
    "        value_matrix[j, i] = pr_ba\n",
    "    if i % 1000 == 0:\n",
    "        print(\"complete: {} rows\".format(str(i)))"
   ]
  },
  {
   "cell_type": "code",
   "execution_count": 63,
   "metadata": {
    "collapsed": false
   },
   "outputs": [
    {
     "data": {
      "text/plain": [
       "942"
      ]
     },
     "execution_count": 63,
     "metadata": {},
     "output_type": "execute_result"
    }
   ],
   "source": [
    "good_pairs = []\n",
    "a=0.22\n",
    "eps = 0.003\n",
    "b = a + eps\n",
    "for i in range(order_matrix.shape[1]):\n",
    "    for j in range(i+1, order_matrix.shape[1]):\n",
    "        if value_matrix[i,j] == np.nan:\n",
    "            print(i,j)\n",
    "            break\n",
    "           \n",
    "        if (value_matrix[i,j]) > a and (value_matrix[i,j] < b):                \n",
    "            good_pairs.append((i, j))\n",
    "        \n",
    "len(good_pairs)"
   ]
  },
  {
   "cell_type": "code",
   "execution_count": 119,
   "metadata": {
    "collapsed": false
   },
   "outputs": [
    {
     "data": {
      "text/plain": [
       "(0.22222222, 0.81784385)"
      ]
     },
     "execution_count": 119,
     "metadata": {},
     "output_type": "execute_result"
    }
   ],
   "source": [
    "mask = responses == 1\n",
    "sum(list(order_matrix[mask, 14] < order_matrix[mask, 12549]))\n",
    "value_matrix[14, 12549], value_matrix[12549, 14]"
   ]
  },
  {
   "cell_type": "code",
   "execution_count": 67,
   "metadata": {
    "collapsed": false
   },
   "outputs": [],
   "source": [
    "val_without_na = value_matrix + 0.0\n",
    "val_without_na[np.isnan(value_matrix)] = 0.7986\n",
    "# dif_matrix[np.isnan(dif_matrix)] = 0\n",
    "dif_matrix = val_without_na - val_without_na.T"
   ]
  },
  {
   "cell_type": "code",
   "execution_count": 93,
   "metadata": {
    "collapsed": false
   },
   "outputs": [],
   "source": [
    "np.save(\"dif_matrix\", dif_matrix)"
   ]
  },
  {
   "cell_type": "code",
   "execution_count": 88,
   "metadata": {
    "collapsed": false
   },
   "outputs": [],
   "source": [
    "# np.isnan(dif_matrix).sum()\n",
    "# np.isnan(val_without_na).sum()\n",
    "# 0.820, 0.822, 0.826\n",
    "good_pairs = []\n",
    "for i in range(order_matrix.shape[1]):\n",
    "    for j in range(order_matrix.shape[1]):\n",
    "        if dif_matrix[i, j] > 0.822:                \n",
    "            good_pairs.append((i, j))"
   ]
  },
  {
   "cell_type": "code",
   "execution_count": 286,
   "metadata": {
    "collapsed": false
   },
   "outputs": [],
   "source": [
    "order_features3, pair_names = xpression_to_order_feature(xpressions, good_pairs3, gens)\n",
    "order_features2, pair_names = xpression_to_order_feature(xpressions, good_pairs2, gens)\n",
    "order_features1, pair_names = xpression_to_order_feature(xpressions, good_pairs, gens)"
   ]
  },
  {
   "cell_type": "code",
   "execution_count": 133,
   "metadata": {
    "collapsed": false
   },
   "outputs": [
    {
     "name": "stdout",
     "output_type": "stream",
     "text": [
      "-6.62938928373e-17 2145.36807554\n"
     ]
    }
   ],
   "source": [
    "# symmetr_res_a.mean(axis=0), symmetr_res_b.mean(axis=0)\n",
    "scaled_xpr  = scale(xpressions)\n",
    "print(scaled_xpr.mean(axis=0)[1], xpressions.mean(axis=0)[1])"
   ]
  },
  {
   "cell_type": "code",
   "execution_count": 134,
   "metadata": {
    "collapsed": false
   },
   "outputs": [],
   "source": [
    "rf = RandomForestClassifier(n_estimators=200)\n",
    "svc = svm.SVC(kernel=\"linear\", C=100)\n",
    "\n",
    "\n",
    "# full_svc_smtr_a, full_svc_smtr_b = do_simmetry_class_cv(scaled_xpr,\n",
    "#                                                      responses, svc, iters=10)\n",
    "\n",
    "# intr_svc_smtr_a, intr_svc_smtr_b = do_simmetry_class_cv(scaled_xpr[:, intersection_gens],\n",
    "#                                                     responses, svc, iters=10)\n",
    "\n",
    "# full_rf_smtr_a, full_rf_smtr_b = do_simmetry_class_cv(xpressions,\n",
    "#                                                      responses, rf, iters=10)\n",
    "\n",
    "# intr_rf_smtr_a, intr_rf_smtr_b = do_simmetry_class_cv(xpressions[:, intersection_gens],\n",
    "#                                                      responses, rf, iters=10)\n",
    "\n",
    "# best31_rf_smtr_a, best31_rf_smtr_b = do_simmetry_class_cv(xpressions[:, best_31],\n",
    "\n",
    "#                                                      responses, rf, iters=10)\n",
    "# best31_svc_smtr_a, best31_svc_smtr_b = do_simmetry_class_cv(order_features3, responses, svc, iters=10)"
   ]
  },
  {
   "cell_type": "markdown",
   "metadata": {},
   "source": [
    "Предообработка"
   ]
  },
  {
   "cell_type": "code",
   "execution_count": 9,
   "metadata": {
    "collapsed": false
   },
   "outputs": [],
   "source": [
    "from sklearn.svm import SVC\n",
    "from sklearn.neighbors import KNeighborsClassifier\n",
    "knn = KNeighborsClassifier(n_neighbors=3)\n",
    "clf = SVC(kernel=\"linear\", probability=True)\n",
    "xpressions_scaled = scale(xpressions)\n",
    "# xpressions_scaled\n",
    "# pro\n",
    "# сv = 1responses"
   ]
  },
  {
   "cell_type": "markdown",
   "metadata": {},
   "source": [
    "Классификация по генам:\n",
    "\n"
   ]
  },
  {
   "cell_type": "code",
   "execution_count": 93,
   "metadata": {
    "collapsed": false
   },
   "outputs": [
    {
     "name": "stdout",
     "output_type": "stream",
     "text": [
      "iteration: 0\n",
      "iteration: 1\n",
      "iteration: 2\n",
      "iteration: 3\n",
      "iteration: 4\n",
      "iteration: 5\n",
      "iteration: 6\n",
      "iteration: 7\n",
      "iteration: 8\n",
      "iteration: 9\n"
     ]
    },
    {
     "data": {
      "text/html": [
       "<div>\n",
       "<table border=\"1\" class=\"dataframe\">\n",
       "  <thead>\n",
       "    <tr style=\"text-align: right;\">\n",
       "      <th></th>\n",
       "      <th>precision 0</th>\n",
       "      <th>recall 0</th>\n",
       "      <th>precision 1</th>\n",
       "      <th>recall 1</th>\n",
       "      <th>accuracy</th>\n",
       "      <th>auc</th>\n",
       "    </tr>\n",
       "  </thead>\n",
       "  <tbody>\n",
       "    <tr>\n",
       "      <th>схема а</th>\n",
       "      <td>0.731599</td>\n",
       "      <td>0.720000</td>\n",
       "      <td>0.734468</td>\n",
       "      <td>0.698667</td>\n",
       "      <td>0.709333</td>\n",
       "      <td>0.773789</td>\n",
       "    </tr>\n",
       "    <tr>\n",
       "      <th>схема б</th>\n",
       "      <td>0.705847</td>\n",
       "      <td>0.717857</td>\n",
       "      <td>0.712986</td>\n",
       "      <td>0.700000</td>\n",
       "      <td>0.708929</td>\n",
       "      <td>0.766135</td>\n",
       "    </tr>\n",
       "  </tbody>\n",
       "</table>\n",
       "</div>"
      ],
      "text/plain": [
       "         precision 0  recall 0  precision 1  recall 1  accuracy       auc\n",
       "схема а     0.731599  0.720000     0.734468  0.698667  0.709333  0.773789\n",
       "схема б     0.705847  0.717857     0.712986  0.700000  0.708929  0.766135"
      ]
     },
     "execution_count": 93,
     "metadata": {},
     "output_type": "execute_result"
    }
   ],
   "source": [
    "np.random.seed(3267)\n",
    "a,b, cv_results, descriptions  = do_simmetry_class_cv(xpressions_scaled,\n",
    "                                                      responses, \n",
    "                                                      clf,\n",
    "                                                      cv=cv, \n",
    "                                                      feature_maker=heuristics_1_2_features)\n",
    "process_results(a, b, cv_results)"
   ]
  },
  {
   "cell_type": "code",
   "execution_count": 209,
   "metadata": {
    "collapsed": false
   },
   "outputs": [
    {
     "name": "stdout",
     "output_type": "stream",
     "text": [
      "iteration: 0\n",
      "iteration: 1\n",
      "iteration: 2\n",
      "iteration: 3\n",
      "iteration: 4\n",
      "iteration: 5\n",
      "iteration: 6\n",
      "iteration: 7\n",
      "iteration: 8\n",
      "iteration: 9\n"
     ]
    },
    {
     "data": {
      "text/html": [
       "<div>\n",
       "<table border=\"1\" class=\"dataframe\">\n",
       "  <thead>\n",
       "    <tr style=\"text-align: right;\">\n",
       "      <th></th>\n",
       "      <th>precision 0</th>\n",
       "      <th>recall 0</th>\n",
       "      <th>precision 1</th>\n",
       "      <th>recall 1</th>\n",
       "      <th>accuracy</th>\n",
       "      <th>auc</th>\n",
       "    </tr>\n",
       "  </thead>\n",
       "  <tbody>\n",
       "    <tr>\n",
       "      <th>схема а</th>\n",
       "      <td>0.445639</td>\n",
       "      <td>0.483667</td>\n",
       "      <td>0.445790</td>\n",
       "      <td>0.431667</td>\n",
       "      <td>0.457667</td>\n",
       "      <td>0.435772</td>\n",
       "    </tr>\n",
       "    <tr>\n",
       "      <th>схема б</th>\n",
       "      <td>0.450523</td>\n",
       "      <td>0.483929</td>\n",
       "      <td>0.454915</td>\n",
       "      <td>0.426786</td>\n",
       "      <td>0.455357</td>\n",
       "      <td>0.435571</td>\n",
       "    </tr>\n",
       "  </tbody>\n",
       "</table>\n",
       "</div>"
      ],
      "text/plain": [
       "         precision 0  recall 0  precision 1  recall 1  accuracy       auc\n",
       "схема а     0.445639  0.483667     0.445790  0.431667  0.457667  0.435772\n",
       "схема б     0.450523  0.483929     0.454915  0.426786  0.455357  0.435571"
      ]
     },
     "execution_count": 209,
     "metadata": {},
     "output_type": "execute_result"
    }
   ],
   "source": [
    "np.random.seed(3267)\n",
    "a,b, cv_results, descriptions  = do_simmetry_class_cv(xpressions_scaled,\n",
    "                                                      responses, \n",
    "                                                      knn,\n",
    "                                                      cv=cv, \n",
    "                                                      feature_maker=heuristics_1_2_features)\n",
    "process_results(a, b, cv_results)"
   ]
  },
  {
   "cell_type": "code",
   "execution_count": 307,
   "metadata": {
    "collapsed": false
   },
   "outputs": [],
   "source": [
    "# knn = KNeighborsClassifier(n_neighbors=8)\n",
    "def get_h1_h2_gens(descr, gens):\n",
    "    return [gens[int(g)] for g in descr.split(\"\\n\")[-1].split(\"\\t\")]\n",
    "\n",
    "with open(\"evristiki_1_2.tsv\", \"w\") as f:\n",
    "    for descr in descriptions[0]:\n",
    "        f.write(\"\\t\".join(get_h1_h2_gens(descr, gens)))\n",
    "        f.write(\"\\n\")\n",
    "    "
   ]
  },
  {
   "cell_type": "code",
   "execution_count": 110,
   "metadata": {
    "collapsed": false
   },
   "outputs": [
    {
     "name": "stdout",
     "output_type": "stream",
     "text": [
      "346\n",
      "346\n",
      "346\n",
      "346\n",
      "346\n",
      "346\n",
      "345\n",
      "346\n",
      "346\n",
      "346\n",
      "{2048, 10251, 12816, 19, 12820, 8216, 13354, 46, 6702, 12846, 13361, 9268, 53, 2103, 5176, 62, 7744, 11844, 3654, 8779, 12886, 1112, 3161, 9305, 5720, 3677, 8294, 615, 1640, 8810, 3697, 10868, 12918, 7287, 8836, 1671, 9865, 3211, 3728, 3218, 5783, 4764, 1181, 10412, 2733, 10925, 3254, 11459, 1747, 11992, 9955, 9444, 13540, 2278, 2800, 1265, 7409, 6388, 10997, 1273, 7932, 8450, 5893, 4360, 3338, 4875, 11531, 6927, 3343, 5907, 3863, 4382, 7977, 817, 13617, 11063, 8007, 841, 5962, 10058, 1871, 11600, 11090, 5970, 13144, 861, 7006, 1889, 4457, 7018, 7019, 5484, 12141, 7538, 8570, 3965, 9600, 9602, 11651, 6018, 12162, 5003, 11148, 909, 9109, 6037, 11163, 7073, 11170, 12197, 7088, 7608, 10687, 11714, 1475, 4554, 4560, 2000, 12761, 2018, 8680, 7656, 11243, 5611, 1007, 7670, 12793, 12286} 128\n"
     ]
    }
   ],
   "source": [
    "gens_i = set([int(g) for g in descriptions[0][0].split(\"\\n\")[2].split(\"\\t\")])\n",
    "for d in descriptions[0]:\n",
    "    new_gens = set([int(g) for g in d.split(\"\\n\")[2].split(\"\\t\")])\n",
    "    gens_i = gens_i.intersection(new_gens)\n",
    "    print(len(new_gens))\n",
    "\n",
    "\n",
    "print(gens_i, len(gens_i))\n"
   ]
  },
  {
   "cell_type": "code",
   "execution_count": 112,
   "metadata": {
    "collapsed": false
   },
   "outputs": [
    {
     "data": {
      "text/plain": [
       "26"
      ]
     },
     "execution_count": 112,
     "metadata": {},
     "output_type": "execute_result"
    }
   ],
   "source": [
    "len(gens_i.intersection(set(interscetion_h1_h2)))"
   ]
  },
  {
   "cell_type": "code",
   "execution_count": 117,
   "metadata": {
    "collapsed": false
   },
   "outputs": [
    {
     "data": {
      "text/plain": [
       "'ready'"
      ]
     },
     "execution_count": 117,
     "metadata": {},
     "output_type": "execute_result"
    }
   ],
   "source": [
    "\"ready\""
   ]
  },
  {
   "cell_type": "markdown",
   "metadata": {},
   "source": [
    "Порядковые фичи:"
   ]
  },
  {
   "cell_type": "code",
   "execution_count": 34,
   "metadata": {
    "collapsed": false
   },
   "outputs": [
    {
     "name": "stdout",
     "output_type": "stream",
     "text": [
      "iteration: 0\n",
      "heuristic 4 started\n",
      "heuristic 4 started\n",
      "heuristic 4 started\n",
      "heuristic 4 started\n",
      "heuristic 4 started\n",
      "heuristic 4 started\n",
      "heuristic 4 started\n",
      "heuristic 4 started\n",
      "heuristic 4 started\n",
      "heuristic 4 started\n"
     ]
    },
    {
     "data": {
      "text/html": [
       "<div>\n",
       "<table border=\"1\" class=\"dataframe\">\n",
       "  <thead>\n",
       "    <tr style=\"text-align: right;\">\n",
       "      <th></th>\n",
       "      <th>precision 0</th>\n",
       "      <th>recall 0</th>\n",
       "      <th>precision 1</th>\n",
       "      <th>recall 1</th>\n",
       "      <th>accuracy</th>\n",
       "      <th>auc</th>\n",
       "    </tr>\n",
       "  </thead>\n",
       "  <tbody>\n",
       "    <tr>\n",
       "      <th>схема а</th>\n",
       "      <td>0.693333</td>\n",
       "      <td>0.786667</td>\n",
       "      <td>0.822143</td>\n",
       "      <td>0.666667</td>\n",
       "      <td>0.726667</td>\n",
       "      <td>0.767778</td>\n",
       "    </tr>\n",
       "    <tr>\n",
       "      <th>схема б</th>\n",
       "      <td>0.698413</td>\n",
       "      <td>0.785714</td>\n",
       "      <td>0.755102</td>\n",
       "      <td>0.660714</td>\n",
       "      <td>0.723214</td>\n",
       "      <td>0.723852</td>\n",
       "    </tr>\n",
       "  </tbody>\n",
       "</table>\n",
       "</div>"
      ],
      "text/plain": [
       "         precision 0  recall 0  precision 1  recall 1  accuracy       auc\n",
       "схема а     0.693333  0.786667     0.822143  0.666667  0.726667  0.767778\n",
       "схема б     0.698413  0.785714     0.755102  0.660714  0.723214  0.723852"
      ]
     },
     "execution_count": 34,
     "metadata": {},
     "output_type": "execute_result"
    }
   ],
   "source": [
    "np.random.seed(3267)\n",
    "a_t, b_t, cv_results_t, descriptions_t  = do_simmetry_class_cv(xpressions,\n",
    "                                                      responses, \n",
    "                                                      clf,\n",
    "                                                      cv=cv, \n",
    "                                                      iters=1,\n",
    "                                                      feature_maker=heuristics_4_features)\n",
    "process_results(a_t, b_t, cv_results_t)"
   ]
  },
  {
   "cell_type": "code",
   "execution_count": 33,
   "metadata": {
    "collapsed": false
   },
   "outputs": [
    {
     "name": "stdout",
     "output_type": "stream",
     "text": [
      "iteration: 0\n",
      "heuristic 4 started\n"
     ]
    },
    {
     "ename": "KeyboardInterrupt",
     "evalue": "",
     "output_type": "error",
     "traceback": [
      "\u001b[1;31m---------------------------------------------------------------------------\u001b[0m",
      "\u001b[1;31mKeyboardInterrupt\u001b[0m                         Traceback (most recent call last)",
      "\u001b[1;32m<ipython-input-33-cf3b717ddd46>\u001b[0m in \u001b[0;36m<module>\u001b[1;34m()\u001b[0m\n\u001b[0;32m      5\u001b[0m                                                       \u001b[0mcv\u001b[0m\u001b[1;33m=\u001b[0m\u001b[0mcv\u001b[0m\u001b[1;33m,\u001b[0m\u001b[1;33m\u001b[0m\u001b[0m\n\u001b[0;32m      6\u001b[0m                                                       \u001b[0miters\u001b[0m\u001b[1;33m=\u001b[0m\u001b[1;36m1\u001b[0m\u001b[1;33m,\u001b[0m\u001b[1;33m\u001b[0m\u001b[0m\n\u001b[1;32m----> 7\u001b[1;33m                                                       feature_maker=heuristics_4_features)\n\u001b[0m\u001b[0;32m      8\u001b[0m \u001b[0mprocess_results\u001b[0m\u001b[1;33m(\u001b[0m\u001b[0ma_t2\u001b[0m\u001b[1;33m,\u001b[0m \u001b[0mb_t2\u001b[0m\u001b[1;33m,\u001b[0m \u001b[0mcv_results_t2\u001b[0m\u001b[1;33m)\u001b[0m\u001b[1;33m\u001b[0m\u001b[0m\n",
      "\u001b[1;32m<ipython-input-4-45cc645aa308>\u001b[0m in \u001b[0;36mdo_simmetry_class_cv\u001b[1;34m(X, y, clf, iters, cv, feature_maker)\u001b[0m\n\u001b[0;32m    156\u001b[0m         stat, common_stat, cv_result, descriptions = do_cross_val(X[indicies, :], \n\u001b[0;32m    157\u001b[0m                      \u001b[0my\u001b[0m\u001b[1;33m[\u001b[0m\u001b[0mindicies\u001b[0m\u001b[1;33m]\u001b[0m\u001b[1;33m,\u001b[0m\u001b[1;33m\u001b[0m\u001b[0m\n\u001b[1;32m--> 158\u001b[1;33m                      clf, cv, feature_maker)\n\u001b[0m\u001b[0;32m    159\u001b[0m         \u001b[0mresults_a\u001b[0m\u001b[1;33m.\u001b[0m\u001b[0mappend\u001b[0m\u001b[1;33m(\u001b[0m\u001b[0mstat\u001b[0m\u001b[1;33m.\u001b[0m\u001b[0mmean\u001b[0m\u001b[1;33m(\u001b[0m\u001b[0maxis\u001b[0m\u001b[1;33m=\u001b[0m\u001b[1;36m0\u001b[0m\u001b[1;33m)\u001b[0m\u001b[1;33m)\u001b[0m\u001b[1;33m\u001b[0m\u001b[0m\n\u001b[0;32m    160\u001b[0m         \u001b[1;31m# print(stat.mean(axis=0))\u001b[0m\u001b[1;33m\u001b[0m\u001b[1;33m\u001b[0m\u001b[0m\n",
      "\u001b[1;32m<ipython-input-4-45cc645aa308>\u001b[0m in \u001b[0;36mdo_cross_val\u001b[1;34m(X, y, clf, cv, feature_maker)\u001b[0m\n\u001b[0;32m    203\u001b[0m     \u001b[0mdescriptions\u001b[0m \u001b[1;33m=\u001b[0m \u001b[1;33m[\u001b[0m\u001b[1;33m]\u001b[0m\u001b[1;33m\u001b[0m\u001b[0m\n\u001b[0;32m    204\u001b[0m     \u001b[1;32mfor\u001b[0m \u001b[0mtrain\u001b[0m\u001b[1;33m,\u001b[0m \u001b[0mtest\u001b[0m \u001b[1;32min\u001b[0m \u001b[0mskfold\u001b[0m\u001b[1;33m.\u001b[0m\u001b[0msplit\u001b[0m\u001b[1;33m(\u001b[0m\u001b[0mX\u001b[0m\u001b[1;33m,\u001b[0m \u001b[0my\u001b[0m\u001b[1;33m)\u001b[0m\u001b[1;33m:\u001b[0m\u001b[1;33m\u001b[0m\u001b[0m\n\u001b[1;32m--> 205\u001b[1;33m         \u001b[0mfeatures\u001b[0m\u001b[1;33m,\u001b[0m \u001b[0mdescription\u001b[0m \u001b[1;33m=\u001b[0m \u001b[0mfeature_maker\u001b[0m\u001b[1;33m(\u001b[0m\u001b[0mX\u001b[0m\u001b[1;33m,\u001b[0m \u001b[0my\u001b[0m\u001b[1;33m,\u001b[0m \u001b[0mtrain\u001b[0m\u001b[1;33m,\u001b[0m \u001b[0mtest\u001b[0m\u001b[1;33m)\u001b[0m\u001b[1;33m\u001b[0m\u001b[0m\n\u001b[0m\u001b[0;32m    206\u001b[0m         \u001b[0mdescriptions\u001b[0m\u001b[1;33m.\u001b[0m\u001b[0mappend\u001b[0m\u001b[1;33m(\u001b[0m\u001b[0mdescription\u001b[0m\u001b[1;33m)\u001b[0m\u001b[1;33m\u001b[0m\u001b[0m\n\u001b[0;32m    207\u001b[0m         \u001b[0mclf\u001b[0m\u001b[1;33m.\u001b[0m\u001b[0mfit\u001b[0m\u001b[1;33m(\u001b[0m\u001b[0mfeatures\u001b[0m\u001b[1;33m[\u001b[0m\u001b[0mtrain\u001b[0m\u001b[1;33m,\u001b[0m \u001b[1;33m:\u001b[0m\u001b[1;33m]\u001b[0m\u001b[1;33m,\u001b[0m \u001b[0my\u001b[0m\u001b[1;33m[\u001b[0m\u001b[0mtrain\u001b[0m\u001b[1;33m]\u001b[0m\u001b[1;33m)\u001b[0m\u001b[1;33m\u001b[0m\u001b[0m\n",
      "\u001b[1;32m<ipython-input-4-45cc645aa308>\u001b[0m in \u001b[0;36mheuristics_4_features\u001b[1;34m(X, y, train, test, topn)\u001b[0m\n\u001b[0;32m    288\u001b[0m     \u001b[1;32mfor\u001b[0m \u001b[0mi\u001b[0m \u001b[1;32min\u001b[0m \u001b[0mrange\u001b[0m\u001b[1;33m(\u001b[0m\u001b[0morder_matrix\u001b[0m\u001b[1;33m.\u001b[0m\u001b[0mshape\u001b[0m\u001b[1;33m[\u001b[0m\u001b[1;36m1\u001b[0m\u001b[1;33m]\u001b[0m\u001b[1;33m)\u001b[0m\u001b[1;33m:\u001b[0m\u001b[1;33m\u001b[0m\u001b[0m\n\u001b[0;32m    289\u001b[0m         \u001b[1;32mfor\u001b[0m \u001b[0mj\u001b[0m \u001b[1;32min\u001b[0m \u001b[0mrange\u001b[0m\u001b[1;33m(\u001b[0m\u001b[0mi\u001b[0m\u001b[1;33m+\u001b[0m\u001b[1;36m1\u001b[0m\u001b[1;33m,\u001b[0m \u001b[0morder_matrix\u001b[0m\u001b[1;33m.\u001b[0m\u001b[0mshape\u001b[0m\u001b[1;33m[\u001b[0m\u001b[1;36m1\u001b[0m\u001b[1;33m]\u001b[0m\u001b[1;33m)\u001b[0m\u001b[1;33m:\u001b[0m\u001b[1;33m\u001b[0m\u001b[0m\n\u001b[1;32m--> 290\u001b[1;33m             \u001b[0mpr_ab\u001b[0m\u001b[1;33m,\u001b[0m \u001b[0mpr_ba\u001b[0m \u001b[1;33m=\u001b[0m \u001b[0mget_pair_value\u001b[0m\u001b[1;33m(\u001b[0m\u001b[0morder_matrix\u001b[0m\u001b[1;33m,\u001b[0m \u001b[1;33m(\u001b[0m\u001b[0mi\u001b[0m\u001b[1;33m,\u001b[0m\u001b[0mj\u001b[0m\u001b[1;33m)\u001b[0m\u001b[1;33m,\u001b[0m \u001b[0my\u001b[0m\u001b[1;33m[\u001b[0m\u001b[0mtrain\u001b[0m\u001b[1;33m]\u001b[0m\u001b[1;33m)\u001b[0m\u001b[1;33m\u001b[0m\u001b[0m\n\u001b[0m\u001b[0;32m    291\u001b[0m             \u001b[0mvalue_matrix\u001b[0m\u001b[1;33m[\u001b[0m\u001b[0mi\u001b[0m\u001b[1;33m,\u001b[0m \u001b[0mj\u001b[0m\u001b[1;33m]\u001b[0m \u001b[1;33m=\u001b[0m \u001b[0mpr_ab\u001b[0m\u001b[1;33m\u001b[0m\u001b[0m\n\u001b[0;32m    292\u001b[0m             \u001b[0mvalue_matrix\u001b[0m\u001b[1;33m[\u001b[0m\u001b[0mj\u001b[0m\u001b[1;33m,\u001b[0m \u001b[0mi\u001b[0m\u001b[1;33m]\u001b[0m \u001b[1;33m=\u001b[0m \u001b[0mpr_ba\u001b[0m\u001b[1;33m\u001b[0m\u001b[0m\n",
      "\u001b[1;32m<ipython-input-4-45cc645aa308>\u001b[0m in \u001b[0;36mget_pair_value\u001b[1;34m(order_matrix, pair, responses, pr)\u001b[0m\n\u001b[0;32m     91\u001b[0m \u001b[1;33m\u001b[0m\u001b[0m\n\u001b[0;32m     92\u001b[0m     \u001b[0mp_ba\u001b[0m \u001b[1;33m=\u001b[0m \u001b[0mnp\u001b[0m\u001b[1;33m.\u001b[0m\u001b[0mmean\u001b[0m\u001b[1;33m(\u001b[0m\u001b[0morder_matrix\u001b[0m\u001b[1;33m[\u001b[0m\u001b[1;33m:\u001b[0m\u001b[1;33m,\u001b[0m \u001b[0mpair\u001b[0m\u001b[1;33m[\u001b[0m\u001b[1;36m0\u001b[0m\u001b[1;33m]\u001b[0m\u001b[1;33m]\u001b[0m \u001b[1;33m<\u001b[0m \u001b[0morder_matrix\u001b[0m\u001b[1;33m[\u001b[0m\u001b[1;33m:\u001b[0m\u001b[1;33m,\u001b[0m \u001b[0mpair\u001b[0m\u001b[1;33m[\u001b[0m\u001b[1;36m1\u001b[0m\u001b[1;33m]\u001b[0m\u001b[1;33m]\u001b[0m\u001b[1;33m)\u001b[0m\u001b[1;33m\u001b[0m\u001b[0m\n\u001b[1;32m---> 93\u001b[1;33m     \u001b[0mp_ba_r\u001b[0m \u001b[1;33m=\u001b[0m \u001b[0mnp\u001b[0m\u001b[1;33m.\u001b[0m\u001b[0mmean\u001b[0m\u001b[1;33m(\u001b[0m\u001b[0morder_matrix\u001b[0m\u001b[1;33m[\u001b[0m\u001b[0mresponses\u001b[0m\u001b[1;33m==\u001b[0m\u001b[1;36m1\u001b[0m\u001b[1;33m,\u001b[0m \u001b[0mpair\u001b[0m\u001b[1;33m[\u001b[0m\u001b[1;36m0\u001b[0m\u001b[1;33m]\u001b[0m\u001b[1;33m]\u001b[0m \u001b[1;33m<\u001b[0m \u001b[0morder_matrix\u001b[0m\u001b[1;33m[\u001b[0m\u001b[0mresponses\u001b[0m\u001b[1;33m==\u001b[0m\u001b[1;36m1\u001b[0m\u001b[1;33m,\u001b[0m \u001b[0mpair\u001b[0m\u001b[1;33m[\u001b[0m\u001b[1;36m1\u001b[0m\u001b[1;33m]\u001b[0m\u001b[1;33m]\u001b[0m\u001b[1;33m)\u001b[0m\u001b[1;33m\u001b[0m\u001b[0m\n\u001b[0m\u001b[0;32m     94\u001b[0m     \u001b[0mpr_ba\u001b[0m \u001b[1;33m=\u001b[0m \u001b[1;33m(\u001b[0m\u001b[0mp_ba_r\u001b[0m \u001b[1;33m*\u001b[0m \u001b[0mpr\u001b[0m\u001b[1;33m)\u001b[0m \u001b[1;33m/\u001b[0m \u001b[0mp_ba\u001b[0m\u001b[1;33m\u001b[0m\u001b[0m\n\u001b[0;32m     95\u001b[0m     \u001b[1;32mreturn\u001b[0m \u001b[0mpr_ab\u001b[0m\u001b[1;33m,\u001b[0m \u001b[0mpr_ba\u001b[0m\u001b[1;33m\u001b[0m\u001b[0m\n",
      "\u001b[1;31mKeyboardInterrupt\u001b[0m: "
     ]
    }
   ],
   "source": [
    "# np.random.seed(3267)\n",
    "a_t2, b_t2, cv_results_t2, descriptions_t2  = do_simmetry_class_cv(xpressions,\n",
    "                                                      responses, \n",
    "                                                      clf,\n",
    "                                                      cv=cv, \n",
    "                                                      iters=1,\n",
    "                                                      feature_maker=heuristics_4_features)\n",
    "process_results(a_t2, b_t2, cv_results_t2)"
   ]
  },
  {
   "cell_type": "code",
   "execution_count": 289,
   "metadata": {
    "collapsed": true
   },
   "outputs": [],
   "source": [
    "def get_gens_from_descr(descr, gens):\n",
    "    pairs = [p.replace(\"compare_expr(\", \"\").replace(\")\", \"\").split(\", \")\n",
    "             for p in descr.split(\"\\t\")]\n",
    "    gp = []\n",
    "    for p1, p2 in pairs:\n",
    "        gp.append((gens[int(p1)], gens[int(p2)]))\n",
    "    return gp   \n",
    "\n",
    "def pairs_to_str(pairs):\n",
    "    pairs = [\"{} {}\".format(p1, p2) for p1, p2 in pairs]\n",
    "    return \"\\t\".join(pairs)\n",
    "    "
   ]
  },
  {
   "cell_type": "code",
   "execution_count": 291,
   "metadata": {
    "collapsed": false
   },
   "outputs": [],
   "source": [
    "# descriptions_t2[0][0].split(\"\\t\")\n",
    "# [p.replace(\"compare_expr(\", \"\").replace(\")\", \"\").split(\", \")\n",
    "#  for p in descriptions_t2[0][0].split(\"\\t\")]\n",
    "with open(\"pairs.tsv\", \"w\") as f:\n",
    "    for descr in descriptions_t2[0]:\n",
    "        f.write(pairs_to_str(get_gens_from_descr(descr, gens)))\n",
    "        f.write(\"\\n\")\n",
    "        \n"
   ]
  },
  {
   "cell_type": "code",
   "execution_count": 14,
   "metadata": {
    "collapsed": false
   },
   "outputs": [
    {
     "data": {
      "text/plain": [
       "(278,)"
      ]
     },
     "execution_count": 14,
     "metadata": {},
     "output_type": "execute_result"
    }
   ],
   "source": [
    "responses.shape"
   ]
  },
  {
   "cell_type": "code",
   "execution_count": 29,
   "metadata": {
    "collapsed": false
   },
   "outputs": [
    {
     "name": "stdout",
     "output_type": "stream",
     "text": [
      "iteration: 0\n",
      "heuristic 4 started\n"
     ]
    },
    {
     "ename": "KeyboardInterrupt",
     "evalue": "",
     "output_type": "error",
     "traceback": [
      "\u001b[1;31m---------------------------------------------------------------------------\u001b[0m",
      "\u001b[1;31mKeyboardInterrupt\u001b[0m                         Traceback (most recent call last)",
      "\u001b[1;32m<ipython-input-29-f3e15d0819b9>\u001b[0m in \u001b[0;36m<module>\u001b[1;34m()\u001b[0m\n\u001b[0;32m      6\u001b[0m                                                       \u001b[0mcv\u001b[0m\u001b[1;33m=\u001b[0m\u001b[0mcv\u001b[0m\u001b[1;33m,\u001b[0m\u001b[1;33m\u001b[0m\u001b[0m\n\u001b[0;32m      7\u001b[0m                                                       \u001b[0miters\u001b[0m\u001b[1;33m=\u001b[0m\u001b[1;36m1\u001b[0m\u001b[1;33m,\u001b[0m\u001b[1;33m\u001b[0m\u001b[0m\n\u001b[1;32m----> 8\u001b[1;33m                                                       feature_maker=heuristics_4_features)\n\u001b[0m\u001b[0;32m      9\u001b[0m \u001b[0mprocess_results\u001b[0m\u001b[1;33m(\u001b[0m\u001b[0ma_tr\u001b[0m\u001b[1;33m,\u001b[0m \u001b[0mb_tr\u001b[0m\u001b[1;33m,\u001b[0m \u001b[0mcv_results_tr\u001b[0m\u001b[1;33m)\u001b[0m\u001b[1;33m\u001b[0m\u001b[0m\n",
      "\u001b[1;32m<ipython-input-4-45cc645aa308>\u001b[0m in \u001b[0;36mdo_simmetry_class_cv\u001b[1;34m(X, y, clf, iters, cv, feature_maker)\u001b[0m\n\u001b[0;32m    156\u001b[0m         stat, common_stat, cv_result, descriptions = do_cross_val(X[indicies, :], \n\u001b[0;32m    157\u001b[0m                      \u001b[0my\u001b[0m\u001b[1;33m[\u001b[0m\u001b[0mindicies\u001b[0m\u001b[1;33m]\u001b[0m\u001b[1;33m,\u001b[0m\u001b[1;33m\u001b[0m\u001b[0m\n\u001b[1;32m--> 158\u001b[1;33m                      clf, cv, feature_maker)\n\u001b[0m\u001b[0;32m    159\u001b[0m         \u001b[0mresults_a\u001b[0m\u001b[1;33m.\u001b[0m\u001b[0mappend\u001b[0m\u001b[1;33m(\u001b[0m\u001b[0mstat\u001b[0m\u001b[1;33m.\u001b[0m\u001b[0mmean\u001b[0m\u001b[1;33m(\u001b[0m\u001b[0maxis\u001b[0m\u001b[1;33m=\u001b[0m\u001b[1;36m0\u001b[0m\u001b[1;33m)\u001b[0m\u001b[1;33m)\u001b[0m\u001b[1;33m\u001b[0m\u001b[0m\n\u001b[0;32m    160\u001b[0m         \u001b[1;31m# print(stat.mean(axis=0))\u001b[0m\u001b[1;33m\u001b[0m\u001b[1;33m\u001b[0m\u001b[0m\n",
      "\u001b[1;32m<ipython-input-4-45cc645aa308>\u001b[0m in \u001b[0;36mdo_cross_val\u001b[1;34m(X, y, clf, cv, feature_maker)\u001b[0m\n\u001b[0;32m    203\u001b[0m     \u001b[0mdescriptions\u001b[0m \u001b[1;33m=\u001b[0m \u001b[1;33m[\u001b[0m\u001b[1;33m]\u001b[0m\u001b[1;33m\u001b[0m\u001b[0m\n\u001b[0;32m    204\u001b[0m     \u001b[1;32mfor\u001b[0m \u001b[0mtrain\u001b[0m\u001b[1;33m,\u001b[0m \u001b[0mtest\u001b[0m \u001b[1;32min\u001b[0m \u001b[0mskfold\u001b[0m\u001b[1;33m.\u001b[0m\u001b[0msplit\u001b[0m\u001b[1;33m(\u001b[0m\u001b[0mX\u001b[0m\u001b[1;33m,\u001b[0m \u001b[0my\u001b[0m\u001b[1;33m)\u001b[0m\u001b[1;33m:\u001b[0m\u001b[1;33m\u001b[0m\u001b[0m\n\u001b[1;32m--> 205\u001b[1;33m         \u001b[0mfeatures\u001b[0m\u001b[1;33m,\u001b[0m \u001b[0mdescription\u001b[0m \u001b[1;33m=\u001b[0m \u001b[0mfeature_maker\u001b[0m\u001b[1;33m(\u001b[0m\u001b[0mX\u001b[0m\u001b[1;33m,\u001b[0m \u001b[0my\u001b[0m\u001b[1;33m,\u001b[0m \u001b[0mtrain\u001b[0m\u001b[1;33m,\u001b[0m \u001b[0mtest\u001b[0m\u001b[1;33m)\u001b[0m\u001b[1;33m\u001b[0m\u001b[0m\n\u001b[0m\u001b[0;32m    206\u001b[0m         \u001b[0mdescriptions\u001b[0m\u001b[1;33m.\u001b[0m\u001b[0mappend\u001b[0m\u001b[1;33m(\u001b[0m\u001b[0mdescription\u001b[0m\u001b[1;33m)\u001b[0m\u001b[1;33m\u001b[0m\u001b[0m\n\u001b[0;32m    207\u001b[0m         \u001b[0mclf\u001b[0m\u001b[1;33m.\u001b[0m\u001b[0mfit\u001b[0m\u001b[1;33m(\u001b[0m\u001b[0mfeatures\u001b[0m\u001b[1;33m[\u001b[0m\u001b[0mtrain\u001b[0m\u001b[1;33m,\u001b[0m \u001b[1;33m:\u001b[0m\u001b[1;33m]\u001b[0m\u001b[1;33m,\u001b[0m \u001b[0my\u001b[0m\u001b[1;33m[\u001b[0m\u001b[0mtrain\u001b[0m\u001b[1;33m]\u001b[0m\u001b[1;33m)\u001b[0m\u001b[1;33m\u001b[0m\u001b[0m\n",
      "\u001b[1;32m<ipython-input-4-45cc645aa308>\u001b[0m in \u001b[0;36mheuristics_4_features\u001b[1;34m(X, y, train, test, topn)\u001b[0m\n\u001b[0;32m    288\u001b[0m     \u001b[1;32mfor\u001b[0m \u001b[0mi\u001b[0m \u001b[1;32min\u001b[0m \u001b[0mrange\u001b[0m\u001b[1;33m(\u001b[0m\u001b[0morder_matrix\u001b[0m\u001b[1;33m.\u001b[0m\u001b[0mshape\u001b[0m\u001b[1;33m[\u001b[0m\u001b[1;36m1\u001b[0m\u001b[1;33m]\u001b[0m\u001b[1;33m)\u001b[0m\u001b[1;33m:\u001b[0m\u001b[1;33m\u001b[0m\u001b[0m\n\u001b[0;32m    289\u001b[0m         \u001b[1;32mfor\u001b[0m \u001b[0mj\u001b[0m \u001b[1;32min\u001b[0m \u001b[0mrange\u001b[0m\u001b[1;33m(\u001b[0m\u001b[0mi\u001b[0m\u001b[1;33m+\u001b[0m\u001b[1;36m1\u001b[0m\u001b[1;33m,\u001b[0m \u001b[0morder_matrix\u001b[0m\u001b[1;33m.\u001b[0m\u001b[0mshape\u001b[0m\u001b[1;33m[\u001b[0m\u001b[1;36m1\u001b[0m\u001b[1;33m]\u001b[0m\u001b[1;33m)\u001b[0m\u001b[1;33m:\u001b[0m\u001b[1;33m\u001b[0m\u001b[0m\n\u001b[1;32m--> 290\u001b[1;33m             \u001b[0mpr_ab\u001b[0m\u001b[1;33m,\u001b[0m \u001b[0mpr_ba\u001b[0m \u001b[1;33m=\u001b[0m \u001b[0mget_pair_value\u001b[0m\u001b[1;33m(\u001b[0m\u001b[0morder_matrix\u001b[0m\u001b[1;33m,\u001b[0m \u001b[1;33m(\u001b[0m\u001b[0mi\u001b[0m\u001b[1;33m,\u001b[0m\u001b[0mj\u001b[0m\u001b[1;33m)\u001b[0m\u001b[1;33m,\u001b[0m \u001b[0my\u001b[0m\u001b[1;33m[\u001b[0m\u001b[0mtrain\u001b[0m\u001b[1;33m]\u001b[0m\u001b[1;33m)\u001b[0m\u001b[1;33m\u001b[0m\u001b[0m\n\u001b[0m\u001b[0;32m    291\u001b[0m             \u001b[0mvalue_matrix\u001b[0m\u001b[1;33m[\u001b[0m\u001b[0mi\u001b[0m\u001b[1;33m,\u001b[0m \u001b[0mj\u001b[0m\u001b[1;33m]\u001b[0m \u001b[1;33m=\u001b[0m \u001b[0mpr_ab\u001b[0m\u001b[1;33m\u001b[0m\u001b[0m\n\u001b[0;32m    292\u001b[0m             \u001b[0mvalue_matrix\u001b[0m\u001b[1;33m[\u001b[0m\u001b[0mj\u001b[0m\u001b[1;33m,\u001b[0m \u001b[0mi\u001b[0m\u001b[1;33m]\u001b[0m \u001b[1;33m=\u001b[0m \u001b[0mpr_ba\u001b[0m\u001b[1;33m\u001b[0m\u001b[0m\n",
      "\u001b[1;32m<ipython-input-4-45cc645aa308>\u001b[0m in \u001b[0;36mget_pair_value\u001b[1;34m(order_matrix, pair, responses, pr)\u001b[0m\n\u001b[0;32m     91\u001b[0m \u001b[1;33m\u001b[0m\u001b[0m\n\u001b[0;32m     92\u001b[0m     \u001b[0mp_ba\u001b[0m \u001b[1;33m=\u001b[0m \u001b[0mnp\u001b[0m\u001b[1;33m.\u001b[0m\u001b[0mmean\u001b[0m\u001b[1;33m(\u001b[0m\u001b[0morder_matrix\u001b[0m\u001b[1;33m[\u001b[0m\u001b[1;33m:\u001b[0m\u001b[1;33m,\u001b[0m \u001b[0mpair\u001b[0m\u001b[1;33m[\u001b[0m\u001b[1;36m0\u001b[0m\u001b[1;33m]\u001b[0m\u001b[1;33m]\u001b[0m \u001b[1;33m<\u001b[0m \u001b[0morder_matrix\u001b[0m\u001b[1;33m[\u001b[0m\u001b[1;33m:\u001b[0m\u001b[1;33m,\u001b[0m \u001b[0mpair\u001b[0m\u001b[1;33m[\u001b[0m\u001b[1;36m1\u001b[0m\u001b[1;33m]\u001b[0m\u001b[1;33m]\u001b[0m\u001b[1;33m)\u001b[0m\u001b[1;33m\u001b[0m\u001b[0m\n\u001b[1;32m---> 93\u001b[1;33m     \u001b[0mp_ba_r\u001b[0m \u001b[1;33m=\u001b[0m \u001b[0mnp\u001b[0m\u001b[1;33m.\u001b[0m\u001b[0mmean\u001b[0m\u001b[1;33m(\u001b[0m\u001b[0morder_matrix\u001b[0m\u001b[1;33m[\u001b[0m\u001b[0mresponses\u001b[0m\u001b[1;33m==\u001b[0m\u001b[1;36m1\u001b[0m\u001b[1;33m,\u001b[0m \u001b[0mpair\u001b[0m\u001b[1;33m[\u001b[0m\u001b[1;36m0\u001b[0m\u001b[1;33m]\u001b[0m\u001b[1;33m]\u001b[0m \u001b[1;33m<\u001b[0m \u001b[0morder_matrix\u001b[0m\u001b[1;33m[\u001b[0m\u001b[0mresponses\u001b[0m\u001b[1;33m==\u001b[0m\u001b[1;36m1\u001b[0m\u001b[1;33m,\u001b[0m \u001b[0mpair\u001b[0m\u001b[1;33m[\u001b[0m\u001b[1;36m1\u001b[0m\u001b[1;33m]\u001b[0m\u001b[1;33m]\u001b[0m\u001b[1;33m)\u001b[0m\u001b[1;33m\u001b[0m\u001b[0m\n\u001b[0m\u001b[0;32m     94\u001b[0m     \u001b[0mpr_ba\u001b[0m \u001b[1;33m=\u001b[0m \u001b[1;33m(\u001b[0m\u001b[0mp_ba_r\u001b[0m \u001b[1;33m*\u001b[0m \u001b[0mpr\u001b[0m\u001b[1;33m)\u001b[0m \u001b[1;33m/\u001b[0m \u001b[0mp_ba\u001b[0m\u001b[1;33m\u001b[0m\u001b[0m\n\u001b[0;32m     95\u001b[0m     \u001b[1;32mreturn\u001b[0m \u001b[0mpr_ab\u001b[0m\u001b[1;33m,\u001b[0m \u001b[0mpr_ba\u001b[0m\u001b[1;33m\u001b[0m\u001b[0m\n",
      "\u001b[1;31mKeyboardInterrupt\u001b[0m: "
     ]
    }
   ],
   "source": [
    "cv = 10\n",
    "np.random.seed(3267)\n",
    "a_tr, b_tr, cv_results_tr, descriptions_tr  = do_simmetry_class_cv(xpressions,\n",
    "                                                      responses, \n",
    "                                                      clf,\n",
    "                                                      cv=cv, \n",
    "                                                      iters=1,\n",
    "                                                      feature_maker=heuristics_4_features)\n",
    "process_results(a_tr, b_tr, cv_results_tr)"
   ]
  },
  {
   "cell_type": "code",
   "execution_count": 267,
   "metadata": {
    "collapsed": false
   },
   "outputs": [
    {
     "name": "stdout",
     "output_type": "stream",
     "text": [
      "70\n",
      "70\n",
      "70\n",
      "70\n",
      "70\n",
      "70\n",
      "70\n",
      "70\n",
      "70\n",
      "70\n",
      "\n",
      " 11\n"
     ]
    }
   ],
   "source": [
    "descr_set = set(descriptions_t[0][0].split(\"\\t\"))\n",
    "\n",
    "for description in descriptions_t2:# + descriptions_t:\n",
    "    for d in description:        \n",
    "        descr = set(d.split(\"\\t\"))\n",
    "        print(len(descr))\n",
    "        descr_set = descr_set.intersection(descr)\n",
    "    \n",
    "    \n",
    "print(\"\\n\", len(descr_set))\n",
    "# process_results(a_t2 + a_t, b_t2 + b_t, cv_results_t2 + cv_results_t)"
   ]
  },
  {
   "cell_type": "markdown",
   "metadata": {},
   "source": [
    "Классификация по пересечению генов из эвристик 1, 2:"
   ]
  },
  {
   "cell_type": "code",
   "execution_count": 154,
   "metadata": {
    "collapsed": false
   },
   "outputs": [
    {
     "name": "stdout",
     "output_type": "stream",
     "text": [
      "iteration: 0\n",
      "iteration: 1\n",
      "iteration: 2\n",
      "iteration: 3\n",
      "iteration: 4\n",
      "iteration: 5\n",
      "iteration: 6\n",
      "iteration: 7\n",
      "iteration: 8\n",
      "iteration: 9\n"
     ]
    },
    {
     "data": {
      "text/html": [
       "<div>\n",
       "<table border=\"1\" class=\"dataframe\">\n",
       "  <thead>\n",
       "    <tr style=\"text-align: right;\">\n",
       "      <th></th>\n",
       "      <th>precision 1</th>\n",
       "      <th>recall 1</th>\n",
       "      <th>precision 0</th>\n",
       "      <th>recall 0</th>\n",
       "      <th>accuracy</th>\n",
       "      <th>auc</th>\n",
       "    </tr>\n",
       "  </thead>\n",
       "  <tbody>\n",
       "    <tr>\n",
       "      <th>схема а</th>\n",
       "      <td>0.725000</td>\n",
       "      <td>0.65</td>\n",
       "      <td>0.766667</td>\n",
       "      <td>0.85</td>\n",
       "      <td>0.75</td>\n",
       "      <td>0.5875</td>\n",
       "    </tr>\n",
       "    <tr>\n",
       "      <th>схема б</th>\n",
       "      <td>0.796667</td>\n",
       "      <td>0.65</td>\n",
       "      <td>0.730000</td>\n",
       "      <td>0.85</td>\n",
       "      <td>0.75</td>\n",
       "      <td>0.5875</td>\n",
       "    </tr>\n",
       "  </tbody>\n",
       "</table>\n",
       "</div>"
      ],
      "text/plain": [
       "         precision 1  recall 1  precision 0  recall 0  accuracy     auc\n",
       "схема а     0.725000      0.65     0.766667      0.85      0.75  0.5875\n",
       "схема б     0.796667      0.65     0.730000      0.85      0.75  0.5875"
      ]
     },
     "execution_count": 154,
     "metadata": {},
     "output_type": "execute_result"
    }
   ],
   "source": [
    "inter_h1_h2_gens = ['PDE6C', 'CEP57', 'PDE9A', 'CALU', 'TTK', 'AATF', 'MIR1244-1',\n",
    "       'MIR1244-2', 'MIR1244-3', 'TMEM109', 'QKI', 'PDIA6', 'PDK1',\n",
    "       'SNAPC3', 'BACE2', 'NAA50', 'TTYH1', 'EPHB3', 'RPIA', 'SF3B3',\n",
    "       'GORASP2', 'NUP153', 'NUP155', 'LRRC59', 'PDSS1', 'HLA-G', 'BANK1',\n",
    "       'ANP32E', 'FOCAD', 'XPNPEP1', 'FOLH1B', 'TUBB4B', 'RAB23', 'EPRS',\n",
    "       'SUMO3', 'LSM2', 'IQCG', 'NUSAP1', 'NASP', 'CSNK2B', 'ABI1', 'PERP',\n",
    "       'GPM6B', 'PES1', 'DNAJA1', 'SYK', 'CASP8AP2', 'HN1', 'CHI3L2',\n",
    "       'ACACA', 'RPL39L', 'TXNDC5', 'BCL11A', 'ISG20', 'SYNRG', 'TYMS',\n",
    "       'RPP21', 'HNRNPH3', 'RAD1', 'ESPL1', 'CHRM3', 'ITGA6', 'RPS21',\n",
    "       'ACP1', 'GPR89A', 'GPR89B', 'LCN2', 'CTPS1', 'ITGB4', 'SNRPC',\n",
    "       'SNRPD1', 'NDC80', 'MAD2L1', 'GPSM2', 'PHACTR2', 'UBE2J1',\n",
    "       'RALGAPB', 'TAF1D', 'NDRG2', 'TAF5', 'DONSON', 'ITPR3', 'RPS7',\n",
    "       'TNFAIP8L2-SCNM1', 'RANBP6', 'BLOC1S5-TXNDC5', 'TAP1', 'RAP2A',\n",
    "       'RRAGD', 'ACTR3', 'ACTR3B', 'HPS5', 'RRM2', 'FZD7', 'SKP2', 'DPY30',\n",
    "       'CCHCR1', 'NDUFB6', 'CKS1B', 'CKS2', 'MAGOHB', 'DROSHA', 'RASGRP3',\n",
    "       'KARS', 'DSC2', 'SOX10', 'UGP2', 'ZIC1', 'CYB5R2', 'CCNC', 'TNS2',\n",
    "       'CCND3', 'NELFB', 'HSPA14', 'TBCC', 'FAIM2', 'BRIX1', 'BRPF1',\n",
    "       'FAM107A', 'TOMM70', 'NES', 'DUSP14', 'DUSP2', 'CLIC4', 'RBM28',\n",
    "       'GTF2E2', 'MAP4K4', 'S100A1', 'DUSP6', 'ZNF131', 'CCT4', 'NT5DC2',\n",
    "       'CCT6A', 'MAPK1', 'BTG3', 'NFIB', 'UQCRH', 'UQCRHL', 'PRPF3',\n",
    "       'GTPBP8', 'SAC3D1', 'NFYA', 'PRPF40A', 'PRPF4B', 'TCF7L2', 'CMC2',\n",
    "       'KCNN4', 'CMPK1', 'PRPS2', 'USP18', 'PABPC3', 'MRPL9', 'LMO4',\n",
    "       'SAP30', 'GATA6', 'GYG1', 'MRPS17', 'PADI2', 'MRPS18A', 'MRPS2',\n",
    "       'USP39', 'ADSL', 'PRRC2A', 'SPR', 'GBP1', 'ART3', 'TEAD4',\n",
    "       'PAK1IP1', 'PLCB4', 'MSH2', 'HACD1', 'IFI16', 'LOC100506248',\n",
    "       'HADHA', 'MSH6', 'IFI44L', 'RFC2', 'LOC100506639', 'RFC4', 'COCH',\n",
    "       'NMI', 'TRDMT1', 'FAM98A', 'C1orf112', 'SREK1', 'FANCG', 'PSIP1',\n",
    "       'RFWD3', 'FANCL', 'MCM3', 'VCP', 'MCM6', 'TFDP2', 'CDC45', 'PSMB4',\n",
    "       'TFF2', 'EFNA4', 'PLK4', 'VEGFA', 'CDCA8', 'SLC43A3', 'SCNM1',\n",
    "       'EFS', 'SRSF3', 'VGLL1', 'GGH', 'SCPEP1', 'VGLL4', 'KIF11', 'MEA1',\n",
    "       'TRIM38', 'TRIM39', 'TRIM39-RPP21', 'KIF14', 'KIF15', 'FBXO11',\n",
    "       'DDX18', 'MTMR2', 'PSME4', 'PSMG1', 'SSR1', 'MED17', 'KIF20A',\n",
    "       'HDAC9', 'MTO1', 'HDGF', 'PMPCA', 'SEC13', 'TRMT11', 'VPS72',\n",
    "       'MELK', 'MEMO1', 'CDKN2A', 'C6orf62', 'ATP5G3', 'FDPS', 'DEK',\n",
    "       'CDR2L', 'KLF11', 'IL12RB2', 'STAG1', 'FEN1', 'SEL1L3', 'DENND4B',\n",
    "       'EIF5B', 'PTMA', 'KLF6', 'LOC389906', 'ELAVL1', 'KLHDC3', 'HIC2',\n",
    "       'MEX3C', 'MYCN', 'ELF5', 'ZNF74', 'MFGE8', 'CEBPG', 'GMDS', 'CECR5',\n",
    "       'STEAP1B', 'GMIP', 'LOC728026', 'RNF138', 'TSPAN6', 'TSPO', 'WDR77',\n",
    "       'SERBP1', 'NRTN', 'SMC5', 'MYO10', 'STMN1', 'CENPM', 'DHTKD1',\n",
    "       'ILF2', 'STOML2', 'LPIN1', 'PUS1', 'MICAL3', 'TTC13', 'PWP2',\n",
    "       'CRLF1']\n",
    "ids = np.arange(gens.shape[0])\n",
    "interscetion_h1_h2 = sorted([ids[gen==gens][0] for gen in inter_h1_h2_gens if (gen == gens).sum() == 1])\n",
    "# print(interscetion_h1_h2)\n",
    "\n",
    "np.random.seed(3267)\n",
    "a, b, cv_results = do_simmetry_class_cv(xpressions_scaled[:, interscetion_h1_h2], inv_responses, clf, cv=cv)\n",
    "process_results(a, b, cv_results)[[2,3,0,1,4,5]]"
   ]
  },
  {
   "cell_type": "code",
   "execution_count": 143,
   "metadata": {
    "collapsed": false
   },
   "outputs": [
    {
     "data": {
      "text/plain": [
       "281"
      ]
     },
     "execution_count": 143,
     "metadata": {},
     "output_type": "execute_result"
    }
   ],
   "source": [
    "len(inter_h1_h2_gens)"
   ]
  },
  {
   "cell_type": "code",
   "execution_count": 155,
   "metadata": {
    "collapsed": false
   },
   "outputs": [
    {
     "name": "stdout",
     "output_type": "stream",
     "text": [
      "iteration: 0\n",
      "iteration: 1\n",
      "iteration: 2\n",
      "iteration: 3\n",
      "iteration: 4\n",
      "iteration: 5\n",
      "iteration: 6\n",
      "iteration: 7\n",
      "iteration: 8\n",
      "iteration: 9\n"
     ]
    },
    {
     "data": {
      "text/html": [
       "<div>\n",
       "<table border=\"1\" class=\"dataframe\">\n",
       "  <thead>\n",
       "    <tr style=\"text-align: right;\">\n",
       "      <th></th>\n",
       "      <th>precision 1</th>\n",
       "      <th>recall 1</th>\n",
       "      <th>precision 0</th>\n",
       "      <th>recall 0</th>\n",
       "      <th>accuracy</th>\n",
       "      <th>auc</th>\n",
       "    </tr>\n",
       "  </thead>\n",
       "  <tbody>\n",
       "    <tr>\n",
       "      <th>схема а</th>\n",
       "      <td>0.758333</td>\n",
       "      <td>0.575</td>\n",
       "      <td>0.708333</td>\n",
       "      <td>0.875</td>\n",
       "      <td>0.725</td>\n",
       "      <td>0.725</td>\n",
       "    </tr>\n",
       "    <tr>\n",
       "      <th>схема б</th>\n",
       "      <td>0.758333</td>\n",
       "      <td>0.575</td>\n",
       "      <td>0.701190</td>\n",
       "      <td>0.875</td>\n",
       "      <td>0.725</td>\n",
       "      <td>0.725</td>\n",
       "    </tr>\n",
       "  </tbody>\n",
       "</table>\n",
       "</div>"
      ],
      "text/plain": [
       "         precision 1  recall 1  precision 0  recall 0  accuracy    auc\n",
       "схема а     0.758333     0.575     0.708333     0.875     0.725  0.725\n",
       "схема б     0.758333     0.575     0.701190     0.875     0.725  0.725"
      ]
     },
     "execution_count": 155,
     "metadata": {},
     "output_type": "execute_result"
    }
   ],
   "source": [
    "np.random.seed(3267)\n",
    "knn = KNeighborsClassifier(n_neighbors=1)\n",
    "a,b, cv_results  = do_simmetry_class_cv(xpressions_scaled[:, interscetion_h1_h2], inv_responses, knn, cv=cv)\n",
    "process_results(a, b, cv_results)[[2,3,0,1,4,5]]"
   ]
  },
  {
   "cell_type": "markdown",
   "metadata": {},
   "source": [
    "Случайно отобранные гены"
   ]
  },
  {
   "cell_type": "code",
   "execution_count": 156,
   "metadata": {
    "collapsed": false
   },
   "outputs": [
    {
     "name": "stdout",
     "output_type": "stream",
     "text": [
      "iteration: 0\n",
      "iteration: 1\n",
      "iteration: 2\n",
      "iteration: 3\n",
      "iteration: 4\n",
      "iteration: 5\n",
      "iteration: 6\n",
      "iteration: 7\n",
      "iteration: 8\n",
      "iteration: 9\n"
     ]
    },
    {
     "data": {
      "text/html": [
       "<div>\n",
       "<table border=\"1\" class=\"dataframe\">\n",
       "  <thead>\n",
       "    <tr style=\"text-align: right;\">\n",
       "      <th></th>\n",
       "      <th>precision 1</th>\n",
       "      <th>recall 1</th>\n",
       "      <th>precision 0</th>\n",
       "      <th>recall 0</th>\n",
       "      <th>accuracy</th>\n",
       "      <th>auc</th>\n",
       "    </tr>\n",
       "  </thead>\n",
       "  <tbody>\n",
       "    <tr>\n",
       "      <th>схема а</th>\n",
       "      <td>0.783333</td>\n",
       "      <td>0.725</td>\n",
       "      <td>0.666667</td>\n",
       "      <td>0.675</td>\n",
       "      <td>0.7</td>\n",
       "      <td>0.2500</td>\n",
       "    </tr>\n",
       "    <tr>\n",
       "      <th>схема б</th>\n",
       "      <td>0.741667</td>\n",
       "      <td>0.725</td>\n",
       "      <td>0.708333</td>\n",
       "      <td>0.675</td>\n",
       "      <td>0.7</td>\n",
       "      <td>0.2875</td>\n",
       "    </tr>\n",
       "  </tbody>\n",
       "</table>\n",
       "</div>"
      ],
      "text/plain": [
       "         precision 1  recall 1  precision 0  recall 0  accuracy     auc\n",
       "схема а     0.783333     0.725     0.666667     0.675       0.7  0.2500\n",
       "схема б     0.741667     0.725     0.708333     0.675       0.7  0.2875"
      ]
     },
     "execution_count": 156,
     "metadata": {},
     "output_type": "execute_result"
    }
   ],
   "source": [
    "np.random.seed(3267)\n",
    "rnd_h1_h2 = np.random.choice(ids, size=len(interscetion_h1_h2), replace=False)\n",
    "a, b, cv_results = do_simmetry_class_cv(xpressions_scaled[:, rnd_h1_h2], inv_responses, clf, cv=cv)\n",
    "process_results(a, b, cv_results)[[2,3,0,1,4,5]]"
   ]
  },
  {
   "cell_type": "code",
   "execution_count": 157,
   "metadata": {
    "collapsed": false
   },
   "outputs": [
    {
     "name": "stdout",
     "output_type": "stream",
     "text": [
      "iteration: 0\n",
      "iteration: 1\n",
      "iteration: 2\n",
      "iteration: 3\n",
      "iteration: 4\n",
      "iteration: 5\n",
      "iteration: 6\n",
      "iteration: 7\n",
      "iteration: 8\n",
      "iteration: 9\n"
     ]
    },
    {
     "data": {
      "text/html": [
       "<div>\n",
       "<table border=\"1\" class=\"dataframe\">\n",
       "  <thead>\n",
       "    <tr style=\"text-align: right;\">\n",
       "      <th></th>\n",
       "      <th>precision 1</th>\n",
       "      <th>recall 1</th>\n",
       "      <th>precision 0</th>\n",
       "      <th>recall 0</th>\n",
       "      <th>accuracy</th>\n",
       "      <th>auc</th>\n",
       "    </tr>\n",
       "  </thead>\n",
       "  <tbody>\n",
       "    <tr>\n",
       "      <th>схема а</th>\n",
       "      <td>0.491667</td>\n",
       "      <td>0.475</td>\n",
       "      <td>0.458333</td>\n",
       "      <td>0.525</td>\n",
       "      <td>0.5</td>\n",
       "      <td>0.5</td>\n",
       "    </tr>\n",
       "    <tr>\n",
       "      <th>схема б</th>\n",
       "      <td>0.515000</td>\n",
       "      <td>0.475</td>\n",
       "      <td>0.488333</td>\n",
       "      <td>0.525</td>\n",
       "      <td>0.5</td>\n",
       "      <td>0.5</td>\n",
       "    </tr>\n",
       "  </tbody>\n",
       "</table>\n",
       "</div>"
      ],
      "text/plain": [
       "         precision 1  recall 1  precision 0  recall 0  accuracy  auc\n",
       "схема а     0.491667     0.475     0.458333     0.525       0.5  0.5\n",
       "схема б     0.515000     0.475     0.488333     0.525       0.5  0.5"
      ]
     },
     "execution_count": 157,
     "metadata": {},
     "output_type": "execute_result"
    }
   ],
   "source": [
    "np.random.seed(3267)\n",
    "knn = KNeighborsClassifier(n_neighbors=1)\n",
    "a,b, cv_results  = do_simmetry_class_cv(xpressions_scaled[:, rnd_h1_h2], inv_responses, knn, cv=cv)\n",
    "process_results(a, b, cv_results)[[2,3,0,1,4,5]]"
   ]
  },
  {
   "cell_type": "markdown",
   "metadata": {},
   "source": [
    "Классификация по 70 парам из эвристики 4"
   ]
  },
  {
   "cell_type": "code",
   "execution_count": 159,
   "metadata": {
    "collapsed": false
   },
   "outputs": [
    {
     "name": "stdout",
     "output_type": "stream",
     "text": [
      "(14, 67)\n",
      "iteration: 0\n",
      "iteration: 1\n",
      "iteration: 2\n",
      "iteration: 3\n",
      "iteration: 4\n",
      "iteration: 5\n",
      "iteration: 6\n",
      "iteration: 7\n",
      "iteration: 8\n",
      "iteration: 9\n"
     ]
    },
    {
     "data": {
      "text/html": [
       "<div>\n",
       "<table border=\"1\" class=\"dataframe\">\n",
       "  <thead>\n",
       "    <tr style=\"text-align: right;\">\n",
       "      <th></th>\n",
       "      <th>precision 1</th>\n",
       "      <th>recall 1</th>\n",
       "      <th>precision 0</th>\n",
       "      <th>recall 0</th>\n",
       "      <th>accuracy</th>\n",
       "      <th>auc</th>\n",
       "    </tr>\n",
       "  </thead>\n",
       "  <tbody>\n",
       "    <tr>\n",
       "      <th>схема а</th>\n",
       "      <td>0.825000</td>\n",
       "      <td>0.875</td>\n",
       "      <td>0.916667</td>\n",
       "      <td>0.825</td>\n",
       "      <td>0.85</td>\n",
       "      <td>0.52500</td>\n",
       "    </tr>\n",
       "    <tr>\n",
       "      <th>схема б</th>\n",
       "      <td>0.828333</td>\n",
       "      <td>0.875</td>\n",
       "      <td>0.895000</td>\n",
       "      <td>0.825</td>\n",
       "      <td>0.85</td>\n",
       "      <td>0.56875</td>\n",
       "    </tr>\n",
       "  </tbody>\n",
       "</table>\n",
       "</div>"
      ],
      "text/plain": [
       "         precision 1  recall 1  precision 0  recall 0  accuracy      auc\n",
       "схема а     0.825000     0.875     0.916667     0.825      0.85  0.52500\n",
       "схема б     0.828333     0.875     0.895000     0.825      0.85  0.56875"
      ]
     },
     "execution_count": 159,
     "metadata": {},
     "output_type": "execute_result"
    }
   ],
   "source": [
    "good_pairs_str = [('APBB3', 'CRLF1'), ('ARHGAP1', 'CRLF1'), ('ATP6V0A1', 'IL12RB2'), ('ATP6V0C', 'DUSP14'), ('C4A', 'NKTR'),\n",
    "              ('C4B', 'NKTR'), ('C4B_2', 'NKTR'), ('CCND1', 'BCOR'), ('CCND1', 'MON1B'), ('CCND1', 'MTRF1'), ('CCND1', 'ZNF165'),\n",
    "              ('CDK16', 'COCH'), ('CERS6', 'CRIPT'), ('CERS6', 'JMJD1C'), ('CERS6', 'MTO1'), ('CERS6', 'TLE1'),\n",
    "              ('CERS6', 'TOPORS-AS1'), ('COL1A1', 'FOLH1B'), ('DHCR24', 'COCH'), ('DHCR24', 'FOCAD'), ('DNASE2', 'GPM6B'),\n",
    "              ('EIF4B', 'ITGA6'), ('ERC1', 'CRLF1'), ('FHOD1', 'CRLF1'), ('FILIP1L', 'CRLF1'), ('FKSG49', 'MFGE8'),\n",
    "              ('FOLR1', 'COCH'), ('GOLGA1', 'CRLF1'), ('GON4L', 'CRLF1'), ('GP1BA', 'CRLF1'), ('HOXB5', 'CRLF1'),\n",
    "              ('HOXC4', 'FAIM2'), ('IGFBP4', 'DEPDC5'), ('IGFBP4', 'PIK3CG'), ('LYST', 'KCNAB1'), ('MIR6831', 'CRLF1'),\n",
    "              ('MOSPD2', 'CRLF1'), ('MXRA8', 'GATA6'), ('MYL4', 'CRLF1'), ('MZT2B', 'ITGA6'), ('NAT1', 'PAQR3'),\n",
    "              ('NDUFB5', 'MELK'), ('NECAB3', 'FBXO11'), ('NXPH3', 'CRLF1'), ('PEA15', 'NFIB'), ('PLXNA3', 'CRLF1'),\n",
    "              ('PNPO', 'RWDD3'), ('POLDIP2', 'COCH'), ('PPIE', 'IL12RB2'), ('R3HDM4', 'ITGA6'), ('RALA', 'GPM6B'),\n",
    "              ('RASA1', 'YES1'), ('RUFY1', 'ITGA6'), ('SEMA3C', 'BCOR'), ('SEMA3C', 'YIPF4'), ('SNORA67', 'ITGA6'),\n",
    "              ('SPR', 'DNPH1'), ('STAMBP', 'MSH2'), ('SULT1A2', 'MRPS2'), ('THEMIS2', 'CRLF1'), ('TM6SF1', 'ELAVL2'),\n",
    "              ('TMEM62', 'ETAA1'), ('TNK1', 'FBXO11'), ('TPBG', 'COCH'), ('TPBG', 'WSB1'), ('TRANK1', 'CRLF1'),\n",
    "              ('TRPM2', 'CRLF1'), ('VPS35', 'MELK'), ('ZDHHC7', 'ITGA6'), ('ZNF510', 'CRLF1')]\n",
    "gens_list = gens.tolist()\n",
    "good_pairs = [(gens_list.index(gen1), gens_list.index(gen2)) for gen1, gen2 in good_pairs_str\n",
    "              if (gen1 in gens_list) and (gen2 in gens_list)]\n",
    "\n",
    "order_features1, pair_names = xpression_to_order_feature(xpressions, good_pairs, gens)\n",
    "print(order_features1.shape)\n",
    "\n",
    "np.random.seed(3267)\n",
    "a, b, cv_results = do_simmetry_class_cv(order_features1, inv_responses, clf, cv=cv)\n",
    "process_results(a, b, cv_results)[[2,3,0,1,4,5]]"
   ]
  },
  {
   "cell_type": "code",
   "execution_count": 160,
   "metadata": {
    "collapsed": false
   },
   "outputs": [
    {
     "name": "stdout",
     "output_type": "stream",
     "text": [
      "iteration: 0\n",
      "iteration: 1\n",
      "iteration: 2\n",
      "iteration: 3\n",
      "iteration: 4\n",
      "iteration: 5\n",
      "iteration: 6\n",
      "iteration: 7\n",
      "iteration: 8\n",
      "iteration: 9\n"
     ]
    },
    {
     "data": {
      "text/html": [
       "<div>\n",
       "<table border=\"1\" class=\"dataframe\">\n",
       "  <thead>\n",
       "    <tr style=\"text-align: right;\">\n",
       "      <th></th>\n",
       "      <th>precision 1</th>\n",
       "      <th>recall 1</th>\n",
       "      <th>precision 0</th>\n",
       "      <th>recall 0</th>\n",
       "      <th>accuracy</th>\n",
       "      <th>auc</th>\n",
       "    </tr>\n",
       "  </thead>\n",
       "  <tbody>\n",
       "    <tr>\n",
       "      <th>схема а</th>\n",
       "      <td>0.725</td>\n",
       "      <td>0.625</td>\n",
       "      <td>0.750000</td>\n",
       "      <td>0.85</td>\n",
       "      <td>0.7375</td>\n",
       "      <td>0.7375</td>\n",
       "    </tr>\n",
       "    <tr>\n",
       "      <th>схема б</th>\n",
       "      <td>0.780</td>\n",
       "      <td>0.625</td>\n",
       "      <td>0.726667</td>\n",
       "      <td>0.85</td>\n",
       "      <td>0.7375</td>\n",
       "      <td>0.7375</td>\n",
       "    </tr>\n",
       "  </tbody>\n",
       "</table>\n",
       "</div>"
      ],
      "text/plain": [
       "         precision 1  recall 1  precision 0  recall 0  accuracy     auc\n",
       "схема а        0.725     0.625     0.750000      0.85    0.7375  0.7375\n",
       "схема б        0.780     0.625     0.726667      0.85    0.7375  0.7375"
      ]
     },
     "execution_count": 160,
     "metadata": {},
     "output_type": "execute_result"
    }
   ],
   "source": [
    "np.random.seed(3267)\n",
    "knn = KNeighborsClassifier(n_neighbors=1)\n",
    "a,b, cv_results  = do_simmetry_class_cv(order_features1, inv_responses, knn, cv=cv)\n",
    "process_results(a, b, cv_results)[[2,3,0,1,4,5]]"
   ]
  },
  {
   "cell_type": "code",
   "execution_count": 149,
   "metadata": {
    "collapsed": true
   },
   "outputs": [],
   "source": [
    "def get_splits(responses, k=10):\n",
    "    nonresp = np.arange(responses.shape[0])[responses==0]\n",
    "    resp = np.arange(responses.shape[0])[responses==1]\n",
    "    np.random.shuffle(nonresp)\n",
    "    np.random.shuffle(resp)\n",
    "    folds = []\n",
    "    for i in range(9):\n",
    "        folds.append(np.hstack((resp[i*22:i*22+22],nonresp[i*5:i*5+5])))\n",
    "    folds.append(np.hstack((resp[9*22:],nonresp[9*5:])))\n",
    "    cases = []\n",
    "    for i in range(10):\n",
    "        test = folds[i]\n",
    "        train = np.hstack((fold for j, fold in enumerate(folds) if i != j))\n",
    "        cases.append( (train, test) )                      \n",
    "    return folds, cases\n",
    "    "
   ]
  },
  {
   "cell_type": "code",
   "execution_count": 150,
   "metadata": {
    "collapsed": false
   },
   "outputs": [],
   "source": [
    "folds, cases = get_splits(responses)"
   ]
  },
  {
   "cell_type": "code",
   "execution_count": 151,
   "metadata": {
    "collapsed": false
   },
   "outputs": [
    {
     "ename": "NameError",
     "evalue": "name 'order_features2' is not defined",
     "output_type": "error",
     "traceback": [
      "\u001b[1;31m---------------------------------------------------------------------------\u001b[0m",
      "\u001b[1;31mNameError\u001b[0m                                 Traceback (most recent call last)",
      "\u001b[1;32m<ipython-input-151-1a248dbea8fd>\u001b[0m in \u001b[0;36m<module>\u001b[1;34m()\u001b[0m\n\u001b[1;32m----> 1\u001b[1;33m intr_svc_smtr_a, intr_svc_smtr_b = do_simmetry_class_cv(order_features2,\n\u001b[0m\u001b[0;32m      2\u001b[0m                                                       responses, svc, iters=10)\n\u001b[0;32m      3\u001b[0m \u001b[0morder_features\u001b[0m\u001b[1;33m.\u001b[0m\u001b[0mshape\u001b[0m\u001b[1;33m,\u001b[0m \u001b[0morder_features2\u001b[0m\u001b[1;33m.\u001b[0m\u001b[0mshape\u001b[0m\u001b[1;33m,\u001b[0m \u001b[0morder_features3\u001b[0m\u001b[1;33m.\u001b[0m\u001b[0mshape\u001b[0m\u001b[1;33m\u001b[0m\u001b[0m\n",
      "\u001b[1;31mNameError\u001b[0m: name 'order_features2' is not defined"
     ]
    }
   ],
   "source": [
    "intr_svc_smtr_a, intr_svc_smtr_b = do_simmetry_class_cv(order_features2,\n",
    "                                                      responses, svc, iters=10)\n",
    "order_features.shape, order_features2.shape, order_features3.shape"
   ]
  },
  {
   "cell_type": "code",
   "execution_count": null,
   "metadata": {
    "collapsed": true
   },
   "outputs": [],
   "source": [
    "print(intr_svc_smtr_a.mean(axis=0), intr_svc_smtr_b.mean(axis=0))\n",
    "print()\n",
    "# print(best31_svc_smtr_a.mean(axis=0), best31_svc_smtr_b.mean(axis=0))\n",
    "# prec_0, recall_0, prec_1, recall_1"
   ]
  },
  {
   "cell_type": "code",
   "execution_count": null,
   "metadata": {
    "collapsed": true
   },
   "outputs": [],
   "source": [
    "print(intr_svc_smtr_a.mean(axis=0), intr_svc_smtr_b.mean(axis=0))\n",
    "print()\n",
    "# print(best31_svc_smtr_a.mean(axis=0), best31_svc_smtr_b.mean(axis=0))\n",
    "# prec_0, recall_0, prec_1, recall_1"
   ]
  },
  {
   "cell_type": "code",
   "execution_count": 309,
   "metadata": {
    "collapsed": false
   },
   "outputs": [
    {
     "name": "stderr",
     "output_type": "stream",
     "text": [
      "WARNING (theano.configdefaults): g++ not detected ! Theano will be unable to execute optimized C-implementations (for both CPU and GPU) and will default to Python implementations. Performance will be severely degraded. To remove this warning, set Theano flags cxx to an empty string.\n",
      "WARNING:theano.configdefaults:g++ not detected ! Theano will be unable to execute optimized C-implementations (for both CPU and GPU) and will default to Python implementations. Performance will be severely degraded. To remove this warning, set Theano flags cxx to an empty string.\n",
      "Problem occurred during compilation with the command line below:\n",
      "g++ -shared -g -D NPY_NO_DEPRECATED_API=NPY_1_7_API_VERSION -m64 -DMS_WIN64 -IC:\\Users\\vikazorin.OTDEL114\\AppData\\Local\\Continuum\\Anaconda3\\lib\\site-packages\\numpy\\core\\include -IC:\\Users\\vikazorin.OTDEL114\\AppData\\Local\\Continuum\\Anaconda3\\include -o C:\\Users\\vikazorin.OTDEL114\\AppData\\Local\\Theano\\compiledir_Windows-7-6.1.7601-SP1-Intel64_Family_6_Model_60_Stepping_3_GenuineIntel-3.5.2-64\\lazylinker_ext\\lazylinker_ext.pyd C:\\Users\\vikazorin.OTDEL114\\AppData\\Local\\Theano\\compiledir_Windows-7-6.1.7601-SP1-Intel64_Family_6_Model_60_Stepping_3_GenuineIntel-3.5.2-64\\lazylinker_ext\\mod.cpp -LC:\\Users\\vikazorin.OTDEL114\\AppData\\Local\\Continuum\\Anaconda3\\libs -LC:\\Users\\vikazorin.OTDEL114\\AppData\\Local\\Continuum\\Anaconda3 -lpython35\n"
     ]
    },
    {
     "ename": "UnicodeDecodeError",
     "evalue": "'utf-8' codec can't decode byte 0xad in position 6: invalid start byte",
     "output_type": "error",
     "traceback": [
      "\u001b[1;31m---------------------------------------------------------------------------\u001b[0m",
      "\u001b[1;31mImportError\u001b[0m                               Traceback (most recent call last)",
      "\u001b[1;32mC:\\Users\\vikazorin.OTDEL114\\AppData\\Local\\Continuum\\Anaconda3\\lib\\site-packages\\theano\\gof\\lazylinker_c.py\u001b[0m in \u001b[0;36m<module>\u001b[1;34m()\u001b[0m\n\u001b[0;32m     64\u001b[0m         \u001b[1;32mif\u001b[0m \u001b[0mversion\u001b[0m \u001b[1;33m!=\u001b[0m \u001b[0mgetattr\u001b[0m\u001b[1;33m(\u001b[0m\u001b[0mlazylinker_ext\u001b[0m\u001b[1;33m,\u001b[0m \u001b[1;34m'_version'\u001b[0m\u001b[1;33m,\u001b[0m \u001b[1;32mNone\u001b[0m\u001b[1;33m)\u001b[0m\u001b[1;33m:\u001b[0m\u001b[1;33m\u001b[0m\u001b[0m\n\u001b[1;32m---> 65\u001b[1;33m             \u001b[1;32mraise\u001b[0m \u001b[0mImportError\u001b[0m\u001b[1;33m(\u001b[0m\u001b[1;33m)\u001b[0m\u001b[1;33m\u001b[0m\u001b[0m\n\u001b[0m\u001b[0;32m     66\u001b[0m \u001b[1;32mexcept\u001b[0m \u001b[0mImportError\u001b[0m\u001b[1;33m:\u001b[0m\u001b[1;33m\u001b[0m\u001b[0m\n",
      "\u001b[1;31mImportError\u001b[0m: ",
      "\nDuring handling of the above exception, another exception occurred:\n",
      "\u001b[1;31mImportError\u001b[0m                               Traceback (most recent call last)",
      "\u001b[1;32mC:\\Users\\vikazorin.OTDEL114\\AppData\\Local\\Continuum\\Anaconda3\\lib\\site-packages\\theano\\gof\\lazylinker_c.py\u001b[0m in \u001b[0;36m<module>\u001b[1;34m()\u001b[0m\n\u001b[0;32m     81\u001b[0m             \u001b[1;32mif\u001b[0m \u001b[0mversion\u001b[0m \u001b[1;33m!=\u001b[0m \u001b[0mgetattr\u001b[0m\u001b[1;33m(\u001b[0m\u001b[0mlazylinker_ext\u001b[0m\u001b[1;33m,\u001b[0m \u001b[1;34m'_version'\u001b[0m\u001b[1;33m,\u001b[0m \u001b[1;32mNone\u001b[0m\u001b[1;33m)\u001b[0m\u001b[1;33m:\u001b[0m\u001b[1;33m\u001b[0m\u001b[0m\n\u001b[1;32m---> 82\u001b[1;33m                 \u001b[1;32mraise\u001b[0m \u001b[0mImportError\u001b[0m\u001b[1;33m(\u001b[0m\u001b[1;33m)\u001b[0m\u001b[1;33m\u001b[0m\u001b[0m\n\u001b[0m\u001b[0;32m     83\u001b[0m         \u001b[1;32mexcept\u001b[0m \u001b[0mImportError\u001b[0m\u001b[1;33m:\u001b[0m\u001b[1;33m\u001b[0m\u001b[0m\n",
      "\u001b[1;31mImportError\u001b[0m: ",
      "\nDuring handling of the above exception, another exception occurred:\n",
      "\u001b[1;31mUnicodeDecodeError\u001b[0m                        Traceback (most recent call last)",
      "\u001b[1;32m<ipython-input-309-ec15f3ffe0f1>\u001b[0m in \u001b[0;36m<module>\u001b[1;34m()\u001b[0m\n\u001b[1;32m----> 1\u001b[1;33m \u001b[1;32mimport\u001b[0m \u001b[0mgensim\u001b[0m\u001b[1;33m\u001b[0m\u001b[0m\n\u001b[0m",
      "\u001b[1;32mC:\\Users\\vikazorin.OTDEL114\\AppData\\Local\\Continuum\\Anaconda3\\lib\\site-packages\\gensim\\__init__.py\u001b[0m in \u001b[0;36m<module>\u001b[1;34m()\u001b[0m\n\u001b[0;32m      4\u001b[0m \"\"\"\n\u001b[0;32m      5\u001b[0m \u001b[1;33m\u001b[0m\u001b[0m\n\u001b[1;32m----> 6\u001b[1;33m \u001b[1;32mfrom\u001b[0m \u001b[0mgensim\u001b[0m \u001b[1;32mimport\u001b[0m \u001b[0mparsing\u001b[0m\u001b[1;33m,\u001b[0m \u001b[0mmatutils\u001b[0m\u001b[1;33m,\u001b[0m \u001b[0minterfaces\u001b[0m\u001b[1;33m,\u001b[0m \u001b[0mcorpora\u001b[0m\u001b[1;33m,\u001b[0m \u001b[0mmodels\u001b[0m\u001b[1;33m,\u001b[0m \u001b[0msimilarities\u001b[0m\u001b[1;33m,\u001b[0m \u001b[0msummarization\u001b[0m\u001b[1;33m\u001b[0m\u001b[0m\n\u001b[0m\u001b[0;32m      7\u001b[0m \u001b[1;32mimport\u001b[0m \u001b[0mlogging\u001b[0m\u001b[1;33m\u001b[0m\u001b[0m\n\u001b[0;32m      8\u001b[0m \u001b[1;33m\u001b[0m\u001b[0m\n",
      "\u001b[1;32mC:\\Users\\vikazorin.OTDEL114\\AppData\\Local\\Continuum\\Anaconda3\\lib\\site-packages\\gensim\\corpora\\__init__.py\u001b[0m in \u001b[0;36m<module>\u001b[1;34m()\u001b[0m\n\u001b[0;32m     16\u001b[0m \u001b[1;32mfrom\u001b[0m \u001b[1;33m.\u001b[0m\u001b[0mucicorpus\u001b[0m \u001b[1;32mimport\u001b[0m \u001b[0mUciCorpus\u001b[0m\u001b[1;33m\u001b[0m\u001b[0m\n\u001b[0;32m     17\u001b[0m \u001b[1;32mfrom\u001b[0m \u001b[1;33m.\u001b[0m\u001b[0mmalletcorpus\u001b[0m \u001b[1;32mimport\u001b[0m \u001b[0mMalletCorpus\u001b[0m\u001b[1;33m\u001b[0m\u001b[0m\n\u001b[1;32m---> 18\u001b[1;33m \u001b[1;32mfrom\u001b[0m \u001b[1;33m.\u001b[0m\u001b[0msharded_corpus\u001b[0m \u001b[1;32mimport\u001b[0m \u001b[0mShardedCorpus\u001b[0m\u001b[1;33m\u001b[0m\u001b[0m\n\u001b[0m",
      "\u001b[1;32mC:\\Users\\vikazorin.OTDEL114\\AppData\\Local\\Continuum\\Anaconda3\\lib\\site-packages\\gensim\\corpora\\sharded_corpus.py\u001b[0m in \u001b[0;36m<module>\u001b[1;34m()\u001b[0m\n\u001b[0;32m     32\u001b[0m \u001b[0m_default_dtype\u001b[0m \u001b[1;33m=\u001b[0m \u001b[0mfloat\u001b[0m\u001b[1;33m\u001b[0m\u001b[0m\n\u001b[0;32m     33\u001b[0m \u001b[1;32mtry\u001b[0m\u001b[1;33m:\u001b[0m\u001b[1;33m\u001b[0m\u001b[0m\n\u001b[1;32m---> 34\u001b[1;33m     \u001b[1;32mimport\u001b[0m \u001b[0mtheano\u001b[0m\u001b[1;33m\u001b[0m\u001b[0m\n\u001b[0m\u001b[0;32m     35\u001b[0m     \u001b[0m_default_dtype\u001b[0m \u001b[1;33m=\u001b[0m \u001b[0mtheano\u001b[0m\u001b[1;33m.\u001b[0m\u001b[0mconfig\u001b[0m\u001b[1;33m.\u001b[0m\u001b[0mfloatX\u001b[0m\u001b[1;33m\u001b[0m\u001b[0m\n\u001b[0;32m     36\u001b[0m \u001b[1;32mexcept\u001b[0m \u001b[0mImportError\u001b[0m\u001b[1;33m:\u001b[0m\u001b[1;33m\u001b[0m\u001b[0m\n",
      "\u001b[1;32mC:\\Users\\vikazorin.OTDEL114\\AppData\\Local\\Continuum\\Anaconda3\\lib\\site-packages\\theano\\__init__.py\u001b[0m in \u001b[0;36m<module>\u001b[1;34m()\u001b[0m\n\u001b[0;32m     53\u001b[0m     \u001b[0mobject2\u001b[0m\u001b[1;33m,\u001b[0m \u001b[0mutils\u001b[0m\u001b[1;33m\u001b[0m\u001b[0m\n\u001b[0;32m     54\u001b[0m \u001b[1;33m\u001b[0m\u001b[0m\n\u001b[1;32m---> 55\u001b[1;33m \u001b[1;32mfrom\u001b[0m \u001b[0mtheano\u001b[0m\u001b[1;33m.\u001b[0m\u001b[0mcompile\u001b[0m \u001b[1;32mimport\u001b[0m\u001b[0;31m \u001b[0m\u001b[0;31m\\\u001b[0m\u001b[1;33m\u001b[0m\u001b[0m\n\u001b[0m\u001b[0;32m     56\u001b[0m     \u001b[0mSymbolicInput\u001b[0m\u001b[1;33m,\u001b[0m \u001b[0mIn\u001b[0m\u001b[1;33m,\u001b[0m\u001b[0;31m \u001b[0m\u001b[0;31m\\\u001b[0m\u001b[1;33m\u001b[0m\u001b[0m\n\u001b[0;32m     57\u001b[0m     \u001b[0mSymbolicOutput\u001b[0m\u001b[1;33m,\u001b[0m \u001b[0mOut\u001b[0m\u001b[1;33m,\u001b[0m\u001b[0;31m \u001b[0m\u001b[0;31m\\\u001b[0m\u001b[1;33m\u001b[0m\u001b[0m\n",
      "\u001b[1;32mC:\\Users\\vikazorin.OTDEL114\\AppData\\Local\\Continuum\\Anaconda3\\lib\\site-packages\\theano\\compile\\__init__.py\u001b[0m in \u001b[0;36m<module>\u001b[1;34m()\u001b[0m\n\u001b[0;32m      7\u001b[0m         SpecifyShape, specify_shape, register_specify_shape_c_code)\n\u001b[0;32m      8\u001b[0m \u001b[1;33m\u001b[0m\u001b[0m\n\u001b[1;32m----> 9\u001b[1;33m \u001b[1;32mfrom\u001b[0m \u001b[0mtheano\u001b[0m\u001b[1;33m.\u001b[0m\u001b[0mcompile\u001b[0m\u001b[1;33m.\u001b[0m\u001b[0mfunction_module\u001b[0m \u001b[1;32mimport\u001b[0m \u001b[1;33m*\u001b[0m\u001b[1;33m\u001b[0m\u001b[0m\n\u001b[0m\u001b[0;32m     10\u001b[0m \u001b[1;33m\u001b[0m\u001b[0m\n\u001b[0;32m     11\u001b[0m \u001b[1;32mfrom\u001b[0m \u001b[0mtheano\u001b[0m\u001b[1;33m.\u001b[0m\u001b[0mcompile\u001b[0m\u001b[1;33m.\u001b[0m\u001b[0mmode\u001b[0m \u001b[1;32mimport\u001b[0m \u001b[1;33m*\u001b[0m\u001b[1;33m\u001b[0m\u001b[0m\n",
      "\u001b[1;32mC:\\Users\\vikazorin.OTDEL114\\AppData\\Local\\Continuum\\Anaconda3\\lib\\site-packages\\theano\\compile\\function_module.py\u001b[0m in \u001b[0;36m<module>\u001b[1;34m()\u001b[0m\n\u001b[0;32m     16\u001b[0m \u001b[1;32mfrom\u001b[0m \u001b[0mtheano\u001b[0m \u001b[1;32mimport\u001b[0m \u001b[0mgof\u001b[0m\u001b[1;33m\u001b[0m\u001b[0m\n\u001b[0;32m     17\u001b[0m \u001b[1;32mfrom\u001b[0m \u001b[0mtheano\u001b[0m\u001b[1;33m.\u001b[0m\u001b[0mcompat\u001b[0m\u001b[1;33m.\u001b[0m\u001b[0mpython2x\u001b[0m \u001b[1;32mimport\u001b[0m \u001b[0mpartial\u001b[0m\u001b[1;33m\u001b[0m\u001b[0m\n\u001b[1;32m---> 18\u001b[1;33m \u001b[1;32mimport\u001b[0m \u001b[0mtheano\u001b[0m\u001b[1;33m.\u001b[0m\u001b[0mcompile\u001b[0m\u001b[1;33m.\u001b[0m\u001b[0mmode\u001b[0m\u001b[1;33m\u001b[0m\u001b[0m\n\u001b[0m\u001b[0;32m     19\u001b[0m from theano.compile.io import (\n\u001b[0;32m     20\u001b[0m     In, SymbolicInput, SymbolicInputKit, SymbolicOutput)\n",
      "\u001b[1;32mC:\\Users\\vikazorin.OTDEL114\\AppData\\Local\\Continuum\\Anaconda3\\lib\\site-packages\\theano\\compile\\mode.py\u001b[0m in \u001b[0;36m<module>\u001b[1;34m()\u001b[0m\n\u001b[0;32m      9\u001b[0m \u001b[1;32mimport\u001b[0m  \u001b[0mtheano\u001b[0m\u001b[1;33m\u001b[0m\u001b[0m\n\u001b[0;32m     10\u001b[0m \u001b[1;32mfrom\u001b[0m \u001b[0mtheano\u001b[0m \u001b[1;32mimport\u001b[0m \u001b[0mgof\u001b[0m\u001b[1;33m\u001b[0m\u001b[0m\n\u001b[1;32m---> 11\u001b[1;33m \u001b[1;32mimport\u001b[0m \u001b[0mtheano\u001b[0m\u001b[1;33m.\u001b[0m\u001b[0mgof\u001b[0m\u001b[1;33m.\u001b[0m\u001b[0mvm\u001b[0m\u001b[1;33m\u001b[0m\u001b[0m\n\u001b[0m\u001b[0;32m     12\u001b[0m \u001b[1;32mfrom\u001b[0m \u001b[0mtheano\u001b[0m\u001b[1;33m.\u001b[0m\u001b[0mconfigparser\u001b[0m \u001b[1;32mimport\u001b[0m \u001b[0mconfig\u001b[0m\u001b[1;33m,\u001b[0m \u001b[0mAddConfigVar\u001b[0m\u001b[1;33m,\u001b[0m \u001b[0mStrParam\u001b[0m\u001b[1;33m\u001b[0m\u001b[0m\n\u001b[0;32m     13\u001b[0m \u001b[1;32mfrom\u001b[0m \u001b[0mtheano\u001b[0m\u001b[1;33m.\u001b[0m\u001b[0mcompile\u001b[0m\u001b[1;33m.\u001b[0m\u001b[0mops\u001b[0m \u001b[1;32mimport\u001b[0m \u001b[0mregister_view_op_c_code\u001b[0m\u001b[1;33m,\u001b[0m \u001b[0m_output_guard\u001b[0m\u001b[1;33m\u001b[0m\u001b[0m\n",
      "\u001b[1;32mC:\\Users\\vikazorin.OTDEL114\\AppData\\Local\\Continuum\\Anaconda3\\lib\\site-packages\\theano\\gof\\vm.py\u001b[0m in \u001b[0;36m<module>\u001b[1;34m()\u001b[0m\n\u001b[0;32m    566\u001b[0m \u001b[1;33m\u001b[0m\u001b[0m\n\u001b[0;32m    567\u001b[0m \u001b[1;32mtry\u001b[0m\u001b[1;33m:\u001b[0m\u001b[1;33m\u001b[0m\u001b[0m\n\u001b[1;32m--> 568\u001b[1;33m     \u001b[1;32mfrom\u001b[0m \u001b[1;33m.\u001b[0m \u001b[1;32mimport\u001b[0m \u001b[0mlazylinker_c\u001b[0m\u001b[1;33m\u001b[0m\u001b[0m\n\u001b[0m\u001b[0;32m    569\u001b[0m \u001b[1;33m\u001b[0m\u001b[0m\n\u001b[0;32m    570\u001b[0m     \u001b[1;32mclass\u001b[0m \u001b[0mCVM\u001b[0m\u001b[1;33m(\u001b[0m\u001b[0mlazylinker_c\u001b[0m\u001b[1;33m.\u001b[0m\u001b[0mCLazyLinker\u001b[0m\u001b[1;33m,\u001b[0m \u001b[0mVM\u001b[0m\u001b[1;33m)\u001b[0m\u001b[1;33m:\u001b[0m\u001b[1;33m\u001b[0m\u001b[0m\n",
      "\u001b[1;32mC:\\Users\\vikazorin.OTDEL114\\AppData\\Local\\Continuum\\Anaconda3\\lib\\site-packages\\theano\\gof\\lazylinker_c.py\u001b[0m in \u001b[0;36m<module>\u001b[1;34m()\u001b[0m\n\u001b[0;32m    115\u001b[0m             \u001b[0margs\u001b[0m \u001b[1;33m=\u001b[0m \u001b[0mcmodule\u001b[0m\u001b[1;33m.\u001b[0m\u001b[0mGCC_compiler\u001b[0m\u001b[1;33m.\u001b[0m\u001b[0mcompile_args\u001b[0m\u001b[1;33m(\u001b[0m\u001b[1;33m)\u001b[0m\u001b[1;33m\u001b[0m\u001b[0m\n\u001b[0;32m    116\u001b[0m             cmodule.GCC_compiler.compile_str(dirname, code, location=loc,\n\u001b[1;32m--> 117\u001b[1;33m                                              preargs=args)\n\u001b[0m\u001b[0;32m    118\u001b[0m             \u001b[1;31m# Save version into the __init__.py file.\u001b[0m\u001b[1;33m\u001b[0m\u001b[1;33m\u001b[0m\u001b[0m\n\u001b[0;32m    119\u001b[0m             \u001b[0minit_py\u001b[0m \u001b[1;33m=\u001b[0m \u001b[0mos\u001b[0m\u001b[1;33m.\u001b[0m\u001b[0mpath\u001b[0m\u001b[1;33m.\u001b[0m\u001b[0mjoin\u001b[0m\u001b[1;33m(\u001b[0m\u001b[0mloc\u001b[0m\u001b[1;33m,\u001b[0m \u001b[1;34m'__init__.py'\u001b[0m\u001b[1;33m)\u001b[0m\u001b[1;33m\u001b[0m\u001b[0m\n",
      "\u001b[1;32mC:\\Users\\vikazorin.OTDEL114\\AppData\\Local\\Continuum\\Anaconda3\\lib\\site-packages\\theano\\gof\\cmodule.py\u001b[0m in \u001b[0;36mcompile_str\u001b[1;34m(module_name, src_code, location, include_dirs, lib_dirs, libs, preargs, py_module)\u001b[0m\n\u001b[0;32m   1987\u001b[0m         \u001b[1;32mtry\u001b[0m\u001b[1;33m:\u001b[0m\u001b[1;33m\u001b[0m\u001b[0m\n\u001b[0;32m   1988\u001b[0m             \u001b[0mp_out\u001b[0m \u001b[1;33m=\u001b[0m \u001b[0moutput_subprocess_Popen\u001b[0m\u001b[1;33m(\u001b[0m\u001b[0mcmd\u001b[0m\u001b[1;33m)\u001b[0m\u001b[1;33m\u001b[0m\u001b[0m\n\u001b[1;32m-> 1989\u001b[1;33m             \u001b[0mcompile_stderr\u001b[0m \u001b[1;33m=\u001b[0m \u001b[0mdecode\u001b[0m\u001b[1;33m(\u001b[0m\u001b[0mp_out\u001b[0m\u001b[1;33m[\u001b[0m\u001b[1;36m1\u001b[0m\u001b[1;33m]\u001b[0m\u001b[1;33m)\u001b[0m\u001b[1;33m\u001b[0m\u001b[0m\n\u001b[0m\u001b[0;32m   1990\u001b[0m         \u001b[1;32mexcept\u001b[0m \u001b[0mException\u001b[0m\u001b[1;33m:\u001b[0m\u001b[1;33m\u001b[0m\u001b[0m\n\u001b[0;32m   1991\u001b[0m             \u001b[1;31m# An exception can occur e.g. if `g++` is not found.\u001b[0m\u001b[1;33m\u001b[0m\u001b[1;33m\u001b[0m\u001b[0m\n",
      "\u001b[1;32mC:\\Users\\vikazorin.OTDEL114\\AppData\\Local\\Continuum\\Anaconda3\\lib\\site-packages\\theano\\compat\\__init__.py\u001b[0m in \u001b[0;36mdecode\u001b[1;34m(x)\u001b[0m\n\u001b[0;32m     33\u001b[0m \u001b[1;33m\u001b[0m\u001b[0m\n\u001b[0;32m     34\u001b[0m     \u001b[1;32mdef\u001b[0m \u001b[0mdecode\u001b[0m\u001b[1;33m(\u001b[0m\u001b[0mx\u001b[0m\u001b[1;33m)\u001b[0m\u001b[1;33m:\u001b[0m\u001b[1;33m\u001b[0m\u001b[0m\n\u001b[1;32m---> 35\u001b[1;33m         \u001b[1;32mreturn\u001b[0m \u001b[0mx\u001b[0m\u001b[1;33m.\u001b[0m\u001b[0mdecode\u001b[0m\u001b[1;33m(\u001b[0m\u001b[1;33m)\u001b[0m\u001b[1;33m\u001b[0m\u001b[0m\n\u001b[0m\u001b[0;32m     36\u001b[0m \u001b[1;33m\u001b[0m\u001b[0m\n\u001b[0;32m     37\u001b[0m     \u001b[1;32mdef\u001b[0m \u001b[0mdecode_iter\u001b[0m\u001b[1;33m(\u001b[0m\u001b[0mitr\u001b[0m\u001b[1;33m)\u001b[0m\u001b[1;33m:\u001b[0m\u001b[1;33m\u001b[0m\u001b[0m\n",
      "\u001b[1;31mUnicodeDecodeError\u001b[0m: 'utf-8' codec can't decode byte 0xad in position 6: invalid start byte"
     ]
    }
   ],
   "source": [
    "import gensim"
   ]
  },
  {
   "cell_type": "code",
   "execution_count": null,
   "metadata": {
    "collapsed": true
   },
   "outputs": [],
   "source": []
  }
 ],
 "metadata": {
  "kernelspec": {
   "display_name": "Python 3",
   "language": "python",
   "name": "python3"
  },
  "language_info": {
   "codemirror_mode": {
    "name": "ipython",
    "version": 3
   },
   "file_extension": ".py",
   "mimetype": "text/x-python",
   "name": "python",
   "nbconvert_exporter": "python",
   "pygments_lexer": "ipython3",
   "version": "3.5.2"
  }
 },
 "nbformat": 4,
 "nbformat_minor": 0
}
