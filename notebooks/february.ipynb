{
 "cells": [
  {
   "cell_type": "code",
   "execution_count": 9,
   "metadata": {
    "collapsed": false
   },
   "outputs": [],
   "source": [
    "\n",
    "\n",
    "\n",
    "\n",
    "\n",
    "\n",
    "\n",
    "\n",
    "\n",
    "\n",
    "\n",
    "\n",
    "\n",
    "\n",
    "\n",
    "\n",
    "\n",
    "\n",
    "\n",
    "\n",
    "import numpy as np\n",
    "import pandas as pd\n",
    "import seaborn  as sns\n",
    "import matplotlib.pyplot as plt\n",
    "np.random.seed(sum(map(ord, \"aesthetics\")))\n",
    "%matplotlib inline\n",
    "from sklearn.ensemble import RandomForestClassifier\n",
    "from sklearn.model_selection import cross_val_score\n",
    "from sklearn.linear_model import LogisticRegression\n",
    "from sklearn import svm\n",
    "from sklearn.preprocessing import scale\n",
    "import scipy as sc\n",
    "from sklearn.model_selection import StratifiedKFold\n",
    "from sklearn.model_selection import KFold\n",
    "from sklearn.metrics import classification_report, confusion_matrix, roc_curve, auc\n",
    "from sklearn.preprocessing import scale\n",
    "import os\n",
    "\n",
    "\n",
    "def parse_response(str_id):\n",
    "    if str_id.split('_')[1] == 'resp':\n",
    "        return 1\n",
    "    return 0\n",
    "   \n",
    "    \n",
    "def preprocess_dataset(dataset):\n",
    "    gen_names = dataset[\"SYMBOL\"].as_matrix()\n",
    "    responses = np.zeros(dataset.shape[1]-1, dtype=np.int)\n",
    "    target_ids = dataset.columns[1:].values\n",
    "    feature_matrix = np.zeros((dataset.shape[1]-1, dataset.shape[0]), dtype=np.float)\n",
    "    for idx, target_id in enumerate(target_ids):\n",
    "        feature_matrix[idx, :] = dataset[target_id].values\n",
    "        responses[idx] = parse_response(target_id)\n",
    "    return feature_matrix, responses, target_ids, gen_names\n",
    "\n",
    "\n",
    "def get_gen_hists(xpression, cl_masks, bins=10):\n",
    "    xpr_range = (xpression.min(), xpression.max())\n",
    "    hists = []\n",
    "    for mask in cl_masks:\n",
    "        hist, _ = np.histogram(xpression[mask], bins=bins, range=xpr_range)\n",
    "        hists.append(hist)\n",
    "    return hists\n",
    "\n",
    "\n",
    "def get_pdf_sim(p, q):\n",
    "    return -q.dot(np.log2(p)) - p.dot(np.log2(q))\n",
    "    # return sc.stats.entropy(p, q)\n",
    "\n",
    "    \n",
    "def xpressions_to_order_matrix(xpressions):\n",
    "    orders_num = np.arange(xpressions.shape[1], dtype=np.int32)\n",
    "    order_matrix = np.zeros_like(xpressions, dtype=np.int32)\n",
    "    for row in range(xpressions.shape[0]):\n",
    "        ordered_ids = np.array([ind \n",
    "                          for ind, xpr in sorted([(ind, xpr) \n",
    "                                                   for ind, xpr in enumerate(xpressions[row,:])], key=lambda p: p[1])])\n",
    "        order = np.zeros_like(ordered_ids, dtype=np.int32)\n",
    "        order[ordered_ids] = np.arange(xpressions.shape[1])\n",
    "        order_matrix[row, :] = order\n",
    "    return order_matrix\n",
    "    \n",
    "    \n",
    "def get_relation_matrix(order_seq):\n",
    "    matrix = np.zeros(shape=(order_seq.shape[0], order_seq.shape[0]), dtype=np.int32)    \n",
    "    for row in range(matrix.shape[0]):\n",
    "        for col in range(matrix.shape[1]):\n",
    "            matrix[row, col] = order_seq[row] - order[col]\n",
    "    return matrix\n",
    "\n",
    "\n",
    "def get_relation_cumul_matrix(order_matrix):\n",
    "    matrix = np.zeros(shape=(order_matrix.shape[1], order_matrix.shape[1]), dtype=np.float32)    \n",
    "    for row in range(matrix.shape[1]):        \n",
    "        for col in range(matrix.shape[1]):\n",
    "            matrix[row, col] = (order_matrix[:, row] - order_matrix[:, col]).mean()\n",
    "        if row % 1000 == 0:\n",
    "            print(row)\n",
    "    return matrix        \n",
    "# np.histogram(np.array([0,0,0,1,1,2,1]),bins=2, range=(0,1))\n",
    "\n",
    "\n",
    "def get_pair_value(order_matrix, pair, responses, pr=None):\n",
    "    if not pr:\n",
    "        pr = (responses == 1).mean()\n",
    "        \n",
    "    p_ab = np.mean(order_matrix[:, pair[0]] > order_matrix[:, pair[1]])\n",
    "    p_ab_r = np.mean(order_matrix[responses==1, pair[0]] > order_matrix[responses==1, pair[1]])\n",
    "    pr_ab = (p_ab_r * pr) / p_ab\n",
    "    \n",
    "    p_ba = np.mean(order_matrix[:, pair[0]] < order_matrix[:, pair[1]])\n",
    "    p_ba_r = np.mean(order_matrix[responses==1, pair[0]] < order_matrix[responses==1, pair[1]])\n",
    "    pr_ba = (p_ba_r * pr) / p_ba\n",
    "    return pr_ab, pr_ba\n",
    "\n",
    "\n",
    "def xpression_to_order_feature(xpressions, pairs, gens):\n",
    "    order_features = np.zeros(shape=(xpressions.shape[0], len(pairs)))\n",
    "    features_name = []\n",
    "    for idx, pair in enumerate(pairs):\n",
    "        order_features[:, idx] = xpressions[:, pair[0]] > xpressions[:, pair[1]] + 0\n",
    "        features_name.append(\"compare_expr({}, {})\".format(gens[pair[0]], gens[pair[1]]))\n",
    "    return order_features, features_name\n",
    "                                            \n",
    "    \n",
    "\n",
    "def get_metrics(conf):\n",
    "    \"\"\"return tuple (precision 0 class, recall 0 class, precision 1 class, recall 1 class)\"\"\"\n",
    "    prec_0 = conf[0,0]/(conf[1,0] + conf[0,0])\n",
    "    if (conf[1,0] + conf[0,0]) == 0:\n",
    "        prec_0 = 0\n",
    "    recall_0 = conf[0,0]/(conf[0,0] + conf[0,1])\n",
    "    prec_1 = conf[1,1]/(conf[1,1] + conf[0,1])\n",
    "    recall_1 = conf[1,1]/(conf[1,1] + conf[1,0])\n",
    "    if (conf[1,1] + conf[0,1]) == 0:\n",
    "        prec_1 = 0\n",
    "    accuracy = (conf[0,0] + conf[1, 1]) / (conf.sum())\n",
    "    # print(prec_0, recall_0, prec_1, recall_1)\n",
    "    return prec_0, recall_0, prec_1, recall_1\n",
    "\n",
    "\n",
    "def get_splits(responses, k=10):\n",
    "    nonresp = np.arange(responses.shape[0])[responses==0]\n",
    "    resp = np.arange(responses.shape[0])[responses==1]\n",
    "    np.random.shuffle(nonresp)\n",
    "    np.random.shuffle(resp)\n",
    "    folds = []\n",
    "    for i in range(9):\n",
    "        folds.append(np.hstack((resp[i*22:i*22+22],nonresp[i*5:i*5+5])))\n",
    "    folds.append(np.hstack((resp[9*22:],nonresp[9*5:])))\n",
    "    cases = []\n",
    "    for i in range(10):\n",
    "        test = folds[i]\n",
    "        train = np.hstack((fold for j, fold in enumerate(folds) if i != j))\n",
    "        cases.append( (train, test) )                      \n",
    "    return folds, cases\n",
    "\n",
    "\n",
    "def do_simmetry_class_cv(X, y, clf, iters=10, cv=10):\n",
    "    nonresp = np.arange(y.shape[0])[y==0]\n",
    "    resp = np.arange(y.shape[0])[y==1]\n",
    "    results_a = []\n",
    "    results_b = []\n",
    "    cv_results = []\n",
    "    accs = []\n",
    "    # print(nonresp)\n",
    "    for it in range(iters):\n",
    "        print(\"iteration: {}\".format(it))\n",
    "        np.random.shuffle(resp)\n",
    "        np.random.shuffle(nonresp)\n",
    "        indicies = np.hstack((nonresp, resp[:nonresp.shape[0]]))\n",
    "        # print(indicies)\n",
    "        stat, common_stat, cv_result = do_cross_val(X[indicies, :], \n",
    "                     y[indicies],\n",
    "                     clf, cv)\n",
    "        results_a.append(stat.mean(axis=0))\n",
    "        # print(stat.mean(axis=0))\n",
    "        results_b.append(np.array(common_stat))    \n",
    "        cv_results.append(cv_result)        \n",
    "        \n",
    "    return np.vstack(results_a), np.vstack(results_b), cv_results\n",
    "\n",
    "\n",
    "\n",
    "def process_results(a, b, cv_results):\n",
    "    a_aucs = []    \n",
    "    a_accs = []\n",
    "    b_aucs = []    \n",
    "    b_accs = []\n",
    "    fprs, tprs = [], []\n",
    "    acts_all = []\n",
    "    probs_all = []\n",
    "    for result in cv_results:\n",
    "        actuals = []\n",
    "        preds = []\n",
    "        probs = []\n",
    "        i = 0\n",
    "        for actual, predicted, proba in result:\n",
    "            a_accs.append((actual == predicted).mean())\n",
    "            actuals.append(actual)\n",
    "            preds.append(predicted)\n",
    "            probs.append(proba)\n",
    "            fpr, tpr, _ = roc_curve(actual, proba)\n",
    "            a_aucs.append(auc(fpr, tpr))         \n",
    "        b_accs.append((np.hstack(actuals)==np.hstack(preds)).mean())    \n",
    "        fpr, tpr, thresh = roc_curve(np.hstack(actuals), np.hstack(probs))\n",
    "        acts_all.append(np.hstack(actuals))\n",
    "        probs_all.append(np.hstack(probs))        \n",
    "        b_aucs.append(auc(fpr, tpr))        \n",
    "    columns=[\"precision 0\", \"recall 0\", \"precision 1\", \"recall 1\", \"accuracy\", \"auc\"]\n",
    "    rows = [\"схема а\", \"схема б\"]    \n",
    "    data = np.zeros((len(rows), len(columns)))\n",
    "    data[0, :4] = a.mean(axis=0)\n",
    "    data[0, 4:] = [np.mean(a_accs), np.mean(a_aucs)]\n",
    "    data[1, :4] = b.mean(axis=0)\n",
    "    data[1, 4:] = [np.mean(b_accs), np.mean(b_aucs)]    \n",
    "    table = pd.DataFrame(data, columns=columns, index=rows)\n",
    "    fpr, tpr, _ = roc_curve(np.hstack(acts_all), np.hstack(probs_all))    \n",
    "    plt.plot(fpr, tpr)\n",
    "    return table\n",
    "\n",
    "\n",
    "def do_cross_val(X, y, clf,  cv=10):\n",
    "    skfold = StratifiedKFold(n_splits=cv, shuffle=True)    \n",
    "    cv_results = []\n",
    "    # print ((y==1).sum(), (y==0).sum())\n",
    "    skfold.get_n_splits(X, y)    \n",
    "    for train, test in skfold.split(X, y):        \n",
    "        clf.fit(X[train, :], y[train])\n",
    "        prediction = clf.predict(X[test, :])\n",
    "        proba = clf.predict_proba(X[test, :])\n",
    "        cv_results.append((y[test], prediction, proba[:, 1]))\n",
    "        # print(y[test].shape, (y[test] == 0).sum())        \n",
    "    conf_m =  confusion_matrix(cv_results[0][0], cv_results[1][0]) * 0\n",
    "    stat = []    \n",
    "    fpr_tpr = []\n",
    "    tpr = []\n",
    "    accs = []\n",
    "    for actual, predicted, proba in cv_results:\n",
    "        conf =  confusion_matrix(actual, predicted)\n",
    "        stat.append(np.array(get_metrics(conf)))\n",
    "        conf_m = conf_m + conf        \n",
    "    # print((conf_m[0, 0] + conf_m[1, 1])/conf_m.sum())    \n",
    "    return np.vstack(stat), get_metrics(conf_m), cv_results\n",
    "\n",
    "\n",
    "def get_splits(responses, k=10):\n",
    "    nonresp = np.arange(responses.shape[0])[responses==0]\n",
    "    resp = np.arange(responses.shape[0])[responses==1]\n",
    "    np.random.shuffle(nonresp)\n",
    "    np.random.shuffle(resp)\n",
    "    folds = []\n",
    "    for i in range(9):\n",
    "        folds.append(np.hstack((resp[i*22:i*22+22],nonresp[i*5:i*5+5])))\n",
    "    folds.append(np.hstack((resp[9*22:],nonresp[9*5:])))\n",
    "    cases = []\n",
    "    for i in range(10):\n",
    "        test = folds[i]\n",
    "        train = np.hstack((fold for j, fold in enumerate(folds) if i != j))\n",
    "        cases.append( (train, test) )                      \n",
    "    return folds, cases\n",
    "    \n",
    "    \n",
    "def get_n_biggest_sims_ids(sims, subset, n=140):\n",
    "    subsims = sims[subset]\n",
    "    bound = np.sort(subsims)[-n]    \n",
    "    return subset[subsims >= bound][:n]\n",
    "\n",
    "\n",
    "def read_GEO_dataset(pathto_xpr, pathto_resp, pathto_nonresp, prefix=\"\"):\n",
    "    geo_dataset = pd.read_csv(os.path.join(prefix, pathto_xpr), sep=\" \")    \n",
    "    with open(os.path.join(prefix, pathto_resp), \"r\") as respf,\\\n",
    "         open(os.path.join(prefix, pathto_nonresp), \"r\") as nonrespf:\n",
    "        resp = set(respf.read().split())\n",
    "        nonresp = set(nonrespf.read().split())\n",
    "    responses = np.array(list(map(lambda x: 1 if x in resp else int(x in nonresp) - 1 , geo_dataset.columns[1:])))\n",
    "    feature_matrix = geo_dataset[geo_dataset.columns[1:]].get_values().T\n",
    "    target_ids = geo_dataset.columns[1:].values\n",
    "    gen_names = geo_dataset[\"Group.1\"].as_matrix()\n",
    "    return feature_matrix, responses, target_ids, gen_names"
   ]
  },
  {
   "cell_type": "code",
   "execution_count": 5,
   "metadata": {
    "collapsed": false
   },
   "outputs": [
    {
     "ename": "NameError",
     "evalue": "name 'a' is not defined",
     "output_type": "error",
     "traceback": [
      "\u001b[1;31m---------------------------------------------------------------------------\u001b[0m",
      "\u001b[1;31mNameError\u001b[0m                                 Traceback (most recent call last)",
      "\u001b[1;32m<ipython-input-5-6cf289921d2e>\u001b[0m in \u001b[0;36m<module>\u001b[1;34m()\u001b[0m\n\u001b[0;32m      1\u001b[0m \u001b[1;31m# columns = [\"precision 0\", \"recall 0\", \"precision 1\", \"recall 1\", \"accuracy\", \"auc\"]\u001b[0m\u001b[1;33m\u001b[0m\u001b[1;33m\u001b[0m\u001b[0m\n\u001b[0;32m      2\u001b[0m \u001b[1;31m# pd.DataFrame(np.array([0,1,2,3,4,5]).reshape((-1,6)), columns=columns, index=[\"a\"])\u001b[0m\u001b[1;33m\u001b[0m\u001b[1;33m\u001b[0m\u001b[0m\n\u001b[1;32m----> 3\u001b[1;33m \u001b[0mprocess_results\u001b[0m\u001b[1;33m(\u001b[0m\u001b[0ma\u001b[0m\u001b[1;33m,\u001b[0m\u001b[0mb\u001b[0m\u001b[1;33m,\u001b[0m\u001b[0mcv_results\u001b[0m\u001b[1;33m)\u001b[0m\u001b[1;33m\u001b[0m\u001b[0m\n\u001b[0m\u001b[0;32m      4\u001b[0m \u001b[1;31m# np.hstack([cv_results[0][0][0], cv_results[0][0][1]])\u001b[0m\u001b[1;33m\u001b[0m\u001b[1;33m\u001b[0m\u001b[0m\n\u001b[0;32m      5\u001b[0m \u001b[1;31m# print(a[2,:], \"\\n\", b[2,:])\u001b[0m\u001b[1;33m\u001b[0m\u001b[1;33m\u001b[0m\u001b[0m\n",
      "\u001b[1;31mNameError\u001b[0m: name 'a' is not defined"
     ]
    }
   ],
   "source": [
    "# columns = [\"precision 0\", \"recall 0\", \"precision 1\", \"recall 1\", \"accuracy\", \"auc\"]\n",
    "# pd.DataFrame(np.array([0,1,2,3,4,5]).reshape((-1,6)), columns=columns, index=[\"a\"])\n",
    "process_results(a,b,cv_results)\n",
    "# np.hstack([cv_results[0][0][0], cv_results[0][0][1]])\n",
    "# print(a[2,:], \"\\n\", b[2,:])\n",
    "# conf = np.zeros(shape=(2, 2))\n",
    "# stats = []\n",
    "# for actual, predicted, _ in cv_results[2]:\n",
    "#     conf += confusion_matrix(actual,predicted)\n",
    "# #   print(confusion_matrix(actual,predicted))\n",
    "#     # stats.append(get_metrics)\n",
    "#     print(classification_report(actual,predicted))\n",
    "#     print(get_metrics(confusion_matrix(actual,predicted)))\n",
    "# print(conf)\n",
    "# get_metrics(conf)\n",
    "# prefix = \".\"#dataset/breast_cancer_paclitaxel_plus_radiation/\n",
    "# pathto_xpr = \"dataset/breast_cancer_paclitaxel_plus_radiation/GSE22513_expression_by_symbol.txt\"\n",
    "# pathto_resp = \"dataset/breast_cancer_paclitaxel_plus_radiation/responders.txt\"\n",
    "# pathto_nonresp = \"dataset/breast_cancer_paclitaxel_plus_radiation/nonresponders.txt\"\n",
    "\n",
    "# xpressions2, responses2, target_ids2, gens2 = read_GEO_dataset(pathto_xpr, \n",
    "#                                                           pathto_resp,\n",
    "#                                                           pathto_nonresp,\n",
    "#                                                           prefix)\n",
    "# mask = range(0,responses2.shape[0],2)\n",
    "# xpressions2, responses2, target_ids2 = xpressions2[mask, :], responses2[mask], target_ids2[mask]"
   ]
  },
  {
   "cell_type": "code",
   "execution_count": 14,
   "metadata": {
    "collapsed": false
   },
   "outputs": [],
   "source": [
    "path_to_dataset = \"dataset/GSE20194_breastCancer_TFAC.txt\"\n",
    "dataset = pd.read_csv(path_to_dataset, sep='\\t')"
   ]
  },
  {
   "cell_type": "code",
   "execution_count": 15,
   "metadata": {
    "collapsed": false
   },
   "outputs": [
    {
     "data": {
      "text/plain": [
       "0.10714285714285714"
      ]
     },
     "execution_count": 15,
     "metadata": {},
     "output_type": "execute_result"
    }
   ],
   "source": [
    "xpressions, responses, target_ids, gens = preprocess_dataset(dataset)\n",
    "# perm = np.arange(xpressions.shape[0])\n",
    "# np.random.shuffle(perm)\n",
    "# xpressions = xpressions[perm, :]\n",
    "# responses = responses[perm]\n",
    "# target_ids = target_ids[perm]\n",
    "6/56"
   ]
  },
  {
   "cell_type": "code",
   "execution_count": 22,
   "metadata": {
    "collapsed": true
   },
   "outputs": [],
   "source": [
    "# Эвристика 1:\n",
    "gen_res = []\n",
    "for g in range(xpressions.shape[1]):\n",
    "    lg = LogisticRegression(penalty='l1', C=1)\n",
    "    lg.fit(xpressions[:, g:g+1], responses)\n",
    "    gen_res.append((lg.predict(xpressions[:, g:g+1]) == responses).mean())"
   ]
  },
  {
   "cell_type": "code",
   "execution_count": 27,
   "metadata": {
    "collapsed": false
   },
   "outputs": [
    {
     "data": {
      "text/plain": [
       "(708,)"
      ]
     },
     "execution_count": 27,
     "metadata": {},
     "output_type": "execute_result"
    }
   ],
   "source": [
    "gen_res = np.array(gen_res)\n",
    "good_h1 = np.arange(gens.shape[0])[gen_res > responses.mean()]\n",
    "good_h1.shape"
   ]
  },
  {
   "cell_type": "code",
   "execution_count": 29,
   "metadata": {
    "collapsed": false
   },
   "outputs": [
    {
     "data": {
      "text/plain": [
       "(692,)"
      ]
     },
     "execution_count": 29,
     "metadata": {},
     "output_type": "execute_result"
    }
   ],
   "source": [
    "# Эвристика 2\n",
    "gen_corr = []\n",
    "for g in range(xpressions.shape[1]):    \n",
    "    gen_corr.append(abs(np.corrcoef(xpressions[:, g], responses)[0,1]))\n",
    "gen_corr = np.array(gen_corr)  \n",
    "good_h2 = np.arange(gens.shape[0])[gen_corr > np.percentile(gen_corr, 95)]\n",
    "good_h2.shape"
   ]
  },
  {
   "cell_type": "code",
   "execution_count": 35,
   "metadata": {
    "collapsed": false
   },
   "outputs": [
    {
     "data": {
      "text/plain": [
       "(281,)"
      ]
     },
     "execution_count": 35,
     "metadata": {},
     "output_type": "execute_result"
    }
   ],
   "source": [
    "# пересечение эвристик 1 2\n",
    "# interscetion_h1_h2 = np.array([id for id in set(good_h1).intersection(set(good_h2))], dtype=np.int)\n",
    "interscetion_h1_h2.shape"
   ]
  },
  {
   "cell_type": "code",
   "execution_count": 36,
   "metadata": {
    "collapsed": false
   },
   "outputs": [
    {
     "name": "stdout",
     "output_type": "stream",
     "text": [
      "0\n",
      "1000\n",
      "2000\n",
      "3000\n",
      "4000\n",
      "5000\n",
      "6000\n",
      "7000\n",
      "8000\n",
      "9000\n",
      "10000\n",
      "11000\n",
      "12000\n",
      "13000\n"
     ]
    }
   ],
   "source": [
    "# Эвристика 3\n",
    "resp_mask = responses == 1\n",
    "nonresp_mask = responses == 0\n",
    "\n",
    "gen_pdfs = []\n",
    "nb_bins = 15\n",
    "for g in range(xpressions.shape[1]):    \n",
    "    hists = get_gen_hists(xpressions[:, g], [resp_mask, nonresp_mask], bins=nb_bins)    \n",
    "    p = (hists[0] + 1) / (hists[0].sum() + hists[0].shape[0]) \n",
    "    q = (hists[1] + 1) / (hists[1].sum() + hists[1].shape[0])\n",
    "    gen_pdfs.append((p, q))\n",
    "#     gen_pdf_sims.append(get_pdf_sim(p, q))\n",
    "    if g % 1000 == 0:\n",
    "         print(g)"
   ]
  },
  {
   "cell_type": "code",
   "execution_count": 37,
   "metadata": {
    "collapsed": true
   },
   "outputs": [],
   "source": [
    "gen_pdf_sims = []\n",
    "for gen_pdf in gen_pdfs:\n",
    "    gen_pdf_sims.append(get_pdf_sim(gen_pdf[0], gen_pdf[1]))    \n",
    "    #gen_pdf_sims.append(sc.stats.entropy(gen_pdf[0], gen_pdf[1]))    \n",
    "gen_pdf_sims = np.array(gen_pdf_sims)"
   ]
  },
  {
   "cell_type": "code",
   "execution_count": 56,
   "metadata": {
    "collapsed": false
   },
   "outputs": [
    {
     "data": {
      "text/plain": [
       "(138,)"
      ]
     },
     "execution_count": 56,
     "metadata": {},
     "output_type": "execute_result"
    }
   ],
   "source": [
    "good_h3 = get_n_biggest_sims_ids(gen_pdf_sims, np.arange(gens.shape[0]), gen_pdf_sims.shape[0]// 100)\n",
    "good_h3.shape"
   ]
  },
  {
   "cell_type": "markdown",
   "metadata": {},
   "source": [
    "Рассматривается датасет GSE20194_breastCancer_TFAC, в нем данные по химиотерапии рака молочной железы. В данных два класса: ответчики и неответчики, размер классов 222 и 56 соответственно. В качестве признаков  есть информация по 13832 генам\n",
    "\n",
    "Вторая итерация:\n",
    "** мысли:\n",
    "1. посмотреть на порядок генов\n",
    "2. надо подумать как можно посчитать похожесть генов, и про перевод в некоторое векторное пространство\n",
    "3. если удалось перевести какое-то векторное пространство то туже можно подумать про ядра на последовательностях \n",
    "   и разные сеточки **\n",
    "   \n",
    "##### 1. порядок генов:\n",
    "\n",
    "После собрания стало известно что использовалась хитрая нормализация (квантильная???), такая что по сути сохранился только порядок экспрессий генов, а сами значения по сути не особо важны. \n",
    "Тут думаю стоит посмотреть нет ли какой-либо взаимосвязи между взаимным расположением генов в ряду генов осортированных по уровню экспрессии и ответом на терапию.\n",
    "\n",
    "Пока в голову пришла только мысль сделать аналог матрицы смежности для генов по группам, где на позиции (i, j) будет стоять усредненная по группе разность в порядковых номере i-го и j-го генов в упорядоченном по возрастанию экспрессии ряду генов.\n",
    "\n",
    "Усреднение по группам по тому что если делать для каждого отдельно наверно надо оочень много памяти\n",
    "\n",
    "*Да еще комментарий: если смотреть просто порядковый номер гена, то это видимо будет тоже самое что было с простым использованием экспрессий...*\n",
    "\n",
    "Далее думаю имеет смысл посмотреть есть есть ли какие-то специфичные группе пары генов по расположению, а еще лучше какие-либо n-граммы.\n",
    "\n",
    "- посмотрел на пары у которых большая разница в порядковых номерах для ответчиков и неответчиков\n",
    "- далее решил сделать для генов вывод pr(response==1 | A > B), pr(response==1 | A < B), где A = order_num(gen_a) ... - то есть порядковый номер гена A в последвательности, для B аналогично. Вроде есть интересные моменты например для генов 2 и 1, получилось что вероятность ответа 1 при условии что order_num(ген1) < order_num(ген2)\n",
    "- а может сразу сроить выводы pr(response==1 | A > B) и pr(response==1 | A < B) вместо матрицы смежности?\n"
   ]
  },
  {
   "cell_type": "code",
   "execution_count": 16,
   "metadata": {
    "collapsed": false
   },
   "outputs": [
    {
     "data": {
      "text/plain": [
       "(278, 13832)"
      ]
     },
     "execution_count": 16,
     "metadata": {},
     "output_type": "execute_result"
    }
   ],
   "source": [
    "order_matrix = xpressions_to_order_matrix(xpressions)\n",
    "order_matrix.shape"
   ]
  },
  {
   "cell_type": "code",
   "execution_count": 17,
   "metadata": {
    "collapsed": false
   },
   "outputs": [],
   "source": [
    "value_matrix = np.zeros(shape=(order_matrix.shape[1], order_matrix.shape[1]),  dtype=np.float32)"
   ]
  },
  {
   "cell_type": "code",
   "execution_count": 63,
   "metadata": {
    "collapsed": false
   },
   "outputs": [
    {
     "name": "stdout",
     "output_type": "stream",
     "text": [
      "complete: 0 rows\n",
      "complete: 1000 rows\n",
      "complete: 2000 rows\n",
      "complete: 3000 rows\n",
      "complete: 4000 rows\n",
      "complete: 5000 rows\n",
      "complete: 6000 rows\n",
      "complete: 7000 rows\n",
      "complete: 8000 rows\n",
      "complete: 9000 rows\n",
      "complete: 10000 rows\n",
      "complete: 11000 rows\n",
      "complete: 12000 rows\n",
      "complete: 13000 rows\n"
     ]
    }
   ],
   "source": [
    "for i in range(order_matrix.shape[1]):\n",
    "    for j in range(i+1, order_matrix.shape[1]):\n",
    "        pr_ab, pr_ba = get_pair_value(order_matrix, (i,j), responses)\n",
    "        value_matrix[i, j] = pr_ab\n",
    "        value_matrix[j, i] = pr_ba\n",
    "    if i % 1000 == 0:\n",
    "        print(\"complete: {} rows\".format(str(i)))"
   ]
  },
  {
   "cell_type": "code",
   "execution_count": 51,
   "metadata": {
    "collapsed": false
   },
   "outputs": [
    {
     "data": {
      "text/plain": [
       "0.93333333730697632"
      ]
     },
     "execution_count": 51,
     "metadata": {},
     "output_type": "execute_result"
    }
   ],
   "source": [
    "np.percentile(value_matrix, 99.)"
   ]
  },
  {
   "cell_type": "code",
   "execution_count": 64,
   "metadata": {
    "collapsed": false
   },
   "outputs": [
    {
     "data": {
      "text/plain": [
       "0"
      ]
     },
     "execution_count": 64,
     "metadata": {},
     "output_type": "execute_result"
    }
   ],
   "source": [
    "new_val = value_matrix + 0.\n",
    "for i in range(order_matrix.shape[1]):\n",
    "    for j in range(order_matrix.shape[1]):\n",
    "        if np.isnan(value_matrix[i,j]):\n",
    "            new_val[i, j] = 0.\n",
    "            new_val[j, i] = 0.\n",
    "#             print(i, j)\n",
    "#             break\n",
    "           \n",
    "#         if (value_matrix[i,j]) > a and (value_matrix[i,j] < b):                \n",
    "#             good_pairs.append((i, j))\n",
    "        \n",
    "len(good_pairs)"
   ]
  },
  {
   "cell_type": "code",
   "execution_count": 119,
   "metadata": {
    "collapsed": false
   },
   "outputs": [
    {
     "data": {
      "text/plain": [
       "(0.22222222, 0.81784385)"
      ]
     },
     "execution_count": 119,
     "metadata": {},
     "output_type": "execute_result"
    }
   ],
   "source": [
    "mask = responses == 1\n",
    "sum(list(order_matrix[mask, 14] < order_matrix[mask, 12549]))\n",
    "value_matrix[14, 12549], value_matrix[12549, 14]"
   ]
  },
  {
   "cell_type": "code",
   "execution_count": 69,
   "metadata": {
    "collapsed": false
   },
   "outputs": [],
   "source": [
    "# val_without_na = value_matrix + 0.0\n",
    "# val_without_na[np.isnan(value_matrix)] = 0.7986\n",
    "# dif_matrix[np.isnan(dif_matrix)] = 0\n",
    "dif_matrix = new_val - new_val.T"
   ]
  },
  {
   "cell_type": "code",
   "execution_count": 76,
   "metadata": {
    "collapsed": false
   },
   "outputs": [
    {
     "data": {
      "text/plain": [
       "0.81318682432174683"
      ]
     },
     "execution_count": 76,
     "metadata": {},
     "output_type": "execute_result"
    }
   ],
   "source": [
    "# np.save(\"dif_matrix\", dif_matrix)\n",
    "# diff_old = np.load(\"dif_matrix.npy\")\n",
    "# np.sum(diff_old == dif_matrix), np.sum(value_matrix == 0\n",
    "\n",
    "p = np.percentile(dif_matrix, 99.999)#,  np.percentile(diff_old, 99)\n",
    "np.sum(dif_matrix >= p)\n",
    "   "
   ]
  },
  {
   "cell_type": "code",
   "execution_count": 93,
   "metadata": {
    "collapsed": false
   },
   "outputs": [],
   "source": [
    "# np.isnan(dif_matrix).sum()\n",
    "# np.isnan(val_without_na).sum()\n",
    "# good_pairs подбирались по порогам p: 0.820, 0.822, 0.826\n",
    "good_pairs = []\n",
    "pairs_val = []\n",
    "for i in range(order_matrix.shape[1]):\n",
    "    for j in range(order_matrix.shape[1]):\n",
    "        if dif_matrix[i, j] > p:       \n",
    "            pairs_val.append(((i, j), dif_matrix[i, j]))\n",
    "            # good_pairs.append((i, j))"
   ]
  },
  {
   "cell_type": "code",
   "execution_count": 94,
   "metadata": {
    "collapsed": true
   },
   "outputs": [],
   "source": [
    "pairs_val = sorted(pairs_val, key=lambda p_v: -p_v[1])"
   ]
  },
  {
   "cell_type": "code",
   "execution_count": 95,
   "metadata": {
    "collapsed": false
   },
   "outputs": [
    {
     "data": {
      "text/plain": [
       "[((1930, 2379), 0.83458644),\n",
       " ((1744, 7368), 0.83146065),\n",
       " ((11804, 7461), 0.83146065),\n",
       " ((1421, 7981), 0.82835823),\n",
       " ((1422, 7981), 0.82835823),\n",
       " ((1423, 7981), 0.82835823),\n",
       " ((4149, 2379), 0.82835823),\n",
       " ((5256, 2559), 0.82835823),\n",
       " ((9760, 5746), 0.82835823),\n",
       " ((957, 3302), 0.82527882),\n",
       " ((1744, 13569), 0.82527882),\n",
       " ((2065, 5803), 0.82527882),\n",
       " ((2065, 7560), 0.82527882),\n",
       " ((2065, 12247), 0.82527882),\n",
       " ((3039, 2379), 0.82527882),\n",
       " ((4080, 2559), 0.82527882),\n",
       " ((4647, 2559), 0.82527882),\n",
       " ((4654, 2559), 0.82527882),\n",
       " ((7694, 5746), 0.82527882),\n",
       " ((8267, 2559), 0.82527882),\n",
       " ((10687, 13393), 0.82527882),\n",
       " ((11563, 3197), 0.82527882),\n",
       " ((12549, 2379), 0.82527882),\n",
       " ((12722, 2559), 0.82527882),\n",
       " ((13200, 7073), 0.82527882),\n",
       " ((13698, 2559), 0.82527882),\n",
       " ((616, 2559), 0.82222223),\n",
       " ((705, 2559), 0.82222223),\n",
       " ((953, 5555), 0.82222223),\n",
       " ((1744, 1131), 0.82222223),\n",
       " ((1744, 7564), 0.82222223),\n",
       " ((2065, 2552), 0.82222223),\n",
       " ((2065, 12524), 0.82222223),\n",
       " ((2396, 4148), 0.82222223),\n",
       " ((3039, 4146), 0.82222223),\n",
       " ((3183, 4683), 0.82222223),\n",
       " ((3496, 5746), 0.82222223),\n",
       " ((3656, 2559), 0.82222223),\n",
       " ((4074, 2559), 0.82222223),\n",
       " ((4099, 7114), 0.82222223),\n",
       " ((4619, 2559), 0.82222223),\n",
       " ((5264, 3805), 0.82222223),\n",
       " ((5502, 3006), 0.82222223),\n",
       " ((5502, 8923), 0.82222223),\n",
       " ((6777, 5849), 0.82222223),\n",
       " ((7257, 2559), 0.82222223),\n",
       " ((7380, 2559), 0.82222223),\n",
       " ((7604, 4384), 0.82222223),\n",
       " ((7645, 2559), 0.82222223),\n",
       " ((7744, 8528), 0.82222223),\n",
       " ((7853, 7073), 0.82222223),\n",
       " ((7874, 3965), 0.82222223),\n",
       " ((8760, 7932), 0.82222223),\n",
       " ((9090, 2559), 0.82222223),\n",
       " ((9140, 10470), 0.82222223),\n",
       " ((9160, 2379), 0.82222223),\n",
       " ((9276, 5555), 0.82222223),\n",
       " ((9860, 4683), 0.82222223),\n",
       " ((9908, 13387), 0.82222223),\n",
       " ((10453, 5746), 0.82222223),\n",
       " ((10687, 1131), 0.82222223),\n",
       " ((11329, 5746), 0.82222223),\n",
       " ((11708, 7485), 0.82222223),\n",
       " ((12182, 2559), 0.82222223),\n",
       " ((12275, 3516), 0.82222223),\n",
       " ((12397, 3705), 0.82222223),\n",
       " ((12474, 3965), 0.82222223),\n",
       " ((12549, 13329), 0.82222223),\n",
       " ((12602, 2559), 0.82222223),\n",
       " ((13482, 5746), 0.82222223)]"
      ]
     },
     "execution_count": 95,
     "metadata": {},
     "output_type": "execute_result"
    }
   ],
   "source": [
    "pairs_val[:70]"
   ]
  },
  {
   "cell_type": "code",
   "execution_count": 415,
   "metadata": {
    "collapsed": false
   },
   "outputs": [],
   "source": [
    "order_features3, pair_names = xpression_to_order_feature(xpressions, good_pairs3, gens)\n",
    "order_features2, pair_names = xpression_to_order_feature(xpressions, good_pairs2, gens)\n",
    "order_features1, pair_names = xpression_to_order_feature(xpressions, good_pairs, gens)\n",
    "order_features1_2, pair_names = xpression_to_order_feature(xpressions,\n",
    "                                                           [pair for pair in good_pairs\n",
    "                                                            if (gens[pair[0]] in gens2) and (gens[pair[1]] in gens2)],\n",
    "                                                           gens)"
   ]
  },
  {
   "cell_type": "code",
   "execution_count": 334,
   "metadata": {
    "collapsed": false
   },
   "outputs": [
    {
     "name": "stdout",
     "output_type": "stream",
     "text": [
      "-6.62938928373e-17 2145.36807554\n"
     ]
    },
    {
     "data": {
      "text/plain": [
       "[('APBB3', 'CRLF1'),\n",
       " ('ARHGAP1', 'CRLF1'),\n",
       " ('ATP6V0A1', 'IL12RB2'),\n",
       " ('ATP6V0C', 'DUSP14'),\n",
       " ('C4A', 'NKTR'),\n",
       " ('C4B', 'NKTR'),\n",
       " ('C4B_2', 'NKTR'),\n",
       " ('CCND1', 'BCOR'),\n",
       " ('CCND1', 'MON1B'),\n",
       " ('CCND1', 'MTRF1'),\n",
       " ('CCND1', 'ZNF165'),\n",
       " ('CDK16', 'COCH'),\n",
       " ('CERS6', 'CRIPT'),\n",
       " ('CERS6', 'JMJD1C'),\n",
       " ('CERS6', 'MTO1'),\n",
       " ('CERS6', 'TLE1'),\n",
       " ('CERS6', 'TOPORS-AS1'),\n",
       " ('COL1A1', 'FOLH1B'),\n",
       " ('DHCR24', 'COCH'),\n",
       " ('DHCR24', 'FOCAD'),\n",
       " ('DNASE2', 'GPM6B'),\n",
       " ('EIF4B', 'ITGA6'),\n",
       " ('ERC1', 'CRLF1'),\n",
       " ('FHOD1', 'CRLF1'),\n",
       " ('FILIP1L', 'CRLF1'),\n",
       " ('FKSG49', 'MFGE8'),\n",
       " ('FOLR1', 'COCH'),\n",
       " ('GOLGA1', 'CRLF1'),\n",
       " ('GON4L', 'CRLF1'),\n",
       " ('GP1BA', 'CRLF1'),\n",
       " ('HOXB5', 'CRLF1'),\n",
       " ('HOXC4', 'FAIM2'),\n",
       " ('IGFBP4', 'DEPDC5'),\n",
       " ('IGFBP4', 'PIK3CG'),\n",
       " ('LYST', 'KCNAB1'),\n",
       " ('MIR6831', 'CRLF1'),\n",
       " ('MOSPD2', 'CRLF1'),\n",
       " ('MXRA8', 'GATA6'),\n",
       " ('MYL4', 'CRLF1'),\n",
       " ('MZT2B', 'ITGA6'),\n",
       " ('NAT1', 'PAQR3'),\n",
       " ('NDUFB5', 'MELK'),\n",
       " ('NECAB3', 'FBXO11'),\n",
       " ('NXPH3', 'CRLF1'),\n",
       " ('PEA15', 'NFIB'),\n",
       " ('PLXNA3', 'CRLF1'),\n",
       " ('PNPO', 'RWDD3'),\n",
       " ('POLDIP2', 'COCH'),\n",
       " ('PPIE', 'IL12RB2'),\n",
       " ('R3HDM4', 'ITGA6'),\n",
       " ('RALA', 'GPM6B'),\n",
       " ('RASA1', 'YES1'),\n",
       " ('RUFY1', 'ITGA6'),\n",
       " ('SEMA3C', 'BCOR'),\n",
       " ('SEMA3C', 'YIPF4'),\n",
       " ('SNORA67', 'ITGA6'),\n",
       " ('SPR', 'DNPH1'),\n",
       " ('STAMBP', 'MSH2'),\n",
       " ('SULT1A2', 'MRPS2'),\n",
       " ('THEMIS2', 'CRLF1'),\n",
       " ('TM6SF1', 'ELAVL2'),\n",
       " ('TMEM62', 'ETAA1'),\n",
       " ('TNK1', 'FBXO11'),\n",
       " ('TPBG', 'COCH'),\n",
       " ('TPBG', 'WSB1'),\n",
       " ('TRANK1', 'CRLF1'),\n",
       " ('TRPM2', 'CRLF1'),\n",
       " ('VPS35', 'MELK'),\n",
       " ('ZDHHC7', 'ITGA6'),\n",
       " ('ZNF510', 'CRLF1')]"
      ]
     },
     "execution_count": 334,
     "metadata": {},
     "output_type": "execute_result"
    }
   ],
   "source": [
    "\n",
    "# symmetr_res_a.mean(axis=0), symmetr_res_b.mean(axis=0)\n",
    "scaled_xpr  = scale(xpressions)\n",
    "print(scaled_xpr.mean(axis=0)[1], xpressions.mean(axis=0)[1])\n",
    "[(gens[pair[0]], gens[pair[1]]) for pair in good_pairs]"
   ]
  },
  {
   "cell_type": "code",
   "execution_count": 134,
   "metadata": {
    "collapsed": false
   },
   "outputs": [],
   "source": [
    "rf = RandomForestClassifier(n_estimators=200)\n",
    "svc = svm.SVC(kernel=\"linear\", C=100)\n",
    "\n",
    "\n",
    "# full_svc_smtr_a, full_svc_smtr_b = do_simmetry_class_cv(scaled_xpr,\n",
    "#                                                      responses, svc, iters=10)\n",
    "\n",
    "# intr_svc_smtr_a, intr_svc_smtr_b = do_simmetry_class_cv(scaled_xpr[:, intersection_gens],\n",
    "#                                                     responses, svc, iters=10)\n",
    "\n",
    "# full_rf_smtr_a, full_rf_smtr_b = do_simmetry_class_cv(xpressions,\n",
    "#                                                      responses, rf, iters=10)\n",
    "\n",
    "# intr_rf_smtr_a, intr_rf_smtr_b = do_simmetry_class_cv(xpressions[:, intersection_gens],\n",
    "#                                                      responses, rf, iters=10)\n",
    "\n",
    "# best31_rf_smtr_a, best31_rf_smtr_b = do_simmetry_class_cv(xpressions[:, best_31],\n",
    "\n",
    "#                                                      responses, rf, iters=10)\n",
    "# best31_svc_smtr_a, best31_svc_smtr_b = do_simmetry_class_cv(order_features3, responses,\n",
    "#                                                             svc, iters=10)"
   ]
  },
  {
   "cell_type": "markdown",
   "metadata": {},
   "source": [
    "Предообработка"
   ]
  },
  {
   "cell_type": "code",
   "execution_count": 331,
   "metadata": {
    "collapsed": false
   },
   "outputs": [
    {
     "data": {
      "text/plain": [
       "array(['PDE6C', 'CEP57', 'PDE9A', 'CALU', 'TTK', 'AATF', 'MIR1244-1',\n",
       "       'MIR1244-2', 'MIR1244-3', 'TMEM109', 'QKI', 'PDIA6', 'PDK1',\n",
       "       'SNAPC3', 'BACE2', 'NAA50', 'TTYH1', 'EPHB3', 'RPIA', 'SF3B3',\n",
       "       'GORASP2', 'NUP153', 'NUP155', 'LRRC59', 'PDSS1', 'HLA-G', 'BANK1',\n",
       "       'ANP32E', 'FOCAD', 'XPNPEP1', 'FOLH1B', 'TUBB4B', 'RAB23', 'EPRS',\n",
       "       'SUMO3', 'LSM2', 'IQCG', 'NUSAP1', 'NASP', 'CSNK2B', 'ABI1', 'PERP',\n",
       "       'GPM6B', 'PES1', 'DNAJA1', 'SYK', 'CASP8AP2', 'HN1', 'CHI3L2',\n",
       "       'ACACA', 'RPL39L', 'TXNDC5', 'BCL11A', 'ISG20', 'SYNRG', 'TYMS',\n",
       "       'RPP21', 'HNRNPH3', 'RAD1', 'ESPL1', 'CHRM3', 'ITGA6', 'RPS21',\n",
       "       'ACP1', 'GPR89A', 'GPR89B', 'LCN2', 'CTPS1', 'ITGB4', 'SNRPC',\n",
       "       'SNRPD1', 'NDC80', 'MAD2L1', 'GPSM2', 'PHACTR2', 'UBE2J1',\n",
       "       'RALGAPB', 'TAF1D', 'NDRG2', 'TAF5', 'DONSON', 'ITPR3', 'RPS7',\n",
       "       'TNFAIP8L2-SCNM1', 'RANBP6', 'BLOC1S5-TXNDC5', 'TAP1', 'RAP2A',\n",
       "       'RRAGD', 'ACTR3', 'ACTR3B', 'HPS5', 'RRM2', 'FZD7', 'SKP2', 'DPY30',\n",
       "       'CCHCR1', 'NDUFB6', 'CKS1B', 'CKS2', 'MAGOHB', 'DROSHA', 'RASGRP3',\n",
       "       'KARS', 'DSC2', 'SOX10', 'UGP2', 'ZIC1', 'CYB5R2', 'CCNC', 'TNS2',\n",
       "       'CCND3', 'NELFB', 'HSPA14', 'TBCC', 'FAIM2', 'BRIX1', 'BRPF1',\n",
       "       'FAM107A', 'TOMM70', 'NES', 'DUSP14', 'DUSP2', 'CLIC4', 'RBM28',\n",
       "       'GTF2E2', 'MAP4K4', 'S100A1', 'DUSP6', 'ZNF131', 'CCT4', 'NT5DC2',\n",
       "       'CCT6A', 'MAPK1', 'BTG3', 'NFIB', 'UQCRH', 'UQCRHL', 'PRPF3',\n",
       "       'GTPBP8', 'SAC3D1', 'NFYA', 'PRPF40A', 'PRPF4B', 'TCF7L2', 'CMC2',\n",
       "       'KCNN4', 'CMPK1', 'PRPS2', 'USP18', 'PABPC3', 'MRPL9', 'LMO4',\n",
       "       'SAP30', 'GATA6', 'GYG1', 'MRPS17', 'PADI2', 'MRPS18A', 'MRPS2',\n",
       "       'USP39', 'ADSL', 'PRRC2A', 'SPR', 'GBP1', 'ART3', 'TEAD4',\n",
       "       'PAK1IP1', 'PLCB4', 'MSH2', 'HACD1', 'IFI16', 'LOC100506248',\n",
       "       'HADHA', 'MSH6', 'IFI44L', 'RFC2', 'LOC100506639', 'RFC4', 'COCH',\n",
       "       'NMI', 'TRDMT1', 'FAM98A', 'C1orf112', 'SREK1', 'FANCG', 'PSIP1',\n",
       "       'RFWD3', 'FANCL', 'MCM3', 'VCP', 'MCM6', 'TFDP2', 'CDC45', 'PSMB4',\n",
       "       'TFF2', 'EFNA4', 'PLK4', 'VEGFA', 'CDCA8', 'SLC43A3', 'SCNM1',\n",
       "       'EFS', 'SRSF3', 'VGLL1', 'GGH', 'SCPEP1', 'VGLL4', 'KIF11', 'MEA1',\n",
       "       'TRIM38', 'TRIM39', 'TRIM39-RPP21', 'KIF14', 'KIF15', 'FBXO11',\n",
       "       'DDX18', 'MTMR2', 'PSME4', 'PSMG1', 'SSR1', 'MED17', 'KIF20A',\n",
       "       'HDAC9', 'MTO1', 'HDGF', 'PMPCA', 'SEC13', 'TRMT11', 'VPS72',\n",
       "       'MELK', 'MEMO1', 'CDKN2A', 'C6orf62', 'ATP5G3', 'FDPS', 'DEK',\n",
       "       'CDR2L', 'KLF11', 'IL12RB2', 'STAG1', 'FEN1', 'SEL1L3', 'DENND4B',\n",
       "       'EIF5B', 'PTMA', 'KLF6', 'LOC389906', 'ELAVL1', 'KLHDC3', 'HIC2',\n",
       "       'MEX3C', 'MYCN', 'ELF5', 'ZNF74', 'MFGE8', 'CEBPG', 'GMDS', 'CECR5',\n",
       "       'STEAP1B', 'GMIP', 'LOC728026', 'RNF138', 'TSPAN6', 'TSPO', 'WDR77',\n",
       "       'SERBP1', 'NRTN', 'SMC5', 'MYO10', 'STMN1', 'CENPM', 'DHTKD1',\n",
       "       'ILF2', 'STOML2', 'LPIN1', 'PUS1', 'MICAL3', 'TTC13', 'PWP2',\n",
       "       'CRLF1'], dtype=object)"
      ]
     },
     "execution_count": 331,
     "metadata": {},
     "output_type": "execute_result"
    }
   ],
   "source": [
    "from sklearn.svm import SVC\n",
    "from sklearn.neighbors import KNeighborsClassifier\n",
    "knn = KNeighborsClassifier(n_neighbors=3)\n",
    "clf = SVC(kernel=\"linear\", probability=True)\n",
    "xpressions_scaled = scale(xpressions)\n",
    "# xpressions_scaled\n",
    "# pro\n",
    "gens[interscetion_h1_h2]"
   ]
  },
  {
   "cell_type": "markdown",
   "metadata": {},
   "source": [
    "Классификация по всем генам:"
   ]
  },
  {
   "cell_type": "code",
   "execution_count": 391,
   "metadata": {
    "collapsed": false
   },
   "outputs": [
    {
     "name": "stdout",
     "output_type": "stream",
     "text": [
      "iteration: 0\n",
      "iteration: 1\n",
      "iteration: 2\n",
      "iteration: 3\n",
      "iteration: 4\n",
      "iteration: 5\n",
      "iteration: 6\n",
      "iteration: 7\n",
      "iteration: 8\n",
      "iteration: 9\n"
     ]
    },
    {
     "data": {
      "text/html": [
       "<div>\n",
       "<table border=\"1\" class=\"dataframe\">\n",
       "  <thead>\n",
       "    <tr style=\"text-align: right;\">\n",
       "      <th></th>\n",
       "      <th>precision 0</th>\n",
       "      <th>recall 0</th>\n",
       "      <th>precision 1</th>\n",
       "      <th>recall 1</th>\n",
       "      <th>accuracy</th>\n",
       "      <th>auc</th>\n",
       "    </tr>\n",
       "  </thead>\n",
       "  <tbody>\n",
       "    <tr>\n",
       "      <th>схема а</th>\n",
       "      <td>0.775258</td>\n",
       "      <td>0.7620</td>\n",
       "      <td>0.785746</td>\n",
       "      <td>0.763000</td>\n",
       "      <td>0.762500</td>\n",
       "      <td>0.838978</td>\n",
       "    </tr>\n",
       "    <tr>\n",
       "      <th>схема б</th>\n",
       "      <td>0.762444</td>\n",
       "      <td>0.7625</td>\n",
       "      <td>0.761922</td>\n",
       "      <td>0.760714</td>\n",
       "      <td>0.761607</td>\n",
       "      <td>0.820966</td>\n",
       "    </tr>\n",
       "  </tbody>\n",
       "</table>\n",
       "</div>"
      ],
      "text/plain": [
       "         precision 0  recall 0  precision 1  recall 1  accuracy       auc\n",
       "схема а     0.775258    0.7620     0.785746  0.763000  0.762500  0.838978\n",
       "схема б     0.762444    0.7625     0.761922  0.760714  0.761607  0.820966"
      ]
     },
     "execution_count": 391,
     "metadata": {},
     "output_type": "execute_result"
    },
    {
     "data": {
      "image/png": "[encoded data removed]",
      "text/plain": [
       "<matplotlib.figure.Figure at 0x13894be0>"
      ]
     },
     "metadata": {},
     "output_type": "display_data"
    }
   ],
   "source": [
    "np.random.seed(3267)\n",
    "a,b, cv_results  = do_simmetry_class_cv(xpressions_scaled, responses, clf)\n",
    "process_results(a, b, cv_results)"
   ]
  },
  {
   "cell_type": "code",
   "execution_count": 392,
   "metadata": {
    "collapsed": false
   },
   "outputs": [
    {
     "name": "stdout",
     "output_type": "stream",
     "text": [
      "iteration: 0\n",
      "iteration: 1\n",
      "iteration: 2\n",
      "iteration: 3\n",
      "iteration: 4\n",
      "iteration: 5\n",
      "iteration: 6\n",
      "iteration: 7\n",
      "iteration: 8\n",
      "iteration: 9\n"
     ]
    },
    {
     "data": {
      "text/html": [
       "<div>\n",
       "<table border=\"1\" class=\"dataframe\">\n",
       "  <thead>\n",
       "    <tr style=\"text-align: right;\">\n",
       "      <th></th>\n",
       "      <th>precision 0</th>\n",
       "      <th>recall 0</th>\n",
       "      <th>precision 1</th>\n",
       "      <th>recall 1</th>\n",
       "      <th>accuracy</th>\n",
       "      <th>auc</th>\n",
       "    </tr>\n",
       "  </thead>\n",
       "  <tbody>\n",
       "    <tr>\n",
       "      <th>схема а</th>\n",
       "      <td>0.801714</td>\n",
       "      <td>0.6890</td>\n",
       "      <td>0.744969</td>\n",
       "      <td>0.807000</td>\n",
       "      <td>0.748000</td>\n",
       "      <td>0.799800</td>\n",
       "    </tr>\n",
       "    <tr>\n",
       "      <th>схема б</th>\n",
       "      <td>0.782888</td>\n",
       "      <td>0.6875</td>\n",
       "      <td>0.721464</td>\n",
       "      <td>0.807143</td>\n",
       "      <td>0.747321</td>\n",
       "      <td>0.792363</td>\n",
       "    </tr>\n",
       "  </tbody>\n",
       "</table>\n",
       "</div>"
      ],
      "text/plain": [
       "         precision 0  recall 0  precision 1  recall 1  accuracy       auc\n",
       "схема а     0.801714    0.6890     0.744969  0.807000  0.748000  0.799800\n",
       "схема б     0.782888    0.6875     0.721464  0.807143  0.747321  0.792363"
      ]
     },
     "execution_count": 392,
     "metadata": {},
     "output_type": "execute_result"
    },
    {
     "data": {
      "image/png": "[encoded data removed]",
      "text/plain": [
       "<matplotlib.figure.Figure at 0x1384e1d0>"
      ]
     },
     "metadata": {},
     "output_type": "display_data"
    }
   ],
   "source": [
    "np.random.seed(3267)\n",
    "knn = KNeighborsClassifier(n_neighbors=8)\n",
    "a,b, cv_results  = do_simmetry_class_cv(xpressions_scaled, responses, knn)\n",
    "process_results(a, b, cv_results)"
   ]
  },
  {
   "cell_type": "markdown",
   "metadata": {},
   "source": [
    "Классификация по пересечению генов из эвристик 1, 2:"
   ]
  },
  {
   "cell_type": "code",
   "execution_count": 431,
   "metadata": {
    "collapsed": false
   },
   "outputs": [
    {
     "name": "stdout",
     "output_type": "stream",
     "text": [
      "iteration: 0\n",
      "iteration: 1\n",
      "iteration: 2\n",
      "iteration: 3\n",
      "iteration: 4\n",
      "iteration: 5\n",
      "iteration: 6\n",
      "iteration: 7\n",
      "iteration: 8\n",
      "iteration: 9\n"
     ]
    },
    {
     "data": {
      "text/html": [
       "<div>\n",
       "<table border=\"1\" class=\"dataframe\">\n",
       "  <thead>\n",
       "    <tr style=\"text-align: right;\">\n",
       "      <th></th>\n",
       "      <th>precision 0</th>\n",
       "      <th>recall 0</th>\n",
       "      <th>precision 1</th>\n",
       "      <th>recall 1</th>\n",
       "      <th>accuracy</th>\n",
       "      <th>auc</th>\n",
       "    </tr>\n",
       "  </thead>\n",
       "  <tbody>\n",
       "    <tr>\n",
       "      <th>схема а</th>\n",
       "      <td>0.815833</td>\n",
       "      <td>0.715333</td>\n",
       "      <td>0.765389</td>\n",
       "      <td>0.828000</td>\n",
       "      <td>0.771667</td>\n",
       "      <td>0.849411</td>\n",
       "    </tr>\n",
       "    <tr>\n",
       "      <th>схема б</th>\n",
       "      <td>0.805907</td>\n",
       "      <td>0.716071</td>\n",
       "      <td>0.744806</td>\n",
       "      <td>0.826786</td>\n",
       "      <td>0.771429</td>\n",
       "      <td>0.837404</td>\n",
       "    </tr>\n",
       "  </tbody>\n",
       "</table>\n",
       "</div>"
      ],
      "text/plain": [
       "         precision 0  recall 0  precision 1  recall 1  accuracy       auc\n",
       "схема а     0.815833  0.715333     0.765389  0.828000  0.771667  0.849411\n",
       "схема б     0.805907  0.716071     0.744806  0.826786  0.771429  0.837404"
      ]
     },
     "execution_count": 431,
     "metadata": {},
     "output_type": "execute_result"
    },
    {
     "data": {
      "image/png": "[encoded data removed]",
      "text/plain": [
       "<matplotlib.figure.Figure at 0x1387df98>"
      ]
     },
     "metadata": {},
     "output_type": "display_data"
    }
   ],
   "source": [
    "np.random.seed(3267)\n",
    "a, b, cv_results = do_simmetry_class_cv(xpressions_scaled[:, interscetion_h1_h2], responses, clf)\n",
    "process_results(a, b, cv_results)"
   ]
  },
  {
   "cell_type": "code",
   "execution_count": 430,
   "metadata": {
    "collapsed": false
   },
   "outputs": [
    {
     "name": "stdout",
     "output_type": "stream",
     "text": [
      "iteration: 0\n",
      "iteration: 1\n",
      "iteration: 2\n",
      "iteration: 3\n",
      "iteration: 4\n",
      "iteration: 5\n",
      "iteration: 6\n",
      "iteration: 7\n",
      "iteration: 8\n",
      "iteration: 9\n"
     ]
    },
    {
     "data": {
      "text/html": [
       "<div>\n",
       "<table border=\"1\" class=\"dataframe\">\n",
       "  <thead>\n",
       "    <tr style=\"text-align: right;\">\n",
       "      <th></th>\n",
       "      <th>precision 0</th>\n",
       "      <th>recall 0</th>\n",
       "      <th>precision 1</th>\n",
       "      <th>recall 1</th>\n",
       "      <th>accuracy</th>\n",
       "      <th>auc</th>\n",
       "    </tr>\n",
       "  </thead>\n",
       "  <tbody>\n",
       "    <tr>\n",
       "      <th>схема а</th>\n",
       "      <td>0.830000</td>\n",
       "      <td>0.361667</td>\n",
       "      <td>0.616482</td>\n",
       "      <td>0.980000</td>\n",
       "      <td>0.670833</td>\n",
       "      <td>0.861428</td>\n",
       "    </tr>\n",
       "    <tr>\n",
       "      <th>схема б</th>\n",
       "      <td>0.949319</td>\n",
       "      <td>0.360714</td>\n",
       "      <td>0.605576</td>\n",
       "      <td>0.980357</td>\n",
       "      <td>0.670536</td>\n",
       "      <td>0.854082</td>\n",
       "    </tr>\n",
       "  </tbody>\n",
       "</table>\n",
       "</div>"
      ],
      "text/plain": [
       "         precision 0  recall 0  precision 1  recall 1  accuracy       auc\n",
       "схема а     0.830000  0.361667     0.616482  0.980000  0.670833  0.861428\n",
       "схема б     0.949319  0.360714     0.605576  0.980357  0.670536  0.854082"
      ]
     },
     "execution_count": 430,
     "metadata": {},
     "output_type": "execute_result"
    },
    {
     "data": {
      "image/png": "[encoded data removed]",
      "text/plain": [
       "<matplotlib.figure.Figure at 0x13c51f60>"
      ]
     },
     "metadata": {},
     "output_type": "display_data"
    }
   ],
   "source": [
    "np.random.seed(3267)\n",
    "knn = KNeighborsClassifier(n_neighbors=8)\n",
    "a,b, cv_results  = do_simmetry_class_cv(xpressions_scaled[:, interscetion_h1_h2], responses, knn)\n",
    "process_results(a, b, cv_results)"
   ]
  },
  {
   "cell_type": "markdown",
   "metadata": {},
   "source": [
    "Классификация по 283 генам, отобранным по эрвистике 3"
   ]
  },
  {
   "cell_type": "code",
   "execution_count": 251,
   "metadata": {
    "collapsed": false
   },
   "outputs": [
    {
     "name": "stdout",
     "output_type": "stream",
     "text": [
      "iteration: 0\n",
      "iteration: 1\n",
      "iteration: 2\n",
      "iteration: 3\n",
      "iteration: 4\n",
      "iteration: 5\n",
      "iteration: 6\n",
      "iteration: 7\n",
      "iteration: 8\n",
      "iteration: 9\n"
     ]
    },
    {
     "data": {
      "text/html": [
       "<div>\n",
       "<table border=\"1\" class=\"dataframe\">\n",
       "  <thead>\n",
       "    <tr style=\"text-align: right;\">\n",
       "      <th></th>\n",
       "      <th>precision 0</th>\n",
       "      <th>recall 0</th>\n",
       "      <th>precision 1</th>\n",
       "      <th>recall 1</th>\n",
       "      <th>accuracy</th>\n",
       "      <th>auc 0</th>\n",
       "      <th>auc 1</th>\n",
       "    </tr>\n",
       "  </thead>\n",
       "  <tbody>\n",
       "    <tr>\n",
       "      <th>схема а</th>\n",
       "      <td>0.741107</td>\n",
       "      <td>0.706333</td>\n",
       "      <td>0.736232</td>\n",
       "      <td>0.734333</td>\n",
       "      <td>0.720333</td>\n",
       "      <td>0.786744</td>\n",
       "      <td>0.786744</td>\n",
       "    </tr>\n",
       "    <tr>\n",
       "      <th>схема б</th>\n",
       "      <td>0.728011</td>\n",
       "      <td>0.703571</td>\n",
       "      <td>0.712430</td>\n",
       "      <td>0.735714</td>\n",
       "      <td>0.719643</td>\n",
       "      <td>0.776961</td>\n",
       "      <td>0.776961</td>\n",
       "    </tr>\n",
       "  </tbody>\n",
       "</table>\n",
       "</div>"
      ],
      "text/plain": [
       "         precision 0  recall 0  precision 1  recall 1  accuracy     auc 0  \\\n",
       "схема а     0.741107  0.706333     0.736232  0.734333  0.720333  0.786744   \n",
       "схема б     0.728011  0.703571     0.712430  0.735714  0.719643  0.776961   \n",
       "\n",
       "            auc 1  \n",
       "схема а  0.786744  \n",
       "схема б  0.776961  "
      ]
     },
     "execution_count": 251,
     "metadata": {},
     "output_type": "execute_result"
    }
   ],
   "source": [
    "np.random.seed(3267)\n",
    "a, b, cv_results = do_simmetry_class_cv(xpressions_scaled[:, good_h3], responses, clf)\n",
    "process_results(a, b, cv_results)"
   ]
  },
  {
   "cell_type": "code",
   "execution_count": 321,
   "metadata": {
    "collapsed": false
   },
   "outputs": [
    {
     "name": "stdout",
     "output_type": "stream",
     "text": [
      "iteration: 0\n",
      "iteration: 1\n",
      "iteration: 2\n",
      "iteration: 3\n",
      "iteration: 4\n",
      "iteration: 5\n",
      "iteration: 6\n",
      "iteration: 7\n",
      "iteration: 8\n",
      "iteration: 9\n"
     ]
    },
    {
     "data": {
      "text/html": [
       "<div>\n",
       "<table border=\"1\" class=\"dataframe\">\n",
       "  <thead>\n",
       "    <tr style=\"text-align: right;\">\n",
       "      <th></th>\n",
       "      <th>precision 0</th>\n",
       "      <th>recall 0</th>\n",
       "      <th>precision 1</th>\n",
       "      <th>recall 1</th>\n",
       "      <th>accuracy</th>\n",
       "      <th>auc 0</th>\n",
       "      <th>auc 1</th>\n",
       "    </tr>\n",
       "  </thead>\n",
       "  <tbody>\n",
       "    <tr>\n",
       "      <th>схема а</th>\n",
       "      <td>0.825214</td>\n",
       "      <td>0.683000</td>\n",
       "      <td>0.748078</td>\n",
       "      <td>0.835000</td>\n",
       "      <td>0.759000</td>\n",
       "      <td>0.822400</td>\n",
       "      <td>0.822400</td>\n",
       "    </tr>\n",
       "    <tr>\n",
       "      <th>схема б</th>\n",
       "      <td>0.806113</td>\n",
       "      <td>0.682143</td>\n",
       "      <td>0.724832</td>\n",
       "      <td>0.835714</td>\n",
       "      <td>0.758929</td>\n",
       "      <td>0.820249</td>\n",
       "      <td>0.820249</td>\n",
       "    </tr>\n",
       "  </tbody>\n",
       "</table>\n",
       "</div>"
      ],
      "text/plain": [
       "         precision 0  recall 0  precision 1  recall 1  accuracy     auc 0  \\\n",
       "схема а     0.825214  0.683000     0.748078  0.835000  0.759000  0.822400   \n",
       "схема б     0.806113  0.682143     0.724832  0.835714  0.758929  0.820249   \n",
       "\n",
       "            auc 1  \n",
       "схема а  0.822400  \n",
       "схема б  0.820249  "
      ]
     },
     "execution_count": 321,
     "metadata": {},
     "output_type": "execute_result"
    }
   ],
   "source": [
    "np.random.seed(3267)\n",
    "knn = KNeighborsClassifier(n_neighbors=8)\n",
    "a,b, cv_results  = do_simmetry_class_cv(xpressions_scaled[:, good_h3], responses, knn)\n",
    "process_results(a, b, cv_results)"
   ]
  },
  {
   "cell_type": "markdown",
   "metadata": {},
   "source": [
    "Классификация по пересечению генов из эвристик 1,2,3"
   ]
  },
  {
   "cell_type": "code",
   "execution_count": 262,
   "metadata": {
    "collapsed": false
   },
   "outputs": [],
   "source": [
    "intersection_h1_h2_h3 = np.array([ id for id in set(good_h3).intersection(set(interscetion_h1_h2))])"
   ]
  },
  {
   "cell_type": "code",
   "execution_count": 427,
   "metadata": {
    "collapsed": false
   },
   "outputs": [
    {
     "name": "stdout",
     "output_type": "stream",
     "text": [
      "iteration: 0\n",
      "iteration: 1\n",
      "iteration: 2\n",
      "iteration: 3\n",
      "iteration: 4\n",
      "iteration: 5\n",
      "iteration: 6\n",
      "iteration: 7\n",
      "iteration: 8\n",
      "iteration: 9\n"
     ]
    },
    {
     "data": {
      "text/html": [
       "<div>\n",
       "<table border=\"1\" class=\"dataframe\">\n",
       "  <thead>\n",
       "    <tr style=\"text-align: right;\">\n",
       "      <th></th>\n",
       "      <th>precision 0</th>\n",
       "      <th>recall 0</th>\n",
       "      <th>precision 1</th>\n",
       "      <th>recall 1</th>\n",
       "      <th>accuracy</th>\n",
       "      <th>auc</th>\n",
       "    </tr>\n",
       "  </thead>\n",
       "  <tbody>\n",
       "    <tr>\n",
       "      <th>схема а</th>\n",
       "      <td>0.744036</td>\n",
       "      <td>0.690000</td>\n",
       "      <td>0.727667</td>\n",
       "      <td>0.745667</td>\n",
       "      <td>0.717833</td>\n",
       "      <td>0.782478</td>\n",
       "    </tr>\n",
       "    <tr>\n",
       "      <th>схема б</th>\n",
       "      <td>0.729178</td>\n",
       "      <td>0.691071</td>\n",
       "      <td>0.706824</td>\n",
       "      <td>0.742857</td>\n",
       "      <td>0.716964</td>\n",
       "      <td>0.768989</td>\n",
       "    </tr>\n",
       "  </tbody>\n",
       "</table>\n",
       "</div>"
      ],
      "text/plain": [
       "         precision 0  recall 0  precision 1  recall 1  accuracy       auc\n",
       "схема а     0.744036  0.690000     0.727667  0.745667  0.717833  0.782478\n",
       "схема б     0.729178  0.691071     0.706824  0.742857  0.716964  0.768989"
      ]
     },
     "execution_count": 427,
     "metadata": {},
     "output_type": "execute_result"
    },
    {
     "data": {
      "image/png": "[encoded data removed]",
      "text/plain": [
       "<matplotlib.figure.Figure at 0x13c05e10>"
      ]
     },
     "metadata": {},
     "output_type": "display_data"
    }
   ],
   "source": [
    "np.random.seed(3267)\n",
    "a, b, cv_results = do_simmetry_class_cv(xpressions_scaled[:, intersection_h1_h2_h3], responses, clf)\n",
    "process_results(a, b, cv_results)"
   ]
  },
  {
   "cell_type": "code",
   "execution_count": 323,
   "metadata": {
    "collapsed": false
   },
   "outputs": [
    {
     "name": "stdout",
     "output_type": "stream",
     "text": [
      "iteration: 0\n",
      "iteration: 1\n",
      "iteration: 2\n",
      "iteration: 3\n",
      "iteration: 4\n",
      "iteration: 5\n",
      "iteration: 6\n",
      "iteration: 7\n",
      "iteration: 8\n",
      "iteration: 9\n"
     ]
    },
    {
     "data": {
      "text/html": [
       "<div>\n",
       "<table border=\"1\" class=\"dataframe\">\n",
       "  <thead>\n",
       "    <tr style=\"text-align: right;\">\n",
       "      <th></th>\n",
       "      <th>precision 0</th>\n",
       "      <th>recall 0</th>\n",
       "      <th>precision 1</th>\n",
       "      <th>recall 1</th>\n",
       "      <th>accuracy</th>\n",
       "      <th>auc 0</th>\n",
       "      <th>auc 1</th>\n",
       "    </tr>\n",
       "  </thead>\n",
       "  <tbody>\n",
       "    <tr>\n",
       "      <th>схема а</th>\n",
       "      <td>0.875143</td>\n",
       "      <td>0.676667</td>\n",
       "      <td>0.754824</td>\n",
       "      <td>0.892667</td>\n",
       "      <td>0.784667</td>\n",
       "      <td>0.842817</td>\n",
       "      <td>0.842817</td>\n",
       "    </tr>\n",
       "    <tr>\n",
       "      <th>схема б</th>\n",
       "      <td>0.863888</td>\n",
       "      <td>0.675000</td>\n",
       "      <td>0.733559</td>\n",
       "      <td>0.892857</td>\n",
       "      <td>0.783929</td>\n",
       "      <td>0.838664</td>\n",
       "      <td>0.838664</td>\n",
       "    </tr>\n",
       "  </tbody>\n",
       "</table>\n",
       "</div>"
      ],
      "text/plain": [
       "         precision 0  recall 0  precision 1  recall 1  accuracy     auc 0  \\\n",
       "схема а     0.875143  0.676667     0.754824  0.892667  0.784667  0.842817   \n",
       "схема б     0.863888  0.675000     0.733559  0.892857  0.783929  0.838664   \n",
       "\n",
       "            auc 1  \n",
       "схема а  0.842817  \n",
       "схема б  0.838664  "
      ]
     },
     "execution_count": 323,
     "metadata": {},
     "output_type": "execute_result"
    }
   ],
   "source": [
    "np.random.seed(3267)\n",
    "knn = KNeighborsClassifier(n_neighbors=8)\n",
    "a,b, cv_results  = do_simmetry_class_cv(xpressions_scaled[:, intersection_h1_h2_h3], responses, knn)\n",
    "process_results(a, b, cv_results)"
   ]
  },
  {
   "cell_type": "markdown",
   "metadata": {},
   "source": [
    "Классификация по 9 парам из эвристики 4"
   ]
  },
  {
   "cell_type": "code",
   "execution_count": 289,
   "metadata": {
    "collapsed": false
   },
   "outputs": [
    {
     "name": "stdout",
     "output_type": "stream",
     "text": [
      "(278, 9)\n",
      "iteration: 0\n",
      "iteration: 1\n",
      "iteration: 2\n",
      "iteration: 3\n",
      "iteration: 4\n",
      "iteration: 5\n",
      "iteration: 6\n",
      "iteration: 7\n",
      "iteration: 8\n",
      "iteration: 9\n"
     ]
    },
    {
     "data": {
      "text/html": [
       "<div>\n",
       "<table border=\"1\" class=\"dataframe\">\n",
       "  <thead>\n",
       "    <tr style=\"text-align: right;\">\n",
       "      <th></th>\n",
       "      <th>precision 0</th>\n",
       "      <th>recall 0</th>\n",
       "      <th>precision 1</th>\n",
       "      <th>recall 1</th>\n",
       "      <th>accuracy</th>\n",
       "      <th>auc 0</th>\n",
       "      <th>auc 1</th>\n",
       "    </tr>\n",
       "  </thead>\n",
       "  <tbody>\n",
       "    <tr>\n",
       "      <th>схема а</th>\n",
       "      <td>0.95</td>\n",
       "      <td>0.406333</td>\n",
       "      <td>0.636123</td>\n",
       "      <td>1</td>\n",
       "      <td>0.703167</td>\n",
       "      <td>0.739500</td>\n",
       "      <td>0.739500</td>\n",
       "    </tr>\n",
       "    <tr>\n",
       "      <th>схема б</th>\n",
       "      <td>1.00</td>\n",
       "      <td>0.408929</td>\n",
       "      <td>0.628546</td>\n",
       "      <td>1</td>\n",
       "      <td>0.704464</td>\n",
       "      <td>0.696445</td>\n",
       "      <td>0.696445</td>\n",
       "    </tr>\n",
       "  </tbody>\n",
       "</table>\n",
       "</div>"
      ],
      "text/plain": [
       "         precision 0  recall 0  precision 1  recall 1  accuracy     auc 0  \\\n",
       "схема а         0.95  0.406333     0.636123         1  0.703167  0.739500   \n",
       "схема б         1.00  0.408929     0.628546         1  0.704464  0.696445   \n",
       "\n",
       "            auc 1  \n",
       "схема а  0.739500  \n",
       "схема б  0.696445  "
      ]
     },
     "execution_count": 289,
     "metadata": {},
     "output_type": "execute_result"
    }
   ],
   "source": [
    "print(order_features3.shape)\n",
    "np.random.seed(3267)\n",
    "a, b, cv_results = do_simmetry_class_cv(order_features3, responses, clf)\n",
    "process_results(a, b, cv_results)"
   ]
  },
  {
   "cell_type": "code",
   "execution_count": 324,
   "metadata": {
    "collapsed": false
   },
   "outputs": [
    {
     "name": "stdout",
     "output_type": "stream",
     "text": [
      "iteration: 0\n",
      "iteration: 1\n",
      "iteration: 2\n",
      "iteration: 3\n",
      "iteration: 4\n",
      "iteration: 5\n",
      "iteration: 6\n",
      "iteration: 7\n",
      "iteration: 8\n",
      "iteration: 9\n"
     ]
    },
    {
     "data": {
      "text/html": [
       "<div>\n",
       "<table border=\"1\" class=\"dataframe\">\n",
       "  <thead>\n",
       "    <tr style=\"text-align: right;\">\n",
       "      <th></th>\n",
       "      <th>precision 0</th>\n",
       "      <th>recall 0</th>\n",
       "      <th>precision 1</th>\n",
       "      <th>recall 1</th>\n",
       "      <th>accuracy</th>\n",
       "      <th>auc 0</th>\n",
       "      <th>auc 1</th>\n",
       "    </tr>\n",
       "  </thead>\n",
       "  <tbody>\n",
       "    <tr>\n",
       "      <th>схема а</th>\n",
       "      <td>0.5</td>\n",
       "      <td>1</td>\n",
       "      <td>0</td>\n",
       "      <td>0</td>\n",
       "      <td>0.5</td>\n",
       "      <td>0.633333</td>\n",
       "      <td>0.633333</td>\n",
       "    </tr>\n",
       "    <tr>\n",
       "      <th>схема б</th>\n",
       "      <td>0.5</td>\n",
       "      <td>1</td>\n",
       "      <td>0</td>\n",
       "      <td>0</td>\n",
       "      <td>0.5</td>\n",
       "      <td>0.633929</td>\n",
       "      <td>0.633929</td>\n",
       "    </tr>\n",
       "  </tbody>\n",
       "</table>\n",
       "</div>"
      ],
      "text/plain": [
       "         precision 0  recall 0  precision 1  recall 1  accuracy     auc 0  \\\n",
       "схема а          0.5         1            0         0       0.5  0.633333   \n",
       "схема б          0.5         1            0         0       0.5  0.633929   \n",
       "\n",
       "            auc 1  \n",
       "схема а  0.633333  \n",
       "схема б  0.633929  "
      ]
     },
     "execution_count": 324,
     "metadata": {},
     "output_type": "execute_result"
    }
   ],
   "source": [
    "np.random.seed(3267)\n",
    "knn = KNeighborsClassifier(n_neighbors=8)\n",
    "a,b, cv_results  = do_simmetry_class_cv(order_features3, responses, knn)\n",
    "process_results(a, b, cv_results)"
   ]
  },
  {
   "cell_type": "markdown",
   "metadata": {},
   "source": [
    "Классификация по 70 парам из эвристики 4"
   ]
  },
  {
   "cell_type": "code",
   "execution_count": 417,
   "metadata": {
    "collapsed": false
   },
   "outputs": [
    {
     "name": "stdout",
     "output_type": "stream",
     "text": [
      "(278, 70)\n",
      "iteration: 0\n",
      "iteration: 1\n",
      "iteration: 2\n",
      "iteration: 3\n",
      "iteration: 4\n",
      "iteration: 5\n",
      "iteration: 6\n",
      "iteration: 7\n",
      "iteration: 8\n",
      "iteration: 9\n"
     ]
    },
    {
     "data": {
      "text/html": [
       "<div>\n",
       "<table border=\"1\" class=\"dataframe\">\n",
       "  <thead>\n",
       "    <tr style=\"text-align: right;\">\n",
       "      <th></th>\n",
       "      <th>precision 0</th>\n",
       "      <th>recall 0</th>\n",
       "      <th>precision 1</th>\n",
       "      <th>recall 1</th>\n",
       "      <th>accuracy</th>\n",
       "      <th>auc</th>\n",
       "    </tr>\n",
       "  </thead>\n",
       "  <tbody>\n",
       "    <tr>\n",
       "      <th>схема а</th>\n",
       "      <td>1</td>\n",
       "      <td>0.715667</td>\n",
       "      <td>0.793103</td>\n",
       "      <td>1</td>\n",
       "      <td>0.857833</td>\n",
       "      <td>0.938833</td>\n",
       "    </tr>\n",
       "    <tr>\n",
       "      <th>схема б</th>\n",
       "      <td>1</td>\n",
       "      <td>0.717857</td>\n",
       "      <td>0.780151</td>\n",
       "      <td>1</td>\n",
       "      <td>0.858929</td>\n",
       "      <td>0.915099</td>\n",
       "    </tr>\n",
       "  </tbody>\n",
       "</table>\n",
       "</div>"
      ],
      "text/plain": [
       "         precision 0  recall 0  precision 1  recall 1  accuracy       auc\n",
       "схема а            1  0.715667     0.793103         1  0.857833  0.938833\n",
       "схема б            1  0.717857     0.780151         1  0.858929  0.915099"
      ]
     },
     "execution_count": 417,
     "metadata": {},
     "output_type": "execute_result"
    },
    {
     "data": {
      "image/png": "[encoded data removed]",
      "text/plain": [
       "<matplotlib.figure.Figure at 0x15418780>"
      ]
     },
     "metadata": {},
     "output_type": "display_data"
    }
   ],
   "source": [
    "print(order_features1.shape)\n",
    "np.random.seed(3267)\n",
    "# a, b, cv_results = do_simmetry_class_cv(order_features1, responses, clf)\n",
    "a, b, cv_results = do_simmetry_class_cv(order_features1_2, responses, clf)\n",
    "process_results(a, b, cv_results)"
   ]
  },
  {
   "cell_type": "code",
   "execution_count": 423,
   "metadata": {
    "collapsed": false
   },
   "outputs": [
    {
     "name": "stdout",
     "output_type": "stream",
     "text": [
      "iteration: 0\n",
      "iteration: 1\n",
      "iteration: 2\n",
      "iteration: 3\n",
      "iteration: 4\n",
      "iteration: 5\n",
      "iteration: 6\n",
      "iteration: 7\n",
      "iteration: 8\n",
      "iteration: 9\n"
     ]
    },
    {
     "data": {
      "text/html": [
       "<div>\n",
       "<table border=\"1\" class=\"dataframe\">\n",
       "  <thead>\n",
       "    <tr style=\"text-align: right;\">\n",
       "      <th></th>\n",
       "      <th>precision 0</th>\n",
       "      <th>recall 0</th>\n",
       "      <th>precision 1</th>\n",
       "      <th>recall 1</th>\n",
       "      <th>accuracy</th>\n",
       "      <th>auc</th>\n",
       "    </tr>\n",
       "  </thead>\n",
       "  <tbody>\n",
       "    <tr>\n",
       "      <th>схема а</th>\n",
       "      <td>0.5</td>\n",
       "      <td>1</td>\n",
       "      <td>0</td>\n",
       "      <td>0</td>\n",
       "      <td>0.5</td>\n",
       "      <td>0.762833</td>\n",
       "    </tr>\n",
       "    <tr>\n",
       "      <th>схема б</th>\n",
       "      <td>0.5</td>\n",
       "      <td>1</td>\n",
       "      <td>0</td>\n",
       "      <td>0</td>\n",
       "      <td>0.5</td>\n",
       "      <td>0.762500</td>\n",
       "    </tr>\n",
       "  </tbody>\n",
       "</table>\n",
       "</div>"
      ],
      "text/plain": [
       "         precision 0  recall 0  precision 1  recall 1  accuracy       auc\n",
       "схема а          0.5         1            0         0       0.5  0.762833\n",
       "схема б          0.5         1            0         0       0.5  0.762500"
      ]
     },
     "execution_count": 423,
     "metadata": {},
     "output_type": "execute_result"
    },
    {
     "data": {
      "image/png": "[encoded data removed]",
      "text/plain": [
       "<matplotlib.figure.Figure at 0x13cb2898>"
      ]
     },
     "metadata": {},
     "output_type": "display_data"
    }
   ],
   "source": [
    "np.random.seed(3267)\n",
    "knn = KNeighborsClassifier(n_neighbors=2)\n",
    "a,b, cv_results  = do_simmetry_class_cv(order_features1_2, responses, knn)\n",
    "process_results(a, b, cv_results)"
   ]
  },
  {
   "cell_type": "code",
   "execution_count": 424,
   "metadata": {
    "collapsed": true
   },
   "outputs": [],
   "source": [
    "def get_splits(responses, k=10):\n",
    "    nonresp = np.arange(responses.shape[0])[responses==0]\n",
    "    resp = np.arange(responses.shape[0])[responses==1]\n",
    "    np.random.shuffle(nonresp)\n",
    "    np.random.shuffle(resp)\n",
    "    folds = []\n",
    "    for i in range(9):\n",
    "        folds.append(np.hstack((resp[i*22:i*22+22],nonresp[i*5:i*5+5])))\n",
    "    folds.append(np.hstack((resp[9*22:],nonresp[9*5:])))\n",
    "    cases = []\n",
    "    for i in range(10):\n",
    "        test = folds[i]\n",
    "        train = np.hstack((fold for j, fold in enumerate(folds) if i != j))\n",
    "        cases.append( (train, test) )                      \n",
    "    return folds, cases\n",
    "    "
   ]
  },
  {
   "cell_type": "code",
   "execution_count": 425,
   "metadata": {
    "collapsed": false
   },
   "outputs": [
    {
     "name": "stdout",
     "output_type": "stream",
     "text": [
      "(14, 67) (278, 67)\n"
     ]
    }
   ],
   "source": [
    "good_pairs_str = [('APBB3', 'CRLF1'), ('ARHGAP1', 'CRLF1'), ('ATP6V0A1', 'IL12RB2'), ('ATP6V0C', 'DUSP14'), ('C4A', 'NKTR'),\n",
    "              ('C4B', 'NKTR'), ('C4B_2', 'NKTR'), ('CCND1', 'BCOR'), ('CCND1', 'MON1B'), ('CCND1', 'MTRF1'), ('CCND1', 'ZNF165'),\n",
    "              ('CDK16', 'COCH'), ('CERS6', 'CRIPT'), ('CERS6', 'JMJD1C'), ('CERS6', 'MTO1'), ('CERS6', 'TLE1'),\n",
    "              ('CERS6', 'TOPORS-AS1'), ('COL1A1', 'FOLH1B'), ('DHCR24', 'COCH'), ('DHCR24', 'FOCAD'), ('DNASE2', 'GPM6B'),\n",
    "              ('EIF4B', 'ITGA6'), ('ERC1', 'CRLF1'), ('FHOD1', 'CRLF1'), ('FILIP1L', 'CRLF1'), ('FKSG49', 'MFGE8'),\n",
    "              ('FOLR1', 'COCH'), ('GOLGA1', 'CRLF1'), ('GON4L', 'CRLF1'), ('GP1BA', 'CRLF1'), ('HOXB5', 'CRLF1'),\n",
    "              ('HOXC4', 'FAIM2'), ('IGFBP4', 'DEPDC5'), ('IGFBP4', 'PIK3CG'), ('LYST', 'KCNAB1'), ('MIR6831', 'CRLF1'),\n",
    "              ('MOSPD2', 'CRLF1'), ('MXRA8', 'GATA6'), ('MYL4', 'CRLF1'), ('MZT2B', 'ITGA6'), ('NAT1', 'PAQR3'),\n",
    "              ('NDUFB5', 'MELK'), ('NECAB3', 'FBXO11'), ('NXPH3', 'CRLF1'), ('PEA15', 'NFIB'), ('PLXNA3', 'CRLF1'),\n",
    "              ('PNPO', 'RWDD3'), ('POLDIP2', 'COCH'), ('PPIE', 'IL12RB2'), ('R3HDM4', 'ITGA6'), ('RALA', 'GPM6B'),\n",
    "              ('RASA1', 'YES1'), ('RUFY1', 'ITGA6'), ('SEMA3C', 'BCOR'), ('SEMA3C', 'YIPF4'), ('SNORA67', 'ITGA6'),\n",
    "              ('SPR', 'DNPH1'), ('STAMBP', 'MSH2'), ('SULT1A2', 'MRPS2'), ('THEMIS2', 'CRLF1'), ('TM6SF1', 'ELAVL2'),\n",
    "              ('TMEM62', 'ETAA1'), ('TNK1', 'FBXO11'), ('TPBG', 'COCH'), ('TPBG', 'WSB1'), ('TRANK1', 'CRLF1'),\n",
    "              ('TRPM2', 'CRLF1'), ('VPS35', 'MELK'), ('ZDHHC7', 'ITGA6'), ('ZNF510', 'CRLF1')]\n",
    "gens_list = gens2.tolist()\n",
    "good_pairs_new = [(gens_list.index(gen1), gens_list.index(gen2)) for gen1, gen2 in good_pairs_str\n",
    "              if (gen1 in gens_list) and (gen2 in gens_list)]\n",
    "\n",
    "order_features1_new, pair_names_new = xpression_to_order_feature(xpressions2, good_pairs_new, gens2)\n",
    "print(order_features1_new.shape, order_features1_2.shape)\n"
   ]
  },
  {
   "cell_type": "code",
   "execution_count": 426,
   "metadata": {
    "collapsed": false
   },
   "outputs": [
    {
     "data": {
      "text/plain": [
       "array([[10,  0],\n",
       "       [ 4,  0]])"
      ]
     },
     "execution_count": 426,
     "metadata": {},
     "output_type": "execute_result"
    }
   ],
   "source": [
    "conf_matrix = confusion_matrix(responses2, knn.predict(order_features1_new))\n",
    "conf_matrix\n"
   ]
  },
  {
   "cell_type": "code",
   "execution_count": null,
   "metadata": {
    "collapsed": true
   },
   "outputs": [],
   "source": [
    "print(intr_svc_smtr_a.mean(axis=0), intr_svc_smtr_b.mean(axis=0))\n",
    "print()\n",
    "# print(best31_svc_smtr_a.mean(axis=0), best31_svc_smtr_b.mean(axis=0))\n",
    "# prec_0, recall_0, prec_1, recall_1"
   ]
  },
  {
   "cell_type": "code",
   "execution_count": null,
   "metadata": {
    "collapsed": true
   },
   "outputs": [],
   "source": [
    "print(intr_svc_smtr_a.mean(axis=0), intr_svc_smtr_b.mean(axis=0))\n",
    "print()\n",
    "# print(best31_svc_smtr_a.mean(axis=0), best31_svc_smtr_b.mean(axis=0))\n",
    "# prec_0, recall_0, prec_1, recall_1"
   ]
  },
  {
   "cell_type": "code",
   "execution_count": 408,
   "metadata": {
    "collapsed": false
   },
   "outputs": [
    {
     "data": {
      "text/plain": [
       "array([[ 0.,  0.,  1.,  1.,  1.,  1.,  0.,  0.,  0.,  0.,  1.,  1.,  1.,\n",
       "         1.,  1.,  0.,  1.,  0.,  0.,  1.,  1.,  0.,  0.,  0.,  0.,  1.,\n",
       "         1.,  1.,  0.,  1.,  0.,  0.,  0.,  0.,  0.,  0.,  1.,  1.,  1.,\n",
       "         1.,  1.,  1.,  0.,  1.,  1.,  1.,  1.,  1.,  1.,  1.,  1.,  1.,\n",
       "         1.,  1.,  0.,  0.,  0.,  1.,  1.,  0.,  1.,  1.,  0.,  0.,  0.,\n",
       "         1.,  0.],\n",
       "       [ 1.,  0.,  1.,  0.,  1.,  1.,  0.,  0.,  0.,  0.,  0.,  1.,  1.,\n",
       "         0.,  1.,  0.,  1.,  1.,  0.,  0.,  1.,  1.,  1.,  1.,  0.,  1.,\n",
       "         0.,  0.,  1.,  0.,  1.,  1.,  0.,  0.,  1.,  0.,  1.,  1.,  1.,\n",
       "         1.,  1.,  1.,  0.,  0.,  1.,  0.,  1.,  1.,  1.,  1.,  1.,  1.,\n",
       "         0.,  1.,  1.,  1.,  0.,  1.,  1.,  0.,  1.,  1.,  0.,  0.,  1.,\n",
       "         1.,  1.],\n",
       "       [ 1.,  1.,  1.,  0.,  1.,  1.,  1.,  1.,  1.,  0.,  0.,  1.,  1.,\n",
       "         1.,  1.,  1.,  1.,  1.,  1.,  1.,  1.,  1.,  0.,  0.,  1.,  0.,\n",
       "         1.,  1.,  1.,  1.,  1.,  1.,  1.,  0.,  0.,  1.,  1.,  1.,  1.,\n",
       "         1.,  1.,  0.,  1.,  1.,  1.,  1.,  1.,  1.,  0.,  1.,  0.,  0.,\n",
       "         1.,  0.,  1.,  1.,  0.,  1.,  1.,  1.,  1.,  1.,  1.,  0.,  0.,\n",
       "         1.,  0.],\n",
       "       [ 0.,  0.,  1.,  1.,  0.,  0.,  0.,  0.,  1.,  1.,  1.,  1.,  1.,\n",
       "         1.,  0.,  0.,  1.,  1.,  0.,  0.,  0.,  0.,  0.,  0.,  0.,  0.,\n",
       "         0.,  0.,  1.,  1.,  1.,  1.,  1.,  0.,  1.,  0.,  1.,  1.,  0.,\n",
       "         1.,  0.,  1.,  1.,  1.,  1.,  1.,  0.,  0.,  1.,  1.,  1.,  1.,\n",
       "         0.,  1.,  1.,  0.,  0.,  1.,  1.,  1.,  1.,  1.,  0.,  0.,  0.,\n",
       "         0.,  0.],\n",
       "       [ 1.,  1.,  0.,  1.,  0.,  0.,  0.,  1.,  1.,  0.,  1.,  0.,  0.,\n",
       "         0.,  0.,  0.,  0.,  0.,  1.,  1.,  0.,  1.,  1.,  0.,  1.,  1.,\n",
       "         0.,  1.,  0.,  0.,  0.,  0.,  1.,  0.,  0.,  0.,  0.,  0.,  0.,\n",
       "         1.,  0.,  0.,  0.,  0.,  1.,  0.,  1.,  0.,  0.,  0.,  0.,  1.,\n",
       "         0.,  1.,  0.,  0.,  1.,  0.,  0.,  1.,  0.,  0.,  0.,  1.,  1.,\n",
       "         0.,  1.],\n",
       "       [ 0.,  1.,  0.,  0.,  1.,  1.,  1.,  0.,  1.,  0.,  1.,  0.,  0.,\n",
       "         0.,  0.,  1.,  1.,  1.,  1.,  0.,  0.,  1.,  1.,  1.,  0.,  1.,\n",
       "         0.,  1.,  1.,  1.,  0.,  0.,  1.,  0.,  1.,  1.,  0.,  0.,  1.,\n",
       "         0.,  1.,  0.,  0.,  0.,  0.,  0.,  0.,  0.,  0.,  0.,  1.,  1.,\n",
       "         0.,  0.,  0.,  0.,  1.,  1.,  1.,  1.,  0.,  0.,  1.,  1.,  0.,\n",
       "         0.,  0.],\n",
       "       [ 1.,  1.,  1.,  1.,  1.,  1.,  1.,  1.,  1.,  1.,  0.,  0.,  0.,\n",
       "         0.,  1.,  0.,  1.,  0.,  0.,  0.,  0.,  1.,  0.,  1.,  0.,  1.,\n",
       "         1.,  1.,  1.,  0.,  1.,  1.,  1.,  1.,  1.,  1.,  0.,  0.,  1.,\n",
       "         1.,  1.,  0.,  0.,  1.,  0.,  0.,  0.,  0.,  1.,  0.,  0.,  0.,\n",
       "         0.,  1.,  1.,  1.,  1.,  1.,  0.,  0.,  0.,  0.,  1.,  0.,  1.,\n",
       "         0.,  1.],\n",
       "       [ 1.,  1.,  0.,  1.,  0.,  0.,  1.,  1.,  1.,  1.,  1.,  1.,  1.,\n",
       "         1.,  1.,  1.,  0.,  1.,  1.,  1.,  1.,  1.,  1.,  1.,  1.,  0.,\n",
       "         0.,  1.,  1.,  0.,  0.,  1.,  0.,  1.,  1.,  1.,  0.,  0.,  0.,\n",
       "         0.,  1.,  1.,  0.,  0.,  1.,  1.,  1.,  1.,  1.,  1.,  1.,  1.,\n",
       "         1.,  1.,  0.,  1.,  1.,  1.,  1.,  1.,  1.,  1.,  1.,  1.,  1.,\n",
       "         1.,  0.],\n",
       "       [ 1.,  1.,  1.,  0.,  0.,  0.,  1.,  1.,  1.,  1.,  0.,  1.,  1.,\n",
       "         1.,  0.,  1.,  0.,  0.,  0.,  0.,  1.,  1.,  1.,  1.,  0.,  1.,\n",
       "         1.,  1.,  1.,  1.,  1.,  0.,  0.,  1.,  1.,  1.,  1.,  1.,  1.,\n",
       "         1.,  1.,  1.,  1.,  0.,  0.,  0.,  0.,  1.,  1.,  1.,  0.,  1.,\n",
       "         1.,  1.,  1.,  0.,  1.,  1.,  0.,  0.,  1.,  1.,  1.,  1.,  1.,\n",
       "         1.,  1.],\n",
       "       [ 1.,  1.,  1.,  1.,  1.,  1.,  0.,  0.,  0.,  1.,  0.,  1.,  1.,\n",
       "         1.,  1.,  1.,  0.,  0.,  0.,  1.,  0.,  1.,  1.,  1.,  0.,  1.,\n",
       "         1.,  1.,  1.,  1.,  1.,  0.,  0.,  1.,  1.,  1.,  0.,  0.,  1.,\n",
       "         0.,  1.,  1.,  1.,  0.,  0.,  1.,  0.,  1.,  1.,  1.,  1.,  1.,\n",
       "         0.,  0.,  1.,  0.,  1.,  1.,  0.,  0.,  0.,  0.,  0.,  1.,  1.,\n",
       "         0.,  1.],\n",
       "       [ 0.,  1.,  0.,  0.,  1.,  1.,  0.,  0.,  0.,  0.,  1.,  0.,  0.,\n",
       "         0.,  0.,  0.,  0.,  1.,  1.,  1.,  1.,  1.,  1.,  1.,  1.,  1.,\n",
       "         1.,  1.,  1.,  0.,  0.,  0.,  1.,  1.,  0.,  1.,  0.,  1.,  0.,\n",
       "         1.,  0.,  0.,  1.,  1.,  1.,  0.,  1.,  1.,  0.,  1.,  0.,  0.,\n",
       "         0.,  1.,  0.,  0.,  0.,  0.,  1.,  1.,  0.,  0.,  0.,  0.,  0.,\n",
       "         0.,  1.],\n",
       "       [ 0.,  0.,  0.,  1.,  0.,  0.,  0.,  0.,  0.,  0.,  1.,  0.,  1.,\n",
       "         0.,  0.,  0.,  1.,  1.,  0.,  1.,  0.,  0.,  0.,  0.,  1.,  0.,\n",
       "         0.,  0.,  0.,  0.,  0.,  0.,  0.,  0.,  0.,  0.,  0.,  0.,  0.,\n",
       "         0.,  0.,  1.,  0.,  1.,  0.,  0.,  1.,  1.,  0.,  1.,  0.,  0.,\n",
       "         0.,  0.,  0.,  0.,  0.,  0.,  0.,  0.,  0.,  0.,  0.,  0.,  0.,\n",
       "         0.,  0.],\n",
       "       [ 0.,  0.,  0.,  0.,  0.,  0.,  1.,  1.,  1.,  1.,  0.,  0.,  0.,\n",
       "         0.,  0.,  0.,  0.,  0.,  1.,  0.,  1.,  0.,  0.,  0.,  0.,  0.,\n",
       "         0.,  0.,  0.,  0.,  1.,  1.,  1.,  0.,  1.,  0.,  1.,  1.,  0.,\n",
       "         0.,  0.,  0.,  1.,  1.,  0.,  1.,  1.,  0.,  0.,  1.,  0.,  0.,\n",
       "         1.,  0.,  0.,  1.,  0.,  0.,  1.,  0.,  0.,  0.,  0.,  0.,  0.,\n",
       "         1.,  0.],\n",
       "       [ 0.,  0.,  0.,  0.,  0.,  0.,  1.,  0.,  0.,  1.,  0.,  0.,  0.,\n",
       "         0.,  0.,  0.,  1.,  0.,  0.,  0.,  0.,  0.,  0.,  0.,  1.,  0.,\n",
       "         0.,  0.,  0.,  0.,  1.,  1.,  0.,  0.,  0.,  0.,  0.,  0.,  1.,\n",
       "         0.,  0.,  0.,  0.,  0.,  0.,  0.,  0.,  0.,  0.,  0.,  0.,  0.,\n",
       "         0.,  0.,  1.,  0.,  0.,  0.,  1.,  0.,  0.,  1.,  0.,  0.,  1.,\n",
       "         0.,  0.]])"
      ]
     },
     "execution_count": 408,
     "metadata": {},
     "output_type": "execute_result"
    }
   ],
   "source": []
  },
  {
   "cell_type": "code",
   "execution_count": 432,
   "metadata": {
    "collapsed": false
   },
   "outputs": [
    {
     "data": {
      "text/plain": [
       "'__main__'"
      ]
     },
     "execution_count": 432,
     "metadata": {},
     "output_type": "execute_result"
    }
   ],
   "source": [
    "__name__"
   ]
  },
  {
   "cell_type": "code",
   "execution_count": null,
   "metadata": {
    "collapsed": true
   },
   "outputs": [],
   "source": []
  }
 ],
 "metadata": {
  "kernelspec": {
   "display_name": "Python 3",
   "language": "python",
   "name": "python3"
  },
  "language_info": {
   "codemirror_mode": {
    "name": "ipython",
    "version": 3
   },
   "file_extension": ".py",
   "mimetype": "text/x-python",
   "name": "python",
   "nbconvert_exporter": "python",
   "pygments_lexer": "ipython3",
   "version": "3.5.2"
  }
 },
 "nbformat": 4,
 "nbformat_minor": 0
}
