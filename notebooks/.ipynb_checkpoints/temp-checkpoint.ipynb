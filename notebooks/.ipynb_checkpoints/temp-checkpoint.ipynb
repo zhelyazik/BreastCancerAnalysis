{
 "cells": [
  {
   "cell_type": "code",
   "execution_count": 1,
   "metadata": {
    "collapsed": false
   },
   "outputs": [
    {
     "name": "stderr",
     "output_type": "stream",
     "text": [
      "C:\\Users\\vikazorin.OTDEL114\\AppData\\Local\\Continuum\\Anaconda3\\lib\\site-packages\\pandas\\computation\\__init__.py:19: UserWarning: The installed version of numexpr 2.4.4 is not supported in pandas and will be not be used\n",
      "\n",
      "  UserWarning)\n"
     ]
    }
   ],
   "source": [
    "import os\n",
    "import sys\n",
    "sys.path.append('../src/')\n",
    "from util import *\n",
    "from feature_makers import *"
   ]
  },
  {
   "cell_type": "code",
   "execution_count": 2,
   "metadata": {
    "collapsed": false
   },
   "outputs": [],
   "source": [
    "prefix = '../data/breast_cancer_paclitaxel_plus_radiation/'\n",
    "pathto_xpr = 'GSE22513_expression_by_symbol.txt'\n",
    "pathto_resp = 'responders.txt'\n",
    "pathto_nonresp = 'nonresponders.txt'\n",
    "xpressions_pr, responses_pr, target_ids_pr, gens_pr = read_GEO_dataset(pathto_xpr, \n",
    "                                                                       pathto_resp,\n",
    "                                                                       pathto_nonresp,\n",
    "                                                                       prefix)\n",
    "mask = range(0,responses_pr.shape[0],2)\n",
    "xpressions_pr, responses_pr, target_ids_pr = \\\n",
    "xpressions_pr[mask, :], responses_pr[mask], target_ids_pr[mask]"
   ]
  },
  {
   "cell_type": "code",
   "execution_count": 3,
   "metadata": {
    "collapsed": false
   },
   "outputs": [],
   "source": [
    "path_to_dataset = \"../data/breast_cancer_TFAC/GSE20194_breastCancer_TFAC.txt\"\n",
    "dataset = pd.read_csv(path_to_dataset, sep='\\t')\n",
    "xpressions, responses, target_ids, gens = preprocess_dataset(dataset)"
   ]
  },
  {
   "cell_type": "code",
   "execution_count": 4,
   "metadata": {
    "collapsed": false
   },
   "outputs": [],
   "source": [
    "target_pr_descr = \"\"\"\n",
    "GSM559042\tnon-pCR breast biopsy, sample 1 rep 1\n",
    "GSM559043\tnon-pCR breast biopsy, sample 1 rep 2\n",
    "GSM559044\tnon-pCR breast biopsy, sample 2 rep 1\n",
    "GSM559045\tnon-pCR breast biopsy, sample 2 rep 2\n",
    "GSM559046\tnon-pCR breast biopsy, sample 3 rep 1\n",
    "GSM559047\tnon-pCR breast biopsy, sample 3 rep 2\n",
    "GSM559048\tnon-pCR breast biopsy, sample 4 rep 1\n",
    "GSM559049\tnon-pCR breast biopsy, sample 4 rep 2\n",
    "GSM559050\tnon-pCR breast biopsy, sample 5 rep 1\n",
    "GSM559051\tnon-pCR breast biopsy, sample 5 rep 2\n",
    "GSM559052\tnon-pCR breast biopsy, sample 6 rep 1\n",
    "GSM559053\tnon-pCR breast biopsy, sample 6 rep 2\n",
    "GSM559054\tnon-pCR breast biopsy, sample 8 rep 1\n",
    "GSM559055\tnon-pCR breast biopsy, sample 8 rep 2\n",
    "GSM559056\tnon-pCR breast biopsy, sample 9 rep 1\n",
    "GSM559057\tnon-pCR breast biopsy, sample 9 rep 2\n",
    "GSM559058\tnon-pCR breast biopsy, sample 10 rep 1\n",
    "GSM559059\tnon-pCR breast biopsy, sample 10 rep 2\n",
    "GSM559060\tnon-pCR breast biopsy, sample 13 rep 1\n",
    "GSM559061\tnon-pCR breast biopsy, sample 13 rep 2\n",
    "GSM559062\tpCR breast biopsy, sample 15 rep 1\n",
    "GSM559063\tpCR breast biopsy, sample 15 rep 2\n",
    "GSM559064\tpCR breast biopsy, sample 16 rep 1\n",
    "GSM559065\tpCR breast biopsy, sample 16 rep 2\n",
    "GSM559066\tpCR breast biopsy, sample 18 rep 1\n",
    "GSM559067\tpCR breast biopsy, sample 18 rep 2\n",
    "GSM559068\tpCR breast biopsy, sample 19 rep 1\n",
    "GSM559069\tpCR breast biopsy, sample 19 rep 2\n",
    "\"\"\""
   ]
  },
  {
   "cell_type": "code",
   "execution_count": 8,
   "metadata": {
    "collapsed": true
   },
   "outputs": [],
   "source": [
    "del pickle\n",
    "import pickle \n",
    "# params = (samples, \n",
    "#           xpressions, responses,\n",
    "#           xpressions_pr, responses_pr,\n",
    "#           descriptions_M3, descriptions_h4)\n",
    "\n",
    "# pickle.dump(params, open('params.pkl', 'wb'))"
   ]
  },
  {
   "cell_type": "code",
   "execution_count": 9,
   "metadata": {
    "collapsed": false
   },
   "outputs": [],
   "source": [
    "samples, xpressions, responses, xpressions_pr, responses_pr,\\\n",
    "descriptions_M3, descriptions_h4 = pickle.load(open('params.pkl', 'rb'))"
   ]
  },
  {
   "cell_type": "code",
   "execution_count": 10,
   "metadata": {
    "collapsed": false
   },
   "outputs": [],
   "source": [
    "from sklearn.svm import SVC\n",
    "from sklearn.neighbors import KNeighborsClassifier\n",
    "from sklearn.linear_model import LogisticRegression\n",
    "from sklearn.preprocessing import scale\n",
    "\n",
    "knn = KNeighborsClassifier(n_neighbors=15)\n",
    "clf = SVC(kernel=\"linear\", probability=True)\n",
    "lr = LogisticRegression()\n",
    "xpressions_scaled = scale(xpressions, axis=1)"
   ]
  },
  {
   "cell_type": "code",
   "execution_count": 31,
   "metadata": {
    "collapsed": false
   },
   "outputs": [],
   "source": [
    "# np.random.seed(358)\n",
    "np.random.seed(3267)\n",
    "# samples = gen_samples(xpressions, responses, iters=10, cv=10)"
   ]
  },
  {
   "cell_type": "code",
   "execution_count": null,
   "metadata": {
    "collapsed": true
   },
   "outputs": [],
   "source": []
  },
  {
   "cell_type": "markdown",
   "metadata": {},
   "source": [
    "## Классификация по всем генам"
   ]
  },
  {
   "cell_type": "code",
   "execution_count": 95,
   "metadata": {
    "collapsed": false
   },
   "outputs": [
    {
     "name": "stdout",
     "output_type": "stream",
     "text": [
      "iteration: 0\n",
      "iteration: 1\n",
      "iteration: 2\n",
      "iteration: 3\n",
      "iteration: 4\n",
      "iteration: 5\n",
      "iteration: 6\n",
      "iteration: 7\n",
      "iteration: 8\n",
      "iteration: 9\n"
     ]
    },
    {
     "data": {
      "text/html": [
       "<div>\n",
       "<table border=\"1\" class=\"dataframe\">\n",
       "  <thead>\n",
       "    <tr style=\"text-align: right;\">\n",
       "      <th></th>\n",
       "      <th>precision 0</th>\n",
       "      <th>recall 0</th>\n",
       "      <th>precision 1</th>\n",
       "      <th>recall 1</th>\n",
       "      <th>accuracy</th>\n",
       "      <th>auc</th>\n",
       "    </tr>\n",
       "  </thead>\n",
       "  <tbody>\n",
       "    <tr>\n",
       "      <th>схема а</th>\n",
       "      <td>0.684381</td>\n",
       "      <td>0.684333</td>\n",
       "      <td>0.689956</td>\n",
       "      <td>0.659000</td>\n",
       "      <td>0.671667</td>\n",
       "      <td>0.731422</td>\n",
       "    </tr>\n",
       "    <tr>\n",
       "      <th>схема б</th>\n",
       "      <td>0.666543</td>\n",
       "      <td>0.683929</td>\n",
       "      <td>0.675807</td>\n",
       "      <td>0.657143</td>\n",
       "      <td>0.670536</td>\n",
       "      <td>0.717028</td>\n",
       "    </tr>\n",
       "  </tbody>\n",
       "</table>\n",
       "</div>"
      ],
      "text/plain": [
       "         precision 0  recall 0  precision 1  recall 1  accuracy       auc\n",
       "схема а     0.684381  0.684333     0.689956  0.659000  0.671667  0.731422\n",
       "схема б     0.666543  0.683929     0.675807  0.657143  0.670536  0.717028"
      ]
     },
     "execution_count": 95,
     "metadata": {},
     "output_type": "execute_result"
    }
   ],
   "source": [
    "np.random.seed(3267)\n",
    "a_ident, b_ident, cv_results_ident, descriptions_ident = \\\n",
    "    do_simmetry_class_cv(xpressions_scaled,\n",
    "                         responses,\n",
    "                         samples,\n",
    "                         clf,\n",
    "                         feature_maker=identity_heuristic)    \n",
    "process_results(a_ident, b_ident, cv_results_ident)"
   ]
  },
  {
   "cell_type": "code",
   "execution_count": 69,
   "metadata": {
    "collapsed": false
   },
   "outputs": [
    {
     "name": "stdout",
     "output_type": "stream",
     "text": [
      "iteration: 0\n",
      "iteration: 1\n",
      "iteration: 2\n",
      "iteration: 3\n",
      "iteration: 4\n",
      "iteration: 5\n",
      "iteration: 6\n",
      "iteration: 7\n",
      "iteration: 8\n",
      "iteration: 9\n"
     ]
    },
    {
     "data": {
      "text/html": [
       "<div>\n",
       "<table border=\"1\" class=\"dataframe\">\n",
       "  <thead>\n",
       "    <tr style=\"text-align: right;\">\n",
       "      <th></th>\n",
       "      <th>precision 0</th>\n",
       "      <th>recall 0</th>\n",
       "      <th>precision 1</th>\n",
       "      <th>recall 1</th>\n",
       "      <th>accuracy</th>\n",
       "      <th>auc</th>\n",
       "    </tr>\n",
       "  </thead>\n",
       "  <tbody>\n",
       "    <tr>\n",
       "      <th>схема а</th>\n",
       "      <td>0.685187</td>\n",
       "      <td>0.676</td>\n",
       "      <td>0.685790</td>\n",
       "      <td>0.6640</td>\n",
       "      <td>0.67000</td>\n",
       "      <td>0.738744</td>\n",
       "    </tr>\n",
       "    <tr>\n",
       "      <th>схема б</th>\n",
       "      <td>0.666869</td>\n",
       "      <td>0.675</td>\n",
       "      <td>0.671543</td>\n",
       "      <td>0.6625</td>\n",
       "      <td>0.66875</td>\n",
       "      <td>0.741008</td>\n",
       "    </tr>\n",
       "  </tbody>\n",
       "</table>\n",
       "</div>"
      ],
      "text/plain": [
       "         precision 0  recall 0  precision 1  recall 1  accuracy       auc\n",
       "схема а     0.685187     0.676     0.685790    0.6640   0.67000  0.738744\n",
       "схема б     0.666869     0.675     0.671543    0.6625   0.66875  0.741008"
      ]
     },
     "execution_count": 69,
     "metadata": {},
     "output_type": "execute_result"
    }
   ],
   "source": [
    "np.random.seed(3267)\n",
    "a_ident_lr, b_ident_lr, cv_results_ident_lr, descriptions_ident_lr = \\\n",
    "    do_simmetry_class_cv(xpressions_scaled,\n",
    "                         responses,\n",
    "                         samples,\n",
    "                         lr,\n",
    "                         feature_maker=identity_heuristic)    \n",
    "process_results(a_ident_lr, b_ident_lr, cv_results_ident_lr)"
   ]
  },
  {
   "cell_type": "code",
   "execution_count": 76,
   "metadata": {
    "collapsed": false
   },
   "outputs": [
    {
     "name": "stdout",
     "output_type": "stream",
     "text": [
      "iteration: 0\n",
      "iteration: 1\n",
      "iteration: 2\n",
      "iteration: 3\n",
      "iteration: 4\n",
      "iteration: 5\n",
      "iteration: 6\n",
      "iteration: 7\n",
      "iteration: 8\n",
      "iteration: 9\n"
     ]
    },
    {
     "data": {
      "text/html": [
       "<div>\n",
       "<table border=\"1\" class=\"dataframe\">\n",
       "  <thead>\n",
       "    <tr style=\"text-align: right;\">\n",
       "      <th></th>\n",
       "      <th>precision 0</th>\n",
       "      <th>recall 0</th>\n",
       "      <th>precision 1</th>\n",
       "      <th>recall 1</th>\n",
       "      <th>accuracy</th>\n",
       "      <th>auc</th>\n",
       "    </tr>\n",
       "  </thead>\n",
       "  <tbody>\n",
       "    <tr>\n",
       "      <th>схема а</th>\n",
       "      <td>0.643897</td>\n",
       "      <td>0.559333</td>\n",
       "      <td>0.626071</td>\n",
       "      <td>0.690333</td>\n",
       "      <td>0.624833</td>\n",
       "      <td>0.670189</td>\n",
       "    </tr>\n",
       "    <tr>\n",
       "      <th>схема б</th>\n",
       "      <td>0.642248</td>\n",
       "      <td>0.557143</td>\n",
       "      <td>0.611987</td>\n",
       "      <td>0.689286</td>\n",
       "      <td>0.623214</td>\n",
       "      <td>0.664270</td>\n",
       "    </tr>\n",
       "  </tbody>\n",
       "</table>\n",
       "</div>"
      ],
      "text/plain": [
       "         precision 0  recall 0  precision 1  recall 1  accuracy       auc\n",
       "схема а     0.643897  0.559333     0.626071  0.690333  0.624833  0.670189\n",
       "схема б     0.642248  0.557143     0.611987  0.689286  0.623214  0.664270"
      ]
     },
     "execution_count": 76,
     "metadata": {},
     "output_type": "execute_result"
    }
   ],
   "source": [
    "np.random.seed(3267)\n",
    "a_ident_knn, b_ident_knn, cv_results_ident_knn, descriptions_ident_knn = \\\n",
    "    do_simmetry_class_cv(xpressions_scaled,\n",
    "                         responses,\n",
    "                         samples,\n",
    "                         knn,\n",
    "                         feature_maker=identity_heuristic)    \n",
    "process_results(a_ident_knn, b_ident_knn, cv_results_ident_knn)"
   ]
  },
  {
   "cell_type": "markdown",
   "metadata": {},
   "source": [
    "## Классификация по признакам отобранным по эвристике M1, M2 совместно"
   ]
  },
  {
   "cell_type": "code",
   "execution_count": 91,
   "metadata": {
    "collapsed": false
   },
   "outputs": [
    {
     "name": "stdout",
     "output_type": "stream",
     "text": [
      "iteration: 0\n",
      "iteration: 1\n",
      "iteration: 2\n",
      "iteration: 3\n",
      "iteration: 4\n",
      "iteration: 5\n",
      "iteration: 6\n",
      "iteration: 7\n",
      "iteration: 8\n",
      "iteration: 9\n"
     ]
    },
    {
     "data": {
      "text/html": [
       "<div>\n",
       "<table border=\"1\" class=\"dataframe\">\n",
       "  <thead>\n",
       "    <tr style=\"text-align: right;\">\n",
       "      <th></th>\n",
       "      <th>precision 0</th>\n",
       "      <th>recall 0</th>\n",
       "      <th>precision 1</th>\n",
       "      <th>recall 1</th>\n",
       "      <th>accuracy</th>\n",
       "      <th>auc</th>\n",
       "    </tr>\n",
       "  </thead>\n",
       "  <tbody>\n",
       "    <tr>\n",
       "      <th>схема а</th>\n",
       "      <td>0.701504</td>\n",
       "      <td>0.702000</td>\n",
       "      <td>0.700385</td>\n",
       "      <td>0.678000</td>\n",
       "      <td>0.690000</td>\n",
       "      <td>0.741989</td>\n",
       "    </tr>\n",
       "    <tr>\n",
       "      <th>схема б</th>\n",
       "      <td>0.687835</td>\n",
       "      <td>0.701786</td>\n",
       "      <td>0.695089</td>\n",
       "      <td>0.680357</td>\n",
       "      <td>0.691071</td>\n",
       "      <td>0.727057</td>\n",
       "    </tr>\n",
       "  </tbody>\n",
       "</table>\n",
       "</div>"
      ],
      "text/plain": [
       "         precision 0  recall 0  precision 1  recall 1  accuracy       auc\n",
       "схема а     0.701504  0.702000     0.700385  0.678000  0.690000  0.741989\n",
       "схема б     0.687835  0.701786     0.695089  0.680357  0.691071  0.727057"
      ]
     },
     "execution_count": 91,
     "metadata": {},
     "output_type": "execute_result"
    }
   ],
   "source": [
    "np.random.seed(3267)\n",
    "a_M1_M2, b_M1_M2, cv_results_M1_M2, descriptions_M1_M2 = \\\n",
    "    do_simmetry_class_cv(xpressions_scaled,\n",
    "                         responses,\n",
    "                         samples,\n",
    "                         clf,\n",
    "                         feature_maker=heuristic_1_2_features)    \n",
    "process_results(a_M1_M2, b_M1_M2, cv_results_M1_M2)"
   ]
  },
  {
   "cell_type": "code",
   "execution_count": 92,
   "metadata": {
    "collapsed": false
   },
   "outputs": [
    {
     "name": "stdout",
     "output_type": "stream",
     "text": [
      "iteration: 0\n",
      "iteration: 1\n",
      "iteration: 2\n",
      "iteration: 3\n",
      "iteration: 4\n",
      "iteration: 5\n",
      "iteration: 6\n",
      "iteration: 7\n",
      "iteration: 8\n",
      "iteration: 9\n"
     ]
    },
    {
     "data": {
      "text/html": [
       "<div>\n",
       "<table border=\"1\" class=\"dataframe\">\n",
       "  <thead>\n",
       "    <tr style=\"text-align: right;\">\n",
       "      <th></th>\n",
       "      <th>precision 0</th>\n",
       "      <th>recall 0</th>\n",
       "      <th>precision 1</th>\n",
       "      <th>recall 1</th>\n",
       "      <th>accuracy</th>\n",
       "      <th>auc</th>\n",
       "    </tr>\n",
       "  </thead>\n",
       "  <tbody>\n",
       "    <tr>\n",
       "      <th>схема а</th>\n",
       "      <td>0.722052</td>\n",
       "      <td>0.719667</td>\n",
       "      <td>0.725984</td>\n",
       "      <td>0.691333</td>\n",
       "      <td>0.705500</td>\n",
       "      <td>0.765078</td>\n",
       "    </tr>\n",
       "    <tr>\n",
       "      <th>схема б</th>\n",
       "      <td>0.702096</td>\n",
       "      <td>0.717857</td>\n",
       "      <td>0.709843</td>\n",
       "      <td>0.692857</td>\n",
       "      <td>0.705357</td>\n",
       "      <td>0.761097</td>\n",
       "    </tr>\n",
       "  </tbody>\n",
       "</table>\n",
       "</div>"
      ],
      "text/plain": [
       "         precision 0  recall 0  precision 1  recall 1  accuracy       auc\n",
       "схема а     0.722052  0.719667     0.725984  0.691333  0.705500  0.765078\n",
       "схема б     0.702096  0.717857     0.709843  0.692857  0.705357  0.761097"
      ]
     },
     "execution_count": 92,
     "metadata": {},
     "output_type": "execute_result"
    }
   ],
   "source": [
    "np.random.seed(3267)\n",
    "a_M1_M2_lr, b_M1_M2_lr, cv_results_M1_M2_lr, descriptions_M1_M2_lr = \\\n",
    "    do_simmetry_class_cv(xpressions_scaled,\n",
    "                         responses,\n",
    "                         samples,\n",
    "                         lr,\n",
    "                         feature_maker=heuristic_1_2_features)    \n",
    "process_results(a_M1_M2_lr, b_M1_M2_lr, cv_results_M1_M2_lr)"
   ]
  },
  {
   "cell_type": "code",
   "execution_count": 93,
   "metadata": {
    "collapsed": false
   },
   "outputs": [
    {
     "name": "stdout",
     "output_type": "stream",
     "text": [
      "iteration: 0\n",
      "iteration: 1\n",
      "iteration: 2\n",
      "iteration: 3\n",
      "iteration: 4\n",
      "iteration: 5\n",
      "iteration: 6\n",
      "iteration: 7\n",
      "iteration: 8\n",
      "iteration: 9\n"
     ]
    },
    {
     "data": {
      "text/html": [
       "<div>\n",
       "<table border=\"1\" class=\"dataframe\">\n",
       "  <thead>\n",
       "    <tr style=\"text-align: right;\">\n",
       "      <th></th>\n",
       "      <th>precision 0</th>\n",
       "      <th>recall 0</th>\n",
       "      <th>precision 1</th>\n",
       "      <th>recall 1</th>\n",
       "      <th>accuracy</th>\n",
       "      <th>auc</th>\n",
       "    </tr>\n",
       "  </thead>\n",
       "  <tbody>\n",
       "    <tr>\n",
       "      <th>схема а</th>\n",
       "      <td>0.648000</td>\n",
       "      <td>0.728333</td>\n",
       "      <td>0.711202</td>\n",
       "      <td>0.596667</td>\n",
       "      <td>0.6625</td>\n",
       "      <td>0.717244</td>\n",
       "    </tr>\n",
       "    <tr>\n",
       "      <th>схема б</th>\n",
       "      <td>0.645566</td>\n",
       "      <td>0.726786</td>\n",
       "      <td>0.687973</td>\n",
       "      <td>0.598214</td>\n",
       "      <td>0.6625</td>\n",
       "      <td>0.712261</td>\n",
       "    </tr>\n",
       "  </tbody>\n",
       "</table>\n",
       "</div>"
      ],
      "text/plain": [
       "         precision 0  recall 0  precision 1  recall 1  accuracy       auc\n",
       "схема а     0.648000  0.728333     0.711202  0.596667    0.6625  0.717244\n",
       "схема б     0.645566  0.726786     0.687973  0.598214    0.6625  0.712261"
      ]
     },
     "execution_count": 93,
     "metadata": {},
     "output_type": "execute_result"
    }
   ],
   "source": [
    "np.random.seed(3267)\n",
    "a_M1_M2_knn, b_M1_M2_knn, cv_results_M1_M2_knn, descriptions_M1_M2 = \\\n",
    "    do_simmetry_class_cv(xpressions_scaled,\n",
    "                         responses,\n",
    "                         samples,\n",
    "                         knn,\n",
    "                         feature_maker=heuristic_1_2_features)    \n",
    "process_results(a_M1_M2_knn, b_M1_M2_knn, cv_results_M1_M2_knn)"
   ]
  },
  {
   "cell_type": "markdown",
   "metadata": {},
   "source": [
    "## Классификация по генам отобранным по эвристике M3"
   ]
  },
  {
   "cell_type": "code",
   "execution_count": 12,
   "metadata": {
    "collapsed": false
   },
   "outputs": [
    {
     "name": "stdout",
     "output_type": "stream",
     "text": [
      "iteration: 0\n",
      "iteration: 1\n",
      "iteration: 2\n",
      "iteration: 3\n",
      "iteration: 4\n",
      "iteration: 5\n",
      "iteration: 6\n",
      "iteration: 7\n",
      "iteration: 8\n",
      "iteration: 9\n"
     ]
    },
    {
     "data": {
      "text/html": [
       "<div>\n",
       "<table border=\"1\" class=\"dataframe\">\n",
       "  <thead>\n",
       "    <tr style=\"text-align: right;\">\n",
       "      <th></th>\n",
       "      <th>precision 0</th>\n",
       "      <th>recall 0</th>\n",
       "      <th>precision 1</th>\n",
       "      <th>recall 1</th>\n",
       "      <th>accuracy</th>\n",
       "      <th>auc</th>\n",
       "    </tr>\n",
       "  </thead>\n",
       "  <tbody>\n",
       "    <tr>\n",
       "      <th>схема а</th>\n",
       "      <td>0.665310</td>\n",
       "      <td>0.665000</td>\n",
       "      <td>0.661345</td>\n",
       "      <td>0.635333</td>\n",
       "      <td>0.650167</td>\n",
       "      <td>0.709111</td>\n",
       "    </tr>\n",
       "    <tr>\n",
       "      <th>схема б</th>\n",
       "      <td>0.646825</td>\n",
       "      <td>0.666071</td>\n",
       "      <td>0.654701</td>\n",
       "      <td>0.633929</td>\n",
       "      <td>0.650000</td>\n",
       "      <td>0.697752</td>\n",
       "    </tr>\n",
       "  </tbody>\n",
       "</table>\n",
       "</div>"
      ],
      "text/plain": [
       "         precision 0  recall 0  precision 1  recall 1  accuracy       auc\n",
       "схема а     0.665310  0.665000     0.661345  0.635333  0.650167  0.709111\n",
       "схема б     0.646825  0.666071     0.654701  0.633929  0.650000  0.697752"
      ]
     },
     "execution_count": 12,
     "metadata": {},
     "output_type": "execute_result"
    }
   ],
   "source": [
    "np.random.seed(3267)\n",
    "a_M3, b_M3, cv_results_M3, _ = \\\n",
    "    do_simmetry_class_cv_by_descr(xpressions_scaled,\n",
    "                         responses,\n",
    "                         samples, descriptions_M3,\n",
    "                         clf,\n",
    "                         feature_maker=heuristic_3_by_description)    \n",
    "process_results(a_M3, b_M3, cv_results_M3)"
   ]
  },
  {
   "cell_type": "code",
   "execution_count": 13,
   "metadata": {
    "collapsed": false
   },
   "outputs": [
    {
     "name": "stdout",
     "output_type": "stream",
     "text": [
      "iteration: 0\n",
      "iteration: 1\n",
      "iteration: 2\n",
      "iteration: 3\n",
      "iteration: 4\n",
      "iteration: 5\n",
      "iteration: 6\n",
      "iteration: 7\n",
      "iteration: 8\n",
      "iteration: 9\n"
     ]
    },
    {
     "data": {
      "text/html": [
       "<div>\n",
       "<table border=\"1\" class=\"dataframe\">\n",
       "  <thead>\n",
       "    <tr style=\"text-align: right;\">\n",
       "      <th></th>\n",
       "      <th>precision 0</th>\n",
       "      <th>recall 0</th>\n",
       "      <th>precision 1</th>\n",
       "      <th>recall 1</th>\n",
       "      <th>accuracy</th>\n",
       "      <th>auc</th>\n",
       "    </tr>\n",
       "  </thead>\n",
       "  <tbody>\n",
       "    <tr>\n",
       "      <th>схема а</th>\n",
       "      <td>0.682583</td>\n",
       "      <td>0.680000</td>\n",
       "      <td>0.683992</td>\n",
       "      <td>0.658000</td>\n",
       "      <td>0.669000</td>\n",
       "      <td>0.724744</td>\n",
       "    </tr>\n",
       "    <tr>\n",
       "      <th>схема б</th>\n",
       "      <td>0.667980</td>\n",
       "      <td>0.680357</td>\n",
       "      <td>0.672049</td>\n",
       "      <td>0.658929</td>\n",
       "      <td>0.669643</td>\n",
       "      <td>0.717283</td>\n",
       "    </tr>\n",
       "  </tbody>\n",
       "</table>\n",
       "</div>"
      ],
      "text/plain": [
       "         precision 0  recall 0  precision 1  recall 1  accuracy       auc\n",
       "схема а     0.682583  0.680000     0.683992  0.658000  0.669000  0.724744\n",
       "схема б     0.667980  0.680357     0.672049  0.658929  0.669643  0.717283"
      ]
     },
     "execution_count": 13,
     "metadata": {},
     "output_type": "execute_result"
    }
   ],
   "source": [
    "np.random.seed(3267)\n",
    "a_M3_lr, b_M3_lr, cv_results_M3_lr, _ = \\\n",
    "    do_simmetry_class_cv_by_descr(xpressions_scaled,\n",
    "                         responses, \n",
    "                         samples, descriptions_M3,\n",
    "                         lr,\n",
    "                         feature_maker=heuristic_3_by_description)    \n",
    "process_results(a_M3_lr, b_M3_lr, cv_results_M3_lr)"
   ]
  },
  {
   "cell_type": "code",
   "execution_count": 14,
   "metadata": {
    "collapsed": false
   },
   "outputs": [
    {
     "name": "stdout",
     "output_type": "stream",
     "text": [
      "iteration: 0\n",
      "iteration: 1\n",
      "iteration: 2\n",
      "iteration: 3\n",
      "iteration: 4\n",
      "iteration: 5\n",
      "iteration: 6\n",
      "iteration: 7\n",
      "iteration: 8\n",
      "iteration: 9\n"
     ]
    },
    {
     "data": {
      "text/html": [
       "<div>\n",
       "<table border=\"1\" class=\"dataframe\">\n",
       "  <thead>\n",
       "    <tr style=\"text-align: right;\">\n",
       "      <th></th>\n",
       "      <th>precision 0</th>\n",
       "      <th>recall 0</th>\n",
       "      <th>precision 1</th>\n",
       "      <th>recall 1</th>\n",
       "      <th>accuracy</th>\n",
       "      <th>auc</th>\n",
       "    </tr>\n",
       "  </thead>\n",
       "  <tbody>\n",
       "    <tr>\n",
       "      <th>схема а</th>\n",
       "      <td>0.645976</td>\n",
       "      <td>0.646667</td>\n",
       "      <td>0.648468</td>\n",
       "      <td>0.620667</td>\n",
       "      <td>0.633667</td>\n",
       "      <td>0.672472</td>\n",
       "    </tr>\n",
       "    <tr>\n",
       "      <th>схема б</th>\n",
       "      <td>0.633186</td>\n",
       "      <td>0.644643</td>\n",
       "      <td>0.638987</td>\n",
       "      <td>0.623214</td>\n",
       "      <td>0.633929</td>\n",
       "      <td>0.667363</td>\n",
       "    </tr>\n",
       "  </tbody>\n",
       "</table>\n",
       "</div>"
      ],
      "text/plain": [
       "         precision 0  recall 0  precision 1  recall 1  accuracy       auc\n",
       "схема а     0.645976  0.646667     0.648468  0.620667  0.633667  0.672472\n",
       "схема б     0.633186  0.644643     0.638987  0.623214  0.633929  0.667363"
      ]
     },
     "execution_count": 14,
     "metadata": {},
     "output_type": "execute_result"
    }
   ],
   "source": [
    "np.random.seed(3267)\n",
    "a_M3_knn, b_M3_knn, cv_results_M3_knn, _ = \\\n",
    "    do_simmetry_class_cv_by_descr(xpressions_scaled,\n",
    "                         responses,\n",
    "                         samples, descriptions_M3,\n",
    "                         knn,\n",
    "                         feature_maker=heuristic_3_by_description)    \n",
    "process_results(a_M3_knn, b_M3_knn, cv_results_M3_knn)"
   ]
  },
  {
   "cell_type": "markdown",
   "metadata": {},
   "source": [
    "## Классификация по парам, отобранным по эвристике М4"
   ]
  },
  {
   "cell_type": "code",
   "execution_count": 15,
   "metadata": {
    "collapsed": false
   },
   "outputs": [
    {
     "name": "stdout",
     "output_type": "stream",
     "text": [
      "iteration: 0\n"
     ]
    },
    {
     "data": {
      "text/html": [
       "<div>\n",
       "<table border=\"1\" class=\"dataframe\">\n",
       "  <thead>\n",
       "    <tr style=\"text-align: right;\">\n",
       "      <th></th>\n",
       "      <th>precision 0</th>\n",
       "      <th>recall 0</th>\n",
       "      <th>precision 1</th>\n",
       "      <th>recall 1</th>\n",
       "      <th>accuracy</th>\n",
       "      <th>auc</th>\n",
       "    </tr>\n",
       "  </thead>\n",
       "  <tbody>\n",
       "    <tr>\n",
       "      <th>схема а</th>\n",
       "      <td>0.802024</td>\n",
       "      <td>0.740000</td>\n",
       "      <td>0.773889</td>\n",
       "      <td>0.783333</td>\n",
       "      <td>0.761667</td>\n",
       "      <td>0.886222</td>\n",
       "    </tr>\n",
       "    <tr>\n",
       "      <th>схема б</th>\n",
       "      <td>0.773585</td>\n",
       "      <td>0.732143</td>\n",
       "      <td>0.745763</td>\n",
       "      <td>0.785714</td>\n",
       "      <td>0.758929</td>\n",
       "      <td>0.863839</td>\n",
       "    </tr>\n",
       "  </tbody>\n",
       "</table>\n",
       "</div>"
      ],
      "text/plain": [
       "         precision 0  recall 0  precision 1  recall 1  accuracy       auc\n",
       "схема а     0.802024  0.740000     0.773889  0.783333  0.761667  0.886222\n",
       "схема б     0.773585  0.732143     0.745763  0.785714  0.758929  0.863839"
      ]
     },
     "execution_count": 15,
     "metadata": {},
     "output_type": "execute_result"
    }
   ],
   "source": [
    "np.random.seed(3267)\n",
    "a_h4, b_h4, cv_results_h4, _  = \\\n",
    "    do_simmetry_class_cv_by_descr(xpressions,\n",
    "                         responses, \n",
    "                         samples[:1], descriptions_h4,\n",
    "                         clf,\n",
    "                         feature_maker=heuristic_4_by_description)\n",
    "    \n",
    "process_results(a_h4, b_h4, cv_results_h4)"
   ]
  },
  {
   "cell_type": "code",
   "execution_count": 18,
   "metadata": {
    "collapsed": false
   },
   "outputs": [
    {
     "name": "stdout",
     "output_type": "stream",
     "text": [
      "iteration: 0\n"
     ]
    },
    {
     "data": {
      "text/html": [
       "<div>\n",
       "<table border=\"1\" class=\"dataframe\">\n",
       "  <thead>\n",
       "    <tr style=\"text-align: right;\">\n",
       "      <th></th>\n",
       "      <th>precision 0</th>\n",
       "      <th>recall 0</th>\n",
       "      <th>precision 1</th>\n",
       "      <th>recall 1</th>\n",
       "      <th>accuracy</th>\n",
       "      <th>auc</th>\n",
       "    </tr>\n",
       "  </thead>\n",
       "  <tbody>\n",
       "    <tr>\n",
       "      <th>схема а</th>\n",
       "      <td>0.761429</td>\n",
       "      <td>0.670000</td>\n",
       "      <td>0.744127</td>\n",
       "      <td>0.800000</td>\n",
       "      <td>0.735000</td>\n",
       "      <td>0.884667</td>\n",
       "    </tr>\n",
       "    <tr>\n",
       "      <th>схема б</th>\n",
       "      <td>0.770833</td>\n",
       "      <td>0.660714</td>\n",
       "      <td>0.703125</td>\n",
       "      <td>0.803571</td>\n",
       "      <td>0.732143</td>\n",
       "      <td>0.859694</td>\n",
       "    </tr>\n",
       "  </tbody>\n",
       "</table>\n",
       "</div>"
      ],
      "text/plain": [
       "         precision 0  recall 0  precision 1  recall 1  accuracy       auc\n",
       "схема а     0.761429  0.670000     0.744127  0.800000  0.735000  0.884667\n",
       "схема б     0.770833  0.660714     0.703125  0.803571  0.732143  0.859694"
      ]
     },
     "execution_count": 18,
     "metadata": {},
     "output_type": "execute_result"
    }
   ],
   "source": [
    "np.random.seed(3267)\n",
    "a_h4_lr, b_h4_lr, cv_results_h4_lr, _  = \\\n",
    "    do_simmetry_class_cv_by_descr(xpressions,\n",
    "                         responses, \n",
    "                         samples[:1], descriptions_h4,\n",
    "                         lr,\n",
    "                         feature_maker=heuristic_4_by_description)\n",
    "    \n",
    "process_results(a_h4_lr, b_h4_lr, cv_results_h4_lr)"
   ]
  },
  {
   "cell_type": "code",
   "execution_count": 19,
   "metadata": {
    "collapsed": false
   },
   "outputs": [
    {
     "name": "stdout",
     "output_type": "stream",
     "text": [
      "iteration: 0\n"
     ]
    },
    {
     "data": {
      "text/html": [
       "<div>\n",
       "<table border=\"1\" class=\"dataframe\">\n",
       "  <thead>\n",
       "    <tr style=\"text-align: right;\">\n",
       "      <th></th>\n",
       "      <th>precision 0</th>\n",
       "      <th>recall 0</th>\n",
       "      <th>precision 1</th>\n",
       "      <th>recall 1</th>\n",
       "      <th>accuracy</th>\n",
       "      <th>auc</th>\n",
       "    </tr>\n",
       "  </thead>\n",
       "  <tbody>\n",
       "    <tr>\n",
       "      <th>схема а</th>\n",
       "      <td>0.779762</td>\n",
       "      <td>0.863333</td>\n",
       "      <td>0.885556</td>\n",
       "      <td>0.746667</td>\n",
       "      <td>0.805000</td>\n",
       "      <td>0.880000</td>\n",
       "    </tr>\n",
       "    <tr>\n",
       "      <th>схема б</th>\n",
       "      <td>0.774194</td>\n",
       "      <td>0.857143</td>\n",
       "      <td>0.840000</td>\n",
       "      <td>0.750000</td>\n",
       "      <td>0.803571</td>\n",
       "      <td>0.850925</td>\n",
       "    </tr>\n",
       "  </tbody>\n",
       "</table>\n",
       "</div>"
      ],
      "text/plain": [
       "         precision 0  recall 0  precision 1  recall 1  accuracy       auc\n",
       "схема а     0.779762  0.863333     0.885556  0.746667  0.805000  0.880000\n",
       "схема б     0.774194  0.857143     0.840000  0.750000  0.803571  0.850925"
      ]
     },
     "execution_count": 19,
     "metadata": {},
     "output_type": "execute_result"
    }
   ],
   "source": [
    "np.random.seed(3267)\n",
    "a_h4_knn, b_h4_knn, cv_results_h4_knn, _  = \\\n",
    "    do_simmetry_class_cv_by_descr(xpressions,\n",
    "                         responses, \n",
    "                         samples[:1], descriptions_h4,\n",
    "                         knn,\n",
    "                         feature_maker=heuristic_4_by_description)\n",
    "    \n",
    "process_results(a_h4_knn, b_h4_knn, cv_results_h4_knn)"
   ]
  },
  {
   "cell_type": "markdown",
   "metadata": {},
   "source": [
    "## Классификация по 250 случайно отобранным генам"
   ]
  },
  {
   "cell_type": "code",
   "execution_count": 20,
   "metadata": {
    "collapsed": false
   },
   "outputs": [
    {
     "name": "stdout",
     "output_type": "stream",
     "text": [
      "iteration: 0\n",
      "iteration: 1\n",
      "iteration: 2\n",
      "iteration: 3\n",
      "iteration: 4\n",
      "iteration: 5\n",
      "iteration: 6\n",
      "iteration: 7\n",
      "iteration: 8\n",
      "iteration: 9\n"
     ]
    },
    {
     "data": {
      "text/html": [
       "<div>\n",
       "<table border=\"1\" class=\"dataframe\">\n",
       "  <thead>\n",
       "    <tr style=\"text-align: right;\">\n",
       "      <th></th>\n",
       "      <th>precision 0</th>\n",
       "      <th>recall 0</th>\n",
       "      <th>precision 1</th>\n",
       "      <th>recall 1</th>\n",
       "      <th>accuracy</th>\n",
       "      <th>auc</th>\n",
       "    </tr>\n",
       "  </thead>\n",
       "  <tbody>\n",
       "    <tr>\n",
       "      <th>схема а</th>\n",
       "      <td>0.670968</td>\n",
       "      <td>0.703333</td>\n",
       "      <td>0.702716</td>\n",
       "      <td>0.632667</td>\n",
       "      <td>0.66800</td>\n",
       "      <td>0.726211</td>\n",
       "    </tr>\n",
       "    <tr>\n",
       "      <th>схема б</th>\n",
       "      <td>0.659070</td>\n",
       "      <td>0.703571</td>\n",
       "      <td>0.681216</td>\n",
       "      <td>0.633929</td>\n",
       "      <td>0.66875</td>\n",
       "      <td>0.704225</td>\n",
       "    </tr>\n",
       "  </tbody>\n",
       "</table>\n",
       "</div>"
      ],
      "text/plain": [
       "         precision 0  recall 0  precision 1  recall 1  accuracy       auc\n",
       "схема а     0.670968  0.703333     0.702716  0.632667   0.66800  0.726211\n",
       "схема б     0.659070  0.703571     0.681216  0.633929   0.66875  0.704225"
      ]
     },
     "execution_count": 20,
     "metadata": {},
     "output_type": "execute_result"
    }
   ],
   "source": [
    "np.random.seed(3267)\n",
    "a_rnd_gens_clf, b_rnd_gens_clf, cv_results_rnd_gens_clf, description_rnd = \\\n",
    "    do_simmetry_class_cv(xpressions_scaled,\n",
    "                         responses,\n",
    "                         samples,\n",
    "                         clf,\n",
    "                         feature_maker=rnd_gen_heuristic)    \n",
    "process_results(a_rnd_gens_clf, b_rnd_gens_clf, cv_results_rnd_gens_clf)"
   ]
  },
  {
   "cell_type": "code",
   "execution_count": 22,
   "metadata": {
    "collapsed": false
   },
   "outputs": [
    {
     "name": "stdout",
     "output_type": "stream",
     "text": [
      "iteration: 0\n",
      "iteration: 1\n",
      "iteration: 2\n",
      "iteration: 3\n",
      "iteration: 4\n",
      "iteration: 5\n",
      "iteration: 6\n",
      "iteration: 7\n",
      "iteration: 8\n",
      "iteration: 9\n"
     ]
    },
    {
     "data": {
      "text/html": [
       "<div>\n",
       "<table border=\"1\" class=\"dataframe\">\n",
       "  <thead>\n",
       "    <tr style=\"text-align: right;\">\n",
       "      <th></th>\n",
       "      <th>precision 0</th>\n",
       "      <th>recall 0</th>\n",
       "      <th>precision 1</th>\n",
       "      <th>recall 1</th>\n",
       "      <th>accuracy</th>\n",
       "      <th>auc</th>\n",
       "    </tr>\n",
       "  </thead>\n",
       "  <tbody>\n",
       "    <tr>\n",
       "      <th>схема а</th>\n",
       "      <td>0.689560</td>\n",
       "      <td>0.715667</td>\n",
       "      <td>0.713762</td>\n",
       "      <td>0.651333</td>\n",
       "      <td>0.683500</td>\n",
       "      <td>0.737889</td>\n",
       "    </tr>\n",
       "    <tr>\n",
       "      <th>схема б</th>\n",
       "      <td>0.672837</td>\n",
       "      <td>0.716071</td>\n",
       "      <td>0.696199</td>\n",
       "      <td>0.650000</td>\n",
       "      <td>0.683036</td>\n",
       "      <td>0.725446</td>\n",
       "    </tr>\n",
       "  </tbody>\n",
       "</table>\n",
       "</div>"
      ],
      "text/plain": [
       "         precision 0  recall 0  precision 1  recall 1  accuracy       auc\n",
       "схема а     0.689560  0.715667     0.713762  0.651333  0.683500  0.737889\n",
       "схема б     0.672837  0.716071     0.696199  0.650000  0.683036  0.725446"
      ]
     },
     "execution_count": 22,
     "metadata": {},
     "output_type": "execute_result"
    }
   ],
   "source": [
    "np.random.seed(3267)\n",
    "a_rnd_gens_lr, b_rnd_gens_lr, cv_results_rnd_gens_lr, _ = \\\n",
    "    do_simmetry_class_cv_by_descr(xpressions_scaled,\n",
    "                         responses,\n",
    "                         samples, description_rnd,\n",
    "                         lr,\n",
    "                         feature_maker=heuristic_3_by_description)    \n",
    "process_results(a_rnd_gens_lr, b_rnd_gens_lr, cv_results_rnd_gens_lr)"
   ]
  },
  {
   "cell_type": "code",
   "execution_count": 23,
   "metadata": {
    "collapsed": false
   },
   "outputs": [
    {
     "name": "stdout",
     "output_type": "stream",
     "text": [
      "iteration: 0\n",
      "iteration: 1\n",
      "iteration: 2\n",
      "iteration: 3\n",
      "iteration: 4\n",
      "iteration: 5\n",
      "iteration: 6\n",
      "iteration: 7\n",
      "iteration: 8\n",
      "iteration: 9\n"
     ]
    },
    {
     "data": {
      "text/html": [
       "<div>\n",
       "<table border=\"1\" class=\"dataframe\">\n",
       "  <thead>\n",
       "    <tr style=\"text-align: right;\">\n",
       "      <th></th>\n",
       "      <th>precision 0</th>\n",
       "      <th>recall 0</th>\n",
       "      <th>precision 1</th>\n",
       "      <th>recall 1</th>\n",
       "      <th>accuracy</th>\n",
       "      <th>auc</th>\n",
       "    </tr>\n",
       "  </thead>\n",
       "  <tbody>\n",
       "    <tr>\n",
       "      <th>схема а</th>\n",
       "      <td>0.550447</td>\n",
       "      <td>0.531000</td>\n",
       "      <td>0.540480</td>\n",
       "      <td>0.545000</td>\n",
       "      <td>0.538000</td>\n",
       "      <td>0.562911</td>\n",
       "    </tr>\n",
       "    <tr>\n",
       "      <th>схема б</th>\n",
       "      <td>0.536995</td>\n",
       "      <td>0.532143</td>\n",
       "      <td>0.540552</td>\n",
       "      <td>0.544643</td>\n",
       "      <td>0.538393</td>\n",
       "      <td>0.555851</td>\n",
       "    </tr>\n",
       "  </tbody>\n",
       "</table>\n",
       "</div>"
      ],
      "text/plain": [
       "         precision 0  recall 0  precision 1  recall 1  accuracy       auc\n",
       "схема а     0.550447  0.531000     0.540480  0.545000  0.538000  0.562911\n",
       "схема б     0.536995  0.532143     0.540552  0.544643  0.538393  0.555851"
      ]
     },
     "execution_count": 23,
     "metadata": {},
     "output_type": "execute_result"
    }
   ],
   "source": [
    "np.random.seed(3267)\n",
    "a_rnd_gens_knn, b_rnd_gens_knn, cv_results_rnd_gens_knn, _ = \\\n",
    "    do_simmetry_class_cv_by_descr(xpressions_scaled,\n",
    "                         responses,\n",
    "                         samples, description_rnd,\n",
    "                         knn,\n",
    "                         feature_maker=heuristic_3_by_description)    \n",
    "process_results(a_rnd_gens_knn, b_rnd_gens_knn, cv_results_rnd_gens_knn)"
   ]
  },
  {
   "cell_type": "markdown",
   "metadata": {},
   "source": [
    "## Классификация по отношению порядка 70 случайно отобранных генов"
   ]
  },
  {
   "cell_type": "code",
   "execution_count": 26,
   "metadata": {
    "collapsed": false
   },
   "outputs": [
    {
     "name": "stdout",
     "output_type": "stream",
     "text": [
      "iteration: 0\n",
      "iteration: 1\n",
      "iteration: 2\n",
      "iteration: 3\n",
      "iteration: 4\n",
      "iteration: 5\n",
      "iteration: 6\n",
      "iteration: 7\n",
      "iteration: 8\n",
      "iteration: 9\n"
     ]
    },
    {
     "data": {
      "text/html": [
       "<div>\n",
       "<table border=\"1\" class=\"dataframe\">\n",
       "  <thead>\n",
       "    <tr style=\"text-align: right;\">\n",
       "      <th></th>\n",
       "      <th>precision 0</th>\n",
       "      <th>recall 0</th>\n",
       "      <th>precision 1</th>\n",
       "      <th>recall 1</th>\n",
       "      <th>accuracy</th>\n",
       "      <th>auc</th>\n",
       "    </tr>\n",
       "  </thead>\n",
       "  <tbody>\n",
       "    <tr>\n",
       "      <th>схема а</th>\n",
       "      <td>0.599429</td>\n",
       "      <td>0.583000</td>\n",
       "      <td>0.593949</td>\n",
       "      <td>0.587667</td>\n",
       "      <td>0.585333</td>\n",
       "      <td>0.616222</td>\n",
       "    </tr>\n",
       "    <tr>\n",
       "      <th>схема б</th>\n",
       "      <td>0.588026</td>\n",
       "      <td>0.583929</td>\n",
       "      <td>0.584496</td>\n",
       "      <td>0.587500</td>\n",
       "      <td>0.585714</td>\n",
       "      <td>0.606266</td>\n",
       "    </tr>\n",
       "  </tbody>\n",
       "</table>\n",
       "</div>"
      ],
      "text/plain": [
       "         precision 0  recall 0  precision 1  recall 1  accuracy       auc\n",
       "схема а     0.599429  0.583000     0.593949  0.587667  0.585333  0.616222\n",
       "схема б     0.588026  0.583929     0.584496  0.587500  0.585714  0.606266"
      ]
     },
     "execution_count": 26,
     "metadata": {},
     "output_type": "execute_result"
    }
   ],
   "source": [
    "np.random.seed(3267)\n",
    "a_rnd_pairs_clf, b_rnd_pairs_clf, cv_results_rnd_pairs_clf, description_4_rnd = \\\n",
    "    do_simmetry_class_cv(xpressions_scaled,\n",
    "                         responses,\n",
    "                         samples,\n",
    "                         clf,\n",
    "                         feature_maker=heuristic_4_rnd)    \n",
    "process_results(a_rnd_pairs_clf, b_rnd_pairs_clf, cv_results_rnd_pairs_clf)"
   ]
  },
  {
   "cell_type": "code",
   "execution_count": 27,
   "metadata": {
    "collapsed": false
   },
   "outputs": [
    {
     "name": "stdout",
     "output_type": "stream",
     "text": [
      "iteration: 0\n",
      "iteration: 1\n",
      "iteration: 2\n",
      "iteration: 3\n",
      "iteration: 4\n",
      "iteration: 5\n",
      "iteration: 6\n",
      "iteration: 7\n",
      "iteration: 8\n",
      "iteration: 9\n"
     ]
    },
    {
     "data": {
      "text/html": [
       "<div>\n",
       "<table border=\"1\" class=\"dataframe\">\n",
       "  <thead>\n",
       "    <tr style=\"text-align: right;\">\n",
       "      <th></th>\n",
       "      <th>precision 0</th>\n",
       "      <th>recall 0</th>\n",
       "      <th>precision 1</th>\n",
       "      <th>recall 1</th>\n",
       "      <th>accuracy</th>\n",
       "      <th>auc</th>\n",
       "    </tr>\n",
       "  </thead>\n",
       "  <tbody>\n",
       "    <tr>\n",
       "      <th>схема а</th>\n",
       "      <td>0.616653</td>\n",
       "      <td>0.623333</td>\n",
       "      <td>0.622548</td>\n",
       "      <td>0.586667</td>\n",
       "      <td>0.605000</td>\n",
       "      <td>0.651922</td>\n",
       "    </tr>\n",
       "    <tr>\n",
       "      <th>схема б</th>\n",
       "      <td>0.604567</td>\n",
       "      <td>0.625000</td>\n",
       "      <td>0.607321</td>\n",
       "      <td>0.585714</td>\n",
       "      <td>0.605357</td>\n",
       "      <td>0.654560</td>\n",
       "    </tr>\n",
       "  </tbody>\n",
       "</table>\n",
       "</div>"
      ],
      "text/plain": [
       "         precision 0  recall 0  precision 1  recall 1  accuracy       auc\n",
       "схема а     0.616653  0.623333     0.622548  0.586667  0.605000  0.651922\n",
       "схема б     0.604567  0.625000     0.607321  0.585714  0.605357  0.654560"
      ]
     },
     "execution_count": 27,
     "metadata": {},
     "output_type": "execute_result"
    }
   ],
   "source": [
    "np.random.seed(3267)\n",
    "a_rnd_pairs_lr, b_rnd_pairs_lr, cv_results_rnd_pairs_lr, _ = \\\n",
    "    do_simmetry_class_cv_by_descr(xpressions_scaled,\n",
    "                         responses,\n",
    "                         samples, description_4_rnd,\n",
    "                         lr,\n",
    "                         feature_maker=heuristic_4_by_description)    \n",
    "process_results(a_rnd_pairs_lr, b_rnd_pairs_lr, cv_results_rnd_pairs_lr)"
   ]
  },
  {
   "cell_type": "code",
   "execution_count": 29,
   "metadata": {
    "collapsed": false
   },
   "outputs": [
    {
     "name": "stdout",
     "output_type": "stream",
     "text": [
      "iteration: 0\n",
      "iteration: 1\n",
      "iteration: 2\n",
      "iteration: 3\n",
      "iteration: 4\n",
      "iteration: 5\n",
      "iteration: 6\n",
      "iteration: 7\n",
      "iteration: 8\n",
      "iteration: 9\n"
     ]
    },
    {
     "data": {
      "text/html": [
       "<div>\n",
       "<table border=\"1\" class=\"dataframe\">\n",
       "  <thead>\n",
       "    <tr style=\"text-align: right;\">\n",
       "      <th></th>\n",
       "      <th>precision 0</th>\n",
       "      <th>recall 0</th>\n",
       "      <th>precision 1</th>\n",
       "      <th>recall 1</th>\n",
       "      <th>accuracy</th>\n",
       "      <th>auc</th>\n",
       "    </tr>\n",
       "  </thead>\n",
       "  <tbody>\n",
       "    <tr>\n",
       "      <th>схема а</th>\n",
       "      <td>0.602431</td>\n",
       "      <td>0.701333</td>\n",
       "      <td>0.651488</td>\n",
       "      <td>0.515333</td>\n",
       "      <td>0.608333</td>\n",
       "      <td>0.648711</td>\n",
       "    </tr>\n",
       "    <tr>\n",
       "      <th>схема б</th>\n",
       "      <td>0.594888</td>\n",
       "      <td>0.700000</td>\n",
       "      <td>0.631150</td>\n",
       "      <td>0.516071</td>\n",
       "      <td>0.608036</td>\n",
       "      <td>0.636591</td>\n",
       "    </tr>\n",
       "  </tbody>\n",
       "</table>\n",
       "</div>"
      ],
      "text/plain": [
       "         precision 0  recall 0  precision 1  recall 1  accuracy       auc\n",
       "схема а     0.602431  0.701333     0.651488  0.515333  0.608333  0.648711\n",
       "схема б     0.594888  0.700000     0.631150  0.516071  0.608036  0.636591"
      ]
     },
     "execution_count": 29,
     "metadata": {},
     "output_type": "execute_result"
    }
   ],
   "source": [
    "np.random.seed(3267)\n",
    "a_rnd_pairs_knn, b_rnd_pairs_knn, cv_results_rnd_pairs_knn, _ = \\\n",
    "    do_simmetry_class_cv_by_descr(xpressions_scaled,\n",
    "                         responses,\n",
    "                         samples, description_4_rnd,\n",
    "                         knn,\n",
    "                         feature_maker=heuristic_4_by_description)    \n",
    "process_results(a_rnd_pairs_knn, b_rnd_pairs_knn, cv_results_rnd_pairs_knn)"
   ]
  },
  {
   "cell_type": "markdown",
   "metadata": {},
   "source": [
    "## Тестирование гипотез"
   ]
  },
  {
   "cell_type": "code",
   "execution_count": 30,
   "metadata": {
    "collapsed": true
   },
   "outputs": [],
   "source": [
    "from scipy import stats\n",
    "from statsmodels.sandbox.stats.multicomp import multipletests\n"
   ]
  },
  {
   "cell_type": "code",
   "execution_count": null,
   "metadata": {
    "collapsed": true
   },
   "outputs": [],
   "source": []
  },
  {
   "cell_type": "code",
   "execution_count": null,
   "metadata": {
    "collapsed": true
   },
   "outputs": [],
   "source": []
  },
  {
   "cell_type": "markdown",
   "metadata": {
    "collapsed": true
   },
   "source": [
    "# Датасет GSE22513 "
   ]
  },
  {
   "cell_type": "code",
   "execution_count": 158,
   "metadata": {
    "collapsed": true
   },
   "outputs": [],
   "source": [
    "def transform_gens_order(gens_src, gens_dst, X):\n",
    "    new_X = np.zeros(shape=(X.shape[0], gens_dst.shape[0]))\n",
    "    src_vocab = {g:i for i,g in enumerate(gens_src)}    \n",
    "    for new_idx, gen in enumerate(gens_dst):\n",
    "        old_idx = src_vocab.get(gen, -1)\n",
    "        if old_idx >= 0:\n",
    "            new_X[:, new_idx] = X[:, old_idx]\n",
    "    return X    "
   ]
  },
  {
   "cell_type": "code",
   "execution_count": 160,
   "metadata": {
    "collapsed": true
   },
   "outputs": [],
   "source": [
    "xpressions_pr_new = scale(transform_gens_order(gens_pr, gens, xpressions_pr), axis=1) "
   ]
  },
  {
   "cell_type": "code",
   "execution_count": 163,
   "metadata": {
    "collapsed": true
   },
   "outputs": [],
   "source": [
    "np.random.seed(3267)\n",
    "sample_pr = gen_samples(xpressions_pr_new, responses_pr, iters=10, cv=4)"
   ]
  },
  {
   "cell_type": "code",
   "execution_count": null,
   "metadata": {
    "collapsed": true
   },
   "outputs": [],
   "source": []
  }
 ],
 "metadata": {
  "kernelspec": {
   "display_name": "Python 3",
   "language": "python",
   "name": "python3"
  },
  "language_info": {
   "codemirror_mode": {
    "name": "ipython",
    "version": 3
   },
   "file_extension": ".py",
   "mimetype": "text/x-python",
   "name": "python",
   "nbconvert_exporter": "python",
   "pygments_lexer": "ipython3",
   "version": "3.5.2"
  }
 },
 "nbformat": 4,
 "nbformat_minor": 0
}
