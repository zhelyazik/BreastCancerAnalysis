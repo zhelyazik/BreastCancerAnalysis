{
 "cells": [
  {
   "cell_type": "code",
   "execution_count": 1,
   "metadata": {
    "collapsed": false
   },
   "outputs": [
    {
     "name": "stderr",
     "output_type": "stream",
     "text": [
      "C:\\Users\\vikazorin.OTDEL114\\AppData\\Local\\Continuum\\Anaconda3\\lib\\site-packages\\pandas\\computation\\__init__.py:19: UserWarning: The installed version of numexpr 2.4.4 is not supported in pandas and will be not be used\n",
      "\n",
      "  UserWarning)\n"
     ]
    }
   ],
   "source": [
    "import os\n",
    "import sys\n",
    "sys.path.append('../src/')\n",
    "from util import *\n",
    "from feature_makers import *"
   ]
  },
  {
   "cell_type": "code",
   "execution_count": 16,
   "metadata": {
    "collapsed": false
   },
   "outputs": [],
   "source": [
    "prefix = '../data/breast_cancer_paclitaxel_plus_radiation/'\n",
    "pathto_xpr = 'GSE22513_expression_by_symbol.txt'\n",
    "pathto_resp = 'responders.txt'\n",
    "pathto_nonresp = 'nonresponders.txt'\n",
    "xpressions_pr, responses_pr, target_ids_pr, gens_pr = read_GEO_dataset(pathto_xpr, \n",
    "                                                                       pathto_resp,\n",
    "                                                                       pathto_nonresp,\n",
    "                                                                       prefix)\n",
    "mask = range(0,responses_pr.shape[0],2)\n",
    "xpressions_pr, responses_pr, target_ids_pr = \\\n",
    "xpressions_pr[mask, :], responses_pr[mask], target_ids_pr[mask]"
   ]
  },
  {
   "cell_type": "code",
   "execution_count": 17,
   "metadata": {
    "collapsed": false
   },
   "outputs": [],
   "source": [
    "path_to_dataset = \"../data/breast_cancer_TFAC/GSE20194_breastCancer_TFAC.txt\"\n",
    "dataset = pd.read_csv(path_to_dataset, sep='\\t')\n",
    "xpressions, responses, target_ids, gens = preprocess_dataset(dataset)"
   ]
  },
  {
   "cell_type": "code",
   "execution_count": 18,
   "metadata": {
    "collapsed": false
   },
   "outputs": [],
   "source": [
    "target_pr_descr = \"\"\"\n",
    "GSM559042\tnon-pCR breast biopsy, sample 1 rep 1\n",
    "GSM559043\tnon-pCR breast biopsy, sample 1 rep 2\n",
    "GSM559044\tnon-pCR breast biopsy, sample 2 rep 1\n",
    "GSM559045\tnon-pCR breast biopsy, sample 2 rep 2\n",
    "GSM559046\tnon-pCR breast biopsy, sample 3 rep 1\n",
    "GSM559047\tnon-pCR breast biopsy, sample 3 rep 2\n",
    "GSM559048\tnon-pCR breast biopsy, sample 4 rep 1\n",
    "GSM559049\tnon-pCR breast biopsy, sample 4 rep 2\n",
    "GSM559050\tnon-pCR breast biopsy, sample 5 rep 1\n",
    "GSM559051\tnon-pCR breast biopsy, sample 5 rep 2\n",
    "GSM559052\tnon-pCR breast biopsy, sample 6 rep 1\n",
    "GSM559053\tnon-pCR breast biopsy, sample 6 rep 2\n",
    "GSM559054\tnon-pCR breast biopsy, sample 8 rep 1\n",
    "GSM559055\tnon-pCR breast biopsy, sample 8 rep 2\n",
    "GSM559056\tnon-pCR breast biopsy, sample 9 rep 1\n",
    "GSM559057\tnon-pCR breast biopsy, sample 9 rep 2\n",
    "GSM559058\tnon-pCR breast biopsy, sample 10 rep 1\n",
    "GSM559059\tnon-pCR breast biopsy, sample 10 rep 2\n",
    "GSM559060\tnon-pCR breast biopsy, sample 13 rep 1\n",
    "GSM559061\tnon-pCR breast biopsy, sample 13 rep 2\n",
    "GSM559062\tpCR breast biopsy, sample 15 rep 1\n",
    "GSM559063\tpCR breast biopsy, sample 15 rep 2\n",
    "GSM559064\tpCR breast biopsy, sample 16 rep 1\n",
    "GSM559065\tpCR breast biopsy, sample 16 rep 2\n",
    "GSM559066\tpCR breast biopsy, sample 18 rep 1\n",
    "GSM559067\tpCR breast biopsy, sample 18 rep 2\n",
    "GSM559068\tpCR breast biopsy, sample 19 rep 1\n",
    "GSM559069\tpCR breast biopsy, sample 19 rep 2\n",
    "\"\"\""
   ]
  },
  {
   "cell_type": "code",
   "execution_count": 33,
   "metadata": {
    "collapsed": true
   },
   "outputs": [],
   "source": [
    "# del pickle\n",
    "import pickle \n",
    "# params = (samples, \n",
    "#           xpressions, responses,\n",
    "#           xpressions_pr, responses_pr,\n",
    "#           descriptions_M3, descriptions_h4)\n",
    "\n",
    "# pickle.dump(params, open('params.pkl', 'wb'))"
   ]
  },
  {
   "cell_type": "code",
   "execution_count": 34,
   "metadata": {
    "collapsed": false
   },
   "outputs": [],
   "source": [
    "samples, xpressions, responses, xpressions_pr, responses_pr,\\\n",
    "descriptions_M3, descriptions_h4 = pickle.load(open('../data/params.pkl', 'rb'))"
   ]
  },
  {
   "cell_type": "code",
   "execution_count": 35,
   "metadata": {
    "collapsed": false
   },
   "outputs": [],
   "source": [
    "from sklearn.svm import SVC\n",
    "from sklearn.neighbors import KNeighborsClassifier\n",
    "from sklearn.linear_model import LogisticRegression\n",
    "from sklearn.preprocessing import scale\n",
    "\n",
    "knn = KNeighborsClassifier(n_neighbors=15)\n",
    "clf = SVC(kernel=\"linear\", probability=True)\n",
    "lr = LogisticRegression()\n",
    "xpressions_scaled = scale(xpressions, axis=1)"
   ]
  },
  {
   "cell_type": "code",
   "execution_count": 7,
   "metadata": {
    "collapsed": false
   },
   "outputs": [],
   "source": [
    "# np.random.seed(358)\n",
    "np.random.seed(3267)\n",
    "# samples = gen_samples(xpressions, responses, iters=10, cv=10)"
   ]
  },
  {
   "cell_type": "code",
   "execution_count": null,
   "metadata": {
    "collapsed": true
   },
   "outputs": [],
   "source": []
  },
  {
   "cell_type": "markdown",
   "metadata": {},
   "source": [
    "## Классификация по всем генам"
   ]
  },
  {
   "cell_type": "code",
   "execution_count": 177,
   "metadata": {
    "collapsed": false
   },
   "outputs": [
    {
     "name": "stdout",
     "output_type": "stream",
     "text": [
      "iteration: 0\n",
      "iteration: 1\n",
      "iteration: 2\n",
      "iteration: 3\n",
      "iteration: 4\n",
      "iteration: 5\n",
      "iteration: 6\n",
      "iteration: 7\n",
      "iteration: 8\n",
      "iteration: 9\n"
     ]
    },
    {
     "data": {
      "text/html": [
       "<div>\n",
       "<table border=\"1\" class=\"dataframe\">\n",
       "  <thead>\n",
       "    <tr style=\"text-align: right;\">\n",
       "      <th></th>\n",
       "      <th>precision 0</th>\n",
       "      <th>recall 0</th>\n",
       "      <th>precision 1</th>\n",
       "      <th>recall 1</th>\n",
       "      <th>accuracy</th>\n",
       "      <th>auc</th>\n",
       "    </tr>\n",
       "  </thead>\n",
       "  <tbody>\n",
       "    <tr>\n",
       "      <th>схема а</th>\n",
       "      <td>0.684381</td>\n",
       "      <td>0.684333</td>\n",
       "      <td>0.689956</td>\n",
       "      <td>0.659000</td>\n",
       "      <td>0.671667</td>\n",
       "      <td>0.731422</td>\n",
       "    </tr>\n",
       "    <tr>\n",
       "      <th>схема б</th>\n",
       "      <td>0.666543</td>\n",
       "      <td>0.683929</td>\n",
       "      <td>0.675807</td>\n",
       "      <td>0.657143</td>\n",
       "      <td>0.670536</td>\n",
       "      <td>0.717028</td>\n",
       "    </tr>\n",
       "  </tbody>\n",
       "</table>\n",
       "</div>"
      ],
      "text/plain": [
       "         precision 0  recall 0  precision 1  recall 1  accuracy       auc\n",
       "схема а     0.684381  0.684333     0.689956  0.659000  0.671667  0.731422\n",
       "схема б     0.666543  0.683929     0.675807  0.657143  0.670536  0.717028"
      ]
     },
     "execution_count": 177,
     "metadata": {},
     "output_type": "execute_result"
    }
   ],
   "source": [
    "np.random.seed(3267)\n",
    "a_ident, b_ident, cv_results_ident_clf, descriptions_ident = \\\n",
    "    do_simmetry_class_cv(xpressions_scaled,\n",
    "                         responses,\n",
    "                         samples,\n",
    "                         clf,\n",
    "                         feature_maker=identity_heuristic)    \n",
    "process_results(a_ident, b_ident, cv_results_ident)"
   ]
  },
  {
   "cell_type": "code",
   "execution_count": 170,
   "metadata": {
    "collapsed": false
   },
   "outputs": [
    {
     "name": "stdout",
     "output_type": "stream",
     "text": [
      "iteration: 0\n",
      "iteration: 1\n",
      "iteration: 2\n",
      "iteration: 3\n",
      "iteration: 4\n",
      "iteration: 5\n",
      "iteration: 6\n",
      "iteration: 7\n",
      "iteration: 8\n",
      "iteration: 9\n"
     ]
    },
    {
     "data": {
      "text/html": [
       "<div>\n",
       "<table border=\"1\" class=\"dataframe\">\n",
       "  <thead>\n",
       "    <tr style=\"text-align: right;\">\n",
       "      <th></th>\n",
       "      <th>precision 0</th>\n",
       "      <th>recall 0</th>\n",
       "      <th>precision 1</th>\n",
       "      <th>recall 1</th>\n",
       "      <th>accuracy</th>\n",
       "      <th>auc</th>\n",
       "    </tr>\n",
       "  </thead>\n",
       "  <tbody>\n",
       "    <tr>\n",
       "      <th>схема а</th>\n",
       "      <td>0.685187</td>\n",
       "      <td>0.676</td>\n",
       "      <td>0.685790</td>\n",
       "      <td>0.6640</td>\n",
       "      <td>0.67000</td>\n",
       "      <td>0.738744</td>\n",
       "    </tr>\n",
       "    <tr>\n",
       "      <th>схема б</th>\n",
       "      <td>0.666869</td>\n",
       "      <td>0.675</td>\n",
       "      <td>0.671543</td>\n",
       "      <td>0.6625</td>\n",
       "      <td>0.66875</td>\n",
       "      <td>0.741008</td>\n",
       "    </tr>\n",
       "  </tbody>\n",
       "</table>\n",
       "</div>"
      ],
      "text/plain": [
       "         precision 0  recall 0  precision 1  recall 1  accuracy       auc\n",
       "схема а     0.685187     0.676     0.685790    0.6640   0.67000  0.738744\n",
       "схема б     0.666869     0.675     0.671543    0.6625   0.66875  0.741008"
      ]
     },
     "execution_count": 170,
     "metadata": {},
     "output_type": "execute_result"
    }
   ],
   "source": [
    "np.random.seed(3267)\n",
    "a_ident_lr, b_ident_lr, cv_results_ident_lr, descriptions_ident_lr = \\\n",
    "    do_simmetry_class_cv(xpressions_scaled,\n",
    "                         responses,\n",
    "                         samples,\n",
    "                         lr,\n",
    "                         feature_maker=identity_heuristic)    \n",
    "process_results(a_ident_lr, b_ident_lr, cv_results_ident_lr)"
   ]
  },
  {
   "cell_type": "code",
   "execution_count": 282,
   "metadata": {
    "collapsed": false,
    "scrolled": true
   },
   "outputs": [
    {
     "name": "stdout",
     "output_type": "stream",
     "text": [
      "iteration: 0\n",
      "iteration: 1\n",
      "iteration: 2\n",
      "iteration: 3\n",
      "iteration: 4\n",
      "iteration: 5\n",
      "iteration: 6\n",
      "iteration: 7\n",
      "iteration: 8\n",
      "iteration: 9\n"
     ]
    },
    {
     "data": {
      "text/html": [
       "<div>\n",
       "<table border=\"1\" class=\"dataframe\">\n",
       "  <thead>\n",
       "    <tr style=\"text-align: right;\">\n",
       "      <th></th>\n",
       "      <th>precision 0</th>\n",
       "      <th>recall 0</th>\n",
       "      <th>precision 1</th>\n",
       "      <th>recall 1</th>\n",
       "      <th>accuracy</th>\n",
       "      <th>auc</th>\n",
       "    </tr>\n",
       "  </thead>\n",
       "  <tbody>\n",
       "    <tr>\n",
       "      <th>схема а</th>\n",
       "      <td>0.643897</td>\n",
       "      <td>0.559333</td>\n",
       "      <td>0.626071</td>\n",
       "      <td>0.690333</td>\n",
       "      <td>0.624833</td>\n",
       "      <td>0.670189</td>\n",
       "    </tr>\n",
       "    <tr>\n",
       "      <th>схема б</th>\n",
       "      <td>0.642248</td>\n",
       "      <td>0.557143</td>\n",
       "      <td>0.611987</td>\n",
       "      <td>0.689286</td>\n",
       "      <td>0.623214</td>\n",
       "      <td>0.664270</td>\n",
       "    </tr>\n",
       "  </tbody>\n",
       "</table>\n",
       "</div>"
      ],
      "text/plain": [
       "         precision 0  recall 0  precision 1  recall 1  accuracy       auc\n",
       "схема а     0.643897  0.559333     0.626071  0.690333  0.624833  0.670189\n",
       "схема б     0.642248  0.557143     0.611987  0.689286  0.623214  0.664270"
      ]
     },
     "execution_count": 282,
     "metadata": {},
     "output_type": "execute_result"
    }
   ],
   "source": [
    "knn = KNeighborsClassifier(n_neighbors=15)\n",
    "np.random.seed(3267)\n",
    "a_ident_knn, b_ident_knn, cv_results_ident_knn, descriptions_ident_knn = \\\n",
    "    do_simmetry_class_cv(xpressions_scaled,\n",
    "                         responses,\n",
    "                         samples,\n",
    "                         knn,\n",
    "                         feature_maker=identity_heuristic)    \n",
    "process_results(a_ident_knn, b_ident_knn, cv_results_ident_knn)"
   ]
  },
  {
   "cell_type": "code",
   "execution_count": null,
   "metadata": {
    "collapsed": true
   },
   "outputs": [],
   "source": []
  },
  {
   "cell_type": "markdown",
   "metadata": {},
   "source": [
    "## Классификация по признакам отобранным по эвристике M1, M2 совместно"
   ]
  },
  {
   "cell_type": "code",
   "execution_count": 178,
   "metadata": {
    "collapsed": false,
    "scrolled": true
   },
   "outputs": [
    {
     "name": "stdout",
     "output_type": "stream",
     "text": [
      "iteration: 0\n",
      "iteration: 1\n",
      "iteration: 2\n",
      "iteration: 3\n",
      "iteration: 4\n",
      "iteration: 5\n",
      "iteration: 6\n",
      "iteration: 7\n",
      "iteration: 8\n",
      "iteration: 9\n"
     ]
    },
    {
     "data": {
      "text/html": [
       "<div>\n",
       "<table border=\"1\" class=\"dataframe\">\n",
       "  <thead>\n",
       "    <tr style=\"text-align: right;\">\n",
       "      <th></th>\n",
       "      <th>precision 0</th>\n",
       "      <th>recall 0</th>\n",
       "      <th>precision 1</th>\n",
       "      <th>recall 1</th>\n",
       "      <th>accuracy</th>\n",
       "      <th>auc</th>\n",
       "    </tr>\n",
       "  </thead>\n",
       "  <tbody>\n",
       "    <tr>\n",
       "      <th>схема а</th>\n",
       "      <td>0.695099</td>\n",
       "      <td>0.685000</td>\n",
       "      <td>0.681139</td>\n",
       "      <td>0.667333</td>\n",
       "      <td>0.676167</td>\n",
       "      <td>0.743261</td>\n",
       "    </tr>\n",
       "    <tr>\n",
       "      <th>схема б</th>\n",
       "      <td>0.675165</td>\n",
       "      <td>0.682143</td>\n",
       "      <td>0.676779</td>\n",
       "      <td>0.667857</td>\n",
       "      <td>0.675000</td>\n",
       "      <td>0.735778</td>\n",
       "    </tr>\n",
       "  </tbody>\n",
       "</table>\n",
       "</div>"
      ],
      "text/plain": [
       "         precision 0  recall 0  precision 1  recall 1  accuracy       auc\n",
       "схема а     0.695099  0.685000     0.681139  0.667333  0.676167  0.743261\n",
       "схема б     0.675165  0.682143     0.676779  0.667857  0.675000  0.735778"
      ]
     },
     "execution_count": 178,
     "metadata": {},
     "output_type": "execute_result"
    }
   ],
   "source": [
    "np.random.seed(3267)\n",
    "a_M1_M2, b_M1_M2, cv_results_M1_M2_clf, descriptions_M1_M2 = \\\n",
    "    do_simmetry_class_cv(xpressions_scaled,\n",
    "                                  responses,\n",
    "                                  samples,\n",
    "                                  clf,\n",
    "                                  feature_maker=heuristic_1_2_features)    \n",
    "process_results(a_M1_M2, b_M1_M2, cv_results_M1_M2)"
   ]
  },
  {
   "cell_type": "code",
   "execution_count": 184,
   "metadata": {
    "collapsed": false
   },
   "outputs": [
    {
     "name": "stdout",
     "output_type": "stream",
     "text": [
      "iteration: 0\n",
      "iteration: 1\n",
      "iteration: 2\n",
      "iteration: 3\n",
      "iteration: 4\n",
      "iteration: 5\n",
      "iteration: 6\n",
      "iteration: 7\n",
      "iteration: 8\n",
      "iteration: 9\n"
     ]
    },
    {
     "data": {
      "text/html": [
       "<div>\n",
       "<table border=\"1\" class=\"dataframe\">\n",
       "  <thead>\n",
       "    <tr style=\"text-align: right;\">\n",
       "      <th></th>\n",
       "      <th>precision 0</th>\n",
       "      <th>recall 0</th>\n",
       "      <th>precision 1</th>\n",
       "      <th>recall 1</th>\n",
       "      <th>accuracy</th>\n",
       "      <th>auc</th>\n",
       "    </tr>\n",
       "  </thead>\n",
       "  <tbody>\n",
       "    <tr>\n",
       "      <th>схема а</th>\n",
       "      <td>0.719353</td>\n",
       "      <td>0.7130</td>\n",
       "      <td>0.723393</td>\n",
       "      <td>0.694333</td>\n",
       "      <td>0.703667</td>\n",
       "      <td>0.784733</td>\n",
       "    </tr>\n",
       "    <tr>\n",
       "      <th>схема б</th>\n",
       "      <td>0.700609</td>\n",
       "      <td>0.7125</td>\n",
       "      <td>0.708071</td>\n",
       "      <td>0.694643</td>\n",
       "      <td>0.703571</td>\n",
       "      <td>0.776435</td>\n",
       "    </tr>\n",
       "  </tbody>\n",
       "</table>\n",
       "</div>"
      ],
      "text/plain": [
       "         precision 0  recall 0  precision 1  recall 1  accuracy       auc\n",
       "схема а     0.719353    0.7130     0.723393  0.694333  0.703667  0.784733\n",
       "схема б     0.700609    0.7125     0.708071  0.694643  0.703571  0.776435"
      ]
     },
     "execution_count": 184,
     "metadata": {},
     "output_type": "execute_result"
    }
   ],
   "source": [
    "np.random.seed(3267)\n",
    "a_M1_M2_lr, b_M1_M2_lr, cv_results_M1_M2_lr, _ = \\\n",
    "    do_simmetry_class_cv_by_descr(xpressions_scaled,\n",
    "                                  responses,\n",
    "                                  samples, descriptions_M1_M2,\n",
    "                                  lr,\n",
    "                                  feature_maker=heuristic_3_by_description)    \n",
    "process_results(a_M1_M2_lr, b_M1_M2_lr, cv_results_M1_M2_lr)"
   ]
  },
  {
   "cell_type": "code",
   "execution_count": 271,
   "metadata": {
    "collapsed": false,
    "scrolled": true
   },
   "outputs": [
    {
     "name": "stdout",
     "output_type": "stream",
     "text": [
      "iteration: 0\n",
      "iteration: 1\n",
      "iteration: 2\n",
      "iteration: 3\n",
      "iteration: 4\n",
      "iteration: 5\n",
      "iteration: 6\n",
      "iteration: 7\n",
      "iteration: 8\n",
      "iteration: 9\n"
     ]
    },
    {
     "data": {
      "text/html": [
       "<div>\n",
       "<table border=\"1\" class=\"dataframe\">\n",
       "  <thead>\n",
       "    <tr style=\"text-align: right;\">\n",
       "      <th></th>\n",
       "      <th>precision 0</th>\n",
       "      <th>recall 0</th>\n",
       "      <th>precision 1</th>\n",
       "      <th>recall 1</th>\n",
       "      <th>accuracy</th>\n",
       "      <th>auc</th>\n",
       "    </tr>\n",
       "  </thead>\n",
       "  <tbody>\n",
       "    <tr>\n",
       "      <th>схема а</th>\n",
       "      <td>0.645135</td>\n",
       "      <td>0.725667</td>\n",
       "      <td>0.694452</td>\n",
       "      <td>0.587667</td>\n",
       "      <td>0.656667</td>\n",
       "      <td>0.722789</td>\n",
       "    </tr>\n",
       "    <tr>\n",
       "      <th>схема б</th>\n",
       "      <td>0.639569</td>\n",
       "      <td>0.723214</td>\n",
       "      <td>0.679671</td>\n",
       "      <td>0.589286</td>\n",
       "      <td>0.656250</td>\n",
       "      <td>0.716406</td>\n",
       "    </tr>\n",
       "  </tbody>\n",
       "</table>\n",
       "</div>"
      ],
      "text/plain": [
       "         precision 0  recall 0  precision 1  recall 1  accuracy       auc\n",
       "схема а     0.645135  0.725667     0.694452  0.587667  0.656667  0.722789\n",
       "схема б     0.639569  0.723214     0.679671  0.589286  0.656250  0.716406"
      ]
     },
     "execution_count": 271,
     "metadata": {},
     "output_type": "execute_result"
    }
   ],
   "source": [
    "knn = KNeighborsClassifier(n_neighbors=15)\n",
    "np.random.seed(3267)\n",
    "a_M1_M2_knn, b_M1_M2_knn, cv_results_M1_M2_knn, _ = \\\n",
    "    do_simmetry_class_cv_by_descr(xpressions_scaled,\n",
    "                            responses,\n",
    "                            samples, descriptions_M1_M2,\n",
    "                            knn,\n",
    "                            feature_maker=heuristic_3_by_description)    \n",
    "process_results(a_M1_M2_knn, b_M1_M2_knn, cv_results_M1_M2_knn)"
   ]
  },
  {
   "cell_type": "markdown",
   "metadata": {},
   "source": [
    "## Классификация по генам отобранным по эвристике M3"
   ]
  },
  {
   "cell_type": "code",
   "execution_count": 181,
   "metadata": {
    "collapsed": false,
    "scrolled": true
   },
   "outputs": [
    {
     "name": "stdout",
     "output_type": "stream",
     "text": [
      "iteration: 0\n",
      "iteration: 1\n",
      "iteration: 2\n",
      "iteration: 3\n",
      "iteration: 4\n",
      "iteration: 5\n",
      "iteration: 6\n",
      "iteration: 7\n",
      "iteration: 8\n",
      "iteration: 9\n"
     ]
    },
    {
     "data": {
      "text/html": [
       "<div>\n",
       "<table border=\"1\" class=\"dataframe\">\n",
       "  <thead>\n",
       "    <tr style=\"text-align: right;\">\n",
       "      <th></th>\n",
       "      <th>precision 0</th>\n",
       "      <th>recall 0</th>\n",
       "      <th>precision 1</th>\n",
       "      <th>recall 1</th>\n",
       "      <th>accuracy</th>\n",
       "      <th>auc</th>\n",
       "    </tr>\n",
       "  </thead>\n",
       "  <tbody>\n",
       "    <tr>\n",
       "      <th>схема а</th>\n",
       "      <td>0.665310</td>\n",
       "      <td>0.665000</td>\n",
       "      <td>0.661345</td>\n",
       "      <td>0.635333</td>\n",
       "      <td>0.650167</td>\n",
       "      <td>0.709111</td>\n",
       "    </tr>\n",
       "    <tr>\n",
       "      <th>схема б</th>\n",
       "      <td>0.646825</td>\n",
       "      <td>0.666071</td>\n",
       "      <td>0.654701</td>\n",
       "      <td>0.633929</td>\n",
       "      <td>0.650000</td>\n",
       "      <td>0.697752</td>\n",
       "    </tr>\n",
       "  </tbody>\n",
       "</table>\n",
       "</div>"
      ],
      "text/plain": [
       "         precision 0  recall 0  precision 1  recall 1  accuracy       auc\n",
       "схема а     0.665310  0.665000     0.661345  0.635333  0.650167  0.709111\n",
       "схема б     0.646825  0.666071     0.654701  0.633929  0.650000  0.697752"
      ]
     },
     "execution_count": 181,
     "metadata": {},
     "output_type": "execute_result"
    }
   ],
   "source": [
    "np.random.seed(3267)\n",
    "a_M3, b_M3, cv_results_M3_clf, _ = \\\n",
    "    do_simmetry_class_cv_by_descr(xpressions_scaled,\n",
    "                         responses,\n",
    "                         samples, descriptions_M3,\n",
    "                         clf,\n",
    "                         feature_maker=heuristic_3_by_description)    \n",
    "process_results(a_M3, b_M3, cv_results_M3_clf)"
   ]
  },
  {
   "cell_type": "code",
   "execution_count": 182,
   "metadata": {
    "collapsed": false
   },
   "outputs": [
    {
     "name": "stdout",
     "output_type": "stream",
     "text": [
      "iteration: 0\n",
      "iteration: 1\n",
      "iteration: 2\n",
      "iteration: 3\n",
      "iteration: 4\n",
      "iteration: 5\n",
      "iteration: 6\n",
      "iteration: 7\n",
      "iteration: 8\n",
      "iteration: 9\n"
     ]
    },
    {
     "data": {
      "text/html": [
       "<div>\n",
       "<table border=\"1\" class=\"dataframe\">\n",
       "  <thead>\n",
       "    <tr style=\"text-align: right;\">\n",
       "      <th></th>\n",
       "      <th>precision 0</th>\n",
       "      <th>recall 0</th>\n",
       "      <th>precision 1</th>\n",
       "      <th>recall 1</th>\n",
       "      <th>accuracy</th>\n",
       "      <th>auc</th>\n",
       "    </tr>\n",
       "  </thead>\n",
       "  <tbody>\n",
       "    <tr>\n",
       "      <th>схема а</th>\n",
       "      <td>0.682583</td>\n",
       "      <td>0.680000</td>\n",
       "      <td>0.683992</td>\n",
       "      <td>0.658000</td>\n",
       "      <td>0.669000</td>\n",
       "      <td>0.724744</td>\n",
       "    </tr>\n",
       "    <tr>\n",
       "      <th>схема б</th>\n",
       "      <td>0.667980</td>\n",
       "      <td>0.680357</td>\n",
       "      <td>0.672049</td>\n",
       "      <td>0.658929</td>\n",
       "      <td>0.669643</td>\n",
       "      <td>0.717283</td>\n",
       "    </tr>\n",
       "  </tbody>\n",
       "</table>\n",
       "</div>"
      ],
      "text/plain": [
       "         precision 0  recall 0  precision 1  recall 1  accuracy       auc\n",
       "схема а     0.682583  0.680000     0.683992  0.658000  0.669000  0.724744\n",
       "схема б     0.667980  0.680357     0.672049  0.658929  0.669643  0.717283"
      ]
     },
     "execution_count": 182,
     "metadata": {},
     "output_type": "execute_result"
    }
   ],
   "source": [
    "np.random.seed(3267)\n",
    "a_M3_lr, b_M3_lr, cv_results_M3_lr, _ = \\\n",
    "    do_simmetry_class_cv_by_descr(xpressions_scaled,\n",
    "                         responses, \n",
    "                         samples, descriptions_M3,\n",
    "                         lr,\n",
    "                         feature_maker=heuristic_3_by_description)    \n",
    "process_results(a_M3_lr, b_M3_lr, cv_results_M3_lr)"
   ]
  },
  {
   "cell_type": "code",
   "execution_count": 272,
   "metadata": {
    "collapsed": false
   },
   "outputs": [
    {
     "name": "stdout",
     "output_type": "stream",
     "text": [
      "iteration: 0\n",
      "iteration: 1\n",
      "iteration: 2\n",
      "iteration: 3\n",
      "iteration: 4\n",
      "iteration: 5\n",
      "iteration: 6\n",
      "iteration: 7\n",
      "iteration: 8\n",
      "iteration: 9\n"
     ]
    },
    {
     "data": {
      "text/html": [
       "<div>\n",
       "<table border=\"1\" class=\"dataframe\">\n",
       "  <thead>\n",
       "    <tr style=\"text-align: right;\">\n",
       "      <th></th>\n",
       "      <th>precision 0</th>\n",
       "      <th>recall 0</th>\n",
       "      <th>precision 1</th>\n",
       "      <th>recall 1</th>\n",
       "      <th>accuracy</th>\n",
       "      <th>auc</th>\n",
       "    </tr>\n",
       "  </thead>\n",
       "  <tbody>\n",
       "    <tr>\n",
       "      <th>схема а</th>\n",
       "      <td>0.645976</td>\n",
       "      <td>0.646667</td>\n",
       "      <td>0.648468</td>\n",
       "      <td>0.620667</td>\n",
       "      <td>0.633667</td>\n",
       "      <td>0.672472</td>\n",
       "    </tr>\n",
       "    <tr>\n",
       "      <th>схема б</th>\n",
       "      <td>0.633186</td>\n",
       "      <td>0.644643</td>\n",
       "      <td>0.638987</td>\n",
       "      <td>0.623214</td>\n",
       "      <td>0.633929</td>\n",
       "      <td>0.667363</td>\n",
       "    </tr>\n",
       "  </tbody>\n",
       "</table>\n",
       "</div>"
      ],
      "text/plain": [
       "         precision 0  recall 0  precision 1  recall 1  accuracy       auc\n",
       "схема а     0.645976  0.646667     0.648468  0.620667  0.633667  0.672472\n",
       "схема б     0.633186  0.644643     0.638987  0.623214  0.633929  0.667363"
      ]
     },
     "execution_count": 272,
     "metadata": {},
     "output_type": "execute_result"
    }
   ],
   "source": [
    "knn = KNeighborsClassifier(n_neighbors=15)\n",
    "np.random.seed(3267)\n",
    "a_M3_knn, b_M3_knn, cv_results_M3_knn, _ = \\\n",
    "    do_simmetry_class_cv_by_descr(xpressions_scaled,\n",
    "                         responses,\n",
    "                         samples, descriptions_M3,\n",
    "                         knn,\n",
    "                         feature_maker=heuristic_3_by_description)    \n",
    "process_results(a_M3_knn, b_M3_knn, cv_results_M3_knn)"
   ]
  },
  {
   "cell_type": "markdown",
   "metadata": {},
   "source": [
    "## Классификация по парам, отобранным по эвристике М4"
   ]
  },
  {
   "cell_type": "code",
   "execution_count": 126,
   "metadata": {
    "collapsed": false
   },
   "outputs": [],
   "source": [
    "import pickle\n",
    "sample_M4, descriptions_M4 = pickle.load(open('../data/samples_descriptions_4M.pkl', 'rb'))"
   ]
  },
  {
   "cell_type": "code",
   "execution_count": 121,
   "metadata": {
    "collapsed": false
   },
   "outputs": [],
   "source": [
    "# sample_M4 = sample_M4[-1:]"
   ]
  },
  {
   "cell_type": "code",
   "execution_count": 210,
   "metadata": {
    "collapsed": false,
    "scrolled": false
   },
   "outputs": [
    {
     "name": "stdout",
     "output_type": "stream",
     "text": [
      "iteration: 0\n",
      "iteration: 1\n"
     ]
    },
    {
     "data": {
      "text/html": [
       "<div>\n",
       "<table border=\"1\" class=\"dataframe\">\n",
       "  <thead>\n",
       "    <tr style=\"text-align: right;\">\n",
       "      <th></th>\n",
       "      <th>precision 0</th>\n",
       "      <th>recall 0</th>\n",
       "      <th>precision 1</th>\n",
       "      <th>recall 1</th>\n",
       "      <th>accuracy</th>\n",
       "      <th>auc</th>\n",
       "    </tr>\n",
       "  </thead>\n",
       "  <tbody>\n",
       "    <tr>\n",
       "      <th>схема а</th>\n",
       "      <td>0.705833</td>\n",
       "      <td>0.683333</td>\n",
       "      <td>0.709802</td>\n",
       "      <td>0.693333</td>\n",
       "      <td>0.688333</td>\n",
       "      <td>0.794361</td>\n",
       "    </tr>\n",
       "    <tr>\n",
       "      <th>схема б</th>\n",
       "      <td>0.697137</td>\n",
       "      <td>0.687500</td>\n",
       "      <td>0.687696</td>\n",
       "      <td>0.696429</td>\n",
       "      <td>0.691964</td>\n",
       "      <td>0.797752</td>\n",
       "    </tr>\n",
       "  </tbody>\n",
       "</table>\n",
       "</div>"
      ],
      "text/plain": [
       "         precision 0  recall 0  precision 1  recall 1  accuracy       auc\n",
       "схема а     0.705833  0.683333     0.709802  0.693333  0.688333  0.794361\n",
       "схема б     0.697137  0.687500     0.687696  0.696429  0.691964  0.797752"
      ]
     },
     "execution_count": 210,
     "metadata": {},
     "output_type": "execute_result"
    }
   ],
   "source": [
    "np.random.seed(3267)\n",
    "a_h4, b_h4, cv_results_h4_clf, _  = \\\n",
    "    do_simmetry_class_cv_by_descr(xpressions,\n",
    "                         responses, \n",
    "                         sample_M4, descriptions_M4,\n",
    "                         clf,\n",
    "                         feature_maker=heuristic_4_by_description)\n",
    "    \n",
    "process_results(a_h4, b_h4, cv_results_h4_clf)"
   ]
  },
  {
   "cell_type": "code",
   "execution_count": 111,
   "metadata": {
    "collapsed": false
   },
   "outputs": [
    {
     "name": "stdout",
     "output_type": "stream",
     "text": [
      "iteration: 0\n",
      "iteration: 1\n"
     ]
    },
    {
     "data": {
      "text/html": [
       "<div>\n",
       "<table border=\"1\" class=\"dataframe\">\n",
       "  <thead>\n",
       "    <tr style=\"text-align: right;\">\n",
       "      <th></th>\n",
       "      <th>precision 0</th>\n",
       "      <th>recall 0</th>\n",
       "      <th>precision 1</th>\n",
       "      <th>recall 1</th>\n",
       "      <th>accuracy</th>\n",
       "      <th>auc</th>\n",
       "    </tr>\n",
       "  </thead>\n",
       "  <tbody>\n",
       "    <tr>\n",
       "      <th>схема а</th>\n",
       "      <td>0.699881</td>\n",
       "      <td>0.686667</td>\n",
       "      <td>0.722421</td>\n",
       "      <td>0.701667</td>\n",
       "      <td>0.694167</td>\n",
       "      <td>0.802750</td>\n",
       "    </tr>\n",
       "    <tr>\n",
       "      <th>схема б</th>\n",
       "      <td>0.707997</td>\n",
       "      <td>0.687500</td>\n",
       "      <td>0.691563</td>\n",
       "      <td>0.705357</td>\n",
       "      <td>0.696429</td>\n",
       "      <td>0.800542</td>\n",
       "    </tr>\n",
       "  </tbody>\n",
       "</table>\n",
       "</div>"
      ],
      "text/plain": [
       "         precision 0  recall 0  precision 1  recall 1  accuracy       auc\n",
       "схема а     0.699881  0.686667     0.722421  0.701667  0.694167  0.802750\n",
       "схема б     0.707997  0.687500     0.691563  0.705357  0.696429  0.800542"
      ]
     },
     "execution_count": 111,
     "metadata": {},
     "output_type": "execute_result"
    }
   ],
   "source": [
    "np.random.seed(3267)\n",
    "a_h4_lr, b_h4_lr, cv_results_h4_lr, _  = \\\n",
    "    do_simmetry_class_cv_by_descr(xpressions,\n",
    "                         responses, \n",
    "                         sample_M4, descriptions_M4,\n",
    "                         lr,\n",
    "                         feature_maker=heuristic_4_by_description)\n",
    "    \n",
    "process_results(a_h4_lr, b_h4_lr, cv_results_h4_lr)"
   ]
  },
  {
   "cell_type": "code",
   "execution_count": 273,
   "metadata": {
    "collapsed": false,
    "scrolled": true
   },
   "outputs": [
    {
     "name": "stdout",
     "output_type": "stream",
     "text": [
      "iteration: 0\n",
      "iteration: 1\n"
     ]
    },
    {
     "data": {
      "text/html": [
       "<div>\n",
       "<table border=\"1\" class=\"dataframe\">\n",
       "  <thead>\n",
       "    <tr style=\"text-align: right;\">\n",
       "      <th></th>\n",
       "      <th>precision 0</th>\n",
       "      <th>recall 0</th>\n",
       "      <th>precision 1</th>\n",
       "      <th>recall 1</th>\n",
       "      <th>accuracy</th>\n",
       "      <th>auc</th>\n",
       "    </tr>\n",
       "  </thead>\n",
       "  <tbody>\n",
       "    <tr>\n",
       "      <th>схема а</th>\n",
       "      <td>0.712679</td>\n",
       "      <td>0.775000</td>\n",
       "      <td>0.790040</td>\n",
       "      <td>0.693333</td>\n",
       "      <td>0.734167</td>\n",
       "      <td>0.790167</td>\n",
       "    </tr>\n",
       "    <tr>\n",
       "      <th>схема б</th>\n",
       "      <td>0.717605</td>\n",
       "      <td>0.776786</td>\n",
       "      <td>0.759623</td>\n",
       "      <td>0.696429</td>\n",
       "      <td>0.736607</td>\n",
       "      <td>0.783402</td>\n",
       "    </tr>\n",
       "  </tbody>\n",
       "</table>\n",
       "</div>"
      ],
      "text/plain": [
       "         precision 0  recall 0  precision 1  recall 1  accuracy       auc\n",
       "схема а     0.712679  0.775000     0.790040  0.693333  0.734167  0.790167\n",
       "схема б     0.717605  0.776786     0.759623  0.696429  0.736607  0.783402"
      ]
     },
     "execution_count": 273,
     "metadata": {},
     "output_type": "execute_result"
    }
   ],
   "source": [
    "knn = KNeighborsClassifier(n_neighbors=15)\n",
    "np.random.seed(3267)\n",
    "a_h4_knn, b_h4_knn, cv_results_h4_knn, _  = \\\n",
    "    do_simmetry_class_cv_by_descr(xpressions,\n",
    "                         responses, \n",
    "                         sample_M4, descriptions_M4,\n",
    "                         knn,\n",
    "                         feature_maker=heuristic_4_by_description)\n",
    "    \n",
    "process_results(a_h4_knn, b_h4_knn, cv_results_h4_knn)"
   ]
  },
  {
   "cell_type": "markdown",
   "metadata": {},
   "source": [
    "## Классификация по 250 случайно отобранным генам"
   ]
  },
  {
   "cell_type": "code",
   "execution_count": 188,
   "metadata": {
    "collapsed": false
   },
   "outputs": [
    {
     "name": "stdout",
     "output_type": "stream",
     "text": [
      "iteration: 0\n",
      "iteration: 1\n",
      "iteration: 2\n",
      "iteration: 3\n",
      "iteration: 4\n",
      "iteration: 5\n",
      "iteration: 6\n",
      "iteration: 7\n",
      "iteration: 8\n",
      "iteration: 9\n"
     ]
    },
    {
     "data": {
      "text/html": [
       "<div>\n",
       "<table border=\"1\" class=\"dataframe\">\n",
       "  <thead>\n",
       "    <tr style=\"text-align: right;\">\n",
       "      <th></th>\n",
       "      <th>precision 0</th>\n",
       "      <th>recall 0</th>\n",
       "      <th>precision 1</th>\n",
       "      <th>recall 1</th>\n",
       "      <th>accuracy</th>\n",
       "      <th>auc</th>\n",
       "    </tr>\n",
       "  </thead>\n",
       "  <tbody>\n",
       "    <tr>\n",
       "      <th>схема а</th>\n",
       "      <td>0.670968</td>\n",
       "      <td>0.703333</td>\n",
       "      <td>0.702716</td>\n",
       "      <td>0.632667</td>\n",
       "      <td>0.66800</td>\n",
       "      <td>0.726211</td>\n",
       "    </tr>\n",
       "    <tr>\n",
       "      <th>схема б</th>\n",
       "      <td>0.659070</td>\n",
       "      <td>0.703571</td>\n",
       "      <td>0.681216</td>\n",
       "      <td>0.633929</td>\n",
       "      <td>0.66875</td>\n",
       "      <td>0.704225</td>\n",
       "    </tr>\n",
       "  </tbody>\n",
       "</table>\n",
       "</div>"
      ],
      "text/plain": [
       "         precision 0  recall 0  precision 1  recall 1  accuracy       auc\n",
       "схема а     0.670968  0.703333     0.702716  0.632667   0.66800  0.726211\n",
       "схема б     0.659070  0.703571     0.681216  0.633929   0.66875  0.704225"
      ]
     },
     "execution_count": 188,
     "metadata": {},
     "output_type": "execute_result"
    }
   ],
   "source": [
    "np.random.seed(3267)\n",
    "a_rnd_gens_clf, b_rnd_gens_clf, cv_results_rnd_gens_clf, description_rnd = \\\n",
    "    do_simmetry_class_cv(xpressions_scaled,\n",
    "                         responses,\n",
    "                         samples,\n",
    "                         clf,\n",
    "                         feature_maker=rnd_gen_heuristic)    \n",
    "process_results(a_rnd_gens_clf, b_rnd_gens_clf, cv_results_rnd_gens_clf)"
   ]
  },
  {
   "cell_type": "code",
   "execution_count": 189,
   "metadata": {
    "collapsed": false
   },
   "outputs": [
    {
     "name": "stdout",
     "output_type": "stream",
     "text": [
      "iteration: 0\n",
      "iteration: 1\n",
      "iteration: 2\n",
      "iteration: 3\n",
      "iteration: 4\n",
      "iteration: 5\n",
      "iteration: 6\n",
      "iteration: 7\n",
      "iteration: 8\n",
      "iteration: 9\n"
     ]
    },
    {
     "data": {
      "text/html": [
       "<div>\n",
       "<table border=\"1\" class=\"dataframe\">\n",
       "  <thead>\n",
       "    <tr style=\"text-align: right;\">\n",
       "      <th></th>\n",
       "      <th>precision 0</th>\n",
       "      <th>recall 0</th>\n",
       "      <th>precision 1</th>\n",
       "      <th>recall 1</th>\n",
       "      <th>accuracy</th>\n",
       "      <th>auc</th>\n",
       "    </tr>\n",
       "  </thead>\n",
       "  <tbody>\n",
       "    <tr>\n",
       "      <th>схема а</th>\n",
       "      <td>0.689560</td>\n",
       "      <td>0.715667</td>\n",
       "      <td>0.713762</td>\n",
       "      <td>0.651333</td>\n",
       "      <td>0.683500</td>\n",
       "      <td>0.737889</td>\n",
       "    </tr>\n",
       "    <tr>\n",
       "      <th>схема б</th>\n",
       "      <td>0.672837</td>\n",
       "      <td>0.716071</td>\n",
       "      <td>0.696199</td>\n",
       "      <td>0.650000</td>\n",
       "      <td>0.683036</td>\n",
       "      <td>0.725446</td>\n",
       "    </tr>\n",
       "  </tbody>\n",
       "</table>\n",
       "</div>"
      ],
      "text/plain": [
       "         precision 0  recall 0  precision 1  recall 1  accuracy       auc\n",
       "схема а     0.689560  0.715667     0.713762  0.651333  0.683500  0.737889\n",
       "схема б     0.672837  0.716071     0.696199  0.650000  0.683036  0.725446"
      ]
     },
     "execution_count": 189,
     "metadata": {},
     "output_type": "execute_result"
    }
   ],
   "source": [
    "np.random.seed(3267)\n",
    "a_rnd_gens_lr, b_rnd_gens_lr, cv_results_rnd_gens_lr, _ = \\\n",
    "    do_simmetry_class_cv_by_descr(xpressions_scaled,\n",
    "                         responses,\n",
    "                         samples, description_rnd,\n",
    "                         lr,\n",
    "                         feature_maker=heuristic_3_by_description)    \n",
    "process_results(a_rnd_gens_lr, b_rnd_gens_lr, cv_results_rnd_gens_lr)"
   ]
  },
  {
   "cell_type": "code",
   "execution_count": 274,
   "metadata": {
    "collapsed": false
   },
   "outputs": [
    {
     "name": "stdout",
     "output_type": "stream",
     "text": [
      "iteration: 0\n",
      "iteration: 1\n",
      "iteration: 2\n",
      "iteration: 3\n",
      "iteration: 4\n",
      "iteration: 5\n",
      "iteration: 6\n",
      "iteration: 7\n",
      "iteration: 8\n",
      "iteration: 9\n"
     ]
    },
    {
     "data": {
      "text/html": [
       "<div>\n",
       "<table border=\"1\" class=\"dataframe\">\n",
       "  <thead>\n",
       "    <tr style=\"text-align: right;\">\n",
       "      <th></th>\n",
       "      <th>precision 0</th>\n",
       "      <th>recall 0</th>\n",
       "      <th>precision 1</th>\n",
       "      <th>recall 1</th>\n",
       "      <th>accuracy</th>\n",
       "      <th>auc</th>\n",
       "    </tr>\n",
       "  </thead>\n",
       "  <tbody>\n",
       "    <tr>\n",
       "      <th>схема а</th>\n",
       "      <td>0.550447</td>\n",
       "      <td>0.531000</td>\n",
       "      <td>0.540480</td>\n",
       "      <td>0.545000</td>\n",
       "      <td>0.538000</td>\n",
       "      <td>0.562911</td>\n",
       "    </tr>\n",
       "    <tr>\n",
       "      <th>схема б</th>\n",
       "      <td>0.536995</td>\n",
       "      <td>0.532143</td>\n",
       "      <td>0.540552</td>\n",
       "      <td>0.544643</td>\n",
       "      <td>0.538393</td>\n",
       "      <td>0.555851</td>\n",
       "    </tr>\n",
       "  </tbody>\n",
       "</table>\n",
       "</div>"
      ],
      "text/plain": [
       "         precision 0  recall 0  precision 1  recall 1  accuracy       auc\n",
       "схема а     0.550447  0.531000     0.540480  0.545000  0.538000  0.562911\n",
       "схема б     0.536995  0.532143     0.540552  0.544643  0.538393  0.555851"
      ]
     },
     "execution_count": 274,
     "metadata": {},
     "output_type": "execute_result"
    }
   ],
   "source": [
    "knn = KNeighborsClassifier(n_neighbors=15)\n",
    "np.random.seed(3267)\n",
    "a_rnd_gens_knn, b_rnd_gens_knn, cv_results_rnd_gens_knn, _ = \\\n",
    "    do_simmetry_class_cv_by_descr(xpressions_scaled,\n",
    "                         responses,\n",
    "                         samples, description_rnd,\n",
    "                         knn,\n",
    "                         feature_maker=heuristic_3_by_description)    \n",
    "process_results(a_rnd_gens_knn, b_rnd_gens_knn, cv_results_rnd_gens_knn)"
   ]
  },
  {
   "cell_type": "markdown",
   "metadata": {},
   "source": [
    "## Классификация по отношению порядка 70 случайно отобранных генов"
   ]
  },
  {
   "cell_type": "code",
   "execution_count": 276,
   "metadata": {
    "collapsed": false,
    "scrolled": true
   },
   "outputs": [
    {
     "name": "stdout",
     "output_type": "stream",
     "text": [
      "iteration: 0\n",
      "iteration: 1\n"
     ]
    },
    {
     "data": {
      "text/html": [
       "<div>\n",
       "<table border=\"1\" class=\"dataframe\">\n",
       "  <thead>\n",
       "    <tr style=\"text-align: right;\">\n",
       "      <th></th>\n",
       "      <th>precision 0</th>\n",
       "      <th>recall 0</th>\n",
       "      <th>precision 1</th>\n",
       "      <th>recall 1</th>\n",
       "      <th>accuracy</th>\n",
       "      <th>auc</th>\n",
       "    </tr>\n",
       "  </thead>\n",
       "  <tbody>\n",
       "    <tr>\n",
       "      <th>схема а</th>\n",
       "      <td>0.626429</td>\n",
       "      <td>0.551667</td>\n",
       "      <td>0.595368</td>\n",
       "      <td>0.645000</td>\n",
       "      <td>0.598333</td>\n",
       "      <td>0.610167</td>\n",
       "    </tr>\n",
       "    <tr>\n",
       "      <th>схема б</th>\n",
       "      <td>0.615369</td>\n",
       "      <td>0.553571</td>\n",
       "      <td>0.592823</td>\n",
       "      <td>0.651786</td>\n",
       "      <td>0.602679</td>\n",
       "      <td>0.612325</td>\n",
       "    </tr>\n",
       "  </tbody>\n",
       "</table>\n",
       "</div>"
      ],
      "text/plain": [
       "         precision 0  recall 0  precision 1  recall 1  accuracy       auc\n",
       "схема а     0.626429  0.551667     0.595368  0.645000  0.598333  0.610167\n",
       "схема б     0.615369  0.553571     0.592823  0.651786  0.602679  0.612325"
      ]
     },
     "execution_count": 276,
     "metadata": {},
     "output_type": "execute_result"
    }
   ],
   "source": [
    "np.random.seed(3267)\n",
    "a_rnd_pairs_clf, b_rnd_pairs_clf, cv_results_rnd_pairs_clf, description_4_rnd = \\\n",
    "    do_simmetry_class_cv(xpressions_scaled,\n",
    "                         responses,\n",
    "                         sample_M4,\n",
    "                         clf,\n",
    "                         feature_maker=heuristic_4_rnd)    \n",
    "process_results(a_rnd_pairs_clf, b_rnd_pairs_clf, cv_results_rnd_pairs_clf)"
   ]
  },
  {
   "cell_type": "code",
   "execution_count": 277,
   "metadata": {
    "collapsed": false,
    "scrolled": false
   },
   "outputs": [
    {
     "name": "stdout",
     "output_type": "stream",
     "text": [
      "iteration: 0\n",
      "iteration: 1\n"
     ]
    },
    {
     "data": {
      "text/html": [
       "<div>\n",
       "<table border=\"1\" class=\"dataframe\">\n",
       "  <thead>\n",
       "    <tr style=\"text-align: right;\">\n",
       "      <th></th>\n",
       "      <th>precision 0</th>\n",
       "      <th>recall 0</th>\n",
       "      <th>precision 1</th>\n",
       "      <th>recall 1</th>\n",
       "      <th>accuracy</th>\n",
       "      <th>auc</th>\n",
       "    </tr>\n",
       "  </thead>\n",
       "  <tbody>\n",
       "    <tr>\n",
       "      <th>схема а</th>\n",
       "      <td>0.643016</td>\n",
       "      <td>0.623333</td>\n",
       "      <td>0.665278</td>\n",
       "      <td>0.653333</td>\n",
       "      <td>0.638333</td>\n",
       "      <td>0.663944</td>\n",
       "    </tr>\n",
       "    <tr>\n",
       "      <th>схема б</th>\n",
       "      <td>0.650155</td>\n",
       "      <td>0.625000</td>\n",
       "      <td>0.636960</td>\n",
       "      <td>0.660714</td>\n",
       "      <td>0.642857</td>\n",
       "      <td>0.691167</td>\n",
       "    </tr>\n",
       "  </tbody>\n",
       "</table>\n",
       "</div>"
      ],
      "text/plain": [
       "         precision 0  recall 0  precision 1  recall 1  accuracy       auc\n",
       "схема а     0.643016  0.623333     0.665278  0.653333  0.638333  0.663944\n",
       "схема б     0.650155  0.625000     0.636960  0.660714  0.642857  0.691167"
      ]
     },
     "execution_count": 277,
     "metadata": {},
     "output_type": "execute_result"
    }
   ],
   "source": [
    "np.random.seed(3267)\n",
    "a_rnd_pairs_lr, b_rnd_pairs_lr, cv_results_rnd_pairs_lr, _ = \\\n",
    "    do_simmetry_class_cv_by_descr(xpressions_scaled,\n",
    "                         responses,\n",
    "                         sample_M4, description_4_rnd,\n",
    "                         lr,\n",
    "                         feature_maker=heuristic_4_by_description)    \n",
    "process_results(a_rnd_pairs_lr, b_rnd_pairs_lr, cv_results_rnd_pairs_lr)"
   ]
  },
  {
   "cell_type": "code",
   "execution_count": 278,
   "metadata": {
    "collapsed": false
   },
   "outputs": [
    {
     "name": "stdout",
     "output_type": "stream",
     "text": [
      "iteration: 0\n",
      "iteration: 1\n"
     ]
    },
    {
     "data": {
      "text/html": [
       "<div>\n",
       "<table border=\"1\" class=\"dataframe\">\n",
       "  <thead>\n",
       "    <tr style=\"text-align: right;\">\n",
       "      <th></th>\n",
       "      <th>precision 0</th>\n",
       "      <th>recall 0</th>\n",
       "      <th>precision 1</th>\n",
       "      <th>recall 1</th>\n",
       "      <th>accuracy</th>\n",
       "      <th>auc</th>\n",
       "    </tr>\n",
       "  </thead>\n",
       "  <tbody>\n",
       "    <tr>\n",
       "      <th>схема а</th>\n",
       "      <td>0.618838</td>\n",
       "      <td>0.656667</td>\n",
       "      <td>0.605833</td>\n",
       "      <td>0.551667</td>\n",
       "      <td>0.604167</td>\n",
       "      <td>0.653250</td>\n",
       "    </tr>\n",
       "    <tr>\n",
       "      <th>схема б</th>\n",
       "      <td>0.607026</td>\n",
       "      <td>0.651786</td>\n",
       "      <td>0.602869</td>\n",
       "      <td>0.553571</td>\n",
       "      <td>0.602679</td>\n",
       "      <td>0.648198</td>\n",
       "    </tr>\n",
       "  </tbody>\n",
       "</table>\n",
       "</div>"
      ],
      "text/plain": [
       "         precision 0  recall 0  precision 1  recall 1  accuracy       auc\n",
       "схема а     0.618838  0.656667     0.605833  0.551667  0.604167  0.653250\n",
       "схема б     0.607026  0.651786     0.602869  0.553571  0.602679  0.648198"
      ]
     },
     "execution_count": 278,
     "metadata": {},
     "output_type": "execute_result"
    }
   ],
   "source": [
    "knn = KNeighborsClassifier(n_neighbors=15)\n",
    "np.random.seed(3267)\n",
    "a_rnd_pairs_knn, b_rnd_pairs_knn, cv_results_rnd_pairs_knn, _ = \\\n",
    "    do_simmetry_class_cv_by_descr(xpressions_scaled,\n",
    "                         responses,\n",
    "                         sample_M4, description_4_rnd,\n",
    "                         knn,\n",
    "                         feature_maker=heuristic_4_by_description)    \n",
    "process_results(a_rnd_pairs_knn, b_rnd_pairs_knn, cv_results_rnd_pairs_knn)"
   ]
  },
  {
   "cell_type": "markdown",
   "metadata": {},
   "source": [
    "## Тестирование гипотез по первому датасету"
   ]
  },
  {
   "cell_type": "code",
   "execution_count": 308,
   "metadata": {
    "collapsed": true
   },
   "outputs": [],
   "source": [
    "from scipy import stats\n",
    "from statsmodels.sandbox.stats.multicomp import multipletests\n"
   ]
  },
  {
   "cell_type": "code",
   "execution_count": 409,
   "metadata": {
    "collapsed": false
   },
   "outputs": [],
   "source": [
    "temp = 0\n",
    "def test_alternative_greater_wilcoxon(cv_0, cv_1):    \n",
    "    aucs_0 = []\n",
    "    aucs_1 = []\n",
    "    for result in cv_0:\n",
    "        for actual, predicted, proba in result:\n",
    "            fpr, tpr, _ = roc_curve(actual, proba)\n",
    "            aucs_0.append(auc(fpr, tpr))\n",
    "    for result in cv_1:\n",
    "        for actual, predicted, proba in result:\n",
    "            fpr, tpr, _ = roc_curve(actual, proba)\n",
    "            aucs_1.append(auc(fpr, tpr))\n",
    "    aucs_0, aucs_1 = np.array(aucs_0), np.array(aucs_1)    \n",
    "    X = aucs_1 - aucs_0    \n",
    "    X = X[X != 0 ]        \n",
    "    ranks = stats.rankdata(X, method='ordinal')\n",
    "    W = (np.sign(X) * ranks).sum()        \n",
    "    p_v = stats.wilcoxon(aucs_1 - aucs_0).pvalue    \n",
    "    # для учета односторонности альтернативы\n",
    "    if W < 0:\n",
    "        return 1 - p_v / 2\n",
    "    return  p_v / 2"
   ]
  },
  {
   "cell_type": "code",
   "execution_count": 404,
   "metadata": {
    "collapsed": false
   },
   "outputs": [
    {
     "data": {
      "text/plain": [
       "2.4520949356607558e-11"
      ]
     },
     "execution_count": 404,
     "metadata": {},
     "output_type": "execute_result"
    }
   ],
   "source": [
    "test_alternative_greater_wilcoxon(cv_results_rnd_gens, cv_results_M1_M2)\n"
   ]
  },
  {
   "cell_type": "code",
   "execution_count": 410,
   "metadata": {
    "collapsed": false
   },
   "outputs": [],
   "source": [
    "cv_results_rnd_gens = cv_results_rnd_gens_clf + cv_results_rnd_gens_lr\\\n",
    "                                              + cv_results_rnd_gens_knn\n",
    "cv_results_rnd_pairs = cv_results_rnd_pairs_clf + cv_results_rnd_pairs_lr\\\n",
    "                                                 + cv_results_rnd_pairs_knn\n",
    "\n",
    "cv_results_M1_M2 = cv_results_M1_M2_clf + cv_results_M1_M2_lr + cv_results_M1_M2_knn\n",
    "cv_results_M3 = cv_results_M3_clf + cv_results_M3_lr + cv_results_M3_knn\n",
    "cv_results_M4 = cv_results_h4_clf + cv_results_h4_lr + cv_results_h4_knn\n",
    "cv_results_ident = cv_results_ident_clf + cv_results_ident_lr + cv_results_ident_knn\n",
    "\n",
    "# временно так как М4 строилась только по сэмплам 0 и -1 \n",
    "cv_results_ident_for_M4 = cv_results_ident_clf[:1] + cv_results_ident_clf[-1:] \\\n",
    "                   + cv_results_ident_lr[:1] + cv_results_ident_lr[-1:] \\\n",
    "                   + cv_results_ident_knn[:1] + cv_results_ident_knn[-1:] \n",
    "\n",
    "cv_results_rnd_gens2 = cv_results_rnd_gens2_clf + cv_results_rnd_gens2_lr\\\n",
    "                                              + cv_results_rnd_gens2_knn\n",
    "    \n",
    "cv_results_rnd_pairs2 = cv_results_rnd_pairs2_clf + cv_results_rnd_pairs2_lr\\\n",
    "                                                 + cv_results_rnd_pairs2_knn\n",
    "\n",
    "cv_results_M1_M22 = cv_results_M1_M22_clf + cv_results_M1_M22_lr + cv_results_M1_M22_knn\n",
    "\n",
    "cv_results_M32 = cv_results_M32_clf + cv_results_M32_lr + cv_results_M32_knn\n",
    "\n",
    "cv_results_M42 = cv_results_M42_clf + cv_results_M42_lr + cv_results_M42_knn\n",
    "\n",
    "cv_results_ident2 = cv_results_ident2_clf + cv_results_ident2_lr + cv_results_ident2_knn\n",
    "        \n",
    "        "
   ]
  },
  {
   "cell_type": "code",
   "execution_count": 411,
   "metadata": {
    "collapsed": false
   },
   "outputs": [
    {
     "data": {
      "text/plain": [
       "[2.4520949356607558e-11,\n",
       " 0.013122699341618686,\n",
       " 9.8828620367698786e-07,\n",
       " 3.3060982262993605e-05,\n",
       " 0.21125037865247381,\n",
       " 8.7786600286017921e-06,\n",
       " 0.038779994244314192,\n",
       " 0.98937795105718351,\n",
       " 0.025244809072698157,\n",
       " 0.0030577724201327908,\n",
       " 0.21629880510700394,\n",
       " 0.016664940156391892]"
      ]
     },
     "execution_count": 411,
     "metadata": {},
     "output_type": "execute_result"
    }
   ],
   "source": [
    "p_vals = [test_alternative_greater_wilcoxon(cv_results_rnd_gens, cv_results_M1_M2),\n",
    "          test_alternative_greater_wilcoxon(cv_results_rnd_gens, cv_results_M3),\n",
    "          test_alternative_greater_wilcoxon(cv_results_rnd_pairs, cv_results_M4),\n",
    "          test_alternative_greater_wilcoxon(cv_results_ident, cv_results_M1_M2),\n",
    "          test_alternative_greater_wilcoxon(cv_results_ident, cv_results_M3),\n",
    "          test_alternative_greater_wilcoxon(cv_results_ident_for_M4, cv_results_M4),\n",
    "          \n",
    "          test_alternative_greater_wilcoxon(cv_results_rnd_gens2, cv_results_M1_M22),\n",
    "          test_alternative_greater_wilcoxon(cv_results_rnd_gens2, cv_results_M32),\n",
    "          test_alternative_greater_wilcoxon(cv_results_rnd_pairs2, cv_results_M42),\n",
    "          test_alternative_greater_wilcoxon(cv_results_ident2, cv_results_M1_M22),\n",
    "          test_alternative_greater_wilcoxon(cv_results_ident2, cv_results_M32),\n",
    "          test_alternative_greater_wilcoxon(cv_results_ident2, cv_results_M42)]\n",
    "p_vals"
   ]
  },
  {
   "cell_type": "code",
   "execution_count": 417,
   "metadata": {
    "collapsed": false,
    "scrolled": true
   },
   "outputs": [
    {
     "data": {
      "text/html": [
       "<div>\n",
       "<table border=\"1\" class=\"dataframe\">\n",
       "  <thead>\n",
       "    <tr style=\"text-align: right;\">\n",
       "      <th></th>\n",
       "      <th>0</th>\n",
       "    </tr>\n",
       "  </thead>\n",
       "  <tbody>\n",
       "    <tr>\n",
       "      <th>0</th>\n",
       "      <td>True</td>\n",
       "    </tr>\n",
       "    <tr>\n",
       "      <th>1</th>\n",
       "      <td>False</td>\n",
       "    </tr>\n",
       "    <tr>\n",
       "      <th>2</th>\n",
       "      <td>True</td>\n",
       "    </tr>\n",
       "    <tr>\n",
       "      <th>3</th>\n",
       "      <td>True</td>\n",
       "    </tr>\n",
       "    <tr>\n",
       "      <th>4</th>\n",
       "      <td>False</td>\n",
       "    </tr>\n",
       "    <tr>\n",
       "      <th>5</th>\n",
       "      <td>True</td>\n",
       "    </tr>\n",
       "    <tr>\n",
       "      <th>6</th>\n",
       "      <td>False</td>\n",
       "    </tr>\n",
       "    <tr>\n",
       "      <th>7</th>\n",
       "      <td>False</td>\n",
       "    </tr>\n",
       "    <tr>\n",
       "      <th>8</th>\n",
       "      <td>False</td>\n",
       "    </tr>\n",
       "    <tr>\n",
       "      <th>9</th>\n",
       "      <td>True</td>\n",
       "    </tr>\n",
       "    <tr>\n",
       "      <th>10</th>\n",
       "      <td>False</td>\n",
       "    </tr>\n",
       "    <tr>\n",
       "      <th>11</th>\n",
       "      <td>False</td>\n",
       "    </tr>\n",
       "  </tbody>\n",
       "</table>\n",
       "</div>"
      ],
      "text/plain": [
       "        0\n",
       "0    True\n",
       "1   False\n",
       "2    True\n",
       "3    True\n",
       "4   False\n",
       "5    True\n",
       "6   False\n",
       "7   False\n",
       "8   False\n",
       "9    True\n",
       "10  False\n",
       "11  False"
      ]
     },
     "execution_count": 417,
     "metadata": {},
     "output_type": "execute_result"
    }
   ],
   "source": [
    "pd.DataFrame(multipletests(p_vals, method='holm')[0])"
   ]
  },
  {
   "cell_type": "markdown",
   "metadata": {
    "collapsed": true
   },
   "source": [
    "# Датасет GSE22513 "
   ]
  },
  {
   "cell_type": "code",
   "execution_count": 280,
   "metadata": {
    "collapsed": true
   },
   "outputs": [],
   "source": [
    "def transform_gens_order(gens_src, gens_dst, X):\n",
    "    new_X = np.zeros(shape=(X.shape[0], gens_dst.shape[0]))\n",
    "    src_vocab = {g:i for i,g in enumerate(gens_src)}    \n",
    "    for new_idx, gen in enumerate(gens_dst):\n",
    "        old_idx = src_vocab.get(gen, -1)\n",
    "        if old_idx >= 0:\n",
    "            new_X[:, new_idx] = X[:, old_idx]\n",
    "    return new_X    \n",
    "\n",
    "\n",
    "def wrap_description(description, samples):\n",
    "    descriptions = []\n",
    "    for sample in samples:\n",
    "        descriptions.append([description for sample in samples])\n",
    "    return descriptions\n",
    "\n",
    "\n",
    "def read_M4_global_description(path, gens):\n",
    "    pairs = []\n",
    "    with open(path, 'r') as f:\n",
    "        for pair in f:\n",
    "            p = pair.strip().split('\\t')\n",
    "            pairs.append(\"compare_expr({}, {})\".format(gens.index(p[0]), gens.index(p[1])))\n",
    "    return '\\t'.join(pairs)    \n",
    "\n",
    "\n",
    "def heuristic_1_2_features(X, y, train, test, topn=250):\n",
    "    #description = \"экспрессии генов отобранных по пересечению 1-й и второй эвристик\\n id генов:\\n\"\n",
    "    gen_res = []\n",
    "    for g in range(X.shape[1]):\n",
    "        lg = LogisticRegression(penalty='l1', C=1)\n",
    "        lg.fit(X[train, g:g + 1], y[train])\n",
    "        gen_res.append((lg.predict(X[train, g:g + 1]) == y[train]).mean())\n",
    "    gen_res = np.array(gen_res)\n",
    "    good_h1 = np.arange(X.shape[1])[gen_res > y[train].mean()]\n",
    "\n",
    "    gen_corr = []\n",
    "    for g in range(X.shape[1]):\n",
    "        gen_corr.append(abs(np.corrcoef(X[train, g], y[train])[0, 1]))\n",
    "    gen_corr = np.array(gen_corr)\n",
    "    gen_corr_indexed = sorted(list(enumerate(gen_corr)), key=lambda p: -p[1])\n",
    "    good = []\n",
    "    for i, g in gen_corr_indexed:\n",
    "        if i in good_h1:\n",
    "            good.append(i)\n",
    "        if len(good) == topn:\n",
    "            break\n",
    "            \n",
    "    good = np.array(good)\n",
    "#     good_h2 = np.arange(X.shape[1])[gen_corr > np.percentile(gen_corr, 98.2)]\n",
    "#     good = np.array([g for g in set(good_h1).intersection(set(good_h2))])\n",
    "    # print(good)\n",
    "    description = \"\\t\".join([str(gid) for gid in good])\n",
    "    return X[:, good], description"
   ]
  },
  {
   "cell_type": "code",
   "execution_count": 283,
   "metadata": {
    "collapsed": true
   },
   "outputs": [],
   "source": [
    "xpressions_pr_new = scale(transform_gens_order(gens_pr, gens, xpressions_pr), axis=1) \n",
    "knn2 = KNeighborsClassifier(n_neighbors=5)\n",
    "np.random.seed(3267)\n",
    "samples_pr = gen_samples(xpressions_pr_new, responses_pr, iters=10, cv=4)"
   ]
  },
  {
   "cell_type": "code",
   "execution_count": 79,
   "metadata": {
    "collapsed": false
   },
   "outputs": [],
   "source": [
    "_, descriptions_M1_M22 = heuristic_1_2_features(xpressions, responses,\n",
    "                                                np.arange(xpressions.shape[0]), [], topn=250)\n",
    "descriptions_M1_M22 = wrap_description(descriptions_M1_M22, samples_pr)"
   ]
  },
  {
   "cell_type": "code",
   "execution_count": 85,
   "metadata": {
    "collapsed": true
   },
   "outputs": [],
   "source": [
    "_, descriptions_M32 = heuristic_3(xpressions, responses,\n",
    "                                  np.arange(xpressions.shape[0]), [])\n",
    "descriptions_M32 = wrap_description(descriptions_M32, samples_pr)"
   ]
  },
  {
   "cell_type": "code",
   "execution_count": 153,
   "metadata": {
    "collapsed": false
   },
   "outputs": [],
   "source": [
    "descriptions_M42 = read_M4_global_description('../data/M4_pairs.tsv', list(gens))\n",
    "descriptions_M42 = wrap_description(descriptions_M42, samples_pr)"
   ]
  },
  {
   "cell_type": "code",
   "execution_count": 87,
   "metadata": {
    "collapsed": false
   },
   "outputs": [
    {
     "data": {
      "text/plain": [
       "(250, 250, 70)"
      ]
     },
     "execution_count": 87,
     "metadata": {},
     "output_type": "execute_result"
    }
   ],
   "source": [
    "len(descriptions_M32[0][0].split('\\t')), len(descriptions_M1_M22[0][0].split('\\t')), \\\n",
    "len(descriptions_M42[0][0].split('\\t'))"
   ]
  },
  {
   "cell_type": "markdown",
   "metadata": {},
   "source": [
    "## Классификация по всем генам"
   ]
  },
  {
   "cell_type": "code",
   "execution_count": 306,
   "metadata": {
    "collapsed": false
   },
   "outputs": [
    {
     "name": "stdout",
     "output_type": "stream",
     "text": [
      "iteration: 0\n",
      "iteration: 1\n",
      "iteration: 2\n",
      "iteration: 3\n",
      "iteration: 4\n",
      "iteration: 5\n",
      "iteration: 6\n",
      "iteration: 7\n",
      "iteration: 8\n",
      "iteration: 9\n"
     ]
    },
    {
     "data": {
      "text/html": [
       "<div>\n",
       "<table border=\"1\" class=\"dataframe\">\n",
       "  <thead>\n",
       "    <tr style=\"text-align: right;\">\n",
       "      <th></th>\n",
       "      <th>precision 0</th>\n",
       "      <th>recall 0</th>\n",
       "      <th>precision 1</th>\n",
       "      <th>recall 1</th>\n",
       "      <th>accuracy</th>\n",
       "      <th>auc</th>\n",
       "    </tr>\n",
       "  </thead>\n",
       "  <tbody>\n",
       "    <tr>\n",
       "      <th>схема а</th>\n",
       "      <td>0.5875</td>\n",
       "      <td>0.65</td>\n",
       "      <td>0.625000</td>\n",
       "      <td>0.725</td>\n",
       "      <td>0.6875</td>\n",
       "      <td>0.4750</td>\n",
       "    </tr>\n",
       "    <tr>\n",
       "      <th>схема б</th>\n",
       "      <td>0.6850</td>\n",
       "      <td>0.65</td>\n",
       "      <td>0.691667</td>\n",
       "      <td>0.725</td>\n",
       "      <td>0.6875</td>\n",
       "      <td>0.5125</td>\n",
       "    </tr>\n",
       "  </tbody>\n",
       "</table>\n",
       "</div>"
      ],
      "text/plain": [
       "         precision 0  recall 0  precision 1  recall 1  accuracy     auc\n",
       "схема а       0.5875      0.65     0.625000     0.725    0.6875  0.4750\n",
       "схема б       0.6850      0.65     0.691667     0.725    0.6875  0.5125"
      ]
     },
     "execution_count": 306,
     "metadata": {},
     "output_type": "execute_result"
    }
   ],
   "source": [
    "np.random.seed(3267)\n",
    "a_ident2, b_ident2, cv_results_ident2_clf, descriptions_ident = \\\n",
    "    do_simmetry_class_cv(xpressions_pr_new,\n",
    "                         responses_pr,\n",
    "                         samples_pr,\n",
    "                         clf,\n",
    "                         feature_maker=identity_heuristic)    \n",
    "process_results(a_ident2, b_ident2, cv_results_ident2_clf)"
   ]
  },
  {
   "cell_type": "code",
   "execution_count": 285,
   "metadata": {
    "collapsed": false
   },
   "outputs": [
    {
     "name": "stdout",
     "output_type": "stream",
     "text": [
      "iteration: 0\n",
      "iteration: 1\n",
      "iteration: 2\n",
      "iteration: 3\n",
      "iteration: 4\n",
      "iteration: 5\n",
      "iteration: 6\n",
      "iteration: 7\n",
      "iteration: 8\n",
      "iteration: 9\n"
     ]
    },
    {
     "data": {
      "text/html": [
       "<div>\n",
       "<table border=\"1\" class=\"dataframe\">\n",
       "  <thead>\n",
       "    <tr style=\"text-align: right;\">\n",
       "      <th></th>\n",
       "      <th>precision 0</th>\n",
       "      <th>recall 0</th>\n",
       "      <th>precision 1</th>\n",
       "      <th>recall 1</th>\n",
       "      <th>accuracy</th>\n",
       "      <th>auc</th>\n",
       "    </tr>\n",
       "  </thead>\n",
       "  <tbody>\n",
       "    <tr>\n",
       "      <th>схема а</th>\n",
       "      <td>0.575</td>\n",
       "      <td>0.6</td>\n",
       "      <td>0.70000</td>\n",
       "      <td>0.85</td>\n",
       "      <td>0.725</td>\n",
       "      <td>0.6750</td>\n",
       "    </tr>\n",
       "    <tr>\n",
       "      <th>схема б</th>\n",
       "      <td>0.700</td>\n",
       "      <td>0.6</td>\n",
       "      <td>0.71619</td>\n",
       "      <td>0.85</td>\n",
       "      <td>0.725</td>\n",
       "      <td>0.6875</td>\n",
       "    </tr>\n",
       "  </tbody>\n",
       "</table>\n",
       "</div>"
      ],
      "text/plain": [
       "         precision 0  recall 0  precision 1  recall 1  accuracy     auc\n",
       "схема а        0.575       0.6      0.70000      0.85     0.725  0.6750\n",
       "схема б        0.700       0.6      0.71619      0.85     0.725  0.6875"
      ]
     },
     "execution_count": 285,
     "metadata": {},
     "output_type": "execute_result"
    }
   ],
   "source": [
    "np.random.seed(3267)\n",
    "a_ident2_lr, b_ident2_lr, cv_results_ident2_lr, descriptions_ident = \\\n",
    "    do_simmetry_class_cv(xpressions_pr_new,\n",
    "                         responses_pr,\n",
    "                         samples_pr,\n",
    "                         lr,\n",
    "                         feature_maker=identity_heuristic)    \n",
    "process_results(a_ident2_lr, b_ident2_lr, cv_results_ident2_lr)"
   ]
  },
  {
   "cell_type": "code",
   "execution_count": 286,
   "metadata": {
    "collapsed": false
   },
   "outputs": [
    {
     "name": "stdout",
     "output_type": "stream",
     "text": [
      "iteration: 0\n",
      "iteration: 1\n",
      "iteration: 2\n",
      "iteration: 3\n",
      "iteration: 4\n",
      "iteration: 5\n",
      "iteration: 6\n",
      "iteration: 7\n",
      "iteration: 8\n",
      "iteration: 9\n"
     ]
    },
    {
     "data": {
      "text/html": [
       "<div>\n",
       "<table border=\"1\" class=\"dataframe\">\n",
       "  <thead>\n",
       "    <tr style=\"text-align: right;\">\n",
       "      <th></th>\n",
       "      <th>precision 0</th>\n",
       "      <th>recall 0</th>\n",
       "      <th>precision 1</th>\n",
       "      <th>recall 1</th>\n",
       "      <th>accuracy</th>\n",
       "      <th>auc</th>\n",
       "    </tr>\n",
       "  </thead>\n",
       "  <tbody>\n",
       "    <tr>\n",
       "      <th>схема а</th>\n",
       "      <td>0.5625</td>\n",
       "      <td>0.575</td>\n",
       "      <td>0.762500</td>\n",
       "      <td>0.975</td>\n",
       "      <td>0.775</td>\n",
       "      <td>0.775</td>\n",
       "    </tr>\n",
       "    <tr>\n",
       "      <th>схема б</th>\n",
       "      <td>0.9500</td>\n",
       "      <td>0.575</td>\n",
       "      <td>0.730952</td>\n",
       "      <td>0.975</td>\n",
       "      <td>0.775</td>\n",
       "      <td>0.775</td>\n",
       "    </tr>\n",
       "  </tbody>\n",
       "</table>\n",
       "</div>"
      ],
      "text/plain": [
       "         precision 0  recall 0  precision 1  recall 1  accuracy    auc\n",
       "схема а       0.5625     0.575     0.762500     0.975     0.775  0.775\n",
       "схема б       0.9500     0.575     0.730952     0.975     0.775  0.775"
      ]
     },
     "execution_count": 286,
     "metadata": {},
     "output_type": "execute_result"
    }
   ],
   "source": [
    "np.random.seed(3267)\n",
    "a_ident2_knn, b_ident2_knn, cv_results_ident2_knn, descriptions_ident = \\\n",
    "    do_simmetry_class_cv(xpressions_pr_new,\n",
    "                         responses_pr,\n",
    "                         samples_pr,\n",
    "                         knn2,\n",
    "                         feature_maker=identity_heuristic)    \n",
    "process_results(a_ident2_knn, b_ident2_knn, cv_results_ident2_knn)"
   ]
  },
  {
   "cell_type": "markdown",
   "metadata": {},
   "source": [
    "## Эвристики M1, M2"
   ]
  },
  {
   "cell_type": "code",
   "execution_count": 287,
   "metadata": {
    "collapsed": false
   },
   "outputs": [
    {
     "name": "stdout",
     "output_type": "stream",
     "text": [
      "iteration: 0\n",
      "iteration: 1\n",
      "iteration: 2\n",
      "iteration: 3\n",
      "iteration: 4\n",
      "iteration: 5\n",
      "iteration: 6\n",
      "iteration: 7\n",
      "iteration: 8\n",
      "iteration: 9\n"
     ]
    },
    {
     "data": {
      "text/html": [
       "<div>\n",
       "<table border=\"1\" class=\"dataframe\">\n",
       "  <thead>\n",
       "    <tr style=\"text-align: right;\">\n",
       "      <th></th>\n",
       "      <th>precision 0</th>\n",
       "      <th>recall 0</th>\n",
       "      <th>precision 1</th>\n",
       "      <th>recall 1</th>\n",
       "      <th>accuracy</th>\n",
       "      <th>auc</th>\n",
       "    </tr>\n",
       "  </thead>\n",
       "  <tbody>\n",
       "    <tr>\n",
       "      <th>схема а</th>\n",
       "      <td>0.737500</td>\n",
       "      <td>0.775</td>\n",
       "      <td>0.80</td>\n",
       "      <td>0.9</td>\n",
       "      <td>0.8375</td>\n",
       "      <td>0.7000</td>\n",
       "    </tr>\n",
       "    <tr>\n",
       "      <th>схема б</th>\n",
       "      <td>0.883333</td>\n",
       "      <td>0.775</td>\n",
       "      <td>0.81</td>\n",
       "      <td>0.9</td>\n",
       "      <td>0.8375</td>\n",
       "      <td>0.7125</td>\n",
       "    </tr>\n",
       "  </tbody>\n",
       "</table>\n",
       "</div>"
      ],
      "text/plain": [
       "         precision 0  recall 0  precision 1  recall 1  accuracy     auc\n",
       "схема а     0.737500     0.775         0.80       0.9    0.8375  0.7000\n",
       "схема б     0.883333     0.775         0.81       0.9    0.8375  0.7125"
      ]
     },
     "execution_count": 287,
     "metadata": {},
     "output_type": "execute_result"
    }
   ],
   "source": [
    "np.random.seed(3267)\n",
    "a_M1_M22, b_M1_M22, cv_results_M1_M22_clf, descriptions_M1_M22 = \\\n",
    "    do_simmetry_class_cv_by_descr(xpressions_pr_new,\n",
    "                         responses_pr,\n",
    "                         samples_pr, descriptions_M1_M22,\n",
    "                         clf,\n",
    "                         feature_maker=heuristic_3_by_description)    \n",
    "process_results(a_M1_M22, b_M1_M22, cv_results_M1_M22_clf)"
   ]
  },
  {
   "cell_type": "code",
   "execution_count": 288,
   "metadata": {
    "collapsed": false
   },
   "outputs": [
    {
     "name": "stdout",
     "output_type": "stream",
     "text": [
      "iteration: 0\n",
      "iteration: 1\n",
      "iteration: 2\n",
      "iteration: 3\n",
      "iteration: 4\n",
      "iteration: 5\n",
      "iteration: 6\n",
      "iteration: 7\n",
      "iteration: 8\n",
      "iteration: 9\n"
     ]
    },
    {
     "data": {
      "text/html": [
       "<div>\n",
       "<table border=\"1\" class=\"dataframe\">\n",
       "  <thead>\n",
       "    <tr style=\"text-align: right;\">\n",
       "      <th></th>\n",
       "      <th>precision 0</th>\n",
       "      <th>recall 0</th>\n",
       "      <th>precision 1</th>\n",
       "      <th>recall 1</th>\n",
       "      <th>accuracy</th>\n",
       "      <th>auc</th>\n",
       "    </tr>\n",
       "  </thead>\n",
       "  <tbody>\n",
       "    <tr>\n",
       "      <th>схема а</th>\n",
       "      <td>0.675</td>\n",
       "      <td>0.675</td>\n",
       "      <td>0.8375</td>\n",
       "      <td>1.0</td>\n",
       "      <td>0.8375</td>\n",
       "      <td>0.9000</td>\n",
       "    </tr>\n",
       "    <tr>\n",
       "      <th>схема б</th>\n",
       "      <td>0.900</td>\n",
       "      <td>0.675</td>\n",
       "      <td>0.7900</td>\n",
       "      <td>1.0</td>\n",
       "      <td>0.8375</td>\n",
       "      <td>0.8625</td>\n",
       "    </tr>\n",
       "  </tbody>\n",
       "</table>\n",
       "</div>"
      ],
      "text/plain": [
       "         precision 0  recall 0  precision 1  recall 1  accuracy     auc\n",
       "схема а        0.675     0.675       0.8375       1.0    0.8375  0.9000\n",
       "схема б        0.900     0.675       0.7900       1.0    0.8375  0.8625"
      ]
     },
     "execution_count": 288,
     "metadata": {},
     "output_type": "execute_result"
    }
   ],
   "source": [
    "np.random.seed(3267)\n",
    "a_M1_M22_lr, b_M1_M22_lr, cv_results_M1_M22_lr, _ = \\\n",
    "    do_simmetry_class_cv_by_descr(xpressions_pr_new,\n",
    "                         responses_pr,\n",
    "                         samples_pr, descriptions_M1_M22,\n",
    "                         lr,\n",
    "                         feature_maker=heuristic_3_by_description)    \n",
    "process_results(a_M1_M22_lr, b_M1_M22_lr, cv_results_M1_M22_lr)"
   ]
  },
  {
   "cell_type": "code",
   "execution_count": 290,
   "metadata": {
    "collapsed": false,
    "scrolled": true
   },
   "outputs": [
    {
     "name": "stdout",
     "output_type": "stream",
     "text": [
      "iteration: 0\n",
      "iteration: 1\n",
      "iteration: 2\n",
      "iteration: 3\n",
      "iteration: 4\n",
      "iteration: 5\n",
      "iteration: 6\n",
      "iteration: 7\n",
      "iteration: 8\n",
      "iteration: 9\n"
     ]
    },
    {
     "data": {
      "text/html": [
       "<div>\n",
       "<table border=\"1\" class=\"dataframe\">\n",
       "  <thead>\n",
       "    <tr style=\"text-align: right;\">\n",
       "      <th></th>\n",
       "      <th>precision 0</th>\n",
       "      <th>recall 0</th>\n",
       "      <th>precision 1</th>\n",
       "      <th>recall 1</th>\n",
       "      <th>accuracy</th>\n",
       "      <th>auc</th>\n",
       "    </tr>\n",
       "  </thead>\n",
       "  <tbody>\n",
       "    <tr>\n",
       "      <th>схема а</th>\n",
       "      <td>0.587500</td>\n",
       "      <td>0.65</td>\n",
       "      <td>0.637500</td>\n",
       "      <td>0.75</td>\n",
       "      <td>0.7</td>\n",
       "      <td>0.7</td>\n",
       "    </tr>\n",
       "    <tr>\n",
       "      <th>схема б</th>\n",
       "      <td>0.693333</td>\n",
       "      <td>0.65</td>\n",
       "      <td>0.706667</td>\n",
       "      <td>0.75</td>\n",
       "      <td>0.7</td>\n",
       "      <td>0.7</td>\n",
       "    </tr>\n",
       "  </tbody>\n",
       "</table>\n",
       "</div>"
      ],
      "text/plain": [
       "         precision 0  recall 0  precision 1  recall 1  accuracy  auc\n",
       "схема а     0.587500      0.65     0.637500      0.75       0.7  0.7\n",
       "схема б     0.693333      0.65     0.706667      0.75       0.7  0.7"
      ]
     },
     "execution_count": 290,
     "metadata": {},
     "output_type": "execute_result"
    }
   ],
   "source": [
    "np.random.seed(3267)\n",
    "a_M1_M22_knn, b_M1_M22_knn, cv_results_M1_M22_knn, _ = \\\n",
    "    do_simmetry_class_cv_by_descr(xpressions_pr_new,\n",
    "                         responses_pr,\n",
    "                         samples_pr, descriptions_M1_M22,\n",
    "                         knn2,\n",
    "                         feature_maker=heuristic_3_by_description)    \n",
    "process_results(a_M1_M22_knn, b_M1_M22_knn, cv_results_M1_M22_knn)"
   ]
  },
  {
   "cell_type": "markdown",
   "metadata": {
    "collapsed": true
   },
   "source": [
    "## Эвристика M3"
   ]
  },
  {
   "cell_type": "code",
   "execution_count": 291,
   "metadata": {
    "collapsed": false,
    "scrolled": true
   },
   "outputs": [
    {
     "name": "stdout",
     "output_type": "stream",
     "text": [
      "iteration: 0\n",
      "iteration: 1\n",
      "iteration: 2\n",
      "iteration: 3\n",
      "iteration: 4\n",
      "iteration: 5\n",
      "iteration: 6\n",
      "iteration: 7\n",
      "iteration: 8\n",
      "iteration: 9\n"
     ]
    },
    {
     "data": {
      "text/html": [
       "<div>\n",
       "<table border=\"1\" class=\"dataframe\">\n",
       "  <thead>\n",
       "    <tr style=\"text-align: right;\">\n",
       "      <th></th>\n",
       "      <th>precision 0</th>\n",
       "      <th>recall 0</th>\n",
       "      <th>precision 1</th>\n",
       "      <th>recall 1</th>\n",
       "      <th>accuracy</th>\n",
       "      <th>auc</th>\n",
       "    </tr>\n",
       "  </thead>\n",
       "  <tbody>\n",
       "    <tr>\n",
       "      <th>схема а</th>\n",
       "      <td>0.525</td>\n",
       "      <td>0.625</td>\n",
       "      <td>0.525000</td>\n",
       "      <td>0.625</td>\n",
       "      <td>0.625</td>\n",
       "      <td>0.4625</td>\n",
       "    </tr>\n",
       "    <tr>\n",
       "      <th>схема б</th>\n",
       "      <td>0.600</td>\n",
       "      <td>0.625</td>\n",
       "      <td>0.633333</td>\n",
       "      <td>0.625</td>\n",
       "      <td>0.625</td>\n",
       "      <td>0.5250</td>\n",
       "    </tr>\n",
       "  </tbody>\n",
       "</table>\n",
       "</div>"
      ],
      "text/plain": [
       "         precision 0  recall 0  precision 1  recall 1  accuracy     auc\n",
       "схема а        0.525     0.625     0.525000     0.625     0.625  0.4625\n",
       "схема б        0.600     0.625     0.633333     0.625     0.625  0.5250"
      ]
     },
     "execution_count": 291,
     "metadata": {},
     "output_type": "execute_result"
    }
   ],
   "source": [
    "np.random.seed(3267)\n",
    "a_M32, b_M32, cv_results_M32_clf, descriptions_M32 = \\\n",
    "    do_simmetry_class_cv_by_descr(xpressions_pr_new,\n",
    "                         responses_pr,\n",
    "                         samples_pr, descriptions_M32,\n",
    "                         clf,\n",
    "                         feature_maker=heuristic_3_by_description)    \n",
    "process_results(a_M32, b_M32, cv_results_M32_clf)"
   ]
  },
  {
   "cell_type": "code",
   "execution_count": 292,
   "metadata": {
    "collapsed": false,
    "scrolled": true
   },
   "outputs": [
    {
     "name": "stdout",
     "output_type": "stream",
     "text": [
      "iteration: 0\n",
      "iteration: 1\n",
      "iteration: 2\n",
      "iteration: 3\n",
      "iteration: 4\n",
      "iteration: 5\n",
      "iteration: 6\n",
      "iteration: 7\n",
      "iteration: 8\n",
      "iteration: 9\n"
     ]
    },
    {
     "data": {
      "text/html": [
       "<div>\n",
       "<table border=\"1\" class=\"dataframe\">\n",
       "  <thead>\n",
       "    <tr style=\"text-align: right;\">\n",
       "      <th></th>\n",
       "      <th>precision 0</th>\n",
       "      <th>recall 0</th>\n",
       "      <th>precision 1</th>\n",
       "      <th>recall 1</th>\n",
       "      <th>accuracy</th>\n",
       "      <th>auc</th>\n",
       "    </tr>\n",
       "  </thead>\n",
       "  <tbody>\n",
       "    <tr>\n",
       "      <th>схема а</th>\n",
       "      <td>0.5625</td>\n",
       "      <td>0.65</td>\n",
       "      <td>0.6</td>\n",
       "      <td>0.725</td>\n",
       "      <td>0.6875</td>\n",
       "      <td>0.6750</td>\n",
       "    </tr>\n",
       "    <tr>\n",
       "      <th>схема б</th>\n",
       "      <td>0.6600</td>\n",
       "      <td>0.65</td>\n",
       "      <td>0.7</td>\n",
       "      <td>0.725</td>\n",
       "      <td>0.6875</td>\n",
       "      <td>0.6625</td>\n",
       "    </tr>\n",
       "  </tbody>\n",
       "</table>\n",
       "</div>"
      ],
      "text/plain": [
       "         precision 0  recall 0  precision 1  recall 1  accuracy     auc\n",
       "схема а       0.5625      0.65          0.6     0.725    0.6875  0.6750\n",
       "схема б       0.6600      0.65          0.7     0.725    0.6875  0.6625"
      ]
     },
     "execution_count": 292,
     "metadata": {},
     "output_type": "execute_result"
    }
   ],
   "source": [
    "np.random.seed(3267)\n",
    "a_M32_lr, b_M32_lr, cv_results_M32_lr, _ = \\\n",
    "    do_simmetry_class_cv_by_descr(xpressions_pr_new,\n",
    "                         responses_pr,\n",
    "                         samples_pr, descriptions_M32,\n",
    "                         lr,\n",
    "                         feature_maker=heuristic_3_by_description)    \n",
    "process_results(a_M32_lr, b_M32_lr, cv_results_M32_lr)    "
   ]
  },
  {
   "cell_type": "code",
   "execution_count": 294,
   "metadata": {
    "collapsed": false,
    "scrolled": true
   },
   "outputs": [
    {
     "name": "stdout",
     "output_type": "stream",
     "text": [
      "iteration: 0\n",
      "iteration: 1\n",
      "iteration: 2\n",
      "iteration: 3\n",
      "iteration: 4\n",
      "iteration: 5\n",
      "iteration: 6\n",
      "iteration: 7\n",
      "iteration: 8\n",
      "iteration: 9\n"
     ]
    },
    {
     "data": {
      "text/html": [
       "<div>\n",
       "<table border=\"1\" class=\"dataframe\">\n",
       "  <thead>\n",
       "    <tr style=\"text-align: right;\">\n",
       "      <th></th>\n",
       "      <th>precision 0</th>\n",
       "      <th>recall 0</th>\n",
       "      <th>precision 1</th>\n",
       "      <th>recall 1</th>\n",
       "      <th>accuracy</th>\n",
       "      <th>auc</th>\n",
       "    </tr>\n",
       "  </thead>\n",
       "  <tbody>\n",
       "    <tr>\n",
       "      <th>схема а</th>\n",
       "      <td>0.5125</td>\n",
       "      <td>0.6</td>\n",
       "      <td>0.60000</td>\n",
       "      <td>0.775</td>\n",
       "      <td>0.6875</td>\n",
       "      <td>0.6875</td>\n",
       "    </tr>\n",
       "    <tr>\n",
       "      <th>схема б</th>\n",
       "      <td>0.6900</td>\n",
       "      <td>0.6</td>\n",
       "      <td>0.70619</td>\n",
       "      <td>0.775</td>\n",
       "      <td>0.6875</td>\n",
       "      <td>0.6875</td>\n",
       "    </tr>\n",
       "  </tbody>\n",
       "</table>\n",
       "</div>"
      ],
      "text/plain": [
       "         precision 0  recall 0  precision 1  recall 1  accuracy     auc\n",
       "схема а       0.5125       0.6      0.60000     0.775    0.6875  0.6875\n",
       "схема б       0.6900       0.6      0.70619     0.775    0.6875  0.6875"
      ]
     },
     "execution_count": 294,
     "metadata": {},
     "output_type": "execute_result"
    }
   ],
   "source": [
    "np.random.seed(3267)\n",
    "a_M32_knn, b_M32_knn, cv_results_M32_knn, _ = \\\n",
    "    do_simmetry_class_cv_by_descr(xpressions_pr_new,\n",
    "                         responses_pr,\n",
    "                         samples_pr, descriptions_M32,\n",
    "                         knn2,\n",
    "                         feature_maker=heuristic_3_by_description)    \n",
    "process_results(a_M32_knn, b_M32_knn, cv_results_M32_knn)    "
   ]
  },
  {
   "cell_type": "markdown",
   "metadata": {},
   "source": [
    "## Эвристика М4"
   ]
  },
  {
   "cell_type": "code",
   "execution_count": 295,
   "metadata": {
    "collapsed": false
   },
   "outputs": [
    {
     "name": "stdout",
     "output_type": "stream",
     "text": [
      "iteration: 0\n",
      "iteration: 1\n",
      "iteration: 2\n",
      "iteration: 3\n",
      "iteration: 4\n",
      "iteration: 5\n",
      "iteration: 6\n",
      "iteration: 7\n",
      "iteration: 8\n",
      "iteration: 9\n"
     ]
    },
    {
     "data": {
      "text/html": [
       "<div>\n",
       "<table border=\"1\" class=\"dataframe\">\n",
       "  <thead>\n",
       "    <tr style=\"text-align: right;\">\n",
       "      <th></th>\n",
       "      <th>precision 0</th>\n",
       "      <th>recall 0</th>\n",
       "      <th>precision 1</th>\n",
       "      <th>recall 1</th>\n",
       "      <th>accuracy</th>\n",
       "      <th>auc</th>\n",
       "    </tr>\n",
       "  </thead>\n",
       "  <tbody>\n",
       "    <tr>\n",
       "      <th>схема а</th>\n",
       "      <td>0.700</td>\n",
       "      <td>0.8</td>\n",
       "      <td>0.700</td>\n",
       "      <td>0.8</td>\n",
       "      <td>0.8</td>\n",
       "      <td>0.65000</td>\n",
       "    </tr>\n",
       "    <tr>\n",
       "      <th>схема б</th>\n",
       "      <td>0.795</td>\n",
       "      <td>0.8</td>\n",
       "      <td>0.835</td>\n",
       "      <td>0.8</td>\n",
       "      <td>0.8</td>\n",
       "      <td>0.66875</td>\n",
       "    </tr>\n",
       "  </tbody>\n",
       "</table>\n",
       "</div>"
      ],
      "text/plain": [
       "         precision 0  recall 0  precision 1  recall 1  accuracy      auc\n",
       "схема а        0.700       0.8        0.700       0.8       0.8  0.65000\n",
       "схема б        0.795       0.8        0.835       0.8       0.8  0.66875"
      ]
     },
     "execution_count": 295,
     "metadata": {},
     "output_type": "execute_result"
    }
   ],
   "source": [
    "np.random.seed(3267)\n",
    "a_M42, b_M42, cv_results_M42_clf, _ = \\\n",
    "    do_simmetry_class_cv_by_descr(xpressions_pr_new,\n",
    "                         responses_pr,\n",
    "                         samples_pr, descriptions_M42,\n",
    "                         clf,\n",
    "                         feature_maker=heuristic_4_by_description)    \n",
    "process_results(a_M42, b_M42, cv_results_M42)"
   ]
  },
  {
   "cell_type": "code",
   "execution_count": 296,
   "metadata": {
    "collapsed": false
   },
   "outputs": [
    {
     "name": "stdout",
     "output_type": "stream",
     "text": [
      "iteration: 0\n",
      "iteration: 1\n",
      "iteration: 2\n",
      "iteration: 3\n",
      "iteration: 4\n",
      "iteration: 5\n",
      "iteration: 6\n",
      "iteration: 7\n",
      "iteration: 8\n",
      "iteration: 9\n"
     ]
    },
    {
     "data": {
      "text/html": [
       "<div>\n",
       "<table border=\"1\" class=\"dataframe\">\n",
       "  <thead>\n",
       "    <tr style=\"text-align: right;\">\n",
       "      <th></th>\n",
       "      <th>precision 0</th>\n",
       "      <th>recall 0</th>\n",
       "      <th>precision 1</th>\n",
       "      <th>recall 1</th>\n",
       "      <th>accuracy</th>\n",
       "      <th>auc</th>\n",
       "    </tr>\n",
       "  </thead>\n",
       "  <tbody>\n",
       "    <tr>\n",
       "      <th>схема а</th>\n",
       "      <td>0.56250</td>\n",
       "      <td>0.85</td>\n",
       "      <td>0.325</td>\n",
       "      <td>0.375</td>\n",
       "      <td>0.6125</td>\n",
       "      <td>0.80000</td>\n",
       "    </tr>\n",
       "    <tr>\n",
       "      <th>схема б</th>\n",
       "      <td>0.57381</td>\n",
       "      <td>0.85</td>\n",
       "      <td>0.750</td>\n",
       "      <td>0.375</td>\n",
       "      <td>0.6125</td>\n",
       "      <td>0.78125</td>\n",
       "    </tr>\n",
       "  </tbody>\n",
       "</table>\n",
       "</div>"
      ],
      "text/plain": [
       "         precision 0  recall 0  precision 1  recall 1  accuracy      auc\n",
       "схема а      0.56250      0.85        0.325     0.375    0.6125  0.80000\n",
       "схема б      0.57381      0.85        0.750     0.375    0.6125  0.78125"
      ]
     },
     "execution_count": 296,
     "metadata": {},
     "output_type": "execute_result"
    }
   ],
   "source": [
    "np.random.seed(3267)\n",
    "a_M42_lr, b_M42_lr, cv_results_M42_lr, _ = \\\n",
    "    do_simmetry_class_cv_by_descr(xpressions_pr_new,\n",
    "                         responses_pr,\n",
    "                         samples_pr, descriptions_M42,\n",
    "                         lr,\n",
    "                         feature_maker=heuristic_4_by_description)    \n",
    "process_results(a_M42_lr, b_M42_lr, cv_results_M42_lr)    "
   ]
  },
  {
   "cell_type": "code",
   "execution_count": 297,
   "metadata": {
    "collapsed": false,
    "scrolled": true
   },
   "outputs": [
    {
     "name": "stdout",
     "output_type": "stream",
     "text": [
      "iteration: 0\n",
      "iteration: 1\n",
      "iteration: 2\n",
      "iteration: 3\n",
      "iteration: 4\n",
      "iteration: 5\n",
      "iteration: 6\n",
      "iteration: 7\n",
      "iteration: 8\n",
      "iteration: 9\n"
     ]
    },
    {
     "data": {
      "text/html": [
       "<div>\n",
       "<table border=\"1\" class=\"dataframe\">\n",
       "  <thead>\n",
       "    <tr style=\"text-align: right;\">\n",
       "      <th></th>\n",
       "      <th>precision 0</th>\n",
       "      <th>recall 0</th>\n",
       "      <th>precision 1</th>\n",
       "      <th>recall 1</th>\n",
       "      <th>accuracy</th>\n",
       "      <th>auc</th>\n",
       "    </tr>\n",
       "  </thead>\n",
       "  <tbody>\n",
       "    <tr>\n",
       "      <th>схема а</th>\n",
       "      <td>0.675</td>\n",
       "      <td>0.675</td>\n",
       "      <td>0.800000</td>\n",
       "      <td>0.925</td>\n",
       "      <td>0.8</td>\n",
       "      <td>0.8</td>\n",
       "    </tr>\n",
       "    <tr>\n",
       "      <th>схема б</th>\n",
       "      <td>0.900</td>\n",
       "      <td>0.675</td>\n",
       "      <td>0.780952</td>\n",
       "      <td>0.925</td>\n",
       "      <td>0.8</td>\n",
       "      <td>0.8</td>\n",
       "    </tr>\n",
       "  </tbody>\n",
       "</table>\n",
       "</div>"
      ],
      "text/plain": [
       "         precision 0  recall 0  precision 1  recall 1  accuracy  auc\n",
       "схема а        0.675     0.675     0.800000     0.925       0.8  0.8\n",
       "схема б        0.900     0.675     0.780952     0.925       0.8  0.8"
      ]
     },
     "execution_count": 297,
     "metadata": {},
     "output_type": "execute_result"
    }
   ],
   "source": [
    "np.random.seed(3267)\n",
    "a_M42_knn, b_M42_knn, cv_results_M42_knn, _ = \\\n",
    "    do_simmetry_class_cv_by_descr(xpressions_pr_new,\n",
    "                         responses_pr,\n",
    "                         samples_pr, descriptions_M42,\n",
    "                         knn2,\n",
    "                         feature_maker=heuristic_4_by_description)    \n",
    "process_results(a_M42_knn, b_M42_knn, cv_results_M42_knn)    "
   ]
  },
  {
   "cell_type": "markdown",
   "metadata": {},
   "source": [
    "## Случайные 250 генов"
   ]
  },
  {
   "cell_type": "code",
   "execution_count": 329,
   "metadata": {
    "collapsed": false
   },
   "outputs": [
    {
     "name": "stdout",
     "output_type": "stream",
     "text": [
      "iteration: 0\n",
      "iteration: 1\n",
      "iteration: 2\n",
      "iteration: 3\n",
      "iteration: 4\n",
      "iteration: 5\n",
      "iteration: 6\n",
      "iteration: 7\n",
      "iteration: 8\n",
      "iteration: 9\n"
     ]
    },
    {
     "data": {
      "text/html": [
       "<div>\n",
       "<table border=\"1\" class=\"dataframe\">\n",
       "  <thead>\n",
       "    <tr style=\"text-align: right;\">\n",
       "      <th></th>\n",
       "      <th>precision 0</th>\n",
       "      <th>recall 0</th>\n",
       "      <th>precision 1</th>\n",
       "      <th>recall 1</th>\n",
       "      <th>accuracy</th>\n",
       "      <th>auc</th>\n",
       "    </tr>\n",
       "  </thead>\n",
       "  <tbody>\n",
       "    <tr>\n",
       "      <th>схема а</th>\n",
       "      <td>0.475000</td>\n",
       "      <td>0.6</td>\n",
       "      <td>0.462500</td>\n",
       "      <td>0.575</td>\n",
       "      <td>0.5875</td>\n",
       "      <td>0.55000</td>\n",
       "    </tr>\n",
       "    <tr>\n",
       "      <th>схема б</th>\n",
       "      <td>0.576667</td>\n",
       "      <td>0.6</td>\n",
       "      <td>0.596667</td>\n",
       "      <td>0.575</td>\n",
       "      <td>0.5875</td>\n",
       "      <td>0.56875</td>\n",
       "    </tr>\n",
       "  </tbody>\n",
       "</table>\n",
       "</div>"
      ],
      "text/plain": [
       "         precision 0  recall 0  precision 1  recall 1  accuracy      auc\n",
       "схема а     0.475000       0.6     0.462500     0.575    0.5875  0.55000\n",
       "схема б     0.576667       0.6     0.596667     0.575    0.5875  0.56875"
      ]
     },
     "execution_count": 329,
     "metadata": {},
     "output_type": "execute_result"
    }
   ],
   "source": [
    "np.random.seed(3267)\n",
    "a_rnd_gens2, b_rnd_gens2, cv_results_rnd_gens2_clf, _ = \\\n",
    "    do_simmetry_class_cv_by_descr(xpressions_pr_new,\n",
    "                         responses_pr,\n",
    "                         samples_pr, description_rnd,\n",
    "                         clf,\n",
    "                         feature_maker=heuristic_3_by_description)    \n",
    "process_results(a_rnd_gens2, b_rnd_gens2, cv_results_rnd_gens2_clf)"
   ]
  },
  {
   "cell_type": "code",
   "execution_count": 299,
   "metadata": {
    "collapsed": false,
    "scrolled": true
   },
   "outputs": [
    {
     "name": "stdout",
     "output_type": "stream",
     "text": [
      "iteration: 0\n",
      "iteration: 1\n",
      "iteration: 2\n",
      "iteration: 3\n",
      "iteration: 4\n",
      "iteration: 5\n",
      "iteration: 6\n",
      "iteration: 7\n",
      "iteration: 8\n",
      "iteration: 9\n"
     ]
    },
    {
     "data": {
      "text/html": [
       "<div>\n",
       "<table border=\"1\" class=\"dataframe\">\n",
       "  <thead>\n",
       "    <tr style=\"text-align: right;\">\n",
       "      <th></th>\n",
       "      <th>precision 0</th>\n",
       "      <th>recall 0</th>\n",
       "      <th>precision 1</th>\n",
       "      <th>recall 1</th>\n",
       "      <th>accuracy</th>\n",
       "      <th>auc</th>\n",
       "    </tr>\n",
       "  </thead>\n",
       "  <tbody>\n",
       "    <tr>\n",
       "      <th>схема а</th>\n",
       "      <td>0.550000</td>\n",
       "      <td>0.55</td>\n",
       "      <td>0.712500</td>\n",
       "      <td>0.875</td>\n",
       "      <td>0.7125</td>\n",
       "      <td>0.775</td>\n",
       "    </tr>\n",
       "    <tr>\n",
       "      <th>схема б</th>\n",
       "      <td>0.716667</td>\n",
       "      <td>0.55</td>\n",
       "      <td>0.699524</td>\n",
       "      <td>0.875</td>\n",
       "      <td>0.7125</td>\n",
       "      <td>0.725</td>\n",
       "    </tr>\n",
       "  </tbody>\n",
       "</table>\n",
       "</div>"
      ],
      "text/plain": [
       "         precision 0  recall 0  precision 1  recall 1  accuracy    auc\n",
       "схема а     0.550000      0.55     0.712500     0.875    0.7125  0.775\n",
       "схема б     0.716667      0.55     0.699524     0.875    0.7125  0.725"
      ]
     },
     "execution_count": 299,
     "metadata": {},
     "output_type": "execute_result"
    }
   ],
   "source": [
    "np.random.seed(3267)\n",
    "a_rnd_gens2_lr, b_rnd_gens2_lr, cv_results_rnd_gens2_lr, _ = \\\n",
    "    do_simmetry_class_cv_by_descr(xpressions_pr_new,\n",
    "                         responses_pr,\n",
    "                         samples_pr, description_rnd,\n",
    "                         lr,\n",
    "                         feature_maker=heuristic_3_by_description)    \n",
    "process_results(a_rnd_gens2_lr, b_rnd_gens2_lr, cv_results_rnd_gens2_lr)  "
   ]
  },
  {
   "cell_type": "code",
   "execution_count": 298,
   "metadata": {
    "collapsed": false
   },
   "outputs": [
    {
     "name": "stdout",
     "output_type": "stream",
     "text": [
      "iteration: 0\n",
      "iteration: 1\n",
      "iteration: 2\n",
      "iteration: 3\n",
      "iteration: 4\n",
      "iteration: 5\n",
      "iteration: 6\n",
      "iteration: 7\n",
      "iteration: 8\n",
      "iteration: 9\n"
     ]
    },
    {
     "data": {
      "text/html": [
       "<div>\n",
       "<table border=\"1\" class=\"dataframe\">\n",
       "  <thead>\n",
       "    <tr style=\"text-align: right;\">\n",
       "      <th></th>\n",
       "      <th>precision 0</th>\n",
       "      <th>recall 0</th>\n",
       "      <th>precision 1</th>\n",
       "      <th>recall 1</th>\n",
       "      <th>accuracy</th>\n",
       "      <th>auc</th>\n",
       "    </tr>\n",
       "  </thead>\n",
       "  <tbody>\n",
       "    <tr>\n",
       "      <th>схема а</th>\n",
       "      <td>0.600000</td>\n",
       "      <td>0.625</td>\n",
       "      <td>0.73750</td>\n",
       "      <td>0.9</td>\n",
       "      <td>0.7625</td>\n",
       "      <td>0.7625</td>\n",
       "    </tr>\n",
       "    <tr>\n",
       "      <th>схема б</th>\n",
       "      <td>0.858333</td>\n",
       "      <td>0.625</td>\n",
       "      <td>0.72881</td>\n",
       "      <td>0.9</td>\n",
       "      <td>0.7625</td>\n",
       "      <td>0.7625</td>\n",
       "    </tr>\n",
       "  </tbody>\n",
       "</table>\n",
       "</div>"
      ],
      "text/plain": [
       "         precision 0  recall 0  precision 1  recall 1  accuracy     auc\n",
       "схема а     0.600000     0.625      0.73750       0.9    0.7625  0.7625\n",
       "схема б     0.858333     0.625      0.72881       0.9    0.7625  0.7625"
      ]
     },
     "execution_count": 298,
     "metadata": {},
     "output_type": "execute_result"
    }
   ],
   "source": [
    "np.random.seed(3267)\n",
    "a_rnd_gens2_knn, b_rnd_gens2_knn, cv_results_rnd_gens2_knn, _ = \\\n",
    "    do_simmetry_class_cv_by_descr(xpressions_pr_new,\n",
    "                         responses_pr,\n",
    "                         samples_pr, description_rnd,\n",
    "                         knn2,\n",
    "                         feature_maker=heuristic_3_by_description)    \n",
    "process_results(a_rnd_gens2_knn, b_rnd_gens2_knn, cv_results_rnd_gens2_knn)    "
   ]
  },
  {
   "cell_type": "markdown",
   "metadata": {},
   "source": [
    "## Случайные 70 пар генов"
   ]
  },
  {
   "cell_type": "code",
   "execution_count": 302,
   "metadata": {
    "collapsed": false
   },
   "outputs": [
    {
     "name": "stdout",
     "output_type": "stream",
     "text": [
      "iteration: 0\n",
      "iteration: 1\n",
      "iteration: 2\n",
      "iteration: 3\n",
      "iteration: 4\n",
      "iteration: 5\n",
      "iteration: 6\n",
      "iteration: 7\n",
      "iteration: 8\n",
      "iteration: 9\n"
     ]
    },
    {
     "data": {
      "text/html": [
       "<div>\n",
       "<table border=\"1\" class=\"dataframe\">\n",
       "  <thead>\n",
       "    <tr style=\"text-align: right;\">\n",
       "      <th></th>\n",
       "      <th>precision 0</th>\n",
       "      <th>recall 0</th>\n",
       "      <th>precision 1</th>\n",
       "      <th>recall 1</th>\n",
       "      <th>accuracy</th>\n",
       "      <th>auc</th>\n",
       "    </tr>\n",
       "  </thead>\n",
       "  <tbody>\n",
       "    <tr>\n",
       "      <th>схема а</th>\n",
       "      <td>0.45</td>\n",
       "      <td>0.525</td>\n",
       "      <td>0.550000</td>\n",
       "      <td>0.725</td>\n",
       "      <td>0.625</td>\n",
       "      <td>0.600000</td>\n",
       "    </tr>\n",
       "    <tr>\n",
       "      <th>схема б</th>\n",
       "      <td>0.63</td>\n",
       "      <td>0.525</td>\n",
       "      <td>0.599524</td>\n",
       "      <td>0.725</td>\n",
       "      <td>0.625</td>\n",
       "      <td>0.571875</td>\n",
       "    </tr>\n",
       "  </tbody>\n",
       "</table>\n",
       "</div>"
      ],
      "text/plain": [
       "         precision 0  recall 0  precision 1  recall 1  accuracy       auc\n",
       "схема а         0.45     0.525     0.550000     0.725     0.625  0.600000\n",
       "схема б         0.63     0.525     0.599524     0.725     0.625  0.571875"
      ]
     },
     "execution_count": 302,
     "metadata": {},
     "output_type": "execute_result"
    }
   ],
   "source": [
    "np.random.seed(3267)\n",
    "a_rnd_pairs2, b_rnd_pairs2, cv_results_rnd_pairs2_clf,  description_4_rnd2 = \\\n",
    "    do_simmetry_class_cv(xpressions_pr_new,\n",
    "                         responses_pr,\n",
    "                         samples_pr,\n",
    "                         clf,\n",
    "                         feature_maker=heuristic_4_rnd)    \n",
    "process_results(a_rnd_pairs2, b_rnd_pairs2, cv_results_rnd_pairs2_clf)    "
   ]
  },
  {
   "cell_type": "code",
   "execution_count": 303,
   "metadata": {
    "collapsed": false,
    "scrolled": true
   },
   "outputs": [
    {
     "name": "stdout",
     "output_type": "stream",
     "text": [
      "iteration: 0\n",
      "iteration: 1\n",
      "iteration: 2\n",
      "iteration: 3\n",
      "iteration: 4\n",
      "iteration: 5\n",
      "iteration: 6\n",
      "iteration: 7\n",
      "iteration: 8\n",
      "iteration: 9\n"
     ]
    },
    {
     "data": {
      "text/html": [
       "<div>\n",
       "<table border=\"1\" class=\"dataframe\">\n",
       "  <thead>\n",
       "    <tr style=\"text-align: right;\">\n",
       "      <th></th>\n",
       "      <th>precision 0</th>\n",
       "      <th>recall 0</th>\n",
       "      <th>precision 1</th>\n",
       "      <th>recall 1</th>\n",
       "      <th>accuracy</th>\n",
       "      <th>auc</th>\n",
       "    </tr>\n",
       "  </thead>\n",
       "  <tbody>\n",
       "    <tr>\n",
       "      <th>схема а</th>\n",
       "      <td>0.425000</td>\n",
       "      <td>0.525</td>\n",
       "      <td>0.50000</td>\n",
       "      <td>0.675</td>\n",
       "      <td>0.6</td>\n",
       "      <td>0.6250</td>\n",
       "    </tr>\n",
       "    <tr>\n",
       "      <th>схема б</th>\n",
       "      <td>0.561667</td>\n",
       "      <td>0.525</td>\n",
       "      <td>0.61119</td>\n",
       "      <td>0.675</td>\n",
       "      <td>0.6</td>\n",
       "      <td>0.6125</td>\n",
       "    </tr>\n",
       "  </tbody>\n",
       "</table>\n",
       "</div>"
      ],
      "text/plain": [
       "         precision 0  recall 0  precision 1  recall 1  accuracy     auc\n",
       "схема а     0.425000     0.525      0.50000     0.675       0.6  0.6250\n",
       "схема б     0.561667     0.525      0.61119     0.675       0.6  0.6125"
      ]
     },
     "execution_count": 303,
     "metadata": {},
     "output_type": "execute_result"
    }
   ],
   "source": [
    "np.random.seed(3267)\n",
    "a_rnd_pairs2_lr, b_rnd_pairs2_lr, cv_results_rnd_pairs2_lr, _ = \\\n",
    "    do_simmetry_class_cv_by_descr(xpressions_pr_new,\n",
    "                         responses_pr,\n",
    "                         samples_pr, description_4_rnd2,\n",
    "                         lr,\n",
    "                         feature_maker=heuristic_4_by_description)    \n",
    "process_results(a_rnd_pairs2_lr, b_rnd_pairs2_lr, cv_results_rnd_pairs2_lr)  "
   ]
  },
  {
   "cell_type": "code",
   "execution_count": 304,
   "metadata": {
    "collapsed": false
   },
   "outputs": [
    {
     "name": "stdout",
     "output_type": "stream",
     "text": [
      "iteration: 0\n",
      "iteration: 1\n",
      "iteration: 2\n",
      "iteration: 3\n",
      "iteration: 4\n",
      "iteration: 5\n",
      "iteration: 6\n",
      "iteration: 7\n",
      "iteration: 8\n",
      "iteration: 9\n"
     ]
    },
    {
     "data": {
      "text/html": [
       "<div>\n",
       "<table border=\"1\" class=\"dataframe\">\n",
       "  <thead>\n",
       "    <tr style=\"text-align: right;\">\n",
       "      <th></th>\n",
       "      <th>precision 0</th>\n",
       "      <th>recall 0</th>\n",
       "      <th>precision 1</th>\n",
       "      <th>recall 1</th>\n",
       "      <th>accuracy</th>\n",
       "      <th>auc</th>\n",
       "    </tr>\n",
       "  </thead>\n",
       "  <tbody>\n",
       "    <tr>\n",
       "      <th>схема а</th>\n",
       "      <td>0.52500</td>\n",
       "      <td>0.65</td>\n",
       "      <td>0.5375</td>\n",
       "      <td>0.675</td>\n",
       "      <td>0.6625</td>\n",
       "      <td>0.6625</td>\n",
       "    </tr>\n",
       "    <tr>\n",
       "      <th>схема б</th>\n",
       "      <td>0.65881</td>\n",
       "      <td>0.65</td>\n",
       "      <td>0.7150</td>\n",
       "      <td>0.675</td>\n",
       "      <td>0.6625</td>\n",
       "      <td>0.6625</td>\n",
       "    </tr>\n",
       "  </tbody>\n",
       "</table>\n",
       "</div>"
      ],
      "text/plain": [
       "         precision 0  recall 0  precision 1  recall 1  accuracy     auc\n",
       "схема а      0.52500      0.65       0.5375     0.675    0.6625  0.6625\n",
       "схема б      0.65881      0.65       0.7150     0.675    0.6625  0.6625"
      ]
     },
     "execution_count": 304,
     "metadata": {},
     "output_type": "execute_result"
    }
   ],
   "source": [
    "np.random.seed(3267)\n",
    "a_rnd_pairs2_knn, b_rnd_pairs2_knn, cv_results_rnd_pairs2_knn, _ = \\\n",
    "    do_simmetry_class_cv_by_descr(xpressions_pr_new,\n",
    "                         responses_pr,\n",
    "                         samples_pr, description_4_rnd2,\n",
    "                         knn2,\n",
    "                         feature_maker=heuristic_4_by_description)    \n",
    "process_results(a_rnd_pairs2_knn, b_rnd_pairs2_knn, cv_results_rnd_pairs2_knn)    "
   ]
  },
  {
   "cell_type": "code",
   "execution_count": null,
   "metadata": {
    "collapsed": true
   },
   "outputs": [],
   "source": []
  }
 ],
 "metadata": {
  "kernelspec": {
   "display_name": "Python 3",
   "language": "python",
   "name": "python3"
  },
  "language_info": {
   "codemirror_mode": {
    "name": "ipython",
    "version": 3
   },
   "file_extension": ".py",
   "mimetype": "text/x-python",
   "name": "python",
   "nbconvert_exporter": "python",
   "pygments_lexer": "ipython3",
   "version": "3.5.2"
  }
 },
 "nbformat": 4,
 "nbformat_minor": 0
}
