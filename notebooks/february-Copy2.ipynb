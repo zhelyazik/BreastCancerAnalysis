{
 "cells": [
  {
   "cell_type": "code",
   "execution_count": 2,
   "metadata": {
    "collapsed": false
   },
   "outputs": [],
   "source": [
    "import numpy as np\n",
    "import pandas as pd\n",
    "import seaborn  as sns\n",
    "import matplotlib.pyplot as plt\n",
    "np.random.seed(sum(map(ord, \"aesthetics\")))\n",
    "%matplotlib inline\n",
    "from sklearn.ensemble import RandomForestClassifier\n",
    "from sklearn.model_selection import cross_val_score\n",
    "from sklearn.linear_model import LogisticRegression\n",
    "from sklearn import svm\n",
    "from sklearn.preprocessing import scale\n",
    "import scipy as sc\n",
    "from sklearn.model_selection import StratifiedKFold\n",
    "from sklearn.model_selection import KFold\n",
    "from sklearn.metrics import classification_report, confusion_matrix, roc_curve, auc\n",
    "from sklearn.preprocessing import scale\n",
    "import os\n",
    "\n",
    "\n",
    "def parse_response(str_id):\n",
    "    if str_id.split('_')[1] == 'resp':\n",
    "        return 1\n",
    "    return 0\n",
    "   \n",
    "    \n",
    "def preprocess_dataset(dataset):\n",
    "    gen_names = dataset[\"SYMBOL\"].as_matrix()\n",
    "    responses = np.zeros(dataset.shape[1]-1, dtype=np.int)\n",
    "    target_ids = dataset.columns[1:].values\n",
    "    feature_matrix = np.zeros((dataset.shape[1]-1, dataset.shape[0]), dtype=np.float)\n",
    "    for idx, target_id in enumerate(target_ids):\n",
    "        feature_matrix[idx, :] = dataset[target_id].values\n",
    "        responses[idx] = parse_response(target_id)\n",
    "    return feature_matrix, responses, target_ids, gen_names\n",
    "\n",
    "\n",
    "def get_gen_hists(xpression, cl_masks, bins=10):\n",
    "    xpr_range = (xpression.min(), xpression.max())\n",
    "    hists = []\n",
    "    for mask in cl_masks:\n",
    "        hist, _ = np.histogram(xpression[mask], bins=bins, range=xpr_range)\n",
    "        hists.append(hist)\n",
    "    return hists\n",
    "\n",
    "\n",
    "def get_pdf_sim(p, q):\n",
    "    return -q.dot(np.log2(p)) - p.dot(np.log2(q))\n",
    "    # return sc.stats.entropy(p, q)\n",
    "\n",
    "    \n",
    "def xpressions_to_order_matrix(xpressions):\n",
    "    orders_num = np.arange(xpressions.shape[1], dtype=np.int32)\n",
    "    order_matrix = np.zeros_like(xpressions, dtype=np.int32)\n",
    "    for row in range(xpressions.shape[0]):\n",
    "        ordered_ids = np.array([ind \n",
    "                          for ind, xpr in sorted([(ind, xpr) \n",
    "                                                   for ind, xpr in enumerate(xpressions[row,\n",
    "                                                                                        :])],\n",
    "                                                 key=lambda p: p[1])])\n",
    "        order = np.zeros_like(ordered_ids, dtype=np.int32)\n",
    "        order[ordered_ids] = np.arange(xpressions.shape[1])\n",
    "        order_matrix[row, :] = order\n",
    "    return order_matrix\n",
    "    \n",
    "    \n",
    "def get_relation_matrix(order_seq):\n",
    "    matrix = np.zeros(shape=(order_seq.shape[0], order_seq.shape[0]), dtype=np.int32)    \n",
    "    for row in range(matrix.shape[0]):\n",
    "        for col in range(matrix.shape[1]):\n",
    "            matrix[row, col] = order_seq[row] - order[col]\n",
    "    return matrix\n",
    "\n",
    "\n",
    "def get_relation_cumul_matrix(order_matrix):\n",
    "    matrix = np.zeros(shape=(order_matrix.shape[1], order_matrix.shape[1]),\n",
    "                      dtype=np.float32)    \n",
    "    for row in range(matrix.shape[1]):        \n",
    "        for col in range(matrix.shape[1]):\n",
    "            matrix[row, col] = (order_matrix[:, row] - order_matrix[:, col]).mean()\n",
    "        if row % 1000 == 0:\n",
    "            print(row)\n",
    "    return matrix        \n",
    "# np.histogram(np.array([0,0,0,1,1,2,1]),bins=2, range=(0,1))\n",
    "\n",
    "\n",
    "def get_pair_value(order_matrix, pair, responses, pr=None):\n",
    "    if not pr:\n",
    "        pr = (responses == 1).mean()\n",
    "        \n",
    "    p_ab = np.mean(order_matrix[:, pair[0]] > order_matrix[:, pair[1]])\n",
    "    p_ab_r = np.mean(order_matrix[responses==1, pair[0]] > order_matrix[responses==1, \n",
    "                                                                        pair[1]])\n",
    "    pr_ab = (p_ab_r * pr) / p_ab\n",
    "    \n",
    "    p_ba = np.mean(order_matrix[:, pair[0]] < order_matrix[:, pair[1]])\n",
    "    p_ba_r = np.mean(order_matrix[responses==1, pair[0]] < order_matrix[responses==1,\n",
    "                                                                        pair[1]])\n",
    "    pr_ba = (p_ba_r * pr) / p_ba\n",
    "    return pr_ab, pr_ba\n",
    "\n",
    "\n",
    "def xpression_to_order_feature(xpressions, pairs, gens):\n",
    "    order_features = np.zeros(shape=(xpressions.shape[0], len(pairs)))\n",
    "    features_name = []\n",
    "    for idx, pair in enumerate(pairs):\n",
    "        order_features[:, idx] = xpressions[:, pair[0]] > xpressions[:, pair[1]] + 0\n",
    "        features_name.append(\"compare_expr({}, {})\".format(gens[pair[0]], gens[pair[1]]))\n",
    "    return order_features, features_name\n",
    "                                            \n",
    "    \n",
    "\n",
    "def get_metrics(conf):\n",
    "    \"\"\"return tuple (precision 0 class, recall 0 class, precision 1 class, recall 1 class)\"\"\"\n",
    "    prec_0 = conf[0,0]/(conf[1,0] + conf[0,0])\n",
    "    if (conf[1,0] + conf[0,0]) == 0:\n",
    "        prec_0 = 0\n",
    "    recall_0 = conf[0,0]/(conf[0,0] + conf[0,1])\n",
    "    prec_1 = conf[1,1]/(conf[1,1] + conf[0,1])\n",
    "    recall_1 = conf[1,1]/(conf[1,1] + conf[1,0])\n",
    "    if (conf[1,1] + conf[0,1]) == 0:\n",
    "        prec_1 = 0\n",
    "    accuracy = (conf[0,0] + conf[1, 1]) / (conf.sum())\n",
    "    # print(prec_0, recall_0, prec_1, recall_1)\n",
    "    return prec_0, recall_0, prec_1, recall_1\n",
    "\n",
    "\n",
    "def get_splits(responses, k=10):\n",
    "    nonresp = np.arange(responses.shape[0])[responses==0]\n",
    "    resp = np.arange(responses.shape[0])[responses==1]\n",
    "    np.random.shuffle(nonresp)\n",
    "    np.random.shuffle(resp)\n",
    "    folds = []\n",
    "    for i in range(9):\n",
    "        folds.append(np.hstack((resp[i*22:i*22+22],nonresp[i*5:i*5+5])))\n",
    "    folds.append(np.hstack((resp[9*22:],nonresp[9*5:])))\n",
    "    cases = []\n",
    "    for i in range(10):\n",
    "        test = folds[i]\n",
    "        train = np.hstack((fold for j, fold in enumerate(folds) if i != j))\n",
    "        cases.append( (train, test) )                      \n",
    "    return folds, cases\n",
    "\n",
    "\n",
    "def do_simmetry_class_cv(X, y, clf, iters=10, cv=10):\n",
    "    nonresp = np.arange(y.shape[0])[y==0]\n",
    "    resp = np.arange(y.shape[0])[y==1]\n",
    "    results_a = []\n",
    "    results_b = []\n",
    "    cv_results = []\n",
    "    accs = []\n",
    "    # print(nonresp)\n",
    "    for it in range(iters):\n",
    "        print(\"iteration: {}\".format(it))\n",
    "        np.random.shuffle(resp)\n",
    "        np.random.shuffle(nonresp)\n",
    "        indicies = np.hstack((nonresp, resp[:nonresp.shape[0]]))\n",
    "        # print(indicies)\n",
    "        stat, common_stat, cv_result = do_cross_val(X[indicies, :], \n",
    "                     y[indicies],\n",
    "                     clf, cv)\n",
    "        results_a.append(stat.mean(axis=0))\n",
    "        # print(stat.mean(axis=0))\n",
    "        results_b.append(np.array(common_stat))    \n",
    "        cv_results.append(cv_result)        \n",
    "        \n",
    "    return np.vstack(results_a), np.vstack(results_b), cv_results\n",
    "\n",
    "\n",
    "def process_results(a, b, cv_results):\n",
    "    a_aucs = []    \n",
    "    a_accs = []\n",
    "    b_aucs = []    \n",
    "    b_accs = []\n",
    "    for result in cv_results:\n",
    "        actuals = []\n",
    "        preds = []\n",
    "        probs = []\n",
    "        for actual, predicted, proba in result:\n",
    "            a_accs.append((actual == predicted).mean())\n",
    "            actuals.append(actual)\n",
    "            preds.append(predicted)\n",
    "            probs.append(proba)\n",
    "            fpr, tpr, _ = roc_curve(actual, proba)\n",
    "            a_aucs.append(auc(fpr, tpr))         \n",
    "        b_accs.append((np.hstack(actuals)==np.hstack(preds)).mean())    \n",
    "        fpr, tpr, thresh = roc_curve(np.hstack(actuals), np.hstack(probs))\n",
    "        b_aucs.append(auc(fpr, tpr))\n",
    "    columns=[\"precision 0\", \"recall 0\", \"precision 1\", \"recall 1\", \"accuracy\", \"auc\"]\n",
    "    rows = [\"схема а\", \"схема б\"]\n",
    "    data = np.zeros((len(rows), len(columns)))\n",
    "    data[0, :4] = a.mean(axis=0)\n",
    "    data[0, 4:] = [np.mean(a_accs), np.mean(a_aucs)]\n",
    "    data[1, :4] = b.mean(axis=0)\n",
    "    data[1, 4:] = [np.mean(b_accs), np.mean(b_aucs)]    \n",
    "    table = pd.DataFrame(data, columns=columns, index=rows)\n",
    "    \n",
    "    return table\n",
    "\n",
    "\n",
    "def do_cross_val(X, y, clf,  cv=10):\n",
    "    skfold = StratifiedKFold(n_splits=cv, shuffle=True)    \n",
    "    cv_results = []\n",
    "    # print ((y==1).sum(), (y==0).sum())\n",
    "    skfold.get_n_splits(X, y)    \n",
    "    for train, test in skfold.split(X, y):        \n",
    "        clf.fit(X[train, :], y[train])\n",
    "        prediction = clf.predict(X[test, :])\n",
    "        proba = clf.predict_proba(X[test, :])\n",
    "        cv_results.append((y[test], prediction, proba[:, 1]))\n",
    "        # print(y[test].shape, (y[test] == 0).sum())        \n",
    "    conf_m =  confusion_matrix(cv_results[0][0], cv_results[1][0]) * 0\n",
    "    stat = []    \n",
    "    fpr_tpr = []\n",
    "    tpr = []\n",
    "    accs = []\n",
    "    for actual, predicted, proba in cv_results:\n",
    "        conf =  confusion_matrix(actual, predicted)\n",
    "        stat.append(np.array(get_metrics(conf)))\n",
    "        conf_m = conf_m + conf        \n",
    "    # print((conf_m[0, 0] + conf_m[1, 1])/conf_m.sum())    \n",
    "    return np.vstack(stat), get_metrics(conf_m), cv_results\n",
    "\n",
    "\n",
    "def get_splits(responses, k=10):\n",
    "    nonresp = np.arange(responses.shape[0])[responses==0]\n",
    "    resp = np.arange(responses.shape[0])[responses==1]\n",
    "    np.random.shuffle(nonresp)\n",
    "    np.random.shuffle(resp)\n",
    "    folds = []\n",
    "    for i in range(9):\n",
    "        folds.append(np.hstack((resp[i*22:i*22+22],nonresp[i*5:i*5+5])))\n",
    "    folds.append(np.hstack((resp[9*22:],nonresp[9*5:])))\n",
    "    cases = []\n",
    "    for i in range(10):\n",
    "        test = folds[i]\n",
    "        train = np.hstack((fold for j, fold in enumerate(folds) if i != j))\n",
    "        cases.append( (train, test) )                      \n",
    "    return folds, cases\n",
    "    \n",
    "    \n",
    "def get_n_biggest_sims_ids(sims, subset, n=140):\n",
    "    subsims = sims[subset]\n",
    "    bound = np.sort(subsims)[-n]    \n",
    "    return subset[subsims >= bound][:n]\n",
    "\n",
    "\n",
    "def read_GEO_dataset(pathto_xpr, pathto_resp, pathto_nonresp, prefix=\"\"):\n",
    "    geo_dataset = pd.read_csv(os.path.join(prefix, pathto_xpr), sep=\" \")    \n",
    "    with open(os.path.join(prefix, pathto_resp), \"r\") as respf,\\\n",
    "         open(os.path.join(prefix, pathto_nonresp), \"r\") as nonrespf:\n",
    "        resp = set(respf.read().split())\n",
    "        nonresp = set(nonrespf.read().split())\n",
    "    responses = np.array(list(map(lambda x: 1 if x in resp else int(x in nonresp) - 1 , \n",
    "                                  geo_dataset.columns[1:])))\n",
    "    feature_matrix = geo_dataset[geo_dataset.columns[1:]].get_values().T\n",
    "    target_ids = geo_dataset.columns[1:].values\n",
    "    gen_names = geo_dataset[\"Group.1\"].as_matrix()\n",
    "    return feature_matrix, responses, target_ids, gen_names"
   ]
  },
  {
   "cell_type": "code",
   "execution_count": 3,
   "metadata": {
    "collapsed": false
   },
   "outputs": [],
   "source": [
    "# columns = [\"precision 0\", \"recall 0\", \"precision 1\", \"recall 1\", \"accuracy\", \"auc\"]\n",
    "# pd.DataFrame(np.array([0,1,2,3,4,5]).reshape((-1,6)), columns=columns, index=[\"a\"])\n",
    "# np.hstack([cv_results[0][0][0], cv_results[0][0][1]])\n",
    "prefix = \".\"#dataset/breast_cancer_paclitaxel_plus_radiation/\n",
    "pathto_xpr = \"dataset/breast_cancer_paclitaxel_plus_radiation/GSE22513_expression_by_symbol.txt\"\n",
    "pathto_resp = \"dataset/breast_cancer_paclitaxel_plus_radiation/responders.txt\"\n",
    "pathto_nonresp = \"dataset/breast_cancer_paclitaxel_plus_radiation/nonresponders.txt\"\n",
    "xpressions, responses,target_ids, gens = read_GEO_dataset(pathto_xpr, \n",
    "                                                          pathto_resp,\n",
    "                                                          pathto_nonresp,\n",
    "                                                          prefix)\n",
    "mask = np.array(range(0, responses.shape[0],2))\n",
    "mask = mask + 1#np.random.choice([0,1], size=mask.shape[0], replace=True)\n",
    "xpressions, responses,target_ids = xpressions[mask, :], responses[mask], target_ids[mask]"
   ]
  },
  {
   "cell_type": "code",
   "execution_count": null,
   "metadata": {
    "collapsed": false
   },
   "outputs": [],
   "source": [
    "# path_to_dataset = \"dataset/GSE20194_breastCancer_TFAC.txt\"\n",
    "# dataset = pd.read_csv(path_to_dataset, sep='\\t')"
   ]
  },
  {
   "cell_type": "code",
   "execution_count": 4,
   "metadata": {
    "collapsed": false
   },
   "outputs": [
    {
     "data": {
      "text/plain": [
       "array(['GSM559043', 'GSM559045', 'GSM559047', 'GSM559049', 'GSM559051',\n",
       "       'GSM559053', 'GSM559055', 'GSM559057', 'GSM559059', 'GSM559061',\n",
       "       'GSM559063', 'GSM559065', 'GSM559067', 'GSM559069'], dtype=object)"
      ]
     },
     "execution_count": 4,
     "metadata": {},
     "output_type": "execute_result"
    }
   ],
   "source": [
    "# xpressions, responses, target_ids, gens = preprocess_dataset(dataset)\n",
    "# perm = np.arange(xpressions.shape[0])\n",
    "# np.random.shuffle(perm)\n",
    "# xpressions = xpressions[perm, :]\n",
    "# responses = responses[perm]\n",
    "# target_ids = target_ids[perm]\n",
    "\"\"\"\n",
    "GSM559042\tnon-pCR breast biopsy, sample 1 rep 1\n",
    "GSM559043\tnon-pCR breast biopsy, sample 1 rep 2\n",
    "GSM559044\tnon-pCR breast biopsy, sample 2 rep 1\n",
    "GSM559045\tnon-pCR breast biopsy, sample 2 rep 2\n",
    "GSM559046\tnon-pCR breast biopsy, sample 3 rep 1\n",
    "GSM559047\tnon-pCR breast biopsy, sample 3 rep 2\n",
    "GSM559048\tnon-pCR breast biopsy, sample 4 rep 1\n",
    "GSM559049\tnon-pCR breast biopsy, sample 4 rep 2\n",
    "GSM559050\tnon-pCR breast biopsy, sample 5 rep 1\n",
    "GSM559051\tnon-pCR breast biopsy, sample 5 rep 2\n",
    "GSM559052\tnon-pCR breast biopsy, sample 6 rep 1\n",
    "GSM559053\tnon-pCR breast biopsy, sample 6 rep 2\n",
    "GSM559054\tnon-pCR breast biopsy, sample 8 rep 1\n",
    "GSM559055\tnon-pCR breast biopsy, sample 8 rep 2\n",
    "GSM559056\tnon-pCR breast biopsy, sample 9 rep 1\n",
    "GSM559057\tnon-pCR breast biopsy, sample 9 rep 2\n",
    "GSM559058\tnon-pCR breast biopsy, sample 10 rep 1\n",
    "GSM559059\tnon-pCR breast biopsy, sample 10 rep 2\n",
    "GSM559060\tnon-pCR breast biopsy, sample 13 rep 1\n",
    "GSM559061\tnon-pCR breast biopsy, sample 13 rep 2\n",
    "GSM559062\tpCR breast biopsy, sample 15 rep 1\n",
    "GSM559063\tpCR breast biopsy, sample 15 rep 2\n",
    "GSM559064\tpCR breast biopsy, sample 16 rep 1\n",
    "GSM559065\tpCR breast biopsy, sample 16 rep 2\n",
    "GSM559066\tpCR breast biopsy, sample 18 rep 1\n",
    "GSM559067\tpCR breast biopsy, sample 18 rep 2\n",
    "GSM559068\tpCR breast biopsy, sample 19 rep 1\n",
    "GSM559069\tpCR breast biopsy, sample 19 rep 2\n",
    "\"\"\"\n",
    "target_ids"
   ]
  },
  {
   "cell_type": "code",
   "execution_count": 5,
   "metadata": {
    "collapsed": true
   },
   "outputs": [],
   "source": [
    "# Эвристика 1:\n",
    "gen_res = []\n",
    "for g in range(xpressions.shape[1]):\n",
    "    lg = LogisticRegression(penalty='l1', C=1)\n",
    "    lg.fit(xpressions[:, g:g+1], responses)\n",
    "    gen_res.append((lg.predict(xpressions[:, g:g+1]) == responses).mean())"
   ]
  },
  {
   "cell_type": "code",
   "execution_count": 128,
   "metadata": {
    "collapsed": false
   },
   "outputs": [
    {
     "data": {
      "text/plain": [
       "(20993,)"
      ]
     },
     "execution_count": 128,
     "metadata": {},
     "output_type": "execute_result"
    }
   ],
   "source": [
    "gen_res = np.array(gen_res)\n",
    "good_h1 = np.arange(gens.shape[0])[gen_res > responses.mean()]\n",
    "good_h1.shape"
   ]
  },
  {
   "cell_type": "code",
   "execution_count": 129,
   "metadata": {
    "collapsed": false
   },
   "outputs": [
    {
     "data": {
      "text/plain": [
       "(1050,)"
      ]
     },
     "execution_count": 129,
     "metadata": {},
     "output_type": "execute_result"
    }
   ],
   "source": [
    "# Эвристика 2\n",
    "gen_corr = []\n",
    "for g in range(xpressions.shape[1]):    \n",
    "    gen_corr.append(abs(np.corrcoef(xpressions[:, g], responses)[0,1]))\n",
    "gen_corr = np.array(gen_corr)  \n",
    "good_h2 = np.arange(gens.shape[0])[gen_corr > np.percentile(gen_corr, 95)]\n",
    "good_h2.shape"
   ]
  },
  {
   "cell_type": "code",
   "execution_count": 130,
   "metadata": {
    "collapsed": false
   },
   "outputs": [
    {
     "data": {
      "text/plain": [
       "(1050,)"
      ]
     },
     "execution_count": 130,
     "metadata": {},
     "output_type": "execute_result"
    }
   ],
   "source": [
    "# пересечение эвристик 1 2\n",
    "interscetion_h1_h2 = np.array([id for id in set(good_h1).intersection(set(good_h2))], dtype=np.int)\n",
    "interscetion_h1_h2.shape"
   ]
  },
  {
   "cell_type": "code",
   "execution_count": 131,
   "metadata": {
    "collapsed": true
   },
   "outputs": [
    {
     "name": "stdout",
     "output_type": "stream",
     "text": [
      "0\n",
      "1000\n",
      "2000\n",
      "3000\n",
      "4000\n",
      "5000\n",
      "6000\n",
      "7000\n",
      "8000\n",
      "9000\n",
      "10000\n",
      "11000\n",
      "12000\n",
      "13000\n",
      "14000\n",
      "15000\n",
      "16000\n",
      "17000\n",
      "18000\n",
      "19000\n",
      "20000\n"
     ]
    }
   ],
   "source": [
    "# Эвристика 3\n",
    "resp_mask = responses == 1\n",
    "nonresp_mask = responses == 0\n",
    "\n",
    "gen_pdfs = []\n",
    "nb_bins = 15\n",
    "for g in range(xpressions.shape[1]):    \n",
    "    hists = get_gen_hists(xpressions[:, g], [resp_mask, nonresp_mask], bins=nb_bins)    \n",
    "    p = (hists[0] + 1) / (hists[0].sum() + hists[0].shape[0]) \n",
    "    q = (hists[1] + 1) / (hists[1].sum() + hists[1].shape[0])\n",
    "    gen_pdfs.append((p, q))\n",
    "#     gen_pdf_sims.append(get_pdf_sim(p, q))\n",
    "    if g % 1000 == 0:\n",
    "         print(g)"
   ]
  },
  {
   "cell_type": "code",
   "execution_count": 132,
   "metadata": {
    "collapsed": true
   },
   "outputs": [],
   "source": [
    "gen_pdf_sims = []\n",
    "for gen_pdf in gen_pdfs:\n",
    "    gen_pdf_sims.append(get_pdf_sim(gen_pdf[0], gen_pdf[1]))    \n",
    "    #gen_pdf_sims.append(sc.stats.entropy(gen_pdf[0], gen_pdf[1]))    \n",
    "gen_pdf_sims = np.array(gen_pdf_sims)"
   ]
  },
  {
   "cell_type": "code",
   "execution_count": 133,
   "metadata": {
    "collapsed": false
   },
   "outputs": [
    {
     "data": {
      "text/plain": [
       "(209,)"
      ]
     },
     "execution_count": 133,
     "metadata": {},
     "output_type": "execute_result"
    }
   ],
   "source": [
    "good_h3 = get_n_biggest_sims_ids(gen_pdf_sims, np.arange(gens.shape[0]), \n",
    "                                 gen_pdf_sims.shape[0]// 100)\n",
    "good_h3.shape"
   ]
  },
  {
   "cell_type": "markdown",
   "metadata": {},
   "source": [
    "Рассматривается датасет GSE20194_breastCancer_TFAC, в нем данные по химиотерапии рака молочной железы. В данных два класса: ответчики и неответчики, размер классов 222 и 56 соответственно. В качестве признаков  есть информация по 13832 генам\n",
    "\n",
    "Вторая итерация:\n",
    "** мысли:\n",
    "1. посмотреть на порядок генов\n",
    "2. надо подумать как можно посчитать похожесть генов, и про перевод в некоторое векторное пространство\n",
    "3. если удалось перевести какое-то векторное пространство то туже можно подумать про ядра на последовательностях \n",
    "   и разные сеточки **\n",
    "   \n",
    "##### 1. порядок генов:\n",
    "\n",
    "После собрания стало известно что использовалась хитрая нормализация (квантильная???), такая что по сути сохранился только порядок экспрессий генов, а сами значения по сути не особо важны. \n",
    "Тут думаю стоит посмотреть нет ли какой-либо взаимосвязи между взаимным расположением генов в ряду генов осортированных по уровню экспрессии и ответом на терапию.\n",
    "\n",
    "Пока в голову пришла только мысль сделать аналог матрицы смежности для генов по группам, где на позиции (i, j) будет стоять усредненная по группе разность в порядковых номере i-го и j-го генов в упорядоченном по возрастанию экспрессии ряду генов.\n",
    "\n",
    "Усреднение по группам по тому что если делать для каждого отдельно наверно надо оочень много памяти\n",
    "\n",
    "*Да еще комментарий: если смотреть просто порядковый номер гена, то это видимо будет тоже самое что было с простым использованием экспрессий...*\n",
    "\n",
    "Далее думаю имеет смысл посмотреть есть есть ли какие-то специфичные группе пары генов по расположению, а еще лучше какие-либо n-граммы.\n",
    "\n",
    "- посмотрел на пары у которых большая разница в порядковых номерах для ответчиков и неответчиков\n",
    "- далее решил сделать для генов вывод pr(response==1 | A > B), pr(response==1 | A < B), где A = order_num(gen_a) ... - то есть порядковый номер гена A в последвательности, для B аналогично. Вроде есть интересные моменты например для генов 2 и 1, получилось что вероятность ответа 1 при условии что order_num(ген1) < order_num(ген2)\n",
    "- а может сразу сроить выводы pr(response==1 | A > B) и pr(response==1 | A < B) вместо матрицы смежности?\n"
   ]
  },
  {
   "cell_type": "code",
   "execution_count": 134,
   "metadata": {
    "collapsed": false
   },
   "outputs": [
    {
     "data": {
      "text/plain": [
       "(14, 20993)"
      ]
     },
     "execution_count": 134,
     "metadata": {},
     "output_type": "execute_result"
    }
   ],
   "source": [
    "order_matrix = xpressions_to_order_matrix(xpressions)\n",
    "order_matrix.shape"
   ]
  },
  {
   "cell_type": "code",
   "execution_count": 135,
   "metadata": {
    "collapsed": false
   },
   "outputs": [],
   "source": [
    "value_matrix = np.zeros(shape=(order_matrix.shape[1], order_matrix.shape[1]),  dtype=np.float32)"
   ]
  },
  {
   "cell_type": "code",
   "execution_count": 136,
   "metadata": {
    "collapsed": false
   },
   "outputs": [
    {
     "name": "stdout",
     "output_type": "stream",
     "text": [
      "complete: 0 rows\n"
     ]
    },
    {
     "ename": "KeyboardInterrupt",
     "evalue": "",
     "output_type": "error",
     "traceback": [
      "\u001b[1;31m---------------------------------------------------------------------------\u001b[0m",
      "\u001b[1;31mKeyboardInterrupt\u001b[0m                         Traceback (most recent call last)",
      "\u001b[1;32m<ipython-input-136-ca76eb5a8ee3>\u001b[0m in \u001b[0;36m<module>\u001b[1;34m()\u001b[0m\n\u001b[0;32m      1\u001b[0m \u001b[1;32mfor\u001b[0m \u001b[0mi\u001b[0m \u001b[1;32min\u001b[0m \u001b[0mrange\u001b[0m\u001b[1;33m(\u001b[0m\u001b[0morder_matrix\u001b[0m\u001b[1;33m.\u001b[0m\u001b[0mshape\u001b[0m\u001b[1;33m[\u001b[0m\u001b[1;36m1\u001b[0m\u001b[1;33m]\u001b[0m\u001b[1;33m)\u001b[0m\u001b[1;33m:\u001b[0m\u001b[1;33m\u001b[0m\u001b[0m\n\u001b[0;32m      2\u001b[0m     \u001b[1;32mfor\u001b[0m \u001b[0mj\u001b[0m \u001b[1;32min\u001b[0m \u001b[0mrange\u001b[0m\u001b[1;33m(\u001b[0m\u001b[0mi\u001b[0m\u001b[1;33m+\u001b[0m\u001b[1;36m1\u001b[0m\u001b[1;33m,\u001b[0m \u001b[0morder_matrix\u001b[0m\u001b[1;33m.\u001b[0m\u001b[0mshape\u001b[0m\u001b[1;33m[\u001b[0m\u001b[1;36m1\u001b[0m\u001b[1;33m]\u001b[0m\u001b[1;33m)\u001b[0m\u001b[1;33m:\u001b[0m\u001b[1;33m\u001b[0m\u001b[0m\n\u001b[1;32m----> 3\u001b[1;33m         \u001b[0mpr_ab\u001b[0m\u001b[1;33m,\u001b[0m \u001b[0mpr_ba\u001b[0m \u001b[1;33m=\u001b[0m \u001b[0mget_pair_value\u001b[0m\u001b[1;33m(\u001b[0m\u001b[0morder_matrix\u001b[0m\u001b[1;33m,\u001b[0m \u001b[1;33m(\u001b[0m\u001b[0mi\u001b[0m\u001b[1;33m,\u001b[0m\u001b[0mj\u001b[0m\u001b[1;33m)\u001b[0m\u001b[1;33m,\u001b[0m \u001b[0mresponses\u001b[0m\u001b[1;33m)\u001b[0m\u001b[1;33m\u001b[0m\u001b[0m\n\u001b[0m\u001b[0;32m      4\u001b[0m         \u001b[0mvalue_matrix\u001b[0m\u001b[1;33m[\u001b[0m\u001b[0mi\u001b[0m\u001b[1;33m,\u001b[0m \u001b[0mj\u001b[0m\u001b[1;33m]\u001b[0m \u001b[1;33m=\u001b[0m \u001b[0mpr_ab\u001b[0m\u001b[1;33m\u001b[0m\u001b[0m\n\u001b[0;32m      5\u001b[0m         \u001b[0mvalue_matrix\u001b[0m\u001b[1;33m[\u001b[0m\u001b[0mj\u001b[0m\u001b[1;33m,\u001b[0m \u001b[0mi\u001b[0m\u001b[1;33m]\u001b[0m \u001b[1;33m=\u001b[0m \u001b[0mpr_ba\u001b[0m\u001b[1;33m\u001b[0m\u001b[0m\n",
      "\u001b[1;32m<ipython-input-72-cc1ae0ba50e2>\u001b[0m in \u001b[0;36mget_pair_value\u001b[1;34m(order_matrix, pair, responses, pr)\u001b[0m\n\u001b[0;32m     86\u001b[0m \u001b[1;33m\u001b[0m\u001b[0m\n\u001b[0;32m     87\u001b[0m     \u001b[0mp_ab\u001b[0m \u001b[1;33m=\u001b[0m \u001b[0mnp\u001b[0m\u001b[1;33m.\u001b[0m\u001b[0mmean\u001b[0m\u001b[1;33m(\u001b[0m\u001b[0morder_matrix\u001b[0m\u001b[1;33m[\u001b[0m\u001b[1;33m:\u001b[0m\u001b[1;33m,\u001b[0m \u001b[0mpair\u001b[0m\u001b[1;33m[\u001b[0m\u001b[1;36m0\u001b[0m\u001b[1;33m]\u001b[0m\u001b[1;33m]\u001b[0m \u001b[1;33m>\u001b[0m \u001b[0morder_matrix\u001b[0m\u001b[1;33m[\u001b[0m\u001b[1;33m:\u001b[0m\u001b[1;33m,\u001b[0m \u001b[0mpair\u001b[0m\u001b[1;33m[\u001b[0m\u001b[1;36m1\u001b[0m\u001b[1;33m]\u001b[0m\u001b[1;33m]\u001b[0m\u001b[1;33m)\u001b[0m\u001b[1;33m\u001b[0m\u001b[0m\n\u001b[1;32m---> 88\u001b[1;33m     \u001b[0mp_ab_r\u001b[0m \u001b[1;33m=\u001b[0m \u001b[0mnp\u001b[0m\u001b[1;33m.\u001b[0m\u001b[0mmean\u001b[0m\u001b[1;33m(\u001b[0m\u001b[0morder_matrix\u001b[0m\u001b[1;33m[\u001b[0m\u001b[0mresponses\u001b[0m\u001b[1;33m==\u001b[0m\u001b[1;36m1\u001b[0m\u001b[1;33m,\u001b[0m \u001b[0mpair\u001b[0m\u001b[1;33m[\u001b[0m\u001b[1;36m0\u001b[0m\u001b[1;33m]\u001b[0m\u001b[1;33m]\u001b[0m \u001b[1;33m>\u001b[0m \u001b[0morder_matrix\u001b[0m\u001b[1;33m[\u001b[0m\u001b[0mresponses\u001b[0m\u001b[1;33m==\u001b[0m\u001b[1;36m1\u001b[0m\u001b[1;33m,\u001b[0m \u001b[0mpair\u001b[0m\u001b[1;33m[\u001b[0m\u001b[1;36m1\u001b[0m\u001b[1;33m]\u001b[0m\u001b[1;33m]\u001b[0m\u001b[1;33m)\u001b[0m\u001b[1;33m\u001b[0m\u001b[0m\n\u001b[0m\u001b[0;32m     89\u001b[0m     \u001b[0mpr_ab\u001b[0m \u001b[1;33m=\u001b[0m \u001b[1;33m(\u001b[0m\u001b[0mp_ab_r\u001b[0m \u001b[1;33m*\u001b[0m \u001b[0mpr\u001b[0m\u001b[1;33m)\u001b[0m \u001b[1;33m/\u001b[0m \u001b[0mp_ab\u001b[0m\u001b[1;33m\u001b[0m\u001b[0m\n\u001b[0;32m     90\u001b[0m \u001b[1;33m\u001b[0m\u001b[0m\n",
      "\u001b[1;31mKeyboardInterrupt\u001b[0m: "
     ]
    }
   ],
   "source": [
    "for i in range(order_matrix.shape[1]):\n",
    "    for j in range(i+1, order_matrix.shape[1]):\n",
    "        pr_ab, pr_ba = get_pair_value(order_matrix, (i,j), responses)\n",
    "        value_matrix[i, j] = pr_ab\n",
    "        value_matrix[j, i] = pr_ba\n",
    "    if i % 1000 == 0:\n",
    "        print(\"complete: {} rows\".format(str(i)))"
   ]
  },
  {
   "cell_type": "code",
   "execution_count": 63,
   "metadata": {
    "collapsed": false
   },
   "outputs": [
    {
     "data": {
      "text/plain": [
       "942"
      ]
     },
     "execution_count": 63,
     "metadata": {},
     "output_type": "execute_result"
    }
   ],
   "source": [
    "good_pairs = []\n",
    "a=0.22\n",
    "eps = 0.003\n",
    "b = a + eps\n",
    "for i in range(order_matrix.shape[1]):\n",
    "    for j in range(i+1, order_matrix.shape[1]):\n",
    "        if value_matrix[i,j] == np.nan:\n",
    "            print(i,j)\n",
    "            break\n",
    "           \n",
    "        if (value_matrix[i,j]) > a and (value_matrix[i,j] < b):                \n",
    "            good_pairs.append((i, j))\n",
    "        \n",
    "len(good_pairs)"
   ]
  },
  {
   "cell_type": "code",
   "execution_count": 119,
   "metadata": {
    "collapsed": false
   },
   "outputs": [
    {
     "data": {
      "text/plain": [
       "(0.22222222, 0.81784385)"
      ]
     },
     "execution_count": 119,
     "metadata": {},
     "output_type": "execute_result"
    }
   ],
   "source": [
    "mask = responses == 1\n",
    "sum(list(order_matrix[mask, 14] < order_matrix[mask, 12549]))\n",
    "value_matrix[14, 12549], value_matrix[12549, 14]"
   ]
  },
  {
   "cell_type": "code",
   "execution_count": 67,
   "metadata": {
    "collapsed": false
   },
   "outputs": [],
   "source": [
    "val_without_na = value_matrix + 0.0\n",
    "val_without_na[np.isnan(value_matrix)] = 0.7986\n",
    "# dif_matrix[np.isnan(dif_matrix)] = 0\n",
    "dif_matrix = val_without_na - val_without_na.T"
   ]
  },
  {
   "cell_type": "code",
   "execution_count": 93,
   "metadata": {
    "collapsed": false
   },
   "outputs": [],
   "source": [
    "np.save(\"dif_matrix\", dif_matrix)"
   ]
  },
  {
   "cell_type": "code",
   "execution_count": 88,
   "metadata": {
    "collapsed": false
   },
   "outputs": [],
   "source": [
    "# np.isnan(dif_matrix).sum()\n",
    "# np.isnan(val_without_na).sum()\n",
    "# 0.820, 0.822, 0.826\n",
    "good_pairs = []\n",
    "for i in range(order_matrix.shape[1]):\n",
    "    for j in range(order_matrix.shape[1]):\n",
    "        if dif_matrix[i, j] > 0.822:                \n",
    "            good_pairs.append((i, j))"
   ]
  },
  {
   "cell_type": "code",
   "execution_count": 286,
   "metadata": {
    "collapsed": false
   },
   "outputs": [],
   "source": [
    "order_features3, pair_names = xpression_to_order_feature(xpressions, good_pairs3, gens)\n",
    "order_features2, pair_names = xpression_to_order_feature(xpressions, good_pairs2, gens)\n",
    "order_features1, pair_names = xpression_to_order_feature(xpressions, good_pairs, gens)"
   ]
  },
  {
   "cell_type": "code",
   "execution_count": 133,
   "metadata": {
    "collapsed": false
   },
   "outputs": [
    {
     "name": "stdout",
     "output_type": "stream",
     "text": [
      "-6.62938928373e-17 2145.36807554\n"
     ]
    }
   ],
   "source": [
    "# symmetr_res_a.mean(axis=0), symmetr_res_b.mean(axis=0)\n",
    "scaled_xpr  = scale(xpressions)\n",
    "print(scaled_xpr.mean(axis=0)[1], xpressions.mean(axis=0)[1])"
   ]
  },
  {
   "cell_type": "code",
   "execution_count": 134,
   "metadata": {
    "collapsed": false
   },
   "outputs": [],
   "source": [
    "rf = RandomForestClassifier(n_estimators=200)\n",
    "svc = svm.SVC(kernel=\"linear\", C=100)\n",
    "\n",
    "\n",
    "# full_svc_smtr_a, full_svc_smtr_b = do_simmetry_class_cv(scaled_xpr,\n",
    "#                                                      responses, svc, iters=10)\n",
    "\n",
    "# intr_svc_smtr_a, intr_svc_smtr_b = do_simmetry_class_cv(scaled_xpr[:, intersection_gens],\n",
    "#                                                     responses, svc, iters=10)\n",
    "\n",
    "# full_rf_smtr_a, full_rf_smtr_b = do_simmetry_class_cv(xpressions,\n",
    "#                                                      responses, rf, iters=10)\n",
    "\n",
    "# intr_rf_smtr_a, intr_rf_smtr_b = do_simmetry_class_cv(xpressions[:, intersection_gens],\n",
    "#                                                      responses, rf, iters=10)\n",
    "\n",
    "# best31_rf_smtr_a, best31_rf_smtr_b = do_simmetry_class_cv(xpressions[:, best_31],\n",
    "\n",
    "#                                                      responses, rf, iters=10)\n",
    "# best31_svc_smtr_a, best31_svc_smtr_b = do_simmetry_class_cv(order_features3, responses, svc, iters=10)"
   ]
  },
  {
   "cell_type": "markdown",
   "metadata": {},
   "source": [
    "Предообработка"
   ]
  },
  {
   "cell_type": "code",
   "execution_count": 10,
   "metadata": {
    "collapsed": false
   },
   "outputs": [
    {
     "data": {
      "text/plain": [
       "array([0, 0, 0, 0, 0, 0, 0, 0, 0, 0, 1, 1, 1, 1])"
      ]
     },
     "execution_count": 10,
     "metadata": {},
     "output_type": "execute_result"
    }
   ],
   "source": [
    "from sklearn.svm import SVC\n",
    "from sklearn.neighbors import KNeighborsClassifier\n",
    "knn = KNeighborsClassifier(n_neighbors=3)\n",
    "clf = SVC(kernel=\"linear\", probability=True)\n",
    "xpressions_scaled = scale(xpressions)\n",
    "# xpressions_scaled\n",
    "# pro\n",
    "cv = 2\n",
    "responses"
   ]
  },
  {
   "cell_type": "markdown",
   "metadata": {},
   "source": [
    "Классификация по всем генам:\n",
    "\n",
    "**!!!классы инвертированы!!!**"
   ]
  },
  {
   "cell_type": "code",
   "execution_count": 8,
   "metadata": {
    "collapsed": false
   },
   "outputs": [],
   "source": [
    "np.random.seed(3267)\n",
    "inv_responses = responses == False\n",
    "# a,b, cv_results  = do_simmetry_class_cv(xpressions_scaled, inv_responses, clf, cv=cv)\n",
    "# process_results(a, b, cv_results)[[2,3,0,1,4,5]]"
   ]
  },
  {
   "cell_type": "code",
   "execution_count": 44,
   "metadata": {
    "collapsed": false
   },
   "outputs": [
    {
     "name": "stdout",
     "output_type": "stream",
     "text": [
      "iteration: 0\n",
      "iteration: 1\n",
      "iteration: 2\n",
      "iteration: 3\n",
      "iteration: 4\n",
      "iteration: 5\n",
      "iteration: 6\n",
      "iteration: 7\n",
      "iteration: 8\n",
      "iteration: 9\n"
     ]
    },
    {
     "data": {
      "text/html": [
       "<div>\n",
       "<table border=\"1\" class=\"dataframe\">\n",
       "  <thead>\n",
       "    <tr style=\"text-align: right;\">\n",
       "      <th></th>\n",
       "      <th>precision 1</th>\n",
       "      <th>recall 1</th>\n",
       "      <th>precision 0</th>\n",
       "      <th>recall 0</th>\n",
       "      <th>accuracy</th>\n",
       "      <th>auc</th>\n",
       "    </tr>\n",
       "  </thead>\n",
       "  <tbody>\n",
       "    <tr>\n",
       "      <th>схема а</th>\n",
       "      <td>0.633333</td>\n",
       "      <td>0.575</td>\n",
       "      <td>0.475</td>\n",
       "      <td>0.525</td>\n",
       "      <td>0.55</td>\n",
       "      <td>0.55</td>\n",
       "    </tr>\n",
       "    <tr>\n",
       "      <th>схема б</th>\n",
       "      <td>0.598333</td>\n",
       "      <td>0.575</td>\n",
       "      <td>0.505</td>\n",
       "      <td>0.525</td>\n",
       "      <td>0.55</td>\n",
       "      <td>0.55</td>\n",
       "    </tr>\n",
       "  </tbody>\n",
       "</table>\n",
       "</div>"
      ],
      "text/plain": [
       "         precision 1  recall 1  precision 0  recall 0  accuracy   auc\n",
       "схема а     0.633333     0.575        0.475     0.525      0.55  0.55\n",
       "схема б     0.598333     0.575        0.505     0.525      0.55  0.55"
      ]
     },
     "execution_count": 44,
     "metadata": {},
     "output_type": "execute_result"
    }
   ],
   "source": [
    "np.random.seed(3267)\n",
    "knn = KNeighborsClassifier(n_neighbors=1)\n",
    "a,b, cv_results_knn_all  = do_simmetry_class_cv(xpressions_scaled, inv_responses, knn, cv=cv)\n",
    "process_results(a, b, cv_results)[[2,3,0,1,4,5]]"
   ]
  },
  {
   "cell_type": "markdown",
   "metadata": {},
   "source": [
    "Классификация по пересечению генов из эвристик 1, 2:"
   ]
  },
  {
   "cell_type": "code",
   "execution_count": 6,
   "metadata": {
    "collapsed": false
   },
   "outputs": [],
   "source": [
    "inter_h1_h2_gens = ['PDE6C', 'CEP57', 'PDE9A', 'CALU', 'TTK', 'AATF', 'MIR1244-1',\n",
    "       'MIR1244-2', 'MIR1244-3', 'TMEM109', 'QKI', 'PDIA6', 'PDK1',\n",
    "       'SNAPC3', 'BACE2', 'NAA50', 'TTYH1', 'EPHB3', 'RPIA', 'SF3B3',\n",
    "       'GORASP2', 'NUP153', 'NUP155', 'LRRC59', 'PDSS1', 'HLA-G', 'BANK1',\n",
    "       'ANP32E', 'FOCAD', 'XPNPEP1', 'FOLH1B', 'TUBB4B', 'RAB23', 'EPRS',\n",
    "       'SUMO3', 'LSM2', 'IQCG', 'NUSAP1', 'NASP', 'CSNK2B', 'ABI1', 'PERP',\n",
    "       'GPM6B', 'PES1', 'DNAJA1', 'SYK', 'CASP8AP2', 'HN1', 'CHI3L2',\n",
    "       'ACACA', 'RPL39L', 'TXNDC5', 'BCL11A', 'ISG20', 'SYNRG', 'TYMS',\n",
    "       'RPP21', 'HNRNPH3', 'RAD1', 'ESPL1', 'CHRM3', 'ITGA6', 'RPS21',\n",
    "       'ACP1', 'GPR89A', 'GPR89B', 'LCN2', 'CTPS1', 'ITGB4', 'SNRPC',\n",
    "       'SNRPD1', 'NDC80', 'MAD2L1', 'GPSM2', 'PHACTR2', 'UBE2J1',\n",
    "       'RALGAPB', 'TAF1D', 'NDRG2', 'TAF5', 'DONSON', 'ITPR3', 'RPS7',\n",
    "       'TNFAIP8L2-SCNM1', 'RANBP6', 'BLOC1S5-TXNDC5', 'TAP1', 'RAP2A',\n",
    "       'RRAGD', 'ACTR3', 'ACTR3B', 'HPS5', 'RRM2', 'FZD7', 'SKP2', 'DPY30',\n",
    "       'CCHCR1', 'NDUFB6', 'CKS1B', 'CKS2', 'MAGOHB', 'DROSHA', 'RASGRP3',\n",
    "       'KARS', 'DSC2', 'SOX10', 'UGP2', 'ZIC1', 'CYB5R2', 'CCNC', 'TNS2',\n",
    "       'CCND3', 'NELFB', 'HSPA14', 'TBCC', 'FAIM2', 'BRIX1', 'BRPF1',\n",
    "       'FAM107A', 'TOMM70', 'NES', 'DUSP14', 'DUSP2', 'CLIC4', 'RBM28',\n",
    "       'GTF2E2', 'MAP4K4', 'S100A1', 'DUSP6', 'ZNF131', 'CCT4', 'NT5DC2',\n",
    "       'CCT6A', 'MAPK1', 'BTG3', 'NFIB', 'UQCRH', 'UQCRHL', 'PRPF3',\n",
    "       'GTPBP8', 'SAC3D1', 'NFYA', 'PRPF40A', 'PRPF4B', 'TCF7L2', 'CMC2',\n",
    "       'KCNN4', 'CMPK1', 'PRPS2', 'USP18', 'PABPC3', 'MRPL9', 'LMO4',\n",
    "       'SAP30', 'GATA6', 'GYG1', 'MRPS17', 'PADI2', 'MRPS18A', 'MRPS2',\n",
    "       'USP39', 'ADSL', 'PRRC2A', 'SPR', 'GBP1', 'ART3', 'TEAD4',\n",
    "       'PAK1IP1', 'PLCB4', 'MSH2', 'HACD1', 'IFI16', 'LOC100506248',\n",
    "       'HADHA', 'MSH6', 'IFI44L', 'RFC2', 'LOC100506639', 'RFC4', 'COCH',\n",
    "       'NMI', 'TRDMT1', 'FAM98A', 'C1orf112', 'SREK1', 'FANCG', 'PSIP1',\n",
    "       'RFWD3', 'FANCL', 'MCM3', 'VCP', 'MCM6', 'TFDP2', 'CDC45', 'PSMB4',\n",
    "       'TFF2', 'EFNA4', 'PLK4', 'VEGFA', 'CDCA8', 'SLC43A3', 'SCNM1',\n",
    "       'EFS', 'SRSF3', 'VGLL1', 'GGH', 'SCPEP1', 'VGLL4', 'KIF11', 'MEA1',\n",
    "       'TRIM38', 'TRIM39', 'TRIM39-RPP21', 'KIF14', 'KIF15', 'FBXO11',\n",
    "       'DDX18', 'MTMR2', 'PSME4', 'PSMG1', 'SSR1', 'MED17', 'KIF20A',\n",
    "       'HDAC9', 'MTO1', 'HDGF', 'PMPCA', 'SEC13', 'TRMT11', 'VPS72',\n",
    "       'MELK', 'MEMO1', 'CDKN2A', 'C6orf62', 'ATP5G3', 'FDPS', 'DEK',\n",
    "       'CDR2L', 'KLF11', 'IL12RB2', 'STAG1', 'FEN1', 'SEL1L3', 'DENND4B',\n",
    "       'EIF5B', 'PTMA', 'KLF6', 'LOC389906', 'ELAVL1', 'KLHDC3', 'HIC2',\n",
    "       'MEX3C', 'MYCN', 'ELF5', 'ZNF74', 'MFGE8', 'CEBPG', 'GMDS', 'CECR5',\n",
    "       'STEAP1B', 'GMIP', 'LOC728026', 'RNF138', 'TSPAN6', 'TSPO', 'WDR77',\n",
    "       'SERBP1', 'NRTN', 'SMC5', 'MYO10', 'STMN1', 'CENPM', 'DHTKD1',\n",
    "       'ILF2', 'STOML2', 'LPIN1', 'PUS1', 'MICAL3', 'TTC13', 'PWP2',\n",
    "       'CRLF1']\n",
    "ids = np.arange(gens.shape[0])\n",
    "interscetion_h1_h2 = sorted([ids[gen==gens][0] for gen in inter_h1_h2_gens if (gen == gens).sum() == 1])\n",
    "# print(interscetion_h1_h2)"
   ]
  },
  {
   "cell_type": "code",
   "execution_count": 8,
   "metadata": {
    "collapsed": false
   },
   "outputs": [],
   "source": [
    "with open('M1_M2_intersection_gens.tsv', 'w') as f:\n",
    "    f.write('\\n'.join(inter_h1_h2_gens))\n",
    "    \n",
    "with open('M4_pairs.tsv', 'w') as f:\n",
    "    f.write('\\n'.join(map(lambda p: '\\t'.join(p), good_pairs_str)))"
   ]
  },
  {
   "cell_type": "code",
   "execution_count": 9,
   "metadata": {
    "collapsed": false
   },
   "outputs": [
    {
     "data": {
      "text/plain": [
       "70"
      ]
     },
     "execution_count": 9,
     "metadata": {},
     "output_type": "execute_result"
    }
   ],
   "source": [
    "len(good_pairs_str)"
   ]
  },
  {
   "cell_type": "code",
   "execution_count": 41,
   "metadata": {
    "collapsed": false
   },
   "outputs": [
    {
     "name": "stdout",
     "output_type": "stream",
     "text": [
      "iteration: 0\n",
      "iteration: 1\n",
      "iteration: 2\n",
      "iteration: 3\n",
      "iteration: 4\n",
      "iteration: 5\n",
      "iteration: 6\n",
      "iteration: 7\n",
      "iteration: 8\n",
      "iteration: 9\n"
     ]
    },
    {
     "data": {
      "text/html": [
       "<div>\n",
       "<table border=\"1\" class=\"dataframe\">\n",
       "  <thead>\n",
       "    <tr style=\"text-align: right;\">\n",
       "      <th></th>\n",
       "      <th>precision 1</th>\n",
       "      <th>recall 1</th>\n",
       "      <th>precision 0</th>\n",
       "      <th>recall 0</th>\n",
       "      <th>accuracy</th>\n",
       "      <th>auc</th>\n",
       "    </tr>\n",
       "  </thead>\n",
       "  <tbody>\n",
       "    <tr>\n",
       "      <th>схема а</th>\n",
       "      <td>0.791667</td>\n",
       "      <td>0.625</td>\n",
       "      <td>0.733333</td>\n",
       "      <td>0.85</td>\n",
       "      <td>0.7375</td>\n",
       "      <td>0.7375</td>\n",
       "    </tr>\n",
       "    <tr>\n",
       "      <th>схема б</th>\n",
       "      <td>0.763333</td>\n",
       "      <td>0.625</td>\n",
       "      <td>0.726190</td>\n",
       "      <td>0.85</td>\n",
       "      <td>0.7375</td>\n",
       "      <td>0.7375</td>\n",
       "    </tr>\n",
       "  </tbody>\n",
       "</table>\n",
       "</div>"
      ],
      "text/plain": [
       "         precision 1  recall 1  precision 0  recall 0  accuracy     auc\n",
       "схема а     0.791667     0.625     0.733333      0.85    0.7375  0.7375\n",
       "схема б     0.763333     0.625     0.726190      0.85    0.7375  0.7375"
      ]
     },
     "execution_count": 41,
     "metadata": {},
     "output_type": "execute_result"
    }
   ],
   "source": [
    "xpressions_scaled = scale(xpressions)\n",
    "cv=2\n",
    "np.random.seed(3267)\n",
    "a, b, cv_results_h1_h2 = do_simmetry_class_cv(xpressions_scaled[:, interscetion_h1_h2], inv_responses, knn, cv=cv)\n",
    "process_results(a, b, cv_results_h1_h2)[[2,3,0,1,4,5]]"
   ]
  },
  {
   "cell_type": "code",
   "execution_count": 143,
   "metadata": {
    "collapsed": false
   },
   "outputs": [
    {
     "data": {
      "text/plain": [
       "281"
      ]
     },
     "execution_count": 143,
     "metadata": {},
     "output_type": "execute_result"
    }
   ],
   "source": [
    "len(inter_h1_h2_gens)"
   ]
  },
  {
   "cell_type": "code",
   "execution_count": 36,
   "metadata": {
    "collapsed": false
   },
   "outputs": [
    {
     "name": "stdout",
     "output_type": "stream",
     "text": [
      "iteration: 0\n",
      "iteration: 1\n",
      "iteration: 2\n",
      "iteration: 3\n",
      "iteration: 4\n",
      "iteration: 5\n",
      "iteration: 6\n",
      "iteration: 7\n",
      "iteration: 8\n",
      "iteration: 9\n"
     ]
    },
    {
     "data": {
      "text/html": [
       "<div>\n",
       "<table border=\"1\" class=\"dataframe\">\n",
       "  <thead>\n",
       "    <tr style=\"text-align: right;\">\n",
       "      <th></th>\n",
       "      <th>precision 1</th>\n",
       "      <th>recall 1</th>\n",
       "      <th>precision 0</th>\n",
       "      <th>recall 0</th>\n",
       "      <th>accuracy</th>\n",
       "      <th>auc</th>\n",
       "    </tr>\n",
       "  </thead>\n",
       "  <tbody>\n",
       "    <tr>\n",
       "      <th>схема а</th>\n",
       "      <td>0.791667</td>\n",
       "      <td>0.625</td>\n",
       "      <td>0.733333</td>\n",
       "      <td>0.85</td>\n",
       "      <td>0.775</td>\n",
       "      <td>0.52500</td>\n",
       "    </tr>\n",
       "    <tr>\n",
       "      <th>схема б</th>\n",
       "      <td>0.763333</td>\n",
       "      <td>0.625</td>\n",
       "      <td>0.726190</td>\n",
       "      <td>0.85</td>\n",
       "      <td>0.775</td>\n",
       "      <td>0.51875</td>\n",
       "    </tr>\n",
       "  </tbody>\n",
       "</table>\n",
       "</div>"
      ],
      "text/plain": [
       "         precision 1  recall 1  precision 0  recall 0  accuracy      auc\n",
       "схема а     0.791667     0.625     0.733333      0.85     0.775  0.52500\n",
       "схема б     0.763333     0.625     0.726190      0.85     0.775  0.51875"
      ]
     },
     "execution_count": 36,
     "metadata": {},
     "output_type": "execute_result"
    }
   ],
   "source": [
    "np.random.seed(3267)\n",
    "knn = KNeighborsClassifier(n_neighbors=1)\n",
    "a,b, cv_results_knn12  = do_simmetry_class_cv(xpressions_scaled[:, interscetion_h1_h2], inv_responses, knn, cv=cv)\n",
    "process_results(a, b, cv_results)[[2,3,0,1,4,5]]"
   ]
  },
  {
   "cell_type": "markdown",
   "metadata": {},
   "source": [
    "Случайно отобранные гены"
   ]
  },
  {
   "cell_type": "code",
   "execution_count": 35,
   "metadata": {
    "collapsed": false
   },
   "outputs": [
    {
     "name": "stdout",
     "output_type": "stream",
     "text": [
      "iteration: 0\n",
      "iteration: 1\n",
      "iteration: 2\n",
      "iteration: 3\n",
      "iteration: 4\n",
      "iteration: 5\n",
      "iteration: 6\n",
      "iteration: 7\n",
      "iteration: 8\n",
      "iteration: 9\n"
     ]
    },
    {
     "data": {
      "text/html": [
       "<div>\n",
       "<table border=\"1\" class=\"dataframe\">\n",
       "  <thead>\n",
       "    <tr style=\"text-align: right;\">\n",
       "      <th></th>\n",
       "      <th>precision 1</th>\n",
       "      <th>recall 1</th>\n",
       "      <th>precision 0</th>\n",
       "      <th>recall 0</th>\n",
       "      <th>accuracy</th>\n",
       "      <th>auc</th>\n",
       "    </tr>\n",
       "  </thead>\n",
       "  <tbody>\n",
       "    <tr>\n",
       "      <th>схема а</th>\n",
       "      <td>0.633333</td>\n",
       "      <td>0.625</td>\n",
       "      <td>0.733333</td>\n",
       "      <td>0.775</td>\n",
       "      <td>0.775</td>\n",
       "      <td>0.52500</td>\n",
       "    </tr>\n",
       "    <tr>\n",
       "      <th>схема б</th>\n",
       "      <td>0.765000</td>\n",
       "      <td>0.625</td>\n",
       "      <td>0.695476</td>\n",
       "      <td>0.775</td>\n",
       "      <td>0.775</td>\n",
       "      <td>0.51875</td>\n",
       "    </tr>\n",
       "  </tbody>\n",
       "</table>\n",
       "</div>"
      ],
      "text/plain": [
       "         precision 1  recall 1  precision 0  recall 0  accuracy      auc\n",
       "схема а     0.633333     0.625     0.733333     0.775     0.775  0.52500\n",
       "схема б     0.765000     0.625     0.695476     0.775     0.775  0.51875"
      ]
     },
     "execution_count": 35,
     "metadata": {},
     "output_type": "execute_result"
    }
   ],
   "source": [
    "np.random.seed(3267)\n",
    "rnd_h1_h2 = np.random.choice(ids, size=len(interscetion_h1_h2), replace=False)\n",
    "a, b, cv_results_rnd_knn = do_simmetry_class_cv(xpressions_scaled[:, rnd_h1_h2], inv_responses, clf, cv=cv)\n",
    "process_results(a, b, cv_results)[[2,3,0,1,4,5]]"
   ]
  },
  {
   "cell_type": "code",
   "execution_count": 31,
   "metadata": {
    "collapsed": false
   },
   "outputs": [
    {
     "data": {
      "text/plain": [
       "(14,)"
      ]
     },
     "execution_count": 31,
     "metadata": {},
     "output_type": "execute_result"
    }
   ],
   "source": [
    "responses.shape"
   ]
  },
  {
   "cell_type": "code",
   "execution_count": 40,
   "metadata": {
    "collapsed": false
   },
   "outputs": [
    {
     "name": "stdout",
     "output_type": "stream",
     "text": [
      "iteration: 0\n",
      "iteration: 1\n",
      "iteration: 2\n",
      "iteration: 3\n",
      "iteration: 4\n",
      "iteration: 5\n",
      "iteration: 6\n",
      "iteration: 7\n",
      "iteration: 8\n",
      "iteration: 9\n"
     ]
    },
    {
     "data": {
      "text/html": [
       "<div>\n",
       "<table border=\"1\" class=\"dataframe\">\n",
       "  <thead>\n",
       "    <tr style=\"text-align: right;\">\n",
       "      <th></th>\n",
       "      <th>precision 1</th>\n",
       "      <th>recall 1</th>\n",
       "      <th>precision 0</th>\n",
       "      <th>recall 0</th>\n",
       "      <th>accuracy</th>\n",
       "      <th>auc</th>\n",
       "    </tr>\n",
       "  </thead>\n",
       "  <tbody>\n",
       "    <tr>\n",
       "      <th>схема а</th>\n",
       "      <td>0.716667</td>\n",
       "      <td>0.7</td>\n",
       "      <td>0.658333</td>\n",
       "      <td>0.7</td>\n",
       "      <td>0.7</td>\n",
       "      <td>0.7</td>\n",
       "    </tr>\n",
       "    <tr>\n",
       "      <th>схема б</th>\n",
       "      <td>0.703333</td>\n",
       "      <td>0.7</td>\n",
       "      <td>0.703333</td>\n",
       "      <td>0.7</td>\n",
       "      <td>0.7</td>\n",
       "      <td>0.7</td>\n",
       "    </tr>\n",
       "  </tbody>\n",
       "</table>\n",
       "</div>"
      ],
      "text/plain": [
       "         precision 1  recall 1  precision 0  recall 0  accuracy  auc\n",
       "схема а     0.716667       0.7     0.658333       0.7       0.7  0.7\n",
       "схема б     0.703333       0.7     0.703333       0.7       0.7  0.7"
      ]
     },
     "execution_count": 40,
     "metadata": {},
     "output_type": "execute_result"
    }
   ],
   "source": [
    "np.random.seed(3267)\n",
    "knn = KNeighborsClassifier(n_neighbors=1)\n",
    "a,b, cv_results_rnd_knn  = do_simmetry_class_cv(xpressions_scaled[:, rnd_h1_h2], inv_responses, knn, cv=cv)\n",
    "process_results(a, b, cv_results_rnd_knn)[[2,3,0,1,4,5]]"
   ]
  },
  {
   "cell_type": "markdown",
   "metadata": {},
   "source": [
    "Классификация по 70 парам из эвристики 4"
   ]
  },
  {
   "cell_type": "code",
   "execution_count": 38,
   "metadata": {
    "collapsed": false
   },
   "outputs": [
    {
     "name": "stdout",
     "output_type": "stream",
     "text": [
      "(14, 67)\n",
      "iteration: 0\n",
      "iteration: 1\n",
      "iteration: 2\n",
      "iteration: 3\n",
      "iteration: 4\n",
      "iteration: 5\n",
      "iteration: 6\n",
      "iteration: 7\n",
      "iteration: 8\n",
      "iteration: 9\n"
     ]
    },
    {
     "data": {
      "text/html": [
       "<div>\n",
       "<table border=\"1\" class=\"dataframe\">\n",
       "  <thead>\n",
       "    <tr style=\"text-align: right;\">\n",
       "      <th></th>\n",
       "      <th>precision 1</th>\n",
       "      <th>recall 1</th>\n",
       "      <th>precision 0</th>\n",
       "      <th>recall 0</th>\n",
       "      <th>accuracy</th>\n",
       "      <th>auc</th>\n",
       "    </tr>\n",
       "  </thead>\n",
       "  <tbody>\n",
       "    <tr>\n",
       "      <th>схема а</th>\n",
       "      <td>0.816667</td>\n",
       "      <td>0.75</td>\n",
       "      <td>0.725000</td>\n",
       "      <td>0.8</td>\n",
       "      <td>0.775</td>\n",
       "      <td>0.52500</td>\n",
       "    </tr>\n",
       "    <tr>\n",
       "      <th>схема б</th>\n",
       "      <td>0.810000</td>\n",
       "      <td>0.75</td>\n",
       "      <td>0.763333</td>\n",
       "      <td>0.8</td>\n",
       "      <td>0.775</td>\n",
       "      <td>0.51875</td>\n",
       "    </tr>\n",
       "  </tbody>\n",
       "</table>\n",
       "</div>"
      ],
      "text/plain": [
       "         precision 1  recall 1  precision 0  recall 0  accuracy      auc\n",
       "схема а     0.816667      0.75     0.725000       0.8     0.775  0.52500\n",
       "схема б     0.810000      0.75     0.763333       0.8     0.775  0.51875"
      ]
     },
     "execution_count": 38,
     "metadata": {},
     "output_type": "execute_result"
    }
   ],
   "source": [
    "good_pairs_str = [('APBB3', 'CRLF1'), ('ARHGAP1', 'CRLF1'), ('ATP6V0A1', 'IL12RB2'), ('ATP6V0C', 'DUSP14'), ('C4A', 'NKTR'),\n",
    "              ('C4B', 'NKTR'), ('C4B_2', 'NKTR'), ('CCND1', 'BCOR'), ('CCND1', 'MON1B'), ('CCND1', 'MTRF1'), ('CCND1', 'ZNF165'),\n",
    "              ('CDK16', 'COCH'), ('CERS6', 'CRIPT'), ('CERS6', 'JMJD1C'), ('CERS6', 'MTO1'), ('CERS6', 'TLE1'),\n",
    "              ('CERS6', 'TOPORS-AS1'), ('COL1A1', 'FOLH1B'), ('DHCR24', 'COCH'), ('DHCR24', 'FOCAD'), ('DNASE2', 'GPM6B'),\n",
    "              ('EIF4B', 'ITGA6'), ('ERC1', 'CRLF1'), ('FHOD1', 'CRLF1'), ('FILIP1L', 'CRLF1'), ('FKSG49', 'MFGE8'),\n",
    "              ('FOLR1', 'COCH'), ('GOLGA1', 'CRLF1'), ('GON4L', 'CRLF1'), ('GP1BA', 'CRLF1'), ('HOXB5', 'CRLF1'),\n",
    "              ('HOXC4', 'FAIM2'), ('IGFBP4', 'DEPDC5'), ('IGFBP4', 'PIK3CG'), ('LYST', 'KCNAB1'), ('MIR6831', 'CRLF1'),\n",
    "              ('MOSPD2', 'CRLF1'), ('MXRA8', 'GATA6'), ('MYL4', 'CRLF1'), ('MZT2B', 'ITGA6'), ('NAT1', 'PAQR3'),\n",
    "              ('NDUFB5', 'MELK'), ('NECAB3', 'FBXO11'), ('NXPH3', 'CRLF1'), ('PEA15', 'NFIB'), ('PLXNA3', 'CRLF1'),\n",
    "              ('PNPO', 'RWDD3'), ('POLDIP2', 'COCH'), ('PPIE', 'IL12RB2'), ('R3HDM4', 'ITGA6'), ('RALA', 'GPM6B'),\n",
    "              ('RASA1', 'YES1'), ('RUFY1', 'ITGA6'), ('SEMA3C', 'BCOR'), ('SEMA3C', 'YIPF4'), ('SNORA67', 'ITGA6'),\n",
    "              ('SPR', 'DNPH1'), ('STAMBP', 'MSH2'), ('SULT1A2', 'MRPS2'), ('THEMIS2', 'CRLF1'), ('TM6SF1', 'ELAVL2'),\n",
    "              ('TMEM62', 'ETAA1'), ('TNK1', 'FBXO11'), ('TPBG', 'COCH'), ('TPBG', 'WSB1'), ('TRANK1', 'CRLF1'),\n",
    "              ('TRPM2', 'CRLF1'), ('VPS35', 'MELK'), ('ZDHHC7', 'ITGA6'), ('ZNF510', 'CRLF1')]\n",
    "gens_list = gens.tolist()\n",
    "good_pairs = [(gens_list.index(gen1), gens_list.index(gen2)) for gen1, gen2 in good_pairs_str\n",
    "              if (gen1 in gens_list) and (gen2 in gens_list)]\n",
    "\n",
    "order_features1, pair_names = xpression_to_order_feature(xpressions, good_pairs, gens)\n",
    "print(order_features1.shape)\n",
    "\n",
    "np.random.seed(3267)\n",
    "a, b, cv_results = do_simmetry_class_cv(order_features1, inv_responses, clf, cv=cv)\n",
    "process_results(a, b, cv_results)[[2,3,0,1,4,5]]"
   ]
  },
  {
   "cell_type": "code",
   "execution_count": 39,
   "metadata": {
    "collapsed": false
   },
   "outputs": [
    {
     "name": "stdout",
     "output_type": "stream",
     "text": [
      "iteration: 0\n",
      "iteration: 1\n",
      "iteration: 2\n",
      "iteration: 3\n",
      "iteration: 4\n",
      "iteration: 5\n",
      "iteration: 6\n",
      "iteration: 7\n",
      "iteration: 8\n",
      "iteration: 9\n"
     ]
    },
    {
     "data": {
      "text/html": [
       "<div>\n",
       "<table border=\"1\" class=\"dataframe\">\n",
       "  <thead>\n",
       "    <tr style=\"text-align: right;\">\n",
       "      <th></th>\n",
       "      <th>precision 1</th>\n",
       "      <th>recall 1</th>\n",
       "      <th>precision 0</th>\n",
       "      <th>recall 0</th>\n",
       "      <th>accuracy</th>\n",
       "      <th>auc</th>\n",
       "    </tr>\n",
       "  </thead>\n",
       "  <tbody>\n",
       "    <tr>\n",
       "      <th>схема а</th>\n",
       "      <td>0.85</td>\n",
       "      <td>0.725</td>\n",
       "      <td>0.808333</td>\n",
       "      <td>0.875</td>\n",
       "      <td>0.8</td>\n",
       "      <td>0.8</td>\n",
       "    </tr>\n",
       "    <tr>\n",
       "      <th>схема б</th>\n",
       "      <td>0.85</td>\n",
       "      <td>0.725</td>\n",
       "      <td>0.770000</td>\n",
       "      <td>0.875</td>\n",
       "      <td>0.8</td>\n",
       "      <td>0.8</td>\n",
       "    </tr>\n",
       "  </tbody>\n",
       "</table>\n",
       "</div>"
      ],
      "text/plain": [
       "         precision 1  recall 1  precision 0  recall 0  accuracy  auc\n",
       "схема а         0.85     0.725     0.808333     0.875       0.8  0.8\n",
       "схема б         0.85     0.725     0.770000     0.875       0.8  0.8"
      ]
     },
     "execution_count": 39,
     "metadata": {},
     "output_type": "execute_result"
    }
   ],
   "source": [
    "np.random.seed(3267)\n",
    "knn = KNeighborsClassifier(n_neighbors=1)\n",
    "a,b, cv_results_order  = do_simmetry_class_cv(order_features1, inv_responses, knn, cv=cv)\n",
    "process_results(a, b, cv_results_order)[[2,3,0,1,4,5]]"
   ]
  },
  {
   "cell_type": "code",
   "execution_count": 149,
   "metadata": {
    "collapsed": true
   },
   "outputs": [],
   "source": [
    "def get_splits(responses, k=10):\n",
    "    nonresp = np.arange(responses.shape[0])[responses==0]\n",
    "    resp = np.arange(responses.shape[0])[responses==1]\n",
    "    np.random.shuffle(nonresp)\n",
    "    np.random.shuffle(resp)\n",
    "    folds = []\n",
    "    for i in range(9):\n",
    "        folds.append(np.hstack((resp[i*22:i*22+22],nonresp[i*5:i*5+5])))\n",
    "    folds.append(np.hstack((resp[9*22:],nonresp[9*5:])))\n",
    "    cases = []\n",
    "    for i in range(10):\n",
    "        test = folds[i]\n",
    "        train = np.hstack((fold for j, fold in enumerate(folds) if i != j))\n",
    "        cases.append( (train, test) )                      \n",
    "    return folds, cases\n",
    "    "
   ]
  },
  {
   "cell_type": "code",
   "execution_count": 150,
   "metadata": {
    "collapsed": false
   },
   "outputs": [],
   "source": [
    "folds, cases = get_splits(responses)"
   ]
  },
  {
   "cell_type": "code",
   "execution_count": 23,
   "metadata": {
    "collapsed": false
   },
   "outputs": [
    {
     "ename": "NameError",
     "evalue": "name 'order_features2' is not defined",
     "output_type": "error",
     "traceback": [
      "\u001b[1;31m---------------------------------------------------------------------------\u001b[0m",
      "\u001b[1;31mNameError\u001b[0m                                 Traceback (most recent call last)",
      "\u001b[1;32m<ipython-input-23-1a248dbea8fd>\u001b[0m in \u001b[0;36m<module>\u001b[1;34m()\u001b[0m\n\u001b[1;32m----> 1\u001b[1;33m intr_svc_smtr_a, intr_svc_smtr_b = do_simmetry_class_cv(order_features2,\n\u001b[0m\u001b[0;32m      2\u001b[0m                                                       responses, svc, iters=10)\n\u001b[0;32m      3\u001b[0m \u001b[0morder_features\u001b[0m\u001b[1;33m.\u001b[0m\u001b[0mshape\u001b[0m\u001b[1;33m,\u001b[0m \u001b[0morder_features2\u001b[0m\u001b[1;33m.\u001b[0m\u001b[0mshape\u001b[0m\u001b[1;33m,\u001b[0m \u001b[0morder_features3\u001b[0m\u001b[1;33m.\u001b[0m\u001b[0mshape\u001b[0m\u001b[1;33m\u001b[0m\u001b[0m\n",
      "\u001b[1;31mNameError\u001b[0m: name 'order_features2' is not defined"
     ]
    }
   ],
   "source": [
    "intr_svc_smtr_a, intr_svc_smtr_b = do_simmetry_class_cv(order_features2,\n",
    "                                                      responses, svc, iters=10)\n",
    "order_features.shape, order_features2.shape, order_features3.shape"
   ]
  },
  {
   "cell_type": "code",
   "execution_count": 43,
   "metadata": {
    "collapsed": true
   },
   "outputs": [],
   "source": [
    "def heuristics_4_features_rnd(X, y, train, test, topn=70):\n",
    "    print(\"heuristic 4 started\")\n",
    "    good_pairs = []\n",
    "    choosen = np.random.choice(np.arange(X.shape[1]), size=2*topn, replace=False)\n",
    "    for i in range(0, 2*topn,2):\n",
    "        good_pairs.append((choosen[i], choosen[i+1]))\n",
    "    order_features, pair_names = xpression_to_order_feature(X, good_pairs, np.arange(X.shape[1]))\n",
    "    description = \"\\t\".join(pair_names)\n",
    "    return order_features, description"
   ]
  },
  {
   "cell_type": "code",
   "execution_count": null,
   "metadata": {
    "collapsed": true
   },
   "outputs": [],
   "source": [
    "heuristics_4_features_rnd()"
   ]
  },
  {
   "cell_type": "code",
   "execution_count": 48,
   "metadata": {
    "collapsed": false
   },
   "outputs": [],
   "source": [
    "from scipy import stats\n",
    "def test_auc_greater(cv_0, cv_1):    \n",
    "    aucs_0 = []\n",
    "    aucs_1 = []    \n",
    "    for result in cv_0:        \n",
    "        for actual, predicted, proba in result:          \n",
    "            fpr, tpr, _ = roc_curve(actual, proba)\n",
    "            aucs_0.append(auc(fpr, tpr))                     \n",
    "    for result in cv_1:        \n",
    "        for actual, predicted, proba in result:          \n",
    "            fpr, tpr, _ = roc_curve(actual, proba)\n",
    "            aucs_1.append(auc(fpr, tpr))                     \n",
    "    aucs_0, aucs_1 = np.array(aucs_0), np.array(aucs_1)    \n",
    "    return stats.mannwhitneyu(aucs_0, aucs_1, alternative='less').pvalue\n",
    "\n",
    "\n",
    "# test_auc_greater(cv_results, cv_results1)"
   ]
  },
  {
   "cell_type": "code",
   "execution_count": 49,
   "metadata": {
    "collapsed": false
   },
   "outputs": [
    {
     "data": {
      "text/plain": [
       "0.00080039105963836457"
      ]
     },
     "execution_count": 49,
     "metadata": {},
     "output_type": "execute_result"
    }
   ],
   "source": [
    "test_auc_greater(cv_results_knn_all, cv_results_order               )"
   ]
  },
  {
   "cell_type": "code",
   "execution_count": null,
   "metadata": {
    "collapsed": true
   },
   "outputs": [],
   "source": []
  }
 ],
 "metadata": {
  "kernelspec": {
   "display_name": "Python 3",
   "language": "python",
   "name": "python3"
  },
  "language_info": {
   "codemirror_mode": {
    "name": "ipython",
    "version": 3
   },
   "file_extension": ".py",
   "mimetype": "text/x-python",
   "name": "python",
   "nbconvert_exporter": "python",
   "pygments_lexer": "ipython3",
   "version": "3.5.2"
  }
 },
 "nbformat": 4,
 "nbformat_minor": 0
}
