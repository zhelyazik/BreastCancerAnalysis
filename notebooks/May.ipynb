{
 "cells": [
  {
   "cell_type": "code",
   "execution_count": 12,
   "metadata": {
    "collapsed": false
   },
   "outputs": [],
   "source": [
    "import os\n",
    "import sys\n",
    "sys.path.append('../src/')\n",
    "from util import *\n",
    "from feature_makers import *"
   ]
  },
  {
   "cell_type": "code",
   "execution_count": 13,
   "metadata": {
    "collapsed": false
   },
   "outputs": [],
   "source": [
    "prefix = '../data/breast_cancer_paclitaxel_plus_radiation/'\n",
    "pathto_xpr = 'GSE22513_expression_by_symbol.txt'\n",
    "pathto_resp = 'responders.txt'\n",
    "pathto_nonresp = 'nonresponders.txt'\n",
    "xpressions_pr, responses_pr, target_ids_pr, gens_pr = read_GEO_dataset(pathto_xpr, \n",
    "                                                                       pathto_resp,\n",
    "                                                                       pathto_nonresp,\n",
    "                                                                       prefix)\n",
    "mask = range(0,responses_pr.shape[0],2)\n",
    "xpressions_pr, responses_pr, target_ids_pr = \\\n",
    "xpressions_pr[mask, :], responses_pr[mask], target_ids_pr[mask]"
   ]
  },
  {
   "cell_type": "code",
   "execution_count": 14,
   "metadata": {
    "collapsed": false
   },
   "outputs": [],
   "source": [
    "path_to_dataset = \"../data/breast_cancer_TFAC/GSE20194_breastCancer_TFAC.txt\"\n",
    "dataset = pd.read_csv(path_to_dataset, sep='\\t')\n",
    "xpressions, responses, target_ids, gens = preprocess_dataset(dataset)"
   ]
  },
  {
   "cell_type": "code",
   "execution_count": 15,
   "metadata": {
    "collapsed": false
   },
   "outputs": [],
   "source": [
    "target_pr_descr = \"\"\"\n",
    "GSM559042\tnon-pCR breast biopsy, sample 1 rep 1\n",
    "GSM559043\tnon-pCR breast biopsy, sample 1 rep 2\n",
    "GSM559044\tnon-pCR breast biopsy, sample 2 rep 1\n",
    "GSM559045\tnon-pCR breast biopsy, sample 2 rep 2\n",
    "GSM559046\tnon-pCR breast biopsy, sample 3 rep 1\n",
    "GSM559047\tnon-pCR breast biopsy, sample 3 rep 2\n",
    "GSM559048\tnon-pCR breast biopsy, sample 4 rep 1\n",
    "GSM559049\tnon-pCR breast biopsy, sample 4 rep 2\n",
    "GSM559050\tnon-pCR breast biopsy, sample 5 rep 1\n",
    "GSM559051\tnon-pCR breast biopsy, sample 5 rep 2\n",
    "GSM559052\tnon-pCR breast biopsy, sample 6 rep 1\n",
    "GSM559053\tnon-pCR breast biopsy, sample 6 rep 2\n",
    "GSM559054\tnon-pCR breast biopsy, sample 8 rep 1\n",
    "GSM559055\tnon-pCR breast biopsy, sample 8 rep 2\n",
    "GSM559056\tnon-pCR breast biopsy, sample 9 rep 1\n",
    "GSM559057\tnon-pCR breast biopsy, sample 9 rep 2\n",
    "GSM559058\tnon-pCR breast biopsy, sample 10 rep 1\n",
    "GSM559059\tnon-pCR breast biopsy, sample 10 rep 2\n",
    "GSM559060\tnon-pCR breast biopsy, sample 13 rep 1\n",
    "GSM559061\tnon-pCR breast biopsy, sample 13 rep 2\n",
    "GSM559062\tpCR breast biopsy, sample 15 rep 1\n",
    "GSM559063\tpCR breast biopsy, sample 15 rep 2\n",
    "GSM559064\tpCR breast biopsy, sample 16 rep 1\n",
    "GSM559065\tpCR breast biopsy, sample 16 rep 2\n",
    "GSM559066\tpCR breast biopsy, sample 18 rep 1\n",
    "GSM559067\tpCR breast biopsy, sample 18 rep 2\n",
    "GSM559068\tpCR breast biopsy, sample 19 rep 1\n",
    "GSM559069\tpCR breast biopsy, sample 19 rep 2\n",
    "\"\"\""
   ]
  },
  {
   "cell_type": "code",
   "execution_count": 16,
   "metadata": {
    "collapsed": false
   },
   "outputs": [],
   "source": [
    "from sklearn.svm import SVC\n",
    "from sklearn.neighbors import KNeighborsClassifier\n",
    "from sklearn.preprocessing import scale\n",
    "\n",
    "knn = KNeighborsClassifier(n_neighbors=3)\n",
    "clf = SVC(kernel=\"linear\", probability=True)\n",
    "xpressions_scaled = scale(xpressions, axis=1)"
   ]
  },
  {
   "cell_type": "code",
   "execution_count": 17,
   "metadata": {
    "collapsed": false
   },
   "outputs": [],
   "source": [
    "np.random.seed(358)\n",
    "samples = gen_samples(xpressions, responses, iters=10, cv=10)"
   ]
  },
  {
   "cell_type": "code",
   "execution_count": 28,
   "metadata": {
    "collapsed": false
   },
   "outputs": [
    {
     "name": "stdout",
     "output_type": "stream",
     "text": [
      "iteration: 0\n",
      "iteration: 1\n",
      "iteration: 2\n",
      "iteration: 3\n",
      "iteration: 4\n",
      "iteration: 5\n",
      "iteration: 6\n",
      "iteration: 7\n",
      "iteration: 8\n",
      "iteration: 9\n"
     ]
    },
    {
     "data": {
      "text/html": [
       "<div>\n",
       "<table border=\"1\" class=\"dataframe\">\n",
       "  <thead>\n",
       "    <tr style=\"text-align: right;\">\n",
       "      <th></th>\n",
       "      <th>precision 0</th>\n",
       "      <th>recall 0</th>\n",
       "      <th>precision 1</th>\n",
       "      <th>recall 1</th>\n",
       "      <th>accuracy</th>\n",
       "      <th>auc</th>\n",
       "    </tr>\n",
       "  </thead>\n",
       "  <tbody>\n",
       "    <tr>\n",
       "      <th>схема а</th>\n",
       "      <td>0.797690</td>\n",
       "      <td>0.769333</td>\n",
       "      <td>0.796456</td>\n",
       "      <td>0.788333</td>\n",
       "      <td>0.778833</td>\n",
       "      <td>0.864956</td>\n",
       "    </tr>\n",
       "    <tr>\n",
       "      <th>схема б</th>\n",
       "      <td>0.783832</td>\n",
       "      <td>0.767857</td>\n",
       "      <td>0.773316</td>\n",
       "      <td>0.787500</td>\n",
       "      <td>0.777679</td>\n",
       "      <td>0.851706</td>\n",
       "    </tr>\n",
       "  </tbody>\n",
       "</table>\n",
       "</div>"
      ],
      "text/plain": [
       "         precision 0  recall 0  precision 1  recall 1  accuracy       auc\n",
       "схема а     0.797690  0.769333     0.796456  0.788333  0.778833  0.864956\n",
       "схема б     0.783832  0.767857     0.773316  0.787500  0.777679  0.851706"
      ]
     },
     "execution_count": 28,
     "metadata": {},
     "output_type": "execute_result"
    }
   ],
   "source": [
    "a, b, cv_results_ident, descriptions = do_simmetry_class_cv(xpressions,\n",
    "                                                            responses,\n",
    "                                                            samples,\n",
    "                                                            clf,\n",
    "                                                            feature_maker=identity_heuristic)\n",
    "process_results(a, b, cv_results_ident)"
   ]
  },
  {
   "cell_type": "code",
   "execution_count": null,
   "metadata": {
    "collapsed": false
   },
   "outputs": [
    {
     "name": "stdout",
     "output_type": "stream",
     "text": [
      "iteration: 0\n",
      "heuristic 4 started\n",
      "heuristic 4 started\n",
      "heuristic 4 started\n",
      "heuristic 4 started\n",
      "heuristic 4 started"
     ]
    }
   ],
   "source": [
    "a_h4, b_h4, cv_results_h4, descriptions_h4  = do_simmetry_class_cv(xpressions,\n",
    "                                                                   responses, \n",
    "                                                                   samples[:1],\n",
    "                                                                   clf,\n",
    "                                                                   feature_maker=heuristic_4_features)\n",
    "process_results(a_h4, b_h4, cv_results_h4)"
   ]
  },
  {
   "cell_type": "code",
   "execution_count": null,
   "metadata": {
    "collapsed": false
   },
   "outputs": [],
   "source": [
    "def get_gens_from_descr(descr, gens):\n",
    "    pairs = [p.replace(\"compare_expr(\", \"\").replace(\")\", \"\").split(\", \")\n",
    "             for p in descr.split(\"\\t\")]\n",
    "    gp = []\n",
    "    for p1, p2 in pairs:\n",
    "        gp.append((gens[int(p1)], gens[int(p2)]))\n",
    "    return gp   \n",
    "\n",
    "def pairs_to_str(pairs):\n",
    "    pairs = [\"{} {}\".format(p1, p2) for p1, p2 in pairs]\n",
    "    return \"\\t\".join(pairs)\n",
    "    "
   ]
  },
  {
   "cell_type": "code",
   "execution_count": null,
   "metadata": {
    "collapsed": false
   },
   "outputs": [],
   "source": []
  },
  {
   "cell_type": "code",
   "execution_count": null,
   "metadata": {
    "collapsed": true
   },
   "outputs": [],
   "source": [
    "with open(\"pairs.tsv\", \"w\") as f:\n",
    "    for descr in descriptions_t2[0]:\n",
    "        f.write(pairs_to_str(get_gens_from_descr(descr, gens)))\n",
    "        f.write(\"\\n\")"
   ]
  },
  {
   "cell_type": "code",
   "execution_count": null,
   "metadata": {
    "collapsed": false
   },
   "outputs": [],
   "source": [
    "np.random.seed(3267)\n",
    "a_tr, b_tr, cv_results_tr, descriptions_tr  = do_simmetry_class_cv(xpressions,\n",
    "                                                      responses, \n",
    "                                                      clf,\n",
    "                                                      cv=cv, \n",
    "                                                      iters=10,\n",
    "                                                      feature_maker=heuristics_4_features_rnd)\n",
    "process_results(a_tr, b_tr, cv_results_tr)"
   ]
  },
  {
   "cell_type": "code",
   "execution_count": null,
   "metadata": {
    "collapsed": false
   },
   "outputs": [],
   "source": [
    "descr_set = set(descriptions_t[0][0].split(\"\\t\"))\n",
    "\n",
    "for description in descriptions_t2:# + descriptions_t:\n",
    "    for d in description:        \n",
    "        descr = set(d.split(\"\\t\"))\n",
    "        print(len(descr))\n",
    "        descr_set = descr_set.intersection(descr)\n",
    "    \n",
    "    \n",
    "print(\"\\n\", len(descr_set))\n",
    "# process_results(a_t2 + a_t, b_t2 + b_t, cv_results_t2 + cv_results_t)"
   ]
  },
  {
   "cell_type": "markdown",
   "metadata": {},
   "source": [
    "Классификация по пересечению генов из эвристик 1, 2:"
   ]
  },
  {
   "cell_type": "code",
   "execution_count": null,
   "metadata": {
    "collapsed": true
   },
   "outputs": [],
   "source": [
    "inter_h1_h2_gens = ['PDE6C', 'CEP57', 'PDE9A', 'CALU', 'TTK', 'AATF', 'MIR1244-1',\n",
    "       'MIR1244-2', 'MIR1244-3', 'TMEM109', 'QKI', 'PDIA6', 'PDK1',\n",
    "       'SNAPC3', 'BACE2', 'NAA50', 'TTYH1', 'EPHB3', 'RPIA', 'SF3B3',\n",
    "       'GORASP2', 'NUP153', 'NUP155', 'LRRC59', 'PDSS1', 'HLA-G', 'BANK1',\n",
    "       'ANP32E', 'FOCAD', 'XPNPEP1', 'FOLH1B', 'TUBB4B', 'RAB23', 'EPRS',\n",
    "       'SUMO3', 'LSM2', 'IQCG', 'NUSAP1', 'NASP', 'CSNK2B', 'ABI1', 'PERP',\n",
    "       'GPM6B', 'PES1', 'DNAJA1', 'SYK', 'CASP8AP2', 'HN1', 'CHI3L2',\n",
    "       'ACACA', 'RPL39L', 'TXNDC5', 'BCL11A', 'ISG20', 'SYNRG', 'TYMS',\n",
    "       'RPP21', 'HNRNPH3', 'RAD1', 'ESPL1', 'CHRM3', 'ITGA6', 'RPS21',\n",
    "       'ACP1', 'GPR89A', 'GPR89B', 'LCN2', 'CTPS1', 'ITGB4', 'SNRPC',\n",
    "       'SNRPD1', 'NDC80', 'MAD2L1', 'GPSM2', 'PHACTR2', 'UBE2J1',\n",
    "       'RALGAPB', 'TAF1D', 'NDRG2', 'TAF5', 'DONSON', 'ITPR3', 'RPS7',\n",
    "       'TNFAIP8L2-SCNM1', 'RANBP6', 'BLOC1S5-TXNDC5', 'TAP1', 'RAP2A',\n",
    "       'RRAGD', 'ACTR3', 'ACTR3B', 'HPS5', 'RRM2', 'FZD7', 'SKP2', 'DPY30',\n",
    "       'CCHCR1', 'NDUFB6', 'CKS1B', 'CKS2', 'MAGOHB', 'DROSHA', 'RASGRP3',\n",
    "       'KARS', 'DSC2', 'SOX10', 'UGP2', 'ZIC1', 'CYB5R2', 'CCNC', 'TNS2',\n",
    "       'CCND3', 'NELFB', 'HSPA14', 'TBCC', 'FAIM2', 'BRIX1', 'BRPF1',\n",
    "       'FAM107A', 'TOMM70', 'NES', 'DUSP14', 'DUSP2', 'CLIC4', 'RBM28',\n",
    "       'GTF2E2', 'MAP4K4', 'S100A1', 'DUSP6', 'ZNF131', 'CCT4', 'NT5DC2',\n",
    "       'CCT6A', 'MAPK1', 'BTG3', 'NFIB', 'UQCRH', 'UQCRHL', 'PRPF3',\n",
    "       'GTPBP8', 'SAC3D1', 'NFYA', 'PRPF40A', 'PRPF4B', 'TCF7L2', 'CMC2',\n",
    "       'KCNN4', 'CMPK1', 'PRPS2', 'USP18', 'PABPC3', 'MRPL9', 'LMO4',\n",
    "       'SAP30', 'GATA6', 'GYG1', 'MRPS17', 'PADI2', 'MRPS18A', 'MRPS2',\n",
    "       'USP39', 'ADSL', 'PRRC2A', 'SPR', 'GBP1', 'ART3', 'TEAD4',\n",
    "       'PAK1IP1', 'PLCB4', 'MSH2', 'HACD1', 'IFI16', 'LOC100506248',\n",
    "       'HADHA', 'MSH6', 'IFI44L', 'RFC2', 'LOC100506639', 'RFC4', 'COCH',\n",
    "       'NMI', 'TRDMT1', 'FAM98A', 'C1orf112', 'SREK1', 'FANCG', 'PSIP1',\n",
    "       'RFWD3', 'FANCL', 'MCM3', 'VCP', 'MCM6', 'TFDP2', 'CDC45', 'PSMB4',\n",
    "       'TFF2', 'EFNA4', 'PLK4', 'VEGFA', 'CDCA8', 'SLC43A3', 'SCNM1',\n",
    "       'EFS', 'SRSF3', 'VGLL1', 'GGH', 'SCPEP1', 'VGLL4', 'KIF11', 'MEA1',\n",
    "       'TRIM38', 'TRIM39', 'TRIM39-RPP21', 'KIF14', 'KIF15', 'FBXO11',\n",
    "       'DDX18', 'MTMR2', 'PSME4', 'PSMG1', 'SSR1', 'MED17', 'KIF20A',\n",
    "       'HDAC9', 'MTO1', 'HDGF', 'PMPCA', 'SEC13', 'TRMT11', 'VPS72',\n",
    "       'MELK', 'MEMO1', 'CDKN2A', 'C6orf62', 'ATP5G3', 'FDPS', 'DEK',\n",
    "       'CDR2L', 'KLF11', 'IL12RB2', 'STAG1', 'FEN1', 'SEL1L3', 'DENND4B',\n",
    "       'EIF5B', 'PTMA', 'KLF6', 'LOC389906', 'ELAVL1', 'KLHDC3', 'HIC2',\n",
    "       'MEX3C', 'MYCN', 'ELF5', 'ZNF74', 'MFGE8', 'CEBPG', 'GMDS', 'CECR5',\n",
    "       'STEAP1B', 'GMIP', 'LOC728026', 'RNF138', 'TSPAN6', 'TSPO', 'WDR77',\n",
    "       'SERBP1', 'NRTN', 'SMC5', 'MYO10', 'STMN1', 'CENPM', 'DHTKD1',\n",
    "       'ILF2', 'STOML2', 'LPIN1', 'PUS1', 'MICAL3', 'TTC13', 'PWP2',\n",
    "       'CRLF1']"
   ]
  },
  {
   "cell_type": "code",
   "execution_count": null,
   "metadata": {
    "collapsed": false
   },
   "outputs": [],
   "source": [
    "ids = np.arange(gens.shape[0])\n",
    "interscetion_h1_h2 = sorted([ids[gen==gens][0] for gen in inter_h1_h2_gens if (gen == gens).sum() == 1])\n",
    "# print(interscetion_h1_h2)\n",
    "\n",
    "np.random.seed(3267)\n",
    "a, b, cv_results = do_simmetry_class_cv(xpressions_scaled[:, interscetion_h1_h2], inv_responses, clf, cv=cv)\n",
    "process_results(a, b, cv_results)[[2,3,0,1,4,5]]"
   ]
  },
  {
   "cell_type": "code",
   "execution_count": null,
   "metadata": {
    "collapsed": false
   },
   "outputs": [],
   "source": [
    "len(inter_h1_h2_gens)"
   ]
  },
  {
   "cell_type": "code",
   "execution_count": null,
   "metadata": {
    "collapsed": false
   },
   "outputs": [],
   "source": [
    "np.random.seed(3267)\n",
    "knn = KNeighborsClassifier(n_neighbors=1)\n",
    "a,b, cv_results  = do_simmetry_class_cv(xpressions_scaled[:, interscetion_h1_h2], inv_responses, knn, cv=cv)\n",
    "process_results(a, b, cv_results)[[2,3,0,1,4,5]]"
   ]
  },
  {
   "cell_type": "markdown",
   "metadata": {},
   "source": [
    "Случайно отобранные гены"
   ]
  },
  {
   "cell_type": "code",
   "execution_count": null,
   "metadata": {
    "collapsed": false
   },
   "outputs": [],
   "source": [
    "np.random.seed(3267)\n",
    "rnd_h1_h2 = np.random.choice(ids, size=len(interscetion_h1_h2), replace=False)\n",
    "a, b, cv_results = do_simmetry_class_cv(xpressions_scaled[:, rnd_h1_h2], inv_responses, clf, cv=cv)\n",
    "process_results(a, b, cv_results)[[2,3,0,1,4,5]]"
   ]
  },
  {
   "cell_type": "code",
   "execution_count": null,
   "metadata": {
    "collapsed": false
   },
   "outputs": [],
   "source": [
    "np.random.seed(3267)\n",
    "knn = KNeighborsClassifier(n_neighbors=1)\n",
    "a,b, cv_results  = do_simmetry_class_cv(xpressions_scaled[:, rnd_h1_h2], inv_responses, knn, cv=cv)\n",
    "process_results(a, b, cv_results)[[2,3,0,1,4,5]]"
   ]
  },
  {
   "cell_type": "markdown",
   "metadata": {},
   "source": [
    "Классификация по 70 парам из эвристики 4"
   ]
  },
  {
   "cell_type": "code",
   "execution_count": null,
   "metadata": {
    "collapsed": false
   },
   "outputs": [],
   "source": [
    "good_pairs_str = [('APBB3', 'CRLF1'), ('ARHGAP1', 'CRLF1'), ('ATP6V0A1', 'IL12RB2'), ('ATP6V0C', 'DUSP14'), ('C4A', 'NKTR'),\n",
    "              ('C4B', 'NKTR'), ('C4B_2', 'NKTR'), ('CCND1', 'BCOR'), ('CCND1', 'MON1B'), ('CCND1', 'MTRF1'), ('CCND1', 'ZNF165'),\n",
    "              ('CDK16', 'COCH'), ('CERS6', 'CRIPT'), ('CERS6', 'JMJD1C'), ('CERS6', 'MTO1'), ('CERS6', 'TLE1'),\n",
    "              ('CERS6', 'TOPORS-AS1'), ('COL1A1', 'FOLH1B'), ('DHCR24', 'COCH'), ('DHCR24', 'FOCAD'), ('DNASE2', 'GPM6B'),\n",
    "              ('EIF4B', 'ITGA6'), ('ERC1', 'CRLF1'), ('FHOD1', 'CRLF1'), ('FILIP1L', 'CRLF1'), ('FKSG49', 'MFGE8'),\n",
    "              ('FOLR1', 'COCH'), ('GOLGA1', 'CRLF1'), ('GON4L', 'CRLF1'), ('GP1BA', 'CRLF1'), ('HOXB5', 'CRLF1'),\n",
    "              ('HOXC4', 'FAIM2'), ('IGFBP4', 'DEPDC5'), ('IGFBP4', 'PIK3CG'), ('LYST', 'KCNAB1'), ('MIR6831', 'CRLF1'),\n",
    "              ('MOSPD2', 'CRLF1'), ('MXRA8', 'GATA6'), ('MYL4', 'CRLF1'), ('MZT2B', 'ITGA6'), ('NAT1', 'PAQR3'),\n",
    "              ('NDUFB5', 'MELK'), ('NECAB3', 'FBXO11'), ('NXPH3', 'CRLF1'), ('PEA15', 'NFIB'), ('PLXNA3', 'CRLF1'),\n",
    "              ('PNPO', 'RWDD3'), ('POLDIP2', 'COCH'), ('PPIE', 'IL12RB2'), ('R3HDM4', 'ITGA6'), ('RALA', 'GPM6B'),\n",
    "              ('RASA1', 'YES1'), ('RUFY1', 'ITGA6'), ('SEMA3C', 'BCOR'), ('SEMA3C', 'YIPF4'), ('SNORA67', 'ITGA6'),\n",
    "              ('SPR', 'DNPH1'), ('STAMBP', 'MSH2'), ('SULT1A2', 'MRPS2'), ('THEMIS2', 'CRLF1'), ('TM6SF1', 'ELAVL2'),\n",
    "              ('TMEM62', 'ETAA1'), ('TNK1', 'FBXO11'), ('TPBG', 'COCH'), ('TPBG', 'WSB1'), ('TRANK1', 'CRLF1'),\n",
    "              ('TRPM2', 'CRLF1'), ('VPS35', 'MELK'), ('ZDHHC7', 'ITGA6'), ('ZNF510', 'CRLF1')]\n",
    "gens_list = gens.tolist()\n",
    "good_pairs = [(gens_list.index(gen1), gens_list.index(gen2)) for gen1, gen2 in good_pairs_str\n",
    "              if (gen1 in gens_list) and (gen2 in gens_list)]\n",
    "\n",
    "order_features1, pair_names = xpression_to_order_feature(xpressions, good_pairs, gens)\n",
    "print(order_features1.shape)\n",
    "\n",
    "np.random.seed(3267)\n",
    "a, b, cv_results = do_simmetry_class_cv(order_features1, inv_responses, clf, cv=cv)\n",
    "process_results(a, b, cv_results)[[2,3,0,1,4,5]]"
   ]
  },
  {
   "cell_type": "code",
   "execution_count": null,
   "metadata": {
    "collapsed": false
   },
   "outputs": [],
   "source": [
    "np.random.seed(3267)\n",
    "knn = KNeighborsClassifier(n_neighbors=1)\n",
    "a,b, cv_results  = do_simmetry_class_cv(order_features1, inv_responses, knn, cv=cv)\n",
    "process_results(a, b, cv_results)[[2,3,0,1,4,5]]"
   ]
  },
  {
   "cell_type": "code",
   "execution_count": null,
   "metadata": {
    "collapsed": true
   },
   "outputs": [],
   "source": [
    "def get_splits(responses, k=10):\n",
    "    nonresp = np.arange(responses.shape[0])[responses==0]\n",
    "    resp = np.arange(responses.shape[0])[responses==1]\n",
    "    np.random.shuffle(nonresp)\n",
    "    np.random.shuffle(resp)\n",
    "    folds = []\n",
    "    for i in range(9):\n",
    "        folds.append(np.hstack((resp[i*22:i*22+22],nonresp[i*5:i*5+5])))\n",
    "    folds.append(np.hstack((resp[9*22:],nonresp[9*5:])))\n",
    "    cases = []\n",
    "    for i in range(10):\n",
    "        test = folds[i]\n",
    "        train = np.hstack((fold for j, fold in enumerate(folds) if i != j))\n",
    "        cases.append( (train, test) )                      \n",
    "    return folds, cases\n",
    "    "
   ]
  },
  {
   "cell_type": "code",
   "execution_count": null,
   "metadata": {
    "collapsed": false
   },
   "outputs": [],
   "source": [
    "folds, cases = get_splits(responses)"
   ]
  },
  {
   "cell_type": "code",
   "execution_count": null,
   "metadata": {
    "collapsed": false
   },
   "outputs": [],
   "source": [
    "intr_svc_smtr_a, intr_svc_smtr_b = do_simmetry_class_cv(order_features2,\n",
    "                                                      responses, svc, iters=10)\n",
    "order_features.shape, order_features2.shape, order_features3.shape"
   ]
  },
  {
   "cell_type": "code",
   "execution_count": null,
   "metadata": {
    "collapsed": true
   },
   "outputs": [],
   "source": [
    "print(intr_svc_smtr_a.mean(axis=0), intr_svc_smtr_b.mean(axis=0))\n",
    "print()\n",
    "# print(best31_svc_smtr_a.mean(axis=0), best31_svc_smtr_b.mean(axis=0))\n",
    "# prec_0, recall_0, prec_1, recall_1"
   ]
  },
  {
   "cell_type": "code",
   "execution_count": null,
   "metadata": {
    "collapsed": true
   },
   "outputs": [],
   "source": [
    "print(intr_svc_smtr_a.mean(axis=0), intr_svc_smtr_b.mean(axis=0))\n",
    "print()\n",
    "# print(best31_svc_smtr_a.mean(axis=0), best31_svc_smtr_b.mean(axis=0))\n",
    "# prec_0, recall_0, prec_1, recall_1"
   ]
  },
  {
   "cell_type": "code",
   "execution_count": null,
   "metadata": {
    "collapsed": false
   },
   "outputs": [],
   "source": [
    "import gensim"
   ]
  },
  {
   "cell_type": "code",
   "execution_count": null,
   "metadata": {
    "collapsed": true
   },
   "outputs": [],
   "source": []
  }
 ],
 "metadata": {
  "kernelspec": {
   "display_name": "Python 3",
   "language": "python",
   "name": "python3"
  },
  "language_info": {
   "codemirror_mode": {
    "name": "ipython",
    "version": 3
   },
   "file_extension": ".py",
   "mimetype": "text/x-python",
   "name": "python",
   "nbconvert_exporter": "python",
   "pygments_lexer": "ipython3",
   "version": "3.5.2"
  }
 },
 "nbformat": 4,
 "nbformat_minor": 0
}
